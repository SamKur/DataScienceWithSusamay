{
 "cells": [
  {
   "cell_type": "markdown",
   "metadata": {},
   "source": [
    "___\n",
    "\n",
    "<a href='http://www.pieriandata.com'> <img src='../Pierian_Data_Logo.png' /></a>\n",
    "___\n",
    "# Plotly and Cufflinks"
   ]
  },
  {
   "cell_type": "markdown",
   "metadata": {},
   "source": [
    "Plotly is a library that allows you to create interactive plots that you can use in dashboards or websites (you can save them as html files or static images).\n",
    "\n",
    "## Installation\n",
    "\n",
    "In order for this all to work, you'll need to install plotly and cufflinks to call plots directly off of a pandas dataframe. These libraries are not currently available through **conda** but are available through **pip**. Install the libraries at your command line/terminal using:\n",
    "\n",
    "    pip install plotly\n",
    "    pip install cufflinks\n",
    "\n",
    "** NOTE: Make sure you only have one installation of Python on your computer when you do this, otherwise the installation may not work. **\n",
    "\n",
    "## Imports and Set-up"
   ]
  },
  {
   "cell_type": "code",
   "execution_count": 1,
   "metadata": {
    "collapsed": true
   },
   "outputs": [],
   "source": [
    "import pandas as pd\n",
    "import numpy as np\n",
    "%matplotlib inline"
   ]
  },
  {
   "cell_type": "code",
   "execution_count": 2,
   "metadata": {
    "collapsed": false
   },
   "outputs": [
    {
     "name": "stdout",
     "output_type": "stream",
     "text": [
      "5.6.0\n"
     ]
    }
   ],
   "source": [
    "from plotly import __version__\n",
    "from plotly.offline import download_plotlyjs, init_notebook_mode, plot, iplot\n",
    "\n",
    "print(__version__) # requires version >= 1.9.0"
   ]
  },
  {
   "cell_type": "code",
   "execution_count": 3,
   "metadata": {
    "collapsed": true
   },
   "outputs": [],
   "source": [
    "import cufflinks as cf"
   ]
  },
  {
   "cell_type": "code",
   "execution_count": 4,
   "metadata": {
    "collapsed": false
   },
   "outputs": [
    {
     "data": {
      "text/html": [
       "        <script type=\"text/javascript\">\n",
       "        window.PlotlyConfig = {MathJaxConfig: 'local'};\n",
       "        if (window.MathJax) {MathJax.Hub.Config({SVG: {font: \"STIX-Web\"}});}\n",
       "        if (typeof require !== 'undefined') {\n",
       "        require.undef(\"plotly\");\n",
       "        requirejs.config({\n",
       "            paths: {\n",
       "                'plotly': ['https://cdn.plot.ly/plotly-2.9.0.min']\n",
       "            }\n",
       "        });\n",
       "        require(['plotly'], function(Plotly) {\n",
       "            window._Plotly = Plotly;\n",
       "        });\n",
       "        }\n",
       "        </script>\n",
       "        "
      ]
     },
     "metadata": {},
     "output_type": "display_data"
    }
   ],
   "source": [
    "# For Notebooks\n",
    "init_notebook_mode(connected=True)"
   ]
  },
  {
   "cell_type": "code",
   "execution_count": 5,
   "metadata": {
    "collapsed": false
   },
   "outputs": [
    {
     "data": {
      "text/html": [
       "        <script type=\"text/javascript\">\n",
       "        window.PlotlyConfig = {MathJaxConfig: 'local'};\n",
       "        if (window.MathJax) {MathJax.Hub.Config({SVG: {font: \"STIX-Web\"}});}\n",
       "        if (typeof require !== 'undefined') {\n",
       "        require.undef(\"plotly\");\n",
       "        requirejs.config({\n",
       "            paths: {\n",
       "                'plotly': ['https://cdn.plot.ly/plotly-2.9.0.min']\n",
       "            }\n",
       "        });\n",
       "        require(['plotly'], function(Plotly) {\n",
       "            window._Plotly = Plotly;\n",
       "        });\n",
       "        }\n",
       "        </script>\n",
       "        "
      ]
     },
     "metadata": {},
     "output_type": "display_data"
    }
   ],
   "source": [
    "# For offline use\n",
    "cf.go_offline()"
   ]
  },
  {
   "cell_type": "markdown",
   "metadata": {},
   "source": [
    "### Fake Data"
   ]
  },
  {
   "cell_type": "code",
   "execution_count": 6,
   "metadata": {
    "collapsed": false
   },
   "outputs": [],
   "source": [
    "df = pd.DataFrame(np.random.randn(100,4),columns='A B C D'.split())"
   ]
  },
  {
   "cell_type": "code",
   "execution_count": 7,
   "metadata": {
    "collapsed": false
   },
   "outputs": [
    {
     "data": {
      "text/html": [
       "<div>\n",
       "<style scoped>\n",
       "    .dataframe tbody tr th:only-of-type {\n",
       "        vertical-align: middle;\n",
       "    }\n",
       "\n",
       "    .dataframe tbody tr th {\n",
       "        vertical-align: top;\n",
       "    }\n",
       "\n",
       "    .dataframe thead th {\n",
       "        text-align: right;\n",
       "    }\n",
       "</style>\n",
       "<table border=\"1\" class=\"dataframe\">\n",
       "  <thead>\n",
       "    <tr style=\"text-align: right;\">\n",
       "      <th></th>\n",
       "      <th>A</th>\n",
       "      <th>B</th>\n",
       "      <th>C</th>\n",
       "      <th>D</th>\n",
       "    </tr>\n",
       "  </thead>\n",
       "  <tbody>\n",
       "    <tr>\n",
       "      <th>0</th>\n",
       "      <td>1.275046</td>\n",
       "      <td>-0.834077</td>\n",
       "      <td>-0.606581</td>\n",
       "      <td>0.713946</td>\n",
       "    </tr>\n",
       "    <tr>\n",
       "      <th>1</th>\n",
       "      <td>1.056441</td>\n",
       "      <td>0.491232</td>\n",
       "      <td>-0.005661</td>\n",
       "      <td>1.218294</td>\n",
       "    </tr>\n",
       "    <tr>\n",
       "      <th>2</th>\n",
       "      <td>-1.257086</td>\n",
       "      <td>-1.900072</td>\n",
       "      <td>0.473778</td>\n",
       "      <td>-0.022442</td>\n",
       "    </tr>\n",
       "    <tr>\n",
       "      <th>3</th>\n",
       "      <td>0.138699</td>\n",
       "      <td>-0.687630</td>\n",
       "      <td>-0.766981</td>\n",
       "      <td>0.294198</td>\n",
       "    </tr>\n",
       "    <tr>\n",
       "      <th>4</th>\n",
       "      <td>-0.400663</td>\n",
       "      <td>-0.853827</td>\n",
       "      <td>-0.298461</td>\n",
       "      <td>-0.747398</td>\n",
       "    </tr>\n",
       "  </tbody>\n",
       "</table>\n",
       "</div>"
      ],
      "text/plain": [
       "          A         B         C         D\n",
       "0  1.275046 -0.834077 -0.606581  0.713946\n",
       "1  1.056441  0.491232 -0.005661  1.218294\n",
       "2 -1.257086 -1.900072  0.473778 -0.022442\n",
       "3  0.138699 -0.687630 -0.766981  0.294198\n",
       "4 -0.400663 -0.853827 -0.298461 -0.747398"
      ]
     },
     "execution_count": 7,
     "metadata": {},
     "output_type": "execute_result"
    }
   ],
   "source": [
    "df.head()"
   ]
  },
  {
   "cell_type": "code",
   "execution_count": 8,
   "metadata": {
    "collapsed": true
   },
   "outputs": [],
   "source": [
    "df2 = pd.DataFrame({'Category':['A','B','C'],'Values':[32,43,50]})"
   ]
  },
  {
   "cell_type": "code",
   "execution_count": 9,
   "metadata": {
    "collapsed": false
   },
   "outputs": [
    {
     "data": {
      "text/html": [
       "<div>\n",
       "<style scoped>\n",
       "    .dataframe tbody tr th:only-of-type {\n",
       "        vertical-align: middle;\n",
       "    }\n",
       "\n",
       "    .dataframe tbody tr th {\n",
       "        vertical-align: top;\n",
       "    }\n",
       "\n",
       "    .dataframe thead th {\n",
       "        text-align: right;\n",
       "    }\n",
       "</style>\n",
       "<table border=\"1\" class=\"dataframe\">\n",
       "  <thead>\n",
       "    <tr style=\"text-align: right;\">\n",
       "      <th></th>\n",
       "      <th>Category</th>\n",
       "      <th>Values</th>\n",
       "    </tr>\n",
       "  </thead>\n",
       "  <tbody>\n",
       "    <tr>\n",
       "      <th>0</th>\n",
       "      <td>A</td>\n",
       "      <td>32</td>\n",
       "    </tr>\n",
       "    <tr>\n",
       "      <th>1</th>\n",
       "      <td>B</td>\n",
       "      <td>43</td>\n",
       "    </tr>\n",
       "    <tr>\n",
       "      <th>2</th>\n",
       "      <td>C</td>\n",
       "      <td>50</td>\n",
       "    </tr>\n",
       "  </tbody>\n",
       "</table>\n",
       "</div>"
      ],
      "text/plain": [
       "  Category  Values\n",
       "0        A      32\n",
       "1        B      43\n",
       "2        C      50"
      ]
     },
     "execution_count": 9,
     "metadata": {},
     "output_type": "execute_result"
    }
   ],
   "source": [
    "df2.head()"
   ]
  },
  {
   "cell_type": "markdown",
   "metadata": {},
   "source": [
    "## Using Cufflinks and iplot()\n",
    "\n",
    "* scatter\n",
    "* bar\n",
    "* box\n",
    "* spread\n",
    "* ratio\n",
    "* heatmap\n",
    "* surface\n",
    "* histogram\n",
    "* bubble"
   ]
  },
  {
   "cell_type": "markdown",
   "metadata": {},
   "source": [
    "## Scatter"
   ]
  },
  {
   "cell_type": "code",
   "execution_count": 10,
   "metadata": {
    "collapsed": false
   },
   "outputs": [
    {
     "data": {
      "application/vnd.plotly.v1+json": {
       "config": {
        "linkText": "Export to plot.ly",
        "plotlyServerURL": "https://plot.ly",
        "showLink": true
       },
       "data": [
        {
         "line": {
          "color": "rgba(255, 153, 51, 1.0)",
          "dash": "solid",
          "shape": "linear",
          "width": 1.3
         },
         "marker": {
          "size": 10,
          "symbol": "circle"
         },
         "mode": "markers",
         "name": "B",
         "text": "",
         "type": "scatter",
         "x": [
          1.2750462071228998,
          1.0564406009906422,
          -1.2570863513881179,
          0.1386992449738513,
          -0.4006631753099272,
          0.772494714001685,
          0.3466280655061471,
          -0.20734882385960135,
          -1.1605599469356516,
          1.5335837092173008,
          0.8701647512889786,
          0.19959773422082286,
          -0.7713696453049101,
          0.8670858884620127,
          0.7527057455344794,
          0.2406881376064278,
          -1.4246729911918348,
          -1.366338353479444,
          -2.510532872604319,
          -0.44076325408168865,
          -0.2720890733894303,
          0.1923950171572903,
          0.17528984033996958,
          -0.05627900857472087,
          -0.09464981393955554,
          0.1109203403862901,
          0.3506712561808483,
          0.11860998679044508,
          0.27273654934561664,
          0.5451708797402759,
          -1.3239800797756898,
          0.7176173593819158,
          0.6390897967980106,
          0.6298020357295875,
          0.9055103909277578,
          -0.5904176841467053,
          -0.38213674321117597,
          -0.9321460998531019,
          -2.0527241542088164,
          -0.1355015868759311,
          -0.15560692657213374,
          -1.3234419856299242,
          0.004612749239376862,
          -0.3533749773258972,
          -1.2778073755305988,
          -1.7334811504670158,
          1.5287980300400834,
          -1.0900212287039468,
          1.3066976573006288,
          0.6829609453885492,
          -0.024493571992407752,
          -1.6644241198636218,
          -1.3552223151228506,
          -0.7758460191490981,
          0.52074640219068,
          -0.5953760210764978,
          0.696233766527075,
          -0.714162783949475,
          0.3429087064661106,
          0.12880671947928052,
          0.1253412689647578,
          -1.5512006665577716,
          1.4696417176119942,
          -1.7740325324274242,
          2.105809697884221,
          1.9167099561167036,
          0.7480215913254173,
          0.7625036829256576,
          -1.086117863919513,
          0.4781593150768092,
          0.7240428405447898,
          -0.503627557293303,
          -1.221663772912323,
          -0.20754934209619638,
          -1.3419782859135356,
          0.216215597439171,
          1.0145615004449249,
          -1.0220756896864085,
          0.49363860464637543,
          -0.01599908409568637,
          -1.1470627595685077,
          -1.023726974752981,
          0.6660548760380969,
          -0.1311469267172626,
          1.1191657681276326,
          -1.5810786212139951,
          0.8160942888787959,
          0.06088517630432691,
          -1.2352546602277445,
          -0.2717692097212096,
          -1.0431055662718702,
          0.13134247407032018,
          -0.7790614189607978,
          0.5434045328072897,
          -1.1755407507532878,
          0.008915452173938613,
          0.16280786785568127,
          -0.6573273421596642,
          -0.274646533946732,
          -0.655594361876358
         ],
         "y": [
          -0.8340773682113504,
          0.49123188788963057,
          -1.9000715568691215,
          -0.6876295998356547,
          -0.8538273111014857,
          1.5511189563186973,
          1.7916810535863585,
          -1.2384131342672389,
          -0.11282532877192572,
          0.35044387501754315,
          -0.3725563064013367,
          -0.5978080296220267,
          -0.7459415602962436,
          -0.8062931680433271,
          -0.41309712402120896,
          -0.7677684801488446,
          -1.6237362987866557,
          -1.3867124997696776,
          -0.03384343479363602,
          0.312953792426409,
          0.43354850664087274,
          0.11571251414975957,
          0.7356381212190469,
          -0.8182781601100041,
          0.7278710012373059,
          0.27080432822538103,
          -0.45224220610112037,
          1.3889328686699598,
          0.35415339359074693,
          1.321491480875497,
          0.5604879797874698,
          -2.1780949287932843,
          0.6772032297272086,
          0.5068100984347181,
          0.05294343849021371,
          0.6762701198557137,
          -0.41125546955848485,
          0.9490592885359114,
          0.9579881061090255,
          -0.08746731970232335,
          0.1753148386032337,
          0.35330636557589246,
          0.6092976837114229,
          -0.9897685548060738,
          1.0082812941583785,
          -0.07112634100972726,
          0.7534094755071289,
          -1.2236591466919062,
          -0.44741573370710913,
          -1.056571932317002,
          -0.6351166490247284,
          -0.1152534608551299,
          -0.2753704370824422,
          -0.03361895378725087,
          -1.032713772532709,
          1.2604190210644386,
          1.6305359116844174,
          0.28304773071397693,
          0.46460766770949186,
          0.9430557112402934,
          0.8807024197847123,
          -0.7315449933931041,
          -0.4801700510822656,
          0.12234105041850767,
          -0.8904252461076889,
          -0.8682230097651995,
          0.8089776470552416,
          -0.442143722727833,
          1.0062933868477435,
          0.9789586586064842,
          -0.25604556494295583,
          -0.8081304318643974,
          0.32241893796007687,
          2.9455052125197785,
          1.0189696497125427,
          0.24788985930538732,
          1.136303601810519,
          -1.3946078662938228,
          -1.2292418224455168,
          -1.9150740479746733,
          -1.0297445925889328,
          0.8098970537565258,
          -1.569253924464807,
          -0.9896971663270222,
          -0.7057472240000185,
          0.2204458262981922,
          0.3173361097439095,
          -0.5153534162955274,
          -0.26708392326561814,
          0.7759496323233144,
          0.3730259777582601,
          1.575662623566695,
          1.1570045050500222,
          -0.06068007372528039,
          -1.2513600529835396,
          0.03669689340334888,
          0.18579450181477772,
          -0.16287815628323127,
          2.0901663180753256,
          0.9071005520448465
         ]
        }
       ],
       "layout": {
        "legend": {
         "bgcolor": "#F5F6F9",
         "font": {
          "color": "#4D5663"
         }
        },
        "paper_bgcolor": "#F5F6F9",
        "plot_bgcolor": "#F5F6F9",
        "template": {
         "data": {
          "bar": [
           {
            "error_x": {
             "color": "#2a3f5f"
            },
            "error_y": {
             "color": "#2a3f5f"
            },
            "marker": {
             "line": {
              "color": "#E5ECF6",
              "width": 0.5
             },
             "pattern": {
              "fillmode": "overlay",
              "size": 10,
              "solidity": 0.2
             }
            },
            "type": "bar"
           }
          ],
          "barpolar": [
           {
            "marker": {
             "line": {
              "color": "#E5ECF6",
              "width": 0.5
             },
             "pattern": {
              "fillmode": "overlay",
              "size": 10,
              "solidity": 0.2
             }
            },
            "type": "barpolar"
           }
          ],
          "carpet": [
           {
            "aaxis": {
             "endlinecolor": "#2a3f5f",
             "gridcolor": "white",
             "linecolor": "white",
             "minorgridcolor": "white",
             "startlinecolor": "#2a3f5f"
            },
            "baxis": {
             "endlinecolor": "#2a3f5f",
             "gridcolor": "white",
             "linecolor": "white",
             "minorgridcolor": "white",
             "startlinecolor": "#2a3f5f"
            },
            "type": "carpet"
           }
          ],
          "choropleth": [
           {
            "colorbar": {
             "outlinewidth": 0,
             "ticks": ""
            },
            "type": "choropleth"
           }
          ],
          "contour": [
           {
            "colorbar": {
             "outlinewidth": 0,
             "ticks": ""
            },
            "colorscale": [
             [
              0,
              "#0d0887"
             ],
             [
              0.1111111111111111,
              "#46039f"
             ],
             [
              0.2222222222222222,
              "#7201a8"
             ],
             [
              0.3333333333333333,
              "#9c179e"
             ],
             [
              0.4444444444444444,
              "#bd3786"
             ],
             [
              0.5555555555555556,
              "#d8576b"
             ],
             [
              0.6666666666666666,
              "#ed7953"
             ],
             [
              0.7777777777777778,
              "#fb9f3a"
             ],
             [
              0.8888888888888888,
              "#fdca26"
             ],
             [
              1,
              "#f0f921"
             ]
            ],
            "type": "contour"
           }
          ],
          "contourcarpet": [
           {
            "colorbar": {
             "outlinewidth": 0,
             "ticks": ""
            },
            "type": "contourcarpet"
           }
          ],
          "heatmap": [
           {
            "colorbar": {
             "outlinewidth": 0,
             "ticks": ""
            },
            "colorscale": [
             [
              0,
              "#0d0887"
             ],
             [
              0.1111111111111111,
              "#46039f"
             ],
             [
              0.2222222222222222,
              "#7201a8"
             ],
             [
              0.3333333333333333,
              "#9c179e"
             ],
             [
              0.4444444444444444,
              "#bd3786"
             ],
             [
              0.5555555555555556,
              "#d8576b"
             ],
             [
              0.6666666666666666,
              "#ed7953"
             ],
             [
              0.7777777777777778,
              "#fb9f3a"
             ],
             [
              0.8888888888888888,
              "#fdca26"
             ],
             [
              1,
              "#f0f921"
             ]
            ],
            "type": "heatmap"
           }
          ],
          "heatmapgl": [
           {
            "colorbar": {
             "outlinewidth": 0,
             "ticks": ""
            },
            "colorscale": [
             [
              0,
              "#0d0887"
             ],
             [
              0.1111111111111111,
              "#46039f"
             ],
             [
              0.2222222222222222,
              "#7201a8"
             ],
             [
              0.3333333333333333,
              "#9c179e"
             ],
             [
              0.4444444444444444,
              "#bd3786"
             ],
             [
              0.5555555555555556,
              "#d8576b"
             ],
             [
              0.6666666666666666,
              "#ed7953"
             ],
             [
              0.7777777777777778,
              "#fb9f3a"
             ],
             [
              0.8888888888888888,
              "#fdca26"
             ],
             [
              1,
              "#f0f921"
             ]
            ],
            "type": "heatmapgl"
           }
          ],
          "histogram": [
           {
            "marker": {
             "pattern": {
              "fillmode": "overlay",
              "size": 10,
              "solidity": 0.2
             }
            },
            "type": "histogram"
           }
          ],
          "histogram2d": [
           {
            "colorbar": {
             "outlinewidth": 0,
             "ticks": ""
            },
            "colorscale": [
             [
              0,
              "#0d0887"
             ],
             [
              0.1111111111111111,
              "#46039f"
             ],
             [
              0.2222222222222222,
              "#7201a8"
             ],
             [
              0.3333333333333333,
              "#9c179e"
             ],
             [
              0.4444444444444444,
              "#bd3786"
             ],
             [
              0.5555555555555556,
              "#d8576b"
             ],
             [
              0.6666666666666666,
              "#ed7953"
             ],
             [
              0.7777777777777778,
              "#fb9f3a"
             ],
             [
              0.8888888888888888,
              "#fdca26"
             ],
             [
              1,
              "#f0f921"
             ]
            ],
            "type": "histogram2d"
           }
          ],
          "histogram2dcontour": [
           {
            "colorbar": {
             "outlinewidth": 0,
             "ticks": ""
            },
            "colorscale": [
             [
              0,
              "#0d0887"
             ],
             [
              0.1111111111111111,
              "#46039f"
             ],
             [
              0.2222222222222222,
              "#7201a8"
             ],
             [
              0.3333333333333333,
              "#9c179e"
             ],
             [
              0.4444444444444444,
              "#bd3786"
             ],
             [
              0.5555555555555556,
              "#d8576b"
             ],
             [
              0.6666666666666666,
              "#ed7953"
             ],
             [
              0.7777777777777778,
              "#fb9f3a"
             ],
             [
              0.8888888888888888,
              "#fdca26"
             ],
             [
              1,
              "#f0f921"
             ]
            ],
            "type": "histogram2dcontour"
           }
          ],
          "mesh3d": [
           {
            "colorbar": {
             "outlinewidth": 0,
             "ticks": ""
            },
            "type": "mesh3d"
           }
          ],
          "parcoords": [
           {
            "line": {
             "colorbar": {
              "outlinewidth": 0,
              "ticks": ""
             }
            },
            "type": "parcoords"
           }
          ],
          "pie": [
           {
            "automargin": true,
            "type": "pie"
           }
          ],
          "scatter": [
           {
            "marker": {
             "colorbar": {
              "outlinewidth": 0,
              "ticks": ""
             }
            },
            "type": "scatter"
           }
          ],
          "scatter3d": [
           {
            "line": {
             "colorbar": {
              "outlinewidth": 0,
              "ticks": ""
             }
            },
            "marker": {
             "colorbar": {
              "outlinewidth": 0,
              "ticks": ""
             }
            },
            "type": "scatter3d"
           }
          ],
          "scattercarpet": [
           {
            "marker": {
             "colorbar": {
              "outlinewidth": 0,
              "ticks": ""
             }
            },
            "type": "scattercarpet"
           }
          ],
          "scattergeo": [
           {
            "marker": {
             "colorbar": {
              "outlinewidth": 0,
              "ticks": ""
             }
            },
            "type": "scattergeo"
           }
          ],
          "scattergl": [
           {
            "marker": {
             "colorbar": {
              "outlinewidth": 0,
              "ticks": ""
             }
            },
            "type": "scattergl"
           }
          ],
          "scattermapbox": [
           {
            "marker": {
             "colorbar": {
              "outlinewidth": 0,
              "ticks": ""
             }
            },
            "type": "scattermapbox"
           }
          ],
          "scatterpolar": [
           {
            "marker": {
             "colorbar": {
              "outlinewidth": 0,
              "ticks": ""
             }
            },
            "type": "scatterpolar"
           }
          ],
          "scatterpolargl": [
           {
            "marker": {
             "colorbar": {
              "outlinewidth": 0,
              "ticks": ""
             }
            },
            "type": "scatterpolargl"
           }
          ],
          "scatterternary": [
           {
            "marker": {
             "colorbar": {
              "outlinewidth": 0,
              "ticks": ""
             }
            },
            "type": "scatterternary"
           }
          ],
          "surface": [
           {
            "colorbar": {
             "outlinewidth": 0,
             "ticks": ""
            },
            "colorscale": [
             [
              0,
              "#0d0887"
             ],
             [
              0.1111111111111111,
              "#46039f"
             ],
             [
              0.2222222222222222,
              "#7201a8"
             ],
             [
              0.3333333333333333,
              "#9c179e"
             ],
             [
              0.4444444444444444,
              "#bd3786"
             ],
             [
              0.5555555555555556,
              "#d8576b"
             ],
             [
              0.6666666666666666,
              "#ed7953"
             ],
             [
              0.7777777777777778,
              "#fb9f3a"
             ],
             [
              0.8888888888888888,
              "#fdca26"
             ],
             [
              1,
              "#f0f921"
             ]
            ],
            "type": "surface"
           }
          ],
          "table": [
           {
            "cells": {
             "fill": {
              "color": "#EBF0F8"
             },
             "line": {
              "color": "white"
             }
            },
            "header": {
             "fill": {
              "color": "#C8D4E3"
             },
             "line": {
              "color": "white"
             }
            },
            "type": "table"
           }
          ]
         },
         "layout": {
          "annotationdefaults": {
           "arrowcolor": "#2a3f5f",
           "arrowhead": 0,
           "arrowwidth": 1
          },
          "autotypenumbers": "strict",
          "coloraxis": {
           "colorbar": {
            "outlinewidth": 0,
            "ticks": ""
           }
          },
          "colorscale": {
           "diverging": [
            [
             0,
             "#8e0152"
            ],
            [
             0.1,
             "#c51b7d"
            ],
            [
             0.2,
             "#de77ae"
            ],
            [
             0.3,
             "#f1b6da"
            ],
            [
             0.4,
             "#fde0ef"
            ],
            [
             0.5,
             "#f7f7f7"
            ],
            [
             0.6,
             "#e6f5d0"
            ],
            [
             0.7,
             "#b8e186"
            ],
            [
             0.8,
             "#7fbc41"
            ],
            [
             0.9,
             "#4d9221"
            ],
            [
             1,
             "#276419"
            ]
           ],
           "sequential": [
            [
             0,
             "#0d0887"
            ],
            [
             0.1111111111111111,
             "#46039f"
            ],
            [
             0.2222222222222222,
             "#7201a8"
            ],
            [
             0.3333333333333333,
             "#9c179e"
            ],
            [
             0.4444444444444444,
             "#bd3786"
            ],
            [
             0.5555555555555556,
             "#d8576b"
            ],
            [
             0.6666666666666666,
             "#ed7953"
            ],
            [
             0.7777777777777778,
             "#fb9f3a"
            ],
            [
             0.8888888888888888,
             "#fdca26"
            ],
            [
             1,
             "#f0f921"
            ]
           ],
           "sequentialminus": [
            [
             0,
             "#0d0887"
            ],
            [
             0.1111111111111111,
             "#46039f"
            ],
            [
             0.2222222222222222,
             "#7201a8"
            ],
            [
             0.3333333333333333,
             "#9c179e"
            ],
            [
             0.4444444444444444,
             "#bd3786"
            ],
            [
             0.5555555555555556,
             "#d8576b"
            ],
            [
             0.6666666666666666,
             "#ed7953"
            ],
            [
             0.7777777777777778,
             "#fb9f3a"
            ],
            [
             0.8888888888888888,
             "#fdca26"
            ],
            [
             1,
             "#f0f921"
            ]
           ]
          },
          "colorway": [
           "#636efa",
           "#EF553B",
           "#00cc96",
           "#ab63fa",
           "#FFA15A",
           "#19d3f3",
           "#FF6692",
           "#B6E880",
           "#FF97FF",
           "#FECB52"
          ],
          "font": {
           "color": "#2a3f5f"
          },
          "geo": {
           "bgcolor": "white",
           "lakecolor": "white",
           "landcolor": "#E5ECF6",
           "showlakes": true,
           "showland": true,
           "subunitcolor": "white"
          },
          "hoverlabel": {
           "align": "left"
          },
          "hovermode": "closest",
          "mapbox": {
           "style": "light"
          },
          "paper_bgcolor": "white",
          "plot_bgcolor": "#E5ECF6",
          "polar": {
           "angularaxis": {
            "gridcolor": "white",
            "linecolor": "white",
            "ticks": ""
           },
           "bgcolor": "#E5ECF6",
           "radialaxis": {
            "gridcolor": "white",
            "linecolor": "white",
            "ticks": ""
           }
          },
          "scene": {
           "xaxis": {
            "backgroundcolor": "#E5ECF6",
            "gridcolor": "white",
            "gridwidth": 2,
            "linecolor": "white",
            "showbackground": true,
            "ticks": "",
            "zerolinecolor": "white"
           },
           "yaxis": {
            "backgroundcolor": "#E5ECF6",
            "gridcolor": "white",
            "gridwidth": 2,
            "linecolor": "white",
            "showbackground": true,
            "ticks": "",
            "zerolinecolor": "white"
           },
           "zaxis": {
            "backgroundcolor": "#E5ECF6",
            "gridcolor": "white",
            "gridwidth": 2,
            "linecolor": "white",
            "showbackground": true,
            "ticks": "",
            "zerolinecolor": "white"
           }
          },
          "shapedefaults": {
           "line": {
            "color": "#2a3f5f"
           }
          },
          "ternary": {
           "aaxis": {
            "gridcolor": "white",
            "linecolor": "white",
            "ticks": ""
           },
           "baxis": {
            "gridcolor": "white",
            "linecolor": "white",
            "ticks": ""
           },
           "bgcolor": "#E5ECF6",
           "caxis": {
            "gridcolor": "white",
            "linecolor": "white",
            "ticks": ""
           }
          },
          "title": {
           "x": 0.05
          },
          "xaxis": {
           "automargin": true,
           "gridcolor": "white",
           "linecolor": "white",
           "ticks": "",
           "title": {
            "standoff": 15
           },
           "zerolinecolor": "white",
           "zerolinewidth": 2
          },
          "yaxis": {
           "automargin": true,
           "gridcolor": "white",
           "linecolor": "white",
           "ticks": "",
           "title": {
            "standoff": 15
           },
           "zerolinecolor": "white",
           "zerolinewidth": 2
          }
         }
        },
        "title": {
         "font": {
          "color": "#4D5663"
         }
        },
        "xaxis": {
         "gridcolor": "#E1E5ED",
         "showgrid": true,
         "tickfont": {
          "color": "#4D5663"
         },
         "title": {
          "font": {
           "color": "#4D5663"
          },
          "text": ""
         },
         "zerolinecolor": "#E1E5ED"
        },
        "yaxis": {
         "gridcolor": "#E1E5ED",
         "showgrid": true,
         "tickfont": {
          "color": "#4D5663"
         },
         "title": {
          "font": {
           "color": "#4D5663"
          },
          "text": ""
         },
         "zerolinecolor": "#E1E5ED"
        }
       }
      },
      "text/html": [
       "<div>                            <div id=\"51d1dd14-c1f5-4e06-ba26-f0f496f7c704\" class=\"plotly-graph-div\" style=\"height:525px; width:100%;\"></div>            <script type=\"text/javascript\">                require([\"plotly\"], function(Plotly) {                    window.PLOTLYENV=window.PLOTLYENV || {};\n",
       "                    window.PLOTLYENV.BASE_URL='https://plot.ly';                                    if (document.getElementById(\"51d1dd14-c1f5-4e06-ba26-f0f496f7c704\")) {                    Plotly.newPlot(                        \"51d1dd14-c1f5-4e06-ba26-f0f496f7c704\",                        [{\"line\":{\"color\":\"rgba(255, 153, 51, 1.0)\",\"dash\":\"solid\",\"shape\":\"linear\",\"width\":1.3},\"marker\":{\"size\":10,\"symbol\":\"circle\"},\"mode\":\"markers\",\"name\":\"B\",\"text\":\"\",\"x\":[1.2750462071228998,1.0564406009906422,-1.2570863513881179,0.1386992449738513,-0.4006631753099272,0.772494714001685,0.3466280655061471,-0.20734882385960135,-1.1605599469356516,1.5335837092173008,0.8701647512889786,0.19959773422082286,-0.7713696453049101,0.8670858884620127,0.7527057455344794,0.2406881376064278,-1.4246729911918348,-1.366338353479444,-2.510532872604319,-0.44076325408168865,-0.2720890733894303,0.1923950171572903,0.17528984033996958,-0.05627900857472087,-0.09464981393955554,0.1109203403862901,0.3506712561808483,0.11860998679044508,0.27273654934561664,0.5451708797402759,-1.3239800797756898,0.7176173593819158,0.6390897967980106,0.6298020357295875,0.9055103909277578,-0.5904176841467053,-0.38213674321117597,-0.9321460998531019,-2.0527241542088164,-0.1355015868759311,-0.15560692657213374,-1.3234419856299242,0.004612749239376862,-0.3533749773258972,-1.2778073755305988,-1.7334811504670158,1.5287980300400834,-1.0900212287039468,1.3066976573006288,0.6829609453885492,-0.024493571992407752,-1.6644241198636218,-1.3552223151228506,-0.7758460191490981,0.52074640219068,-0.5953760210764978,0.696233766527075,-0.714162783949475,0.3429087064661106,0.12880671947928052,0.1253412689647578,-1.5512006665577716,1.4696417176119942,-1.7740325324274242,2.105809697884221,1.9167099561167036,0.7480215913254173,0.7625036829256576,-1.086117863919513,0.4781593150768092,0.7240428405447898,-0.503627557293303,-1.221663772912323,-0.20754934209619638,-1.3419782859135356,0.216215597439171,1.0145615004449249,-1.0220756896864085,0.49363860464637543,-0.01599908409568637,-1.1470627595685077,-1.023726974752981,0.6660548760380969,-0.1311469267172626,1.1191657681276326,-1.5810786212139951,0.8160942888787959,0.06088517630432691,-1.2352546602277445,-0.2717692097212096,-1.0431055662718702,0.13134247407032018,-0.7790614189607978,0.5434045328072897,-1.1755407507532878,0.008915452173938613,0.16280786785568127,-0.6573273421596642,-0.274646533946732,-0.655594361876358],\"y\":[-0.8340773682113504,0.49123188788963057,-1.9000715568691215,-0.6876295998356547,-0.8538273111014857,1.5511189563186973,1.7916810535863585,-1.2384131342672389,-0.11282532877192572,0.35044387501754315,-0.3725563064013367,-0.5978080296220267,-0.7459415602962436,-0.8062931680433271,-0.41309712402120896,-0.7677684801488446,-1.6237362987866557,-1.3867124997696776,-0.03384343479363602,0.312953792426409,0.43354850664087274,0.11571251414975957,0.7356381212190469,-0.8182781601100041,0.7278710012373059,0.27080432822538103,-0.45224220610112037,1.3889328686699598,0.35415339359074693,1.321491480875497,0.5604879797874698,-2.1780949287932843,0.6772032297272086,0.5068100984347181,0.05294343849021371,0.6762701198557137,-0.41125546955848485,0.9490592885359114,0.9579881061090255,-0.08746731970232335,0.1753148386032337,0.35330636557589246,0.6092976837114229,-0.9897685548060738,1.0082812941583785,-0.07112634100972726,0.7534094755071289,-1.2236591466919062,-0.44741573370710913,-1.056571932317002,-0.6351166490247284,-0.1152534608551299,-0.2753704370824422,-0.03361895378725087,-1.032713772532709,1.2604190210644386,1.6305359116844174,0.28304773071397693,0.46460766770949186,0.9430557112402934,0.8807024197847123,-0.7315449933931041,-0.4801700510822656,0.12234105041850767,-0.8904252461076889,-0.8682230097651995,0.8089776470552416,-0.442143722727833,1.0062933868477435,0.9789586586064842,-0.25604556494295583,-0.8081304318643974,0.32241893796007687,2.9455052125197785,1.0189696497125427,0.24788985930538732,1.136303601810519,-1.3946078662938228,-1.2292418224455168,-1.9150740479746733,-1.0297445925889328,0.8098970537565258,-1.569253924464807,-0.9896971663270222,-0.7057472240000185,0.2204458262981922,0.3173361097439095,-0.5153534162955274,-0.26708392326561814,0.7759496323233144,0.3730259777582601,1.575662623566695,1.1570045050500222,-0.06068007372528039,-1.2513600529835396,0.03669689340334888,0.18579450181477772,-0.16287815628323127,2.0901663180753256,0.9071005520448465],\"type\":\"scatter\"}],                        {\"legend\":{\"bgcolor\":\"#F5F6F9\",\"font\":{\"color\":\"#4D5663\"}},\"paper_bgcolor\":\"#F5F6F9\",\"plot_bgcolor\":\"#F5F6F9\",\"template\":{\"data\":{\"barpolar\":[{\"marker\":{\"line\":{\"color\":\"#E5ECF6\",\"width\":0.5},\"pattern\":{\"fillmode\":\"overlay\",\"size\":10,\"solidity\":0.2}},\"type\":\"barpolar\"}],\"bar\":[{\"error_x\":{\"color\":\"#2a3f5f\"},\"error_y\":{\"color\":\"#2a3f5f\"},\"marker\":{\"line\":{\"color\":\"#E5ECF6\",\"width\":0.5},\"pattern\":{\"fillmode\":\"overlay\",\"size\":10,\"solidity\":0.2}},\"type\":\"bar\"}],\"carpet\":[{\"aaxis\":{\"endlinecolor\":\"#2a3f5f\",\"gridcolor\":\"white\",\"linecolor\":\"white\",\"minorgridcolor\":\"white\",\"startlinecolor\":\"#2a3f5f\"},\"baxis\":{\"endlinecolor\":\"#2a3f5f\",\"gridcolor\":\"white\",\"linecolor\":\"white\",\"minorgridcolor\":\"white\",\"startlinecolor\":\"#2a3f5f\"},\"type\":\"carpet\"}],\"choropleth\":[{\"colorbar\":{\"outlinewidth\":0,\"ticks\":\"\"},\"type\":\"choropleth\"}],\"contourcarpet\":[{\"colorbar\":{\"outlinewidth\":0,\"ticks\":\"\"},\"type\":\"contourcarpet\"}],\"contour\":[{\"colorbar\":{\"outlinewidth\":0,\"ticks\":\"\"},\"colorscale\":[[0.0,\"#0d0887\"],[0.1111111111111111,\"#46039f\"],[0.2222222222222222,\"#7201a8\"],[0.3333333333333333,\"#9c179e\"],[0.4444444444444444,\"#bd3786\"],[0.5555555555555556,\"#d8576b\"],[0.6666666666666666,\"#ed7953\"],[0.7777777777777778,\"#fb9f3a\"],[0.8888888888888888,\"#fdca26\"],[1.0,\"#f0f921\"]],\"type\":\"contour\"}],\"heatmapgl\":[{\"colorbar\":{\"outlinewidth\":0,\"ticks\":\"\"},\"colorscale\":[[0.0,\"#0d0887\"],[0.1111111111111111,\"#46039f\"],[0.2222222222222222,\"#7201a8\"],[0.3333333333333333,\"#9c179e\"],[0.4444444444444444,\"#bd3786\"],[0.5555555555555556,\"#d8576b\"],[0.6666666666666666,\"#ed7953\"],[0.7777777777777778,\"#fb9f3a\"],[0.8888888888888888,\"#fdca26\"],[1.0,\"#f0f921\"]],\"type\":\"heatmapgl\"}],\"heatmap\":[{\"colorbar\":{\"outlinewidth\":0,\"ticks\":\"\"},\"colorscale\":[[0.0,\"#0d0887\"],[0.1111111111111111,\"#46039f\"],[0.2222222222222222,\"#7201a8\"],[0.3333333333333333,\"#9c179e\"],[0.4444444444444444,\"#bd3786\"],[0.5555555555555556,\"#d8576b\"],[0.6666666666666666,\"#ed7953\"],[0.7777777777777778,\"#fb9f3a\"],[0.8888888888888888,\"#fdca26\"],[1.0,\"#f0f921\"]],\"type\":\"heatmap\"}],\"histogram2dcontour\":[{\"colorbar\":{\"outlinewidth\":0,\"ticks\":\"\"},\"colorscale\":[[0.0,\"#0d0887\"],[0.1111111111111111,\"#46039f\"],[0.2222222222222222,\"#7201a8\"],[0.3333333333333333,\"#9c179e\"],[0.4444444444444444,\"#bd3786\"],[0.5555555555555556,\"#d8576b\"],[0.6666666666666666,\"#ed7953\"],[0.7777777777777778,\"#fb9f3a\"],[0.8888888888888888,\"#fdca26\"],[1.0,\"#f0f921\"]],\"type\":\"histogram2dcontour\"}],\"histogram2d\":[{\"colorbar\":{\"outlinewidth\":0,\"ticks\":\"\"},\"colorscale\":[[0.0,\"#0d0887\"],[0.1111111111111111,\"#46039f\"],[0.2222222222222222,\"#7201a8\"],[0.3333333333333333,\"#9c179e\"],[0.4444444444444444,\"#bd3786\"],[0.5555555555555556,\"#d8576b\"],[0.6666666666666666,\"#ed7953\"],[0.7777777777777778,\"#fb9f3a\"],[0.8888888888888888,\"#fdca26\"],[1.0,\"#f0f921\"]],\"type\":\"histogram2d\"}],\"histogram\":[{\"marker\":{\"pattern\":{\"fillmode\":\"overlay\",\"size\":10,\"solidity\":0.2}},\"type\":\"histogram\"}],\"mesh3d\":[{\"colorbar\":{\"outlinewidth\":0,\"ticks\":\"\"},\"type\":\"mesh3d\"}],\"parcoords\":[{\"line\":{\"colorbar\":{\"outlinewidth\":0,\"ticks\":\"\"}},\"type\":\"parcoords\"}],\"pie\":[{\"automargin\":true,\"type\":\"pie\"}],\"scatter3d\":[{\"line\":{\"colorbar\":{\"outlinewidth\":0,\"ticks\":\"\"}},\"marker\":{\"colorbar\":{\"outlinewidth\":0,\"ticks\":\"\"}},\"type\":\"scatter3d\"}],\"scattercarpet\":[{\"marker\":{\"colorbar\":{\"outlinewidth\":0,\"ticks\":\"\"}},\"type\":\"scattercarpet\"}],\"scattergeo\":[{\"marker\":{\"colorbar\":{\"outlinewidth\":0,\"ticks\":\"\"}},\"type\":\"scattergeo\"}],\"scattergl\":[{\"marker\":{\"colorbar\":{\"outlinewidth\":0,\"ticks\":\"\"}},\"type\":\"scattergl\"}],\"scattermapbox\":[{\"marker\":{\"colorbar\":{\"outlinewidth\":0,\"ticks\":\"\"}},\"type\":\"scattermapbox\"}],\"scatterpolargl\":[{\"marker\":{\"colorbar\":{\"outlinewidth\":0,\"ticks\":\"\"}},\"type\":\"scatterpolargl\"}],\"scatterpolar\":[{\"marker\":{\"colorbar\":{\"outlinewidth\":0,\"ticks\":\"\"}},\"type\":\"scatterpolar\"}],\"scatter\":[{\"marker\":{\"colorbar\":{\"outlinewidth\":0,\"ticks\":\"\"}},\"type\":\"scatter\"}],\"scatterternary\":[{\"marker\":{\"colorbar\":{\"outlinewidth\":0,\"ticks\":\"\"}},\"type\":\"scatterternary\"}],\"surface\":[{\"colorbar\":{\"outlinewidth\":0,\"ticks\":\"\"},\"colorscale\":[[0.0,\"#0d0887\"],[0.1111111111111111,\"#46039f\"],[0.2222222222222222,\"#7201a8\"],[0.3333333333333333,\"#9c179e\"],[0.4444444444444444,\"#bd3786\"],[0.5555555555555556,\"#d8576b\"],[0.6666666666666666,\"#ed7953\"],[0.7777777777777778,\"#fb9f3a\"],[0.8888888888888888,\"#fdca26\"],[1.0,\"#f0f921\"]],\"type\":\"surface\"}],\"table\":[{\"cells\":{\"fill\":{\"color\":\"#EBF0F8\"},\"line\":{\"color\":\"white\"}},\"header\":{\"fill\":{\"color\":\"#C8D4E3\"},\"line\":{\"color\":\"white\"}},\"type\":\"table\"}]},\"layout\":{\"annotationdefaults\":{\"arrowcolor\":\"#2a3f5f\",\"arrowhead\":0,\"arrowwidth\":1},\"autotypenumbers\":\"strict\",\"coloraxis\":{\"colorbar\":{\"outlinewidth\":0,\"ticks\":\"\"}},\"colorscale\":{\"diverging\":[[0,\"#8e0152\"],[0.1,\"#c51b7d\"],[0.2,\"#de77ae\"],[0.3,\"#f1b6da\"],[0.4,\"#fde0ef\"],[0.5,\"#f7f7f7\"],[0.6,\"#e6f5d0\"],[0.7,\"#b8e186\"],[0.8,\"#7fbc41\"],[0.9,\"#4d9221\"],[1,\"#276419\"]],\"sequential\":[[0.0,\"#0d0887\"],[0.1111111111111111,\"#46039f\"],[0.2222222222222222,\"#7201a8\"],[0.3333333333333333,\"#9c179e\"],[0.4444444444444444,\"#bd3786\"],[0.5555555555555556,\"#d8576b\"],[0.6666666666666666,\"#ed7953\"],[0.7777777777777778,\"#fb9f3a\"],[0.8888888888888888,\"#fdca26\"],[1.0,\"#f0f921\"]],\"sequentialminus\":[[0.0,\"#0d0887\"],[0.1111111111111111,\"#46039f\"],[0.2222222222222222,\"#7201a8\"],[0.3333333333333333,\"#9c179e\"],[0.4444444444444444,\"#bd3786\"],[0.5555555555555556,\"#d8576b\"],[0.6666666666666666,\"#ed7953\"],[0.7777777777777778,\"#fb9f3a\"],[0.8888888888888888,\"#fdca26\"],[1.0,\"#f0f921\"]]},\"colorway\":[\"#636efa\",\"#EF553B\",\"#00cc96\",\"#ab63fa\",\"#FFA15A\",\"#19d3f3\",\"#FF6692\",\"#B6E880\",\"#FF97FF\",\"#FECB52\"],\"font\":{\"color\":\"#2a3f5f\"},\"geo\":{\"bgcolor\":\"white\",\"lakecolor\":\"white\",\"landcolor\":\"#E5ECF6\",\"showlakes\":true,\"showland\":true,\"subunitcolor\":\"white\"},\"hoverlabel\":{\"align\":\"left\"},\"hovermode\":\"closest\",\"mapbox\":{\"style\":\"light\"},\"paper_bgcolor\":\"white\",\"plot_bgcolor\":\"#E5ECF6\",\"polar\":{\"angularaxis\":{\"gridcolor\":\"white\",\"linecolor\":\"white\",\"ticks\":\"\"},\"bgcolor\":\"#E5ECF6\",\"radialaxis\":{\"gridcolor\":\"white\",\"linecolor\":\"white\",\"ticks\":\"\"}},\"scene\":{\"xaxis\":{\"backgroundcolor\":\"#E5ECF6\",\"gridcolor\":\"white\",\"gridwidth\":2,\"linecolor\":\"white\",\"showbackground\":true,\"ticks\":\"\",\"zerolinecolor\":\"white\"},\"yaxis\":{\"backgroundcolor\":\"#E5ECF6\",\"gridcolor\":\"white\",\"gridwidth\":2,\"linecolor\":\"white\",\"showbackground\":true,\"ticks\":\"\",\"zerolinecolor\":\"white\"},\"zaxis\":{\"backgroundcolor\":\"#E5ECF6\",\"gridcolor\":\"white\",\"gridwidth\":2,\"linecolor\":\"white\",\"showbackground\":true,\"ticks\":\"\",\"zerolinecolor\":\"white\"}},\"shapedefaults\":{\"line\":{\"color\":\"#2a3f5f\"}},\"ternary\":{\"aaxis\":{\"gridcolor\":\"white\",\"linecolor\":\"white\",\"ticks\":\"\"},\"baxis\":{\"gridcolor\":\"white\",\"linecolor\":\"white\",\"ticks\":\"\"},\"bgcolor\":\"#E5ECF6\",\"caxis\":{\"gridcolor\":\"white\",\"linecolor\":\"white\",\"ticks\":\"\"}},\"title\":{\"x\":0.05},\"xaxis\":{\"automargin\":true,\"gridcolor\":\"white\",\"linecolor\":\"white\",\"ticks\":\"\",\"title\":{\"standoff\":15},\"zerolinecolor\":\"white\",\"zerolinewidth\":2},\"yaxis\":{\"automargin\":true,\"gridcolor\":\"white\",\"linecolor\":\"white\",\"ticks\":\"\",\"title\":{\"standoff\":15},\"zerolinecolor\":\"white\",\"zerolinewidth\":2}}},\"title\":{\"font\":{\"color\":\"#4D5663\"}},\"xaxis\":{\"gridcolor\":\"#E1E5ED\",\"showgrid\":true,\"tickfont\":{\"color\":\"#4D5663\"},\"title\":{\"font\":{\"color\":\"#4D5663\"},\"text\":\"\"},\"zerolinecolor\":\"#E1E5ED\"},\"yaxis\":{\"gridcolor\":\"#E1E5ED\",\"showgrid\":true,\"tickfont\":{\"color\":\"#4D5663\"},\"title\":{\"font\":{\"color\":\"#4D5663\"},\"text\":\"\"},\"zerolinecolor\":\"#E1E5ED\"}},                        {\"showLink\": true, \"linkText\": \"Export to plot.ly\", \"plotlyServerURL\": \"https://plot.ly\", \"responsive\": true}                    ).then(function(){\n",
       "                            \n",
       "var gd = document.getElementById('51d1dd14-c1f5-4e06-ba26-f0f496f7c704');\n",
       "var x = new MutationObserver(function (mutations, observer) {{\n",
       "        var display = window.getComputedStyle(gd).display;\n",
       "        if (!display || display === 'none') {{\n",
       "            console.log([gd, 'removed!']);\n",
       "            Plotly.purge(gd);\n",
       "            observer.disconnect();\n",
       "        }}\n",
       "}});\n",
       "\n",
       "// Listen for the removal of the full notebook cells\n",
       "var notebookContainer = gd.closest('#notebook-container');\n",
       "if (notebookContainer) {{\n",
       "    x.observe(notebookContainer, {childList: true});\n",
       "}}\n",
       "\n",
       "// Listen for the clearing of the current output cell\n",
       "var outputEl = gd.closest('.output');\n",
       "if (outputEl) {{\n",
       "    x.observe(outputEl, {childList: true});\n",
       "}}\n",
       "\n",
       "                        })                };                });            </script>        </div>"
      ]
     },
     "metadata": {},
     "output_type": "display_data"
    }
   ],
   "source": [
    "df.iplot(kind='scatter',x='A',y='B',mode='markers',size=10)"
   ]
  },
  {
   "cell_type": "markdown",
   "metadata": {},
   "source": [
    "## Bar Plots"
   ]
  },
  {
   "cell_type": "code",
   "execution_count": 11,
   "metadata": {
    "collapsed": false
   },
   "outputs": [
    {
     "data": {
      "application/vnd.plotly.v1+json": {
       "config": {
        "linkText": "Export to plot.ly",
        "plotlyServerURL": "https://plot.ly",
        "showLink": true
       },
       "data": [
        {
         "marker": {
          "color": "rgba(255, 153, 51, 0.6)",
          "line": {
           "color": "rgba(255, 153, 51, 1.0)",
           "width": 1
          }
         },
         "name": "Values",
         "orientation": "v",
         "text": "",
         "type": "bar",
         "x": [
          "A",
          "B",
          "C"
         ],
         "y": [
          32,
          43,
          50
         ]
        }
       ],
       "layout": {
        "legend": {
         "bgcolor": "#F5F6F9",
         "font": {
          "color": "#4D5663"
         }
        },
        "paper_bgcolor": "#F5F6F9",
        "plot_bgcolor": "#F5F6F9",
        "template": {
         "data": {
          "bar": [
           {
            "error_x": {
             "color": "#2a3f5f"
            },
            "error_y": {
             "color": "#2a3f5f"
            },
            "marker": {
             "line": {
              "color": "#E5ECF6",
              "width": 0.5
             },
             "pattern": {
              "fillmode": "overlay",
              "size": 10,
              "solidity": 0.2
             }
            },
            "type": "bar"
           }
          ],
          "barpolar": [
           {
            "marker": {
             "line": {
              "color": "#E5ECF6",
              "width": 0.5
             },
             "pattern": {
              "fillmode": "overlay",
              "size": 10,
              "solidity": 0.2
             }
            },
            "type": "barpolar"
           }
          ],
          "carpet": [
           {
            "aaxis": {
             "endlinecolor": "#2a3f5f",
             "gridcolor": "white",
             "linecolor": "white",
             "minorgridcolor": "white",
             "startlinecolor": "#2a3f5f"
            },
            "baxis": {
             "endlinecolor": "#2a3f5f",
             "gridcolor": "white",
             "linecolor": "white",
             "minorgridcolor": "white",
             "startlinecolor": "#2a3f5f"
            },
            "type": "carpet"
           }
          ],
          "choropleth": [
           {
            "colorbar": {
             "outlinewidth": 0,
             "ticks": ""
            },
            "type": "choropleth"
           }
          ],
          "contour": [
           {
            "colorbar": {
             "outlinewidth": 0,
             "ticks": ""
            },
            "colorscale": [
             [
              0,
              "#0d0887"
             ],
             [
              0.1111111111111111,
              "#46039f"
             ],
             [
              0.2222222222222222,
              "#7201a8"
             ],
             [
              0.3333333333333333,
              "#9c179e"
             ],
             [
              0.4444444444444444,
              "#bd3786"
             ],
             [
              0.5555555555555556,
              "#d8576b"
             ],
             [
              0.6666666666666666,
              "#ed7953"
             ],
             [
              0.7777777777777778,
              "#fb9f3a"
             ],
             [
              0.8888888888888888,
              "#fdca26"
             ],
             [
              1,
              "#f0f921"
             ]
            ],
            "type": "contour"
           }
          ],
          "contourcarpet": [
           {
            "colorbar": {
             "outlinewidth": 0,
             "ticks": ""
            },
            "type": "contourcarpet"
           }
          ],
          "heatmap": [
           {
            "colorbar": {
             "outlinewidth": 0,
             "ticks": ""
            },
            "colorscale": [
             [
              0,
              "#0d0887"
             ],
             [
              0.1111111111111111,
              "#46039f"
             ],
             [
              0.2222222222222222,
              "#7201a8"
             ],
             [
              0.3333333333333333,
              "#9c179e"
             ],
             [
              0.4444444444444444,
              "#bd3786"
             ],
             [
              0.5555555555555556,
              "#d8576b"
             ],
             [
              0.6666666666666666,
              "#ed7953"
             ],
             [
              0.7777777777777778,
              "#fb9f3a"
             ],
             [
              0.8888888888888888,
              "#fdca26"
             ],
             [
              1,
              "#f0f921"
             ]
            ],
            "type": "heatmap"
           }
          ],
          "heatmapgl": [
           {
            "colorbar": {
             "outlinewidth": 0,
             "ticks": ""
            },
            "colorscale": [
             [
              0,
              "#0d0887"
             ],
             [
              0.1111111111111111,
              "#46039f"
             ],
             [
              0.2222222222222222,
              "#7201a8"
             ],
             [
              0.3333333333333333,
              "#9c179e"
             ],
             [
              0.4444444444444444,
              "#bd3786"
             ],
             [
              0.5555555555555556,
              "#d8576b"
             ],
             [
              0.6666666666666666,
              "#ed7953"
             ],
             [
              0.7777777777777778,
              "#fb9f3a"
             ],
             [
              0.8888888888888888,
              "#fdca26"
             ],
             [
              1,
              "#f0f921"
             ]
            ],
            "type": "heatmapgl"
           }
          ],
          "histogram": [
           {
            "marker": {
             "pattern": {
              "fillmode": "overlay",
              "size": 10,
              "solidity": 0.2
             }
            },
            "type": "histogram"
           }
          ],
          "histogram2d": [
           {
            "colorbar": {
             "outlinewidth": 0,
             "ticks": ""
            },
            "colorscale": [
             [
              0,
              "#0d0887"
             ],
             [
              0.1111111111111111,
              "#46039f"
             ],
             [
              0.2222222222222222,
              "#7201a8"
             ],
             [
              0.3333333333333333,
              "#9c179e"
             ],
             [
              0.4444444444444444,
              "#bd3786"
             ],
             [
              0.5555555555555556,
              "#d8576b"
             ],
             [
              0.6666666666666666,
              "#ed7953"
             ],
             [
              0.7777777777777778,
              "#fb9f3a"
             ],
             [
              0.8888888888888888,
              "#fdca26"
             ],
             [
              1,
              "#f0f921"
             ]
            ],
            "type": "histogram2d"
           }
          ],
          "histogram2dcontour": [
           {
            "colorbar": {
             "outlinewidth": 0,
             "ticks": ""
            },
            "colorscale": [
             [
              0,
              "#0d0887"
             ],
             [
              0.1111111111111111,
              "#46039f"
             ],
             [
              0.2222222222222222,
              "#7201a8"
             ],
             [
              0.3333333333333333,
              "#9c179e"
             ],
             [
              0.4444444444444444,
              "#bd3786"
             ],
             [
              0.5555555555555556,
              "#d8576b"
             ],
             [
              0.6666666666666666,
              "#ed7953"
             ],
             [
              0.7777777777777778,
              "#fb9f3a"
             ],
             [
              0.8888888888888888,
              "#fdca26"
             ],
             [
              1,
              "#f0f921"
             ]
            ],
            "type": "histogram2dcontour"
           }
          ],
          "mesh3d": [
           {
            "colorbar": {
             "outlinewidth": 0,
             "ticks": ""
            },
            "type": "mesh3d"
           }
          ],
          "parcoords": [
           {
            "line": {
             "colorbar": {
              "outlinewidth": 0,
              "ticks": ""
             }
            },
            "type": "parcoords"
           }
          ],
          "pie": [
           {
            "automargin": true,
            "type": "pie"
           }
          ],
          "scatter": [
           {
            "marker": {
             "colorbar": {
              "outlinewidth": 0,
              "ticks": ""
             }
            },
            "type": "scatter"
           }
          ],
          "scatter3d": [
           {
            "line": {
             "colorbar": {
              "outlinewidth": 0,
              "ticks": ""
             }
            },
            "marker": {
             "colorbar": {
              "outlinewidth": 0,
              "ticks": ""
             }
            },
            "type": "scatter3d"
           }
          ],
          "scattercarpet": [
           {
            "marker": {
             "colorbar": {
              "outlinewidth": 0,
              "ticks": ""
             }
            },
            "type": "scattercarpet"
           }
          ],
          "scattergeo": [
           {
            "marker": {
             "colorbar": {
              "outlinewidth": 0,
              "ticks": ""
             }
            },
            "type": "scattergeo"
           }
          ],
          "scattergl": [
           {
            "marker": {
             "colorbar": {
              "outlinewidth": 0,
              "ticks": ""
             }
            },
            "type": "scattergl"
           }
          ],
          "scattermapbox": [
           {
            "marker": {
             "colorbar": {
              "outlinewidth": 0,
              "ticks": ""
             }
            },
            "type": "scattermapbox"
           }
          ],
          "scatterpolar": [
           {
            "marker": {
             "colorbar": {
              "outlinewidth": 0,
              "ticks": ""
             }
            },
            "type": "scatterpolar"
           }
          ],
          "scatterpolargl": [
           {
            "marker": {
             "colorbar": {
              "outlinewidth": 0,
              "ticks": ""
             }
            },
            "type": "scatterpolargl"
           }
          ],
          "scatterternary": [
           {
            "marker": {
             "colorbar": {
              "outlinewidth": 0,
              "ticks": ""
             }
            },
            "type": "scatterternary"
           }
          ],
          "surface": [
           {
            "colorbar": {
             "outlinewidth": 0,
             "ticks": ""
            },
            "colorscale": [
             [
              0,
              "#0d0887"
             ],
             [
              0.1111111111111111,
              "#46039f"
             ],
             [
              0.2222222222222222,
              "#7201a8"
             ],
             [
              0.3333333333333333,
              "#9c179e"
             ],
             [
              0.4444444444444444,
              "#bd3786"
             ],
             [
              0.5555555555555556,
              "#d8576b"
             ],
             [
              0.6666666666666666,
              "#ed7953"
             ],
             [
              0.7777777777777778,
              "#fb9f3a"
             ],
             [
              0.8888888888888888,
              "#fdca26"
             ],
             [
              1,
              "#f0f921"
             ]
            ],
            "type": "surface"
           }
          ],
          "table": [
           {
            "cells": {
             "fill": {
              "color": "#EBF0F8"
             },
             "line": {
              "color": "white"
             }
            },
            "header": {
             "fill": {
              "color": "#C8D4E3"
             },
             "line": {
              "color": "white"
             }
            },
            "type": "table"
           }
          ]
         },
         "layout": {
          "annotationdefaults": {
           "arrowcolor": "#2a3f5f",
           "arrowhead": 0,
           "arrowwidth": 1
          },
          "autotypenumbers": "strict",
          "coloraxis": {
           "colorbar": {
            "outlinewidth": 0,
            "ticks": ""
           }
          },
          "colorscale": {
           "diverging": [
            [
             0,
             "#8e0152"
            ],
            [
             0.1,
             "#c51b7d"
            ],
            [
             0.2,
             "#de77ae"
            ],
            [
             0.3,
             "#f1b6da"
            ],
            [
             0.4,
             "#fde0ef"
            ],
            [
             0.5,
             "#f7f7f7"
            ],
            [
             0.6,
             "#e6f5d0"
            ],
            [
             0.7,
             "#b8e186"
            ],
            [
             0.8,
             "#7fbc41"
            ],
            [
             0.9,
             "#4d9221"
            ],
            [
             1,
             "#276419"
            ]
           ],
           "sequential": [
            [
             0,
             "#0d0887"
            ],
            [
             0.1111111111111111,
             "#46039f"
            ],
            [
             0.2222222222222222,
             "#7201a8"
            ],
            [
             0.3333333333333333,
             "#9c179e"
            ],
            [
             0.4444444444444444,
             "#bd3786"
            ],
            [
             0.5555555555555556,
             "#d8576b"
            ],
            [
             0.6666666666666666,
             "#ed7953"
            ],
            [
             0.7777777777777778,
             "#fb9f3a"
            ],
            [
             0.8888888888888888,
             "#fdca26"
            ],
            [
             1,
             "#f0f921"
            ]
           ],
           "sequentialminus": [
            [
             0,
             "#0d0887"
            ],
            [
             0.1111111111111111,
             "#46039f"
            ],
            [
             0.2222222222222222,
             "#7201a8"
            ],
            [
             0.3333333333333333,
             "#9c179e"
            ],
            [
             0.4444444444444444,
             "#bd3786"
            ],
            [
             0.5555555555555556,
             "#d8576b"
            ],
            [
             0.6666666666666666,
             "#ed7953"
            ],
            [
             0.7777777777777778,
             "#fb9f3a"
            ],
            [
             0.8888888888888888,
             "#fdca26"
            ],
            [
             1,
             "#f0f921"
            ]
           ]
          },
          "colorway": [
           "#636efa",
           "#EF553B",
           "#00cc96",
           "#ab63fa",
           "#FFA15A",
           "#19d3f3",
           "#FF6692",
           "#B6E880",
           "#FF97FF",
           "#FECB52"
          ],
          "font": {
           "color": "#2a3f5f"
          },
          "geo": {
           "bgcolor": "white",
           "lakecolor": "white",
           "landcolor": "#E5ECF6",
           "showlakes": true,
           "showland": true,
           "subunitcolor": "white"
          },
          "hoverlabel": {
           "align": "left"
          },
          "hovermode": "closest",
          "mapbox": {
           "style": "light"
          },
          "paper_bgcolor": "white",
          "plot_bgcolor": "#E5ECF6",
          "polar": {
           "angularaxis": {
            "gridcolor": "white",
            "linecolor": "white",
            "ticks": ""
           },
           "bgcolor": "#E5ECF6",
           "radialaxis": {
            "gridcolor": "white",
            "linecolor": "white",
            "ticks": ""
           }
          },
          "scene": {
           "xaxis": {
            "backgroundcolor": "#E5ECF6",
            "gridcolor": "white",
            "gridwidth": 2,
            "linecolor": "white",
            "showbackground": true,
            "ticks": "",
            "zerolinecolor": "white"
           },
           "yaxis": {
            "backgroundcolor": "#E5ECF6",
            "gridcolor": "white",
            "gridwidth": 2,
            "linecolor": "white",
            "showbackground": true,
            "ticks": "",
            "zerolinecolor": "white"
           },
           "zaxis": {
            "backgroundcolor": "#E5ECF6",
            "gridcolor": "white",
            "gridwidth": 2,
            "linecolor": "white",
            "showbackground": true,
            "ticks": "",
            "zerolinecolor": "white"
           }
          },
          "shapedefaults": {
           "line": {
            "color": "#2a3f5f"
           }
          },
          "ternary": {
           "aaxis": {
            "gridcolor": "white",
            "linecolor": "white",
            "ticks": ""
           },
           "baxis": {
            "gridcolor": "white",
            "linecolor": "white",
            "ticks": ""
           },
           "bgcolor": "#E5ECF6",
           "caxis": {
            "gridcolor": "white",
            "linecolor": "white",
            "ticks": ""
           }
          },
          "title": {
           "x": 0.05
          },
          "xaxis": {
           "automargin": true,
           "gridcolor": "white",
           "linecolor": "white",
           "ticks": "",
           "title": {
            "standoff": 15
           },
           "zerolinecolor": "white",
           "zerolinewidth": 2
          },
          "yaxis": {
           "automargin": true,
           "gridcolor": "white",
           "linecolor": "white",
           "ticks": "",
           "title": {
            "standoff": 15
           },
           "zerolinecolor": "white",
           "zerolinewidth": 2
          }
         }
        },
        "title": {
         "font": {
          "color": "#4D5663"
         }
        },
        "xaxis": {
         "gridcolor": "#E1E5ED",
         "showgrid": true,
         "tickfont": {
          "color": "#4D5663"
         },
         "title": {
          "font": {
           "color": "#4D5663"
          },
          "text": ""
         },
         "zerolinecolor": "#E1E5ED"
        },
        "yaxis": {
         "gridcolor": "#E1E5ED",
         "showgrid": true,
         "tickfont": {
          "color": "#4D5663"
         },
         "title": {
          "font": {
           "color": "#4D5663"
          },
          "text": ""
         },
         "zerolinecolor": "#E1E5ED"
        }
       }
      },
      "text/html": [
       "<div>                            <div id=\"aadef97d-2959-4d80-8d69-1e94a38a8904\" class=\"plotly-graph-div\" style=\"height:525px; width:100%;\"></div>            <script type=\"text/javascript\">                require([\"plotly\"], function(Plotly) {                    window.PLOTLYENV=window.PLOTLYENV || {};\n",
       "                    window.PLOTLYENV.BASE_URL='https://plot.ly';                                    if (document.getElementById(\"aadef97d-2959-4d80-8d69-1e94a38a8904\")) {                    Plotly.newPlot(                        \"aadef97d-2959-4d80-8d69-1e94a38a8904\",                        [{\"marker\":{\"color\":\"rgba(255, 153, 51, 0.6)\",\"line\":{\"color\":\"rgba(255, 153, 51, 1.0)\",\"width\":1}},\"name\":\"Values\",\"orientation\":\"v\",\"text\":\"\",\"x\":[\"A\",\"B\",\"C\"],\"y\":[32,43,50],\"type\":\"bar\"}],                        {\"legend\":{\"bgcolor\":\"#F5F6F9\",\"font\":{\"color\":\"#4D5663\"}},\"paper_bgcolor\":\"#F5F6F9\",\"plot_bgcolor\":\"#F5F6F9\",\"template\":{\"data\":{\"barpolar\":[{\"marker\":{\"line\":{\"color\":\"#E5ECF6\",\"width\":0.5},\"pattern\":{\"fillmode\":\"overlay\",\"size\":10,\"solidity\":0.2}},\"type\":\"barpolar\"}],\"bar\":[{\"error_x\":{\"color\":\"#2a3f5f\"},\"error_y\":{\"color\":\"#2a3f5f\"},\"marker\":{\"line\":{\"color\":\"#E5ECF6\",\"width\":0.5},\"pattern\":{\"fillmode\":\"overlay\",\"size\":10,\"solidity\":0.2}},\"type\":\"bar\"}],\"carpet\":[{\"aaxis\":{\"endlinecolor\":\"#2a3f5f\",\"gridcolor\":\"white\",\"linecolor\":\"white\",\"minorgridcolor\":\"white\",\"startlinecolor\":\"#2a3f5f\"},\"baxis\":{\"endlinecolor\":\"#2a3f5f\",\"gridcolor\":\"white\",\"linecolor\":\"white\",\"minorgridcolor\":\"white\",\"startlinecolor\":\"#2a3f5f\"},\"type\":\"carpet\"}],\"choropleth\":[{\"colorbar\":{\"outlinewidth\":0,\"ticks\":\"\"},\"type\":\"choropleth\"}],\"contourcarpet\":[{\"colorbar\":{\"outlinewidth\":0,\"ticks\":\"\"},\"type\":\"contourcarpet\"}],\"contour\":[{\"colorbar\":{\"outlinewidth\":0,\"ticks\":\"\"},\"colorscale\":[[0.0,\"#0d0887\"],[0.1111111111111111,\"#46039f\"],[0.2222222222222222,\"#7201a8\"],[0.3333333333333333,\"#9c179e\"],[0.4444444444444444,\"#bd3786\"],[0.5555555555555556,\"#d8576b\"],[0.6666666666666666,\"#ed7953\"],[0.7777777777777778,\"#fb9f3a\"],[0.8888888888888888,\"#fdca26\"],[1.0,\"#f0f921\"]],\"type\":\"contour\"}],\"heatmapgl\":[{\"colorbar\":{\"outlinewidth\":0,\"ticks\":\"\"},\"colorscale\":[[0.0,\"#0d0887\"],[0.1111111111111111,\"#46039f\"],[0.2222222222222222,\"#7201a8\"],[0.3333333333333333,\"#9c179e\"],[0.4444444444444444,\"#bd3786\"],[0.5555555555555556,\"#d8576b\"],[0.6666666666666666,\"#ed7953\"],[0.7777777777777778,\"#fb9f3a\"],[0.8888888888888888,\"#fdca26\"],[1.0,\"#f0f921\"]],\"type\":\"heatmapgl\"}],\"heatmap\":[{\"colorbar\":{\"outlinewidth\":0,\"ticks\":\"\"},\"colorscale\":[[0.0,\"#0d0887\"],[0.1111111111111111,\"#46039f\"],[0.2222222222222222,\"#7201a8\"],[0.3333333333333333,\"#9c179e\"],[0.4444444444444444,\"#bd3786\"],[0.5555555555555556,\"#d8576b\"],[0.6666666666666666,\"#ed7953\"],[0.7777777777777778,\"#fb9f3a\"],[0.8888888888888888,\"#fdca26\"],[1.0,\"#f0f921\"]],\"type\":\"heatmap\"}],\"histogram2dcontour\":[{\"colorbar\":{\"outlinewidth\":0,\"ticks\":\"\"},\"colorscale\":[[0.0,\"#0d0887\"],[0.1111111111111111,\"#46039f\"],[0.2222222222222222,\"#7201a8\"],[0.3333333333333333,\"#9c179e\"],[0.4444444444444444,\"#bd3786\"],[0.5555555555555556,\"#d8576b\"],[0.6666666666666666,\"#ed7953\"],[0.7777777777777778,\"#fb9f3a\"],[0.8888888888888888,\"#fdca26\"],[1.0,\"#f0f921\"]],\"type\":\"histogram2dcontour\"}],\"histogram2d\":[{\"colorbar\":{\"outlinewidth\":0,\"ticks\":\"\"},\"colorscale\":[[0.0,\"#0d0887\"],[0.1111111111111111,\"#46039f\"],[0.2222222222222222,\"#7201a8\"],[0.3333333333333333,\"#9c179e\"],[0.4444444444444444,\"#bd3786\"],[0.5555555555555556,\"#d8576b\"],[0.6666666666666666,\"#ed7953\"],[0.7777777777777778,\"#fb9f3a\"],[0.8888888888888888,\"#fdca26\"],[1.0,\"#f0f921\"]],\"type\":\"histogram2d\"}],\"histogram\":[{\"marker\":{\"pattern\":{\"fillmode\":\"overlay\",\"size\":10,\"solidity\":0.2}},\"type\":\"histogram\"}],\"mesh3d\":[{\"colorbar\":{\"outlinewidth\":0,\"ticks\":\"\"},\"type\":\"mesh3d\"}],\"parcoords\":[{\"line\":{\"colorbar\":{\"outlinewidth\":0,\"ticks\":\"\"}},\"type\":\"parcoords\"}],\"pie\":[{\"automargin\":true,\"type\":\"pie\"}],\"scatter3d\":[{\"line\":{\"colorbar\":{\"outlinewidth\":0,\"ticks\":\"\"}},\"marker\":{\"colorbar\":{\"outlinewidth\":0,\"ticks\":\"\"}},\"type\":\"scatter3d\"}],\"scattercarpet\":[{\"marker\":{\"colorbar\":{\"outlinewidth\":0,\"ticks\":\"\"}},\"type\":\"scattercarpet\"}],\"scattergeo\":[{\"marker\":{\"colorbar\":{\"outlinewidth\":0,\"ticks\":\"\"}},\"type\":\"scattergeo\"}],\"scattergl\":[{\"marker\":{\"colorbar\":{\"outlinewidth\":0,\"ticks\":\"\"}},\"type\":\"scattergl\"}],\"scattermapbox\":[{\"marker\":{\"colorbar\":{\"outlinewidth\":0,\"ticks\":\"\"}},\"type\":\"scattermapbox\"}],\"scatterpolargl\":[{\"marker\":{\"colorbar\":{\"outlinewidth\":0,\"ticks\":\"\"}},\"type\":\"scatterpolargl\"}],\"scatterpolar\":[{\"marker\":{\"colorbar\":{\"outlinewidth\":0,\"ticks\":\"\"}},\"type\":\"scatterpolar\"}],\"scatter\":[{\"marker\":{\"colorbar\":{\"outlinewidth\":0,\"ticks\":\"\"}},\"type\":\"scatter\"}],\"scatterternary\":[{\"marker\":{\"colorbar\":{\"outlinewidth\":0,\"ticks\":\"\"}},\"type\":\"scatterternary\"}],\"surface\":[{\"colorbar\":{\"outlinewidth\":0,\"ticks\":\"\"},\"colorscale\":[[0.0,\"#0d0887\"],[0.1111111111111111,\"#46039f\"],[0.2222222222222222,\"#7201a8\"],[0.3333333333333333,\"#9c179e\"],[0.4444444444444444,\"#bd3786\"],[0.5555555555555556,\"#d8576b\"],[0.6666666666666666,\"#ed7953\"],[0.7777777777777778,\"#fb9f3a\"],[0.8888888888888888,\"#fdca26\"],[1.0,\"#f0f921\"]],\"type\":\"surface\"}],\"table\":[{\"cells\":{\"fill\":{\"color\":\"#EBF0F8\"},\"line\":{\"color\":\"white\"}},\"header\":{\"fill\":{\"color\":\"#C8D4E3\"},\"line\":{\"color\":\"white\"}},\"type\":\"table\"}]},\"layout\":{\"annotationdefaults\":{\"arrowcolor\":\"#2a3f5f\",\"arrowhead\":0,\"arrowwidth\":1},\"autotypenumbers\":\"strict\",\"coloraxis\":{\"colorbar\":{\"outlinewidth\":0,\"ticks\":\"\"}},\"colorscale\":{\"diverging\":[[0,\"#8e0152\"],[0.1,\"#c51b7d\"],[0.2,\"#de77ae\"],[0.3,\"#f1b6da\"],[0.4,\"#fde0ef\"],[0.5,\"#f7f7f7\"],[0.6,\"#e6f5d0\"],[0.7,\"#b8e186\"],[0.8,\"#7fbc41\"],[0.9,\"#4d9221\"],[1,\"#276419\"]],\"sequential\":[[0.0,\"#0d0887\"],[0.1111111111111111,\"#46039f\"],[0.2222222222222222,\"#7201a8\"],[0.3333333333333333,\"#9c179e\"],[0.4444444444444444,\"#bd3786\"],[0.5555555555555556,\"#d8576b\"],[0.6666666666666666,\"#ed7953\"],[0.7777777777777778,\"#fb9f3a\"],[0.8888888888888888,\"#fdca26\"],[1.0,\"#f0f921\"]],\"sequentialminus\":[[0.0,\"#0d0887\"],[0.1111111111111111,\"#46039f\"],[0.2222222222222222,\"#7201a8\"],[0.3333333333333333,\"#9c179e\"],[0.4444444444444444,\"#bd3786\"],[0.5555555555555556,\"#d8576b\"],[0.6666666666666666,\"#ed7953\"],[0.7777777777777778,\"#fb9f3a\"],[0.8888888888888888,\"#fdca26\"],[1.0,\"#f0f921\"]]},\"colorway\":[\"#636efa\",\"#EF553B\",\"#00cc96\",\"#ab63fa\",\"#FFA15A\",\"#19d3f3\",\"#FF6692\",\"#B6E880\",\"#FF97FF\",\"#FECB52\"],\"font\":{\"color\":\"#2a3f5f\"},\"geo\":{\"bgcolor\":\"white\",\"lakecolor\":\"white\",\"landcolor\":\"#E5ECF6\",\"showlakes\":true,\"showland\":true,\"subunitcolor\":\"white\"},\"hoverlabel\":{\"align\":\"left\"},\"hovermode\":\"closest\",\"mapbox\":{\"style\":\"light\"},\"paper_bgcolor\":\"white\",\"plot_bgcolor\":\"#E5ECF6\",\"polar\":{\"angularaxis\":{\"gridcolor\":\"white\",\"linecolor\":\"white\",\"ticks\":\"\"},\"bgcolor\":\"#E5ECF6\",\"radialaxis\":{\"gridcolor\":\"white\",\"linecolor\":\"white\",\"ticks\":\"\"}},\"scene\":{\"xaxis\":{\"backgroundcolor\":\"#E5ECF6\",\"gridcolor\":\"white\",\"gridwidth\":2,\"linecolor\":\"white\",\"showbackground\":true,\"ticks\":\"\",\"zerolinecolor\":\"white\"},\"yaxis\":{\"backgroundcolor\":\"#E5ECF6\",\"gridcolor\":\"white\",\"gridwidth\":2,\"linecolor\":\"white\",\"showbackground\":true,\"ticks\":\"\",\"zerolinecolor\":\"white\"},\"zaxis\":{\"backgroundcolor\":\"#E5ECF6\",\"gridcolor\":\"white\",\"gridwidth\":2,\"linecolor\":\"white\",\"showbackground\":true,\"ticks\":\"\",\"zerolinecolor\":\"white\"}},\"shapedefaults\":{\"line\":{\"color\":\"#2a3f5f\"}},\"ternary\":{\"aaxis\":{\"gridcolor\":\"white\",\"linecolor\":\"white\",\"ticks\":\"\"},\"baxis\":{\"gridcolor\":\"white\",\"linecolor\":\"white\",\"ticks\":\"\"},\"bgcolor\":\"#E5ECF6\",\"caxis\":{\"gridcolor\":\"white\",\"linecolor\":\"white\",\"ticks\":\"\"}},\"title\":{\"x\":0.05},\"xaxis\":{\"automargin\":true,\"gridcolor\":\"white\",\"linecolor\":\"white\",\"ticks\":\"\",\"title\":{\"standoff\":15},\"zerolinecolor\":\"white\",\"zerolinewidth\":2},\"yaxis\":{\"automargin\":true,\"gridcolor\":\"white\",\"linecolor\":\"white\",\"ticks\":\"\",\"title\":{\"standoff\":15},\"zerolinecolor\":\"white\",\"zerolinewidth\":2}}},\"title\":{\"font\":{\"color\":\"#4D5663\"}},\"xaxis\":{\"gridcolor\":\"#E1E5ED\",\"showgrid\":true,\"tickfont\":{\"color\":\"#4D5663\"},\"title\":{\"font\":{\"color\":\"#4D5663\"},\"text\":\"\"},\"zerolinecolor\":\"#E1E5ED\"},\"yaxis\":{\"gridcolor\":\"#E1E5ED\",\"showgrid\":true,\"tickfont\":{\"color\":\"#4D5663\"},\"title\":{\"font\":{\"color\":\"#4D5663\"},\"text\":\"\"},\"zerolinecolor\":\"#E1E5ED\"}},                        {\"showLink\": true, \"linkText\": \"Export to plot.ly\", \"plotlyServerURL\": \"https://plot.ly\", \"responsive\": true}                    ).then(function(){\n",
       "                            \n",
       "var gd = document.getElementById('aadef97d-2959-4d80-8d69-1e94a38a8904');\n",
       "var x = new MutationObserver(function (mutations, observer) {{\n",
       "        var display = window.getComputedStyle(gd).display;\n",
       "        if (!display || display === 'none') {{\n",
       "            console.log([gd, 'removed!']);\n",
       "            Plotly.purge(gd);\n",
       "            observer.disconnect();\n",
       "        }}\n",
       "}});\n",
       "\n",
       "// Listen for the removal of the full notebook cells\n",
       "var notebookContainer = gd.closest('#notebook-container');\n",
       "if (notebookContainer) {{\n",
       "    x.observe(notebookContainer, {childList: true});\n",
       "}}\n",
       "\n",
       "// Listen for the clearing of the current output cell\n",
       "var outputEl = gd.closest('.output');\n",
       "if (outputEl) {{\n",
       "    x.observe(outputEl, {childList: true});\n",
       "}}\n",
       "\n",
       "                        })                };                });            </script>        </div>"
      ]
     },
     "metadata": {},
     "output_type": "display_data"
    }
   ],
   "source": [
    "df2.iplot(kind='bar',x='Category',y='Values')"
   ]
  },
  {
   "cell_type": "code",
   "execution_count": 12,
   "metadata": {
    "collapsed": false
   },
   "outputs": [
    {
     "data": {
      "application/vnd.plotly.v1+json": {
       "config": {
        "linkText": "Export to plot.ly",
        "plotlyServerURL": "https://plot.ly",
        "showLink": true
       },
       "data": [
        {
         "marker": {
          "color": "rgba(255, 153, 51, 0.6)",
          "line": {
           "color": "rgba(255, 153, 51, 1.0)",
           "width": 1
          }
         },
         "name": "None",
         "orientation": "v",
         "text": "",
         "type": "bar",
         "x": [
          "A",
          "B",
          "C",
          "D"
         ],
         "y": [
          100,
          100,
          100,
          100
         ]
        }
       ],
       "layout": {
        "legend": {
         "bgcolor": "#F5F6F9",
         "font": {
          "color": "#4D5663"
         }
        },
        "paper_bgcolor": "#F5F6F9",
        "plot_bgcolor": "#F5F6F9",
        "template": {
         "data": {
          "bar": [
           {
            "error_x": {
             "color": "#2a3f5f"
            },
            "error_y": {
             "color": "#2a3f5f"
            },
            "marker": {
             "line": {
              "color": "#E5ECF6",
              "width": 0.5
             },
             "pattern": {
              "fillmode": "overlay",
              "size": 10,
              "solidity": 0.2
             }
            },
            "type": "bar"
           }
          ],
          "barpolar": [
           {
            "marker": {
             "line": {
              "color": "#E5ECF6",
              "width": 0.5
             },
             "pattern": {
              "fillmode": "overlay",
              "size": 10,
              "solidity": 0.2
             }
            },
            "type": "barpolar"
           }
          ],
          "carpet": [
           {
            "aaxis": {
             "endlinecolor": "#2a3f5f",
             "gridcolor": "white",
             "linecolor": "white",
             "minorgridcolor": "white",
             "startlinecolor": "#2a3f5f"
            },
            "baxis": {
             "endlinecolor": "#2a3f5f",
             "gridcolor": "white",
             "linecolor": "white",
             "minorgridcolor": "white",
             "startlinecolor": "#2a3f5f"
            },
            "type": "carpet"
           }
          ],
          "choropleth": [
           {
            "colorbar": {
             "outlinewidth": 0,
             "ticks": ""
            },
            "type": "choropleth"
           }
          ],
          "contour": [
           {
            "colorbar": {
             "outlinewidth": 0,
             "ticks": ""
            },
            "colorscale": [
             [
              0,
              "#0d0887"
             ],
             [
              0.1111111111111111,
              "#46039f"
             ],
             [
              0.2222222222222222,
              "#7201a8"
             ],
             [
              0.3333333333333333,
              "#9c179e"
             ],
             [
              0.4444444444444444,
              "#bd3786"
             ],
             [
              0.5555555555555556,
              "#d8576b"
             ],
             [
              0.6666666666666666,
              "#ed7953"
             ],
             [
              0.7777777777777778,
              "#fb9f3a"
             ],
             [
              0.8888888888888888,
              "#fdca26"
             ],
             [
              1,
              "#f0f921"
             ]
            ],
            "type": "contour"
           }
          ],
          "contourcarpet": [
           {
            "colorbar": {
             "outlinewidth": 0,
             "ticks": ""
            },
            "type": "contourcarpet"
           }
          ],
          "heatmap": [
           {
            "colorbar": {
             "outlinewidth": 0,
             "ticks": ""
            },
            "colorscale": [
             [
              0,
              "#0d0887"
             ],
             [
              0.1111111111111111,
              "#46039f"
             ],
             [
              0.2222222222222222,
              "#7201a8"
             ],
             [
              0.3333333333333333,
              "#9c179e"
             ],
             [
              0.4444444444444444,
              "#bd3786"
             ],
             [
              0.5555555555555556,
              "#d8576b"
             ],
             [
              0.6666666666666666,
              "#ed7953"
             ],
             [
              0.7777777777777778,
              "#fb9f3a"
             ],
             [
              0.8888888888888888,
              "#fdca26"
             ],
             [
              1,
              "#f0f921"
             ]
            ],
            "type": "heatmap"
           }
          ],
          "heatmapgl": [
           {
            "colorbar": {
             "outlinewidth": 0,
             "ticks": ""
            },
            "colorscale": [
             [
              0,
              "#0d0887"
             ],
             [
              0.1111111111111111,
              "#46039f"
             ],
             [
              0.2222222222222222,
              "#7201a8"
             ],
             [
              0.3333333333333333,
              "#9c179e"
             ],
             [
              0.4444444444444444,
              "#bd3786"
             ],
             [
              0.5555555555555556,
              "#d8576b"
             ],
             [
              0.6666666666666666,
              "#ed7953"
             ],
             [
              0.7777777777777778,
              "#fb9f3a"
             ],
             [
              0.8888888888888888,
              "#fdca26"
             ],
             [
              1,
              "#f0f921"
             ]
            ],
            "type": "heatmapgl"
           }
          ],
          "histogram": [
           {
            "marker": {
             "pattern": {
              "fillmode": "overlay",
              "size": 10,
              "solidity": 0.2
             }
            },
            "type": "histogram"
           }
          ],
          "histogram2d": [
           {
            "colorbar": {
             "outlinewidth": 0,
             "ticks": ""
            },
            "colorscale": [
             [
              0,
              "#0d0887"
             ],
             [
              0.1111111111111111,
              "#46039f"
             ],
             [
              0.2222222222222222,
              "#7201a8"
             ],
             [
              0.3333333333333333,
              "#9c179e"
             ],
             [
              0.4444444444444444,
              "#bd3786"
             ],
             [
              0.5555555555555556,
              "#d8576b"
             ],
             [
              0.6666666666666666,
              "#ed7953"
             ],
             [
              0.7777777777777778,
              "#fb9f3a"
             ],
             [
              0.8888888888888888,
              "#fdca26"
             ],
             [
              1,
              "#f0f921"
             ]
            ],
            "type": "histogram2d"
           }
          ],
          "histogram2dcontour": [
           {
            "colorbar": {
             "outlinewidth": 0,
             "ticks": ""
            },
            "colorscale": [
             [
              0,
              "#0d0887"
             ],
             [
              0.1111111111111111,
              "#46039f"
             ],
             [
              0.2222222222222222,
              "#7201a8"
             ],
             [
              0.3333333333333333,
              "#9c179e"
             ],
             [
              0.4444444444444444,
              "#bd3786"
             ],
             [
              0.5555555555555556,
              "#d8576b"
             ],
             [
              0.6666666666666666,
              "#ed7953"
             ],
             [
              0.7777777777777778,
              "#fb9f3a"
             ],
             [
              0.8888888888888888,
              "#fdca26"
             ],
             [
              1,
              "#f0f921"
             ]
            ],
            "type": "histogram2dcontour"
           }
          ],
          "mesh3d": [
           {
            "colorbar": {
             "outlinewidth": 0,
             "ticks": ""
            },
            "type": "mesh3d"
           }
          ],
          "parcoords": [
           {
            "line": {
             "colorbar": {
              "outlinewidth": 0,
              "ticks": ""
             }
            },
            "type": "parcoords"
           }
          ],
          "pie": [
           {
            "automargin": true,
            "type": "pie"
           }
          ],
          "scatter": [
           {
            "marker": {
             "colorbar": {
              "outlinewidth": 0,
              "ticks": ""
             }
            },
            "type": "scatter"
           }
          ],
          "scatter3d": [
           {
            "line": {
             "colorbar": {
              "outlinewidth": 0,
              "ticks": ""
             }
            },
            "marker": {
             "colorbar": {
              "outlinewidth": 0,
              "ticks": ""
             }
            },
            "type": "scatter3d"
           }
          ],
          "scattercarpet": [
           {
            "marker": {
             "colorbar": {
              "outlinewidth": 0,
              "ticks": ""
             }
            },
            "type": "scattercarpet"
           }
          ],
          "scattergeo": [
           {
            "marker": {
             "colorbar": {
              "outlinewidth": 0,
              "ticks": ""
             }
            },
            "type": "scattergeo"
           }
          ],
          "scattergl": [
           {
            "marker": {
             "colorbar": {
              "outlinewidth": 0,
              "ticks": ""
             }
            },
            "type": "scattergl"
           }
          ],
          "scattermapbox": [
           {
            "marker": {
             "colorbar": {
              "outlinewidth": 0,
              "ticks": ""
             }
            },
            "type": "scattermapbox"
           }
          ],
          "scatterpolar": [
           {
            "marker": {
             "colorbar": {
              "outlinewidth": 0,
              "ticks": ""
             }
            },
            "type": "scatterpolar"
           }
          ],
          "scatterpolargl": [
           {
            "marker": {
             "colorbar": {
              "outlinewidth": 0,
              "ticks": ""
             }
            },
            "type": "scatterpolargl"
           }
          ],
          "scatterternary": [
           {
            "marker": {
             "colorbar": {
              "outlinewidth": 0,
              "ticks": ""
             }
            },
            "type": "scatterternary"
           }
          ],
          "surface": [
           {
            "colorbar": {
             "outlinewidth": 0,
             "ticks": ""
            },
            "colorscale": [
             [
              0,
              "#0d0887"
             ],
             [
              0.1111111111111111,
              "#46039f"
             ],
             [
              0.2222222222222222,
              "#7201a8"
             ],
             [
              0.3333333333333333,
              "#9c179e"
             ],
             [
              0.4444444444444444,
              "#bd3786"
             ],
             [
              0.5555555555555556,
              "#d8576b"
             ],
             [
              0.6666666666666666,
              "#ed7953"
             ],
             [
              0.7777777777777778,
              "#fb9f3a"
             ],
             [
              0.8888888888888888,
              "#fdca26"
             ],
             [
              1,
              "#f0f921"
             ]
            ],
            "type": "surface"
           }
          ],
          "table": [
           {
            "cells": {
             "fill": {
              "color": "#EBF0F8"
             },
             "line": {
              "color": "white"
             }
            },
            "header": {
             "fill": {
              "color": "#C8D4E3"
             },
             "line": {
              "color": "white"
             }
            },
            "type": "table"
           }
          ]
         },
         "layout": {
          "annotationdefaults": {
           "arrowcolor": "#2a3f5f",
           "arrowhead": 0,
           "arrowwidth": 1
          },
          "autotypenumbers": "strict",
          "coloraxis": {
           "colorbar": {
            "outlinewidth": 0,
            "ticks": ""
           }
          },
          "colorscale": {
           "diverging": [
            [
             0,
             "#8e0152"
            ],
            [
             0.1,
             "#c51b7d"
            ],
            [
             0.2,
             "#de77ae"
            ],
            [
             0.3,
             "#f1b6da"
            ],
            [
             0.4,
             "#fde0ef"
            ],
            [
             0.5,
             "#f7f7f7"
            ],
            [
             0.6,
             "#e6f5d0"
            ],
            [
             0.7,
             "#b8e186"
            ],
            [
             0.8,
             "#7fbc41"
            ],
            [
             0.9,
             "#4d9221"
            ],
            [
             1,
             "#276419"
            ]
           ],
           "sequential": [
            [
             0,
             "#0d0887"
            ],
            [
             0.1111111111111111,
             "#46039f"
            ],
            [
             0.2222222222222222,
             "#7201a8"
            ],
            [
             0.3333333333333333,
             "#9c179e"
            ],
            [
             0.4444444444444444,
             "#bd3786"
            ],
            [
             0.5555555555555556,
             "#d8576b"
            ],
            [
             0.6666666666666666,
             "#ed7953"
            ],
            [
             0.7777777777777778,
             "#fb9f3a"
            ],
            [
             0.8888888888888888,
             "#fdca26"
            ],
            [
             1,
             "#f0f921"
            ]
           ],
           "sequentialminus": [
            [
             0,
             "#0d0887"
            ],
            [
             0.1111111111111111,
             "#46039f"
            ],
            [
             0.2222222222222222,
             "#7201a8"
            ],
            [
             0.3333333333333333,
             "#9c179e"
            ],
            [
             0.4444444444444444,
             "#bd3786"
            ],
            [
             0.5555555555555556,
             "#d8576b"
            ],
            [
             0.6666666666666666,
             "#ed7953"
            ],
            [
             0.7777777777777778,
             "#fb9f3a"
            ],
            [
             0.8888888888888888,
             "#fdca26"
            ],
            [
             1,
             "#f0f921"
            ]
           ]
          },
          "colorway": [
           "#636efa",
           "#EF553B",
           "#00cc96",
           "#ab63fa",
           "#FFA15A",
           "#19d3f3",
           "#FF6692",
           "#B6E880",
           "#FF97FF",
           "#FECB52"
          ],
          "font": {
           "color": "#2a3f5f"
          },
          "geo": {
           "bgcolor": "white",
           "lakecolor": "white",
           "landcolor": "#E5ECF6",
           "showlakes": true,
           "showland": true,
           "subunitcolor": "white"
          },
          "hoverlabel": {
           "align": "left"
          },
          "hovermode": "closest",
          "mapbox": {
           "style": "light"
          },
          "paper_bgcolor": "white",
          "plot_bgcolor": "#E5ECF6",
          "polar": {
           "angularaxis": {
            "gridcolor": "white",
            "linecolor": "white",
            "ticks": ""
           },
           "bgcolor": "#E5ECF6",
           "radialaxis": {
            "gridcolor": "white",
            "linecolor": "white",
            "ticks": ""
           }
          },
          "scene": {
           "xaxis": {
            "backgroundcolor": "#E5ECF6",
            "gridcolor": "white",
            "gridwidth": 2,
            "linecolor": "white",
            "showbackground": true,
            "ticks": "",
            "zerolinecolor": "white"
           },
           "yaxis": {
            "backgroundcolor": "#E5ECF6",
            "gridcolor": "white",
            "gridwidth": 2,
            "linecolor": "white",
            "showbackground": true,
            "ticks": "",
            "zerolinecolor": "white"
           },
           "zaxis": {
            "backgroundcolor": "#E5ECF6",
            "gridcolor": "white",
            "gridwidth": 2,
            "linecolor": "white",
            "showbackground": true,
            "ticks": "",
            "zerolinecolor": "white"
           }
          },
          "shapedefaults": {
           "line": {
            "color": "#2a3f5f"
           }
          },
          "ternary": {
           "aaxis": {
            "gridcolor": "white",
            "linecolor": "white",
            "ticks": ""
           },
           "baxis": {
            "gridcolor": "white",
            "linecolor": "white",
            "ticks": ""
           },
           "bgcolor": "#E5ECF6",
           "caxis": {
            "gridcolor": "white",
            "linecolor": "white",
            "ticks": ""
           }
          },
          "title": {
           "x": 0.05
          },
          "xaxis": {
           "automargin": true,
           "gridcolor": "white",
           "linecolor": "white",
           "ticks": "",
           "title": {
            "standoff": 15
           },
           "zerolinecolor": "white",
           "zerolinewidth": 2
          },
          "yaxis": {
           "automargin": true,
           "gridcolor": "white",
           "linecolor": "white",
           "ticks": "",
           "title": {
            "standoff": 15
           },
           "zerolinecolor": "white",
           "zerolinewidth": 2
          }
         }
        },
        "title": {
         "font": {
          "color": "#4D5663"
         }
        },
        "xaxis": {
         "gridcolor": "#E1E5ED",
         "showgrid": true,
         "tickfont": {
          "color": "#4D5663"
         },
         "title": {
          "font": {
           "color": "#4D5663"
          },
          "text": ""
         },
         "zerolinecolor": "#E1E5ED"
        },
        "yaxis": {
         "gridcolor": "#E1E5ED",
         "showgrid": true,
         "tickfont": {
          "color": "#4D5663"
         },
         "title": {
          "font": {
           "color": "#4D5663"
          },
          "text": ""
         },
         "zerolinecolor": "#E1E5ED"
        }
       }
      },
      "text/html": [
       "<div>                            <div id=\"30cd3bbd-1b09-4187-86c6-f96e1d006dad\" class=\"plotly-graph-div\" style=\"height:525px; width:100%;\"></div>            <script type=\"text/javascript\">                require([\"plotly\"], function(Plotly) {                    window.PLOTLYENV=window.PLOTLYENV || {};\n",
       "                    window.PLOTLYENV.BASE_URL='https://plot.ly';                                    if (document.getElementById(\"30cd3bbd-1b09-4187-86c6-f96e1d006dad\")) {                    Plotly.newPlot(                        \"30cd3bbd-1b09-4187-86c6-f96e1d006dad\",                        [{\"marker\":{\"color\":\"rgba(255, 153, 51, 0.6)\",\"line\":{\"color\":\"rgba(255, 153, 51, 1.0)\",\"width\":1}},\"name\":\"None\",\"orientation\":\"v\",\"text\":\"\",\"x\":[\"A\",\"B\",\"C\",\"D\"],\"y\":[100,100,100,100],\"type\":\"bar\"}],                        {\"legend\":{\"bgcolor\":\"#F5F6F9\",\"font\":{\"color\":\"#4D5663\"}},\"paper_bgcolor\":\"#F5F6F9\",\"plot_bgcolor\":\"#F5F6F9\",\"template\":{\"data\":{\"barpolar\":[{\"marker\":{\"line\":{\"color\":\"#E5ECF6\",\"width\":0.5},\"pattern\":{\"fillmode\":\"overlay\",\"size\":10,\"solidity\":0.2}},\"type\":\"barpolar\"}],\"bar\":[{\"error_x\":{\"color\":\"#2a3f5f\"},\"error_y\":{\"color\":\"#2a3f5f\"},\"marker\":{\"line\":{\"color\":\"#E5ECF6\",\"width\":0.5},\"pattern\":{\"fillmode\":\"overlay\",\"size\":10,\"solidity\":0.2}},\"type\":\"bar\"}],\"carpet\":[{\"aaxis\":{\"endlinecolor\":\"#2a3f5f\",\"gridcolor\":\"white\",\"linecolor\":\"white\",\"minorgridcolor\":\"white\",\"startlinecolor\":\"#2a3f5f\"},\"baxis\":{\"endlinecolor\":\"#2a3f5f\",\"gridcolor\":\"white\",\"linecolor\":\"white\",\"minorgridcolor\":\"white\",\"startlinecolor\":\"#2a3f5f\"},\"type\":\"carpet\"}],\"choropleth\":[{\"colorbar\":{\"outlinewidth\":0,\"ticks\":\"\"},\"type\":\"choropleth\"}],\"contourcarpet\":[{\"colorbar\":{\"outlinewidth\":0,\"ticks\":\"\"},\"type\":\"contourcarpet\"}],\"contour\":[{\"colorbar\":{\"outlinewidth\":0,\"ticks\":\"\"},\"colorscale\":[[0.0,\"#0d0887\"],[0.1111111111111111,\"#46039f\"],[0.2222222222222222,\"#7201a8\"],[0.3333333333333333,\"#9c179e\"],[0.4444444444444444,\"#bd3786\"],[0.5555555555555556,\"#d8576b\"],[0.6666666666666666,\"#ed7953\"],[0.7777777777777778,\"#fb9f3a\"],[0.8888888888888888,\"#fdca26\"],[1.0,\"#f0f921\"]],\"type\":\"contour\"}],\"heatmapgl\":[{\"colorbar\":{\"outlinewidth\":0,\"ticks\":\"\"},\"colorscale\":[[0.0,\"#0d0887\"],[0.1111111111111111,\"#46039f\"],[0.2222222222222222,\"#7201a8\"],[0.3333333333333333,\"#9c179e\"],[0.4444444444444444,\"#bd3786\"],[0.5555555555555556,\"#d8576b\"],[0.6666666666666666,\"#ed7953\"],[0.7777777777777778,\"#fb9f3a\"],[0.8888888888888888,\"#fdca26\"],[1.0,\"#f0f921\"]],\"type\":\"heatmapgl\"}],\"heatmap\":[{\"colorbar\":{\"outlinewidth\":0,\"ticks\":\"\"},\"colorscale\":[[0.0,\"#0d0887\"],[0.1111111111111111,\"#46039f\"],[0.2222222222222222,\"#7201a8\"],[0.3333333333333333,\"#9c179e\"],[0.4444444444444444,\"#bd3786\"],[0.5555555555555556,\"#d8576b\"],[0.6666666666666666,\"#ed7953\"],[0.7777777777777778,\"#fb9f3a\"],[0.8888888888888888,\"#fdca26\"],[1.0,\"#f0f921\"]],\"type\":\"heatmap\"}],\"histogram2dcontour\":[{\"colorbar\":{\"outlinewidth\":0,\"ticks\":\"\"},\"colorscale\":[[0.0,\"#0d0887\"],[0.1111111111111111,\"#46039f\"],[0.2222222222222222,\"#7201a8\"],[0.3333333333333333,\"#9c179e\"],[0.4444444444444444,\"#bd3786\"],[0.5555555555555556,\"#d8576b\"],[0.6666666666666666,\"#ed7953\"],[0.7777777777777778,\"#fb9f3a\"],[0.8888888888888888,\"#fdca26\"],[1.0,\"#f0f921\"]],\"type\":\"histogram2dcontour\"}],\"histogram2d\":[{\"colorbar\":{\"outlinewidth\":0,\"ticks\":\"\"},\"colorscale\":[[0.0,\"#0d0887\"],[0.1111111111111111,\"#46039f\"],[0.2222222222222222,\"#7201a8\"],[0.3333333333333333,\"#9c179e\"],[0.4444444444444444,\"#bd3786\"],[0.5555555555555556,\"#d8576b\"],[0.6666666666666666,\"#ed7953\"],[0.7777777777777778,\"#fb9f3a\"],[0.8888888888888888,\"#fdca26\"],[1.0,\"#f0f921\"]],\"type\":\"histogram2d\"}],\"histogram\":[{\"marker\":{\"pattern\":{\"fillmode\":\"overlay\",\"size\":10,\"solidity\":0.2}},\"type\":\"histogram\"}],\"mesh3d\":[{\"colorbar\":{\"outlinewidth\":0,\"ticks\":\"\"},\"type\":\"mesh3d\"}],\"parcoords\":[{\"line\":{\"colorbar\":{\"outlinewidth\":0,\"ticks\":\"\"}},\"type\":\"parcoords\"}],\"pie\":[{\"automargin\":true,\"type\":\"pie\"}],\"scatter3d\":[{\"line\":{\"colorbar\":{\"outlinewidth\":0,\"ticks\":\"\"}},\"marker\":{\"colorbar\":{\"outlinewidth\":0,\"ticks\":\"\"}},\"type\":\"scatter3d\"}],\"scattercarpet\":[{\"marker\":{\"colorbar\":{\"outlinewidth\":0,\"ticks\":\"\"}},\"type\":\"scattercarpet\"}],\"scattergeo\":[{\"marker\":{\"colorbar\":{\"outlinewidth\":0,\"ticks\":\"\"}},\"type\":\"scattergeo\"}],\"scattergl\":[{\"marker\":{\"colorbar\":{\"outlinewidth\":0,\"ticks\":\"\"}},\"type\":\"scattergl\"}],\"scattermapbox\":[{\"marker\":{\"colorbar\":{\"outlinewidth\":0,\"ticks\":\"\"}},\"type\":\"scattermapbox\"}],\"scatterpolargl\":[{\"marker\":{\"colorbar\":{\"outlinewidth\":0,\"ticks\":\"\"}},\"type\":\"scatterpolargl\"}],\"scatterpolar\":[{\"marker\":{\"colorbar\":{\"outlinewidth\":0,\"ticks\":\"\"}},\"type\":\"scatterpolar\"}],\"scatter\":[{\"marker\":{\"colorbar\":{\"outlinewidth\":0,\"ticks\":\"\"}},\"type\":\"scatter\"}],\"scatterternary\":[{\"marker\":{\"colorbar\":{\"outlinewidth\":0,\"ticks\":\"\"}},\"type\":\"scatterternary\"}],\"surface\":[{\"colorbar\":{\"outlinewidth\":0,\"ticks\":\"\"},\"colorscale\":[[0.0,\"#0d0887\"],[0.1111111111111111,\"#46039f\"],[0.2222222222222222,\"#7201a8\"],[0.3333333333333333,\"#9c179e\"],[0.4444444444444444,\"#bd3786\"],[0.5555555555555556,\"#d8576b\"],[0.6666666666666666,\"#ed7953\"],[0.7777777777777778,\"#fb9f3a\"],[0.8888888888888888,\"#fdca26\"],[1.0,\"#f0f921\"]],\"type\":\"surface\"}],\"table\":[{\"cells\":{\"fill\":{\"color\":\"#EBF0F8\"},\"line\":{\"color\":\"white\"}},\"header\":{\"fill\":{\"color\":\"#C8D4E3\"},\"line\":{\"color\":\"white\"}},\"type\":\"table\"}]},\"layout\":{\"annotationdefaults\":{\"arrowcolor\":\"#2a3f5f\",\"arrowhead\":0,\"arrowwidth\":1},\"autotypenumbers\":\"strict\",\"coloraxis\":{\"colorbar\":{\"outlinewidth\":0,\"ticks\":\"\"}},\"colorscale\":{\"diverging\":[[0,\"#8e0152\"],[0.1,\"#c51b7d\"],[0.2,\"#de77ae\"],[0.3,\"#f1b6da\"],[0.4,\"#fde0ef\"],[0.5,\"#f7f7f7\"],[0.6,\"#e6f5d0\"],[0.7,\"#b8e186\"],[0.8,\"#7fbc41\"],[0.9,\"#4d9221\"],[1,\"#276419\"]],\"sequential\":[[0.0,\"#0d0887\"],[0.1111111111111111,\"#46039f\"],[0.2222222222222222,\"#7201a8\"],[0.3333333333333333,\"#9c179e\"],[0.4444444444444444,\"#bd3786\"],[0.5555555555555556,\"#d8576b\"],[0.6666666666666666,\"#ed7953\"],[0.7777777777777778,\"#fb9f3a\"],[0.8888888888888888,\"#fdca26\"],[1.0,\"#f0f921\"]],\"sequentialminus\":[[0.0,\"#0d0887\"],[0.1111111111111111,\"#46039f\"],[0.2222222222222222,\"#7201a8\"],[0.3333333333333333,\"#9c179e\"],[0.4444444444444444,\"#bd3786\"],[0.5555555555555556,\"#d8576b\"],[0.6666666666666666,\"#ed7953\"],[0.7777777777777778,\"#fb9f3a\"],[0.8888888888888888,\"#fdca26\"],[1.0,\"#f0f921\"]]},\"colorway\":[\"#636efa\",\"#EF553B\",\"#00cc96\",\"#ab63fa\",\"#FFA15A\",\"#19d3f3\",\"#FF6692\",\"#B6E880\",\"#FF97FF\",\"#FECB52\"],\"font\":{\"color\":\"#2a3f5f\"},\"geo\":{\"bgcolor\":\"white\",\"lakecolor\":\"white\",\"landcolor\":\"#E5ECF6\",\"showlakes\":true,\"showland\":true,\"subunitcolor\":\"white\"},\"hoverlabel\":{\"align\":\"left\"},\"hovermode\":\"closest\",\"mapbox\":{\"style\":\"light\"},\"paper_bgcolor\":\"white\",\"plot_bgcolor\":\"#E5ECF6\",\"polar\":{\"angularaxis\":{\"gridcolor\":\"white\",\"linecolor\":\"white\",\"ticks\":\"\"},\"bgcolor\":\"#E5ECF6\",\"radialaxis\":{\"gridcolor\":\"white\",\"linecolor\":\"white\",\"ticks\":\"\"}},\"scene\":{\"xaxis\":{\"backgroundcolor\":\"#E5ECF6\",\"gridcolor\":\"white\",\"gridwidth\":2,\"linecolor\":\"white\",\"showbackground\":true,\"ticks\":\"\",\"zerolinecolor\":\"white\"},\"yaxis\":{\"backgroundcolor\":\"#E5ECF6\",\"gridcolor\":\"white\",\"gridwidth\":2,\"linecolor\":\"white\",\"showbackground\":true,\"ticks\":\"\",\"zerolinecolor\":\"white\"},\"zaxis\":{\"backgroundcolor\":\"#E5ECF6\",\"gridcolor\":\"white\",\"gridwidth\":2,\"linecolor\":\"white\",\"showbackground\":true,\"ticks\":\"\",\"zerolinecolor\":\"white\"}},\"shapedefaults\":{\"line\":{\"color\":\"#2a3f5f\"}},\"ternary\":{\"aaxis\":{\"gridcolor\":\"white\",\"linecolor\":\"white\",\"ticks\":\"\"},\"baxis\":{\"gridcolor\":\"white\",\"linecolor\":\"white\",\"ticks\":\"\"},\"bgcolor\":\"#E5ECF6\",\"caxis\":{\"gridcolor\":\"white\",\"linecolor\":\"white\",\"ticks\":\"\"}},\"title\":{\"x\":0.05},\"xaxis\":{\"automargin\":true,\"gridcolor\":\"white\",\"linecolor\":\"white\",\"ticks\":\"\",\"title\":{\"standoff\":15},\"zerolinecolor\":\"white\",\"zerolinewidth\":2},\"yaxis\":{\"automargin\":true,\"gridcolor\":\"white\",\"linecolor\":\"white\",\"ticks\":\"\",\"title\":{\"standoff\":15},\"zerolinecolor\":\"white\",\"zerolinewidth\":2}}},\"title\":{\"font\":{\"color\":\"#4D5663\"}},\"xaxis\":{\"gridcolor\":\"#E1E5ED\",\"showgrid\":true,\"tickfont\":{\"color\":\"#4D5663\"},\"title\":{\"font\":{\"color\":\"#4D5663\"},\"text\":\"\"},\"zerolinecolor\":\"#E1E5ED\"},\"yaxis\":{\"gridcolor\":\"#E1E5ED\",\"showgrid\":true,\"tickfont\":{\"color\":\"#4D5663\"},\"title\":{\"font\":{\"color\":\"#4D5663\"},\"text\":\"\"},\"zerolinecolor\":\"#E1E5ED\"}},                        {\"showLink\": true, \"linkText\": \"Export to plot.ly\", \"plotlyServerURL\": \"https://plot.ly\", \"responsive\": true}                    ).then(function(){\n",
       "                            \n",
       "var gd = document.getElementById('30cd3bbd-1b09-4187-86c6-f96e1d006dad');\n",
       "var x = new MutationObserver(function (mutations, observer) {{\n",
       "        var display = window.getComputedStyle(gd).display;\n",
       "        if (!display || display === 'none') {{\n",
       "            console.log([gd, 'removed!']);\n",
       "            Plotly.purge(gd);\n",
       "            observer.disconnect();\n",
       "        }}\n",
       "}});\n",
       "\n",
       "// Listen for the removal of the full notebook cells\n",
       "var notebookContainer = gd.closest('#notebook-container');\n",
       "if (notebookContainer) {{\n",
       "    x.observe(notebookContainer, {childList: true});\n",
       "}}\n",
       "\n",
       "// Listen for the clearing of the current output cell\n",
       "var outputEl = gd.closest('.output');\n",
       "if (outputEl) {{\n",
       "    x.observe(outputEl, {childList: true});\n",
       "}}\n",
       "\n",
       "                        })                };                });            </script>        </div>"
      ]
     },
     "metadata": {},
     "output_type": "display_data"
    }
   ],
   "source": [
    "df.count().iplot(kind='bar')"
   ]
  },
  {
   "cell_type": "markdown",
   "metadata": {},
   "source": [
    "## Boxplots"
   ]
  },
  {
   "cell_type": "code",
   "execution_count": 13,
   "metadata": {
    "collapsed": false
   },
   "outputs": [
    {
     "data": {
      "application/vnd.plotly.v1+json": {
       "config": {
        "linkText": "Export to plot.ly",
        "plotlyServerURL": "https://plot.ly",
        "showLink": true
       },
       "data": [
        {
         "boxpoints": false,
         "line": {
          "width": 1.3
         },
         "marker": {
          "color": "rgba(255, 153, 51, 1.0)"
         },
         "name": "A",
         "orientation": "v",
         "type": "box",
         "y": [
          1.2750462071228998,
          1.0564406009906422,
          -1.2570863513881179,
          0.1386992449738513,
          -0.4006631753099272,
          0.772494714001685,
          0.3466280655061471,
          -0.20734882385960135,
          -1.1605599469356516,
          1.5335837092173008,
          0.8701647512889786,
          0.19959773422082286,
          -0.7713696453049101,
          0.8670858884620127,
          0.7527057455344794,
          0.2406881376064278,
          -1.4246729911918348,
          -1.366338353479444,
          -2.510532872604319,
          -0.44076325408168865,
          -0.2720890733894303,
          0.1923950171572903,
          0.17528984033996958,
          -0.05627900857472087,
          -0.09464981393955554,
          0.1109203403862901,
          0.3506712561808483,
          0.11860998679044508,
          0.27273654934561664,
          0.5451708797402759,
          -1.3239800797756898,
          0.7176173593819158,
          0.6390897967980106,
          0.6298020357295875,
          0.9055103909277578,
          -0.5904176841467053,
          -0.38213674321117597,
          -0.9321460998531019,
          -2.0527241542088164,
          -0.1355015868759311,
          -0.15560692657213374,
          -1.3234419856299242,
          0.004612749239376862,
          -0.3533749773258972,
          -1.2778073755305988,
          -1.7334811504670158,
          1.5287980300400834,
          -1.0900212287039468,
          1.3066976573006288,
          0.6829609453885492,
          -0.024493571992407752,
          -1.6644241198636218,
          -1.3552223151228506,
          -0.7758460191490981,
          0.52074640219068,
          -0.5953760210764978,
          0.696233766527075,
          -0.714162783949475,
          0.3429087064661106,
          0.12880671947928052,
          0.1253412689647578,
          -1.5512006665577716,
          1.4696417176119942,
          -1.7740325324274242,
          2.105809697884221,
          1.9167099561167036,
          0.7480215913254173,
          0.7625036829256576,
          -1.086117863919513,
          0.4781593150768092,
          0.7240428405447898,
          -0.503627557293303,
          -1.221663772912323,
          -0.20754934209619638,
          -1.3419782859135356,
          0.216215597439171,
          1.0145615004449249,
          -1.0220756896864085,
          0.49363860464637543,
          -0.01599908409568637,
          -1.1470627595685077,
          -1.023726974752981,
          0.6660548760380969,
          -0.1311469267172626,
          1.1191657681276326,
          -1.5810786212139951,
          0.8160942888787959,
          0.06088517630432691,
          -1.2352546602277445,
          -0.2717692097212096,
          -1.0431055662718702,
          0.13134247407032018,
          -0.7790614189607978,
          0.5434045328072897,
          -1.1755407507532878,
          0.008915452173938613,
          0.16280786785568127,
          -0.6573273421596642,
          -0.274646533946732,
          -0.655594361876358
         ]
        },
        {
         "boxpoints": false,
         "line": {
          "width": 1.3
         },
         "marker": {
          "color": "rgba(55, 128, 191, 1.0)"
         },
         "name": "B",
         "orientation": "v",
         "type": "box",
         "y": [
          -0.8340773682113504,
          0.49123188788963057,
          -1.9000715568691215,
          -0.6876295998356547,
          -0.8538273111014857,
          1.5511189563186973,
          1.7916810535863585,
          -1.2384131342672389,
          -0.11282532877192572,
          0.35044387501754315,
          -0.3725563064013367,
          -0.5978080296220267,
          -0.7459415602962436,
          -0.8062931680433271,
          -0.41309712402120896,
          -0.7677684801488446,
          -1.6237362987866557,
          -1.3867124997696776,
          -0.03384343479363602,
          0.312953792426409,
          0.43354850664087274,
          0.11571251414975957,
          0.7356381212190469,
          -0.8182781601100041,
          0.7278710012373059,
          0.27080432822538103,
          -0.45224220610112037,
          1.3889328686699598,
          0.35415339359074693,
          1.321491480875497,
          0.5604879797874698,
          -2.1780949287932843,
          0.6772032297272086,
          0.5068100984347181,
          0.05294343849021371,
          0.6762701198557137,
          -0.41125546955848485,
          0.9490592885359114,
          0.9579881061090255,
          -0.08746731970232335,
          0.1753148386032337,
          0.35330636557589246,
          0.6092976837114229,
          -0.9897685548060738,
          1.0082812941583785,
          -0.07112634100972726,
          0.7534094755071289,
          -1.2236591466919062,
          -0.44741573370710913,
          -1.056571932317002,
          -0.6351166490247284,
          -0.1152534608551299,
          -0.2753704370824422,
          -0.03361895378725087,
          -1.032713772532709,
          1.2604190210644386,
          1.6305359116844174,
          0.28304773071397693,
          0.46460766770949186,
          0.9430557112402934,
          0.8807024197847123,
          -0.7315449933931041,
          -0.4801700510822656,
          0.12234105041850767,
          -0.8904252461076889,
          -0.8682230097651995,
          0.8089776470552416,
          -0.442143722727833,
          1.0062933868477435,
          0.9789586586064842,
          -0.25604556494295583,
          -0.8081304318643974,
          0.32241893796007687,
          2.9455052125197785,
          1.0189696497125427,
          0.24788985930538732,
          1.136303601810519,
          -1.3946078662938228,
          -1.2292418224455168,
          -1.9150740479746733,
          -1.0297445925889328,
          0.8098970537565258,
          -1.569253924464807,
          -0.9896971663270222,
          -0.7057472240000185,
          0.2204458262981922,
          0.3173361097439095,
          -0.5153534162955274,
          -0.26708392326561814,
          0.7759496323233144,
          0.3730259777582601,
          1.575662623566695,
          1.1570045050500222,
          -0.06068007372528039,
          -1.2513600529835396,
          0.03669689340334888,
          0.18579450181477772,
          -0.16287815628323127,
          2.0901663180753256,
          0.9071005520448465
         ]
        },
        {
         "boxpoints": false,
         "line": {
          "width": 1.3
         },
         "marker": {
          "color": "rgba(50, 171, 96, 1.0)"
         },
         "name": "C",
         "orientation": "v",
         "type": "box",
         "y": [
          -0.6065814803506674,
          -0.0056614743668575,
          0.47377835760278325,
          -0.7669808349710616,
          -0.2984610713736877,
          -0.7862462591685704,
          -0.30334996180518786,
          -2.2561605961038214,
          1.2104400421793433,
          0.76132924025126,
          -2.0764830248963246,
          -0.3743193722489287,
          1.3140509336583903,
          0.8060959354304592,
          0.8496481858416668,
          0.3206407546556311,
          0.7367664103551135,
          0.10443061661045361,
          0.03436876868568491,
          -0.531729950865737,
          -0.7085974374677646,
          0.693003807983039,
          1.6068787266164335,
          -0.2670568329018913,
          0.015847628858779165,
          0.020782059028557603,
          -0.5196020397478259,
          -2.1742877376534273,
          0.2084446674567804,
          -1.5708351936202887,
          -1.7303559559458355,
          -1.14938646406794,
          0.1412535112325003,
          0.6739769900674427,
          0.3341737804458171,
          -1.544805374766241,
          1.2630156214631156,
          1.2993468829704875,
          0.03943253408824827,
          -0.6505943976451811,
          -1.287916846718534,
          2.6158904742734688,
          -0.18921140358629004,
          -0.5088698523799714,
          0.1583463740320508,
          0.4034115874377453,
          0.41730333864937813,
          0.8443400209241257,
          -0.8439226873024922,
          -0.3618591602469053,
          1.062480966237185,
          -0.8354902780261675,
          0.0283856858965905,
          0.2926742659843175,
          -1.5072017584217483,
          0.6701435665882296,
          0.0918263976356448,
          0.9848450798155605,
          0.7126911055257629,
          0.4209453778492396,
          -0.6506812038781848,
          0.6443815364407258,
          0.11840826658302832,
          -1.2108032671929079,
          0.5089945953821506,
          0.7241253901689519,
          -0.5367383294366789,
          0.5947892296709306,
          -0.48633893865960975,
          -1.2244062958933806,
          -1.4408223353729626,
          0.11646891188842408,
          0.5058898513373067,
          -0.9191398133237972,
          -0.8794916959798096,
          0.9674124240361822,
          -0.18460515585573317,
          0.33866818045005764,
          -0.3982677523303214,
          1.1542108469227073,
          -0.19287897590887343,
          -0.39691886444408303,
          1.4587946690503084,
          0.5030537584716932,
          0.2834070821409793,
          1.6602762267945903,
          -1.6394032252387876,
          0.3561371864556083,
          0.5071869990319724,
          -0.39137338520180515,
          -1.5625516437520808,
          1.3424849679480697,
          -0.798114317162278,
          -0.5861139711310693,
          -1.908134652905644,
          -1.7994024342247412,
          1.1709653111241818,
          1.613274553242905,
          -1.1639037835712955,
          1.3655742980033005
         ]
        },
        {
         "boxpoints": false,
         "line": {
          "width": 1.3
         },
         "marker": {
          "color": "rgba(128, 0, 128, 1.0)"
         },
         "name": "D",
         "orientation": "v",
         "type": "box",
         "y": [
          0.7139456893048736,
          1.2182943932514776,
          -0.022442070790911903,
          0.29419838907850454,
          -0.7473982962608382,
          0.05967193022364727,
          -1.7581521899961248,
          2.965034050553671,
          -0.9716107300425278,
          -0.10089240576146587,
          -0.15106025887742477,
          -0.4843170130123628,
          0.3220996841547047,
          -1.332683235916878,
          -0.561749623803411,
          0.7783577730763781,
          -1.0173613113395228,
          1.4834643870057453,
          0.5748771426725922,
          -0.9779032746034094,
          -1.4773574832741476,
          1.0746333271797746,
          1.2070096569013267,
          -0.35917797105680904,
          -1.9147305767939333,
          2.153653228396418,
          -2.4303885700047854,
          0.22157959824077164,
          0.14874563289253137,
          -1.279771382703922,
          -0.1521422200622724,
          1.650037956934773,
          0.6537104615024295,
          0.808006760868366,
          0.13620214175340242,
          -0.5250470673318475,
          -0.9880632900100209,
          1.1180418390662974,
          -0.22588739170453126,
          0.28882691039611624,
          -0.09936686952194648,
          1.5404142967535457,
          -1.4001626432695027,
          -1.3704970552909894,
          2.2077130901998356,
          1.116380542662232,
          -0.4091874611428839,
          -1.3686904120878665,
          1.6049816912046597,
          -0.30703464236377814,
          -0.5473658982832879,
          -0.48495979693113145,
          -0.45033413790447435,
          0.39922580894613374,
          0.6047897126936678,
          -0.8752680433632427,
          -0.8986365730692438,
          0.3770440281928797,
          -1.0420907677722961,
          -2.2166606762468213,
          0.41928713539586043,
          0.7095391770600183,
          0.5539361345485381,
          1.8180138617574744,
          0.020695705953035895,
          0.6488166069066083,
          -1.6740646712918874,
          -1.6236243921041227,
          1.554106555602854,
          -0.7419395714313424,
          -0.15606868120679696,
          0.709525225488563,
          -2.060491897944797,
          -0.04380727568900047,
          -0.5049371502654176,
          -1.0450616759167384,
          0.9509678695829852,
          1.037888791409695,
          1.056487613896072,
          -1.019634938809895,
          0.21168484870149137,
          0.22680691036470607,
          -0.6228332865229037,
          0.6178469540817563,
          -0.3438026326951937,
          -0.8126119160493471,
          0.5994110507451171,
          0.6845268659740725,
          -0.7089044464688247,
          -1.3941795843099998,
          -0.4748919927526555,
          1.2931818578279248,
          1.155046396747897,
          0.054391243974638605,
          0.11105012255970526,
          2.5610353634730023,
          0.7022441176694517,
          0.4563972984648552,
          0.382547875976814,
          -0.9960163190933181
         ]
        }
       ],
       "layout": {
        "legend": {
         "bgcolor": "#F5F6F9",
         "font": {
          "color": "#4D5663"
         }
        },
        "paper_bgcolor": "#F5F6F9",
        "plot_bgcolor": "#F5F6F9",
        "template": {
         "data": {
          "bar": [
           {
            "error_x": {
             "color": "#2a3f5f"
            },
            "error_y": {
             "color": "#2a3f5f"
            },
            "marker": {
             "line": {
              "color": "#E5ECF6",
              "width": 0.5
             },
             "pattern": {
              "fillmode": "overlay",
              "size": 10,
              "solidity": 0.2
             }
            },
            "type": "bar"
           }
          ],
          "barpolar": [
           {
            "marker": {
             "line": {
              "color": "#E5ECF6",
              "width": 0.5
             },
             "pattern": {
              "fillmode": "overlay",
              "size": 10,
              "solidity": 0.2
             }
            },
            "type": "barpolar"
           }
          ],
          "carpet": [
           {
            "aaxis": {
             "endlinecolor": "#2a3f5f",
             "gridcolor": "white",
             "linecolor": "white",
             "minorgridcolor": "white",
             "startlinecolor": "#2a3f5f"
            },
            "baxis": {
             "endlinecolor": "#2a3f5f",
             "gridcolor": "white",
             "linecolor": "white",
             "minorgridcolor": "white",
             "startlinecolor": "#2a3f5f"
            },
            "type": "carpet"
           }
          ],
          "choropleth": [
           {
            "colorbar": {
             "outlinewidth": 0,
             "ticks": ""
            },
            "type": "choropleth"
           }
          ],
          "contour": [
           {
            "colorbar": {
             "outlinewidth": 0,
             "ticks": ""
            },
            "colorscale": [
             [
              0,
              "#0d0887"
             ],
             [
              0.1111111111111111,
              "#46039f"
             ],
             [
              0.2222222222222222,
              "#7201a8"
             ],
             [
              0.3333333333333333,
              "#9c179e"
             ],
             [
              0.4444444444444444,
              "#bd3786"
             ],
             [
              0.5555555555555556,
              "#d8576b"
             ],
             [
              0.6666666666666666,
              "#ed7953"
             ],
             [
              0.7777777777777778,
              "#fb9f3a"
             ],
             [
              0.8888888888888888,
              "#fdca26"
             ],
             [
              1,
              "#f0f921"
             ]
            ],
            "type": "contour"
           }
          ],
          "contourcarpet": [
           {
            "colorbar": {
             "outlinewidth": 0,
             "ticks": ""
            },
            "type": "contourcarpet"
           }
          ],
          "heatmap": [
           {
            "colorbar": {
             "outlinewidth": 0,
             "ticks": ""
            },
            "colorscale": [
             [
              0,
              "#0d0887"
             ],
             [
              0.1111111111111111,
              "#46039f"
             ],
             [
              0.2222222222222222,
              "#7201a8"
             ],
             [
              0.3333333333333333,
              "#9c179e"
             ],
             [
              0.4444444444444444,
              "#bd3786"
             ],
             [
              0.5555555555555556,
              "#d8576b"
             ],
             [
              0.6666666666666666,
              "#ed7953"
             ],
             [
              0.7777777777777778,
              "#fb9f3a"
             ],
             [
              0.8888888888888888,
              "#fdca26"
             ],
             [
              1,
              "#f0f921"
             ]
            ],
            "type": "heatmap"
           }
          ],
          "heatmapgl": [
           {
            "colorbar": {
             "outlinewidth": 0,
             "ticks": ""
            },
            "colorscale": [
             [
              0,
              "#0d0887"
             ],
             [
              0.1111111111111111,
              "#46039f"
             ],
             [
              0.2222222222222222,
              "#7201a8"
             ],
             [
              0.3333333333333333,
              "#9c179e"
             ],
             [
              0.4444444444444444,
              "#bd3786"
             ],
             [
              0.5555555555555556,
              "#d8576b"
             ],
             [
              0.6666666666666666,
              "#ed7953"
             ],
             [
              0.7777777777777778,
              "#fb9f3a"
             ],
             [
              0.8888888888888888,
              "#fdca26"
             ],
             [
              1,
              "#f0f921"
             ]
            ],
            "type": "heatmapgl"
           }
          ],
          "histogram": [
           {
            "marker": {
             "pattern": {
              "fillmode": "overlay",
              "size": 10,
              "solidity": 0.2
             }
            },
            "type": "histogram"
           }
          ],
          "histogram2d": [
           {
            "colorbar": {
             "outlinewidth": 0,
             "ticks": ""
            },
            "colorscale": [
             [
              0,
              "#0d0887"
             ],
             [
              0.1111111111111111,
              "#46039f"
             ],
             [
              0.2222222222222222,
              "#7201a8"
             ],
             [
              0.3333333333333333,
              "#9c179e"
             ],
             [
              0.4444444444444444,
              "#bd3786"
             ],
             [
              0.5555555555555556,
              "#d8576b"
             ],
             [
              0.6666666666666666,
              "#ed7953"
             ],
             [
              0.7777777777777778,
              "#fb9f3a"
             ],
             [
              0.8888888888888888,
              "#fdca26"
             ],
             [
              1,
              "#f0f921"
             ]
            ],
            "type": "histogram2d"
           }
          ],
          "histogram2dcontour": [
           {
            "colorbar": {
             "outlinewidth": 0,
             "ticks": ""
            },
            "colorscale": [
             [
              0,
              "#0d0887"
             ],
             [
              0.1111111111111111,
              "#46039f"
             ],
             [
              0.2222222222222222,
              "#7201a8"
             ],
             [
              0.3333333333333333,
              "#9c179e"
             ],
             [
              0.4444444444444444,
              "#bd3786"
             ],
             [
              0.5555555555555556,
              "#d8576b"
             ],
             [
              0.6666666666666666,
              "#ed7953"
             ],
             [
              0.7777777777777778,
              "#fb9f3a"
             ],
             [
              0.8888888888888888,
              "#fdca26"
             ],
             [
              1,
              "#f0f921"
             ]
            ],
            "type": "histogram2dcontour"
           }
          ],
          "mesh3d": [
           {
            "colorbar": {
             "outlinewidth": 0,
             "ticks": ""
            },
            "type": "mesh3d"
           }
          ],
          "parcoords": [
           {
            "line": {
             "colorbar": {
              "outlinewidth": 0,
              "ticks": ""
             }
            },
            "type": "parcoords"
           }
          ],
          "pie": [
           {
            "automargin": true,
            "type": "pie"
           }
          ],
          "scatter": [
           {
            "marker": {
             "colorbar": {
              "outlinewidth": 0,
              "ticks": ""
             }
            },
            "type": "scatter"
           }
          ],
          "scatter3d": [
           {
            "line": {
             "colorbar": {
              "outlinewidth": 0,
              "ticks": ""
             }
            },
            "marker": {
             "colorbar": {
              "outlinewidth": 0,
              "ticks": ""
             }
            },
            "type": "scatter3d"
           }
          ],
          "scattercarpet": [
           {
            "marker": {
             "colorbar": {
              "outlinewidth": 0,
              "ticks": ""
             }
            },
            "type": "scattercarpet"
           }
          ],
          "scattergeo": [
           {
            "marker": {
             "colorbar": {
              "outlinewidth": 0,
              "ticks": ""
             }
            },
            "type": "scattergeo"
           }
          ],
          "scattergl": [
           {
            "marker": {
             "colorbar": {
              "outlinewidth": 0,
              "ticks": ""
             }
            },
            "type": "scattergl"
           }
          ],
          "scattermapbox": [
           {
            "marker": {
             "colorbar": {
              "outlinewidth": 0,
              "ticks": ""
             }
            },
            "type": "scattermapbox"
           }
          ],
          "scatterpolar": [
           {
            "marker": {
             "colorbar": {
              "outlinewidth": 0,
              "ticks": ""
             }
            },
            "type": "scatterpolar"
           }
          ],
          "scatterpolargl": [
           {
            "marker": {
             "colorbar": {
              "outlinewidth": 0,
              "ticks": ""
             }
            },
            "type": "scatterpolargl"
           }
          ],
          "scatterternary": [
           {
            "marker": {
             "colorbar": {
              "outlinewidth": 0,
              "ticks": ""
             }
            },
            "type": "scatterternary"
           }
          ],
          "surface": [
           {
            "colorbar": {
             "outlinewidth": 0,
             "ticks": ""
            },
            "colorscale": [
             [
              0,
              "#0d0887"
             ],
             [
              0.1111111111111111,
              "#46039f"
             ],
             [
              0.2222222222222222,
              "#7201a8"
             ],
             [
              0.3333333333333333,
              "#9c179e"
             ],
             [
              0.4444444444444444,
              "#bd3786"
             ],
             [
              0.5555555555555556,
              "#d8576b"
             ],
             [
              0.6666666666666666,
              "#ed7953"
             ],
             [
              0.7777777777777778,
              "#fb9f3a"
             ],
             [
              0.8888888888888888,
              "#fdca26"
             ],
             [
              1,
              "#f0f921"
             ]
            ],
            "type": "surface"
           }
          ],
          "table": [
           {
            "cells": {
             "fill": {
              "color": "#EBF0F8"
             },
             "line": {
              "color": "white"
             }
            },
            "header": {
             "fill": {
              "color": "#C8D4E3"
             },
             "line": {
              "color": "white"
             }
            },
            "type": "table"
           }
          ]
         },
         "layout": {
          "annotationdefaults": {
           "arrowcolor": "#2a3f5f",
           "arrowhead": 0,
           "arrowwidth": 1
          },
          "autotypenumbers": "strict",
          "coloraxis": {
           "colorbar": {
            "outlinewidth": 0,
            "ticks": ""
           }
          },
          "colorscale": {
           "diverging": [
            [
             0,
             "#8e0152"
            ],
            [
             0.1,
             "#c51b7d"
            ],
            [
             0.2,
             "#de77ae"
            ],
            [
             0.3,
             "#f1b6da"
            ],
            [
             0.4,
             "#fde0ef"
            ],
            [
             0.5,
             "#f7f7f7"
            ],
            [
             0.6,
             "#e6f5d0"
            ],
            [
             0.7,
             "#b8e186"
            ],
            [
             0.8,
             "#7fbc41"
            ],
            [
             0.9,
             "#4d9221"
            ],
            [
             1,
             "#276419"
            ]
           ],
           "sequential": [
            [
             0,
             "#0d0887"
            ],
            [
             0.1111111111111111,
             "#46039f"
            ],
            [
             0.2222222222222222,
             "#7201a8"
            ],
            [
             0.3333333333333333,
             "#9c179e"
            ],
            [
             0.4444444444444444,
             "#bd3786"
            ],
            [
             0.5555555555555556,
             "#d8576b"
            ],
            [
             0.6666666666666666,
             "#ed7953"
            ],
            [
             0.7777777777777778,
             "#fb9f3a"
            ],
            [
             0.8888888888888888,
             "#fdca26"
            ],
            [
             1,
             "#f0f921"
            ]
           ],
           "sequentialminus": [
            [
             0,
             "#0d0887"
            ],
            [
             0.1111111111111111,
             "#46039f"
            ],
            [
             0.2222222222222222,
             "#7201a8"
            ],
            [
             0.3333333333333333,
             "#9c179e"
            ],
            [
             0.4444444444444444,
             "#bd3786"
            ],
            [
             0.5555555555555556,
             "#d8576b"
            ],
            [
             0.6666666666666666,
             "#ed7953"
            ],
            [
             0.7777777777777778,
             "#fb9f3a"
            ],
            [
             0.8888888888888888,
             "#fdca26"
            ],
            [
             1,
             "#f0f921"
            ]
           ]
          },
          "colorway": [
           "#636efa",
           "#EF553B",
           "#00cc96",
           "#ab63fa",
           "#FFA15A",
           "#19d3f3",
           "#FF6692",
           "#B6E880",
           "#FF97FF",
           "#FECB52"
          ],
          "font": {
           "color": "#2a3f5f"
          },
          "geo": {
           "bgcolor": "white",
           "lakecolor": "white",
           "landcolor": "#E5ECF6",
           "showlakes": true,
           "showland": true,
           "subunitcolor": "white"
          },
          "hoverlabel": {
           "align": "left"
          },
          "hovermode": "closest",
          "mapbox": {
           "style": "light"
          },
          "paper_bgcolor": "white",
          "plot_bgcolor": "#E5ECF6",
          "polar": {
           "angularaxis": {
            "gridcolor": "white",
            "linecolor": "white",
            "ticks": ""
           },
           "bgcolor": "#E5ECF6",
           "radialaxis": {
            "gridcolor": "white",
            "linecolor": "white",
            "ticks": ""
           }
          },
          "scene": {
           "xaxis": {
            "backgroundcolor": "#E5ECF6",
            "gridcolor": "white",
            "gridwidth": 2,
            "linecolor": "white",
            "showbackground": true,
            "ticks": "",
            "zerolinecolor": "white"
           },
           "yaxis": {
            "backgroundcolor": "#E5ECF6",
            "gridcolor": "white",
            "gridwidth": 2,
            "linecolor": "white",
            "showbackground": true,
            "ticks": "",
            "zerolinecolor": "white"
           },
           "zaxis": {
            "backgroundcolor": "#E5ECF6",
            "gridcolor": "white",
            "gridwidth": 2,
            "linecolor": "white",
            "showbackground": true,
            "ticks": "",
            "zerolinecolor": "white"
           }
          },
          "shapedefaults": {
           "line": {
            "color": "#2a3f5f"
           }
          },
          "ternary": {
           "aaxis": {
            "gridcolor": "white",
            "linecolor": "white",
            "ticks": ""
           },
           "baxis": {
            "gridcolor": "white",
            "linecolor": "white",
            "ticks": ""
           },
           "bgcolor": "#E5ECF6",
           "caxis": {
            "gridcolor": "white",
            "linecolor": "white",
            "ticks": ""
           }
          },
          "title": {
           "x": 0.05
          },
          "xaxis": {
           "automargin": true,
           "gridcolor": "white",
           "linecolor": "white",
           "ticks": "",
           "title": {
            "standoff": 15
           },
           "zerolinecolor": "white",
           "zerolinewidth": 2
          },
          "yaxis": {
           "automargin": true,
           "gridcolor": "white",
           "linecolor": "white",
           "ticks": "",
           "title": {
            "standoff": 15
           },
           "zerolinecolor": "white",
           "zerolinewidth": 2
          }
         }
        },
        "title": {
         "font": {
          "color": "#4D5663"
         }
        },
        "xaxis": {
         "gridcolor": "#E1E5ED",
         "showgrid": true,
         "tickfont": {
          "color": "#4D5663"
         },
         "title": {
          "font": {
           "color": "#4D5663"
          },
          "text": ""
         },
         "zerolinecolor": "#E1E5ED"
        },
        "yaxis": {
         "gridcolor": "#E1E5ED",
         "showgrid": true,
         "tickfont": {
          "color": "#4D5663"
         },
         "title": {
          "font": {
           "color": "#4D5663"
          },
          "text": ""
         },
         "zerolinecolor": "#E1E5ED"
        }
       }
      },
      "text/html": [
       "<div>                            <div id=\"1f9080ca-3ca1-4cc4-a6ed-85c32807b244\" class=\"plotly-graph-div\" style=\"height:525px; width:100%;\"></div>            <script type=\"text/javascript\">                require([\"plotly\"], function(Plotly) {                    window.PLOTLYENV=window.PLOTLYENV || {};\n",
       "                    window.PLOTLYENV.BASE_URL='https://plot.ly';                                    if (document.getElementById(\"1f9080ca-3ca1-4cc4-a6ed-85c32807b244\")) {                    Plotly.newPlot(                        \"1f9080ca-3ca1-4cc4-a6ed-85c32807b244\",                        [{\"boxpoints\":false,\"line\":{\"width\":1.3},\"marker\":{\"color\":\"rgba(255, 153, 51, 1.0)\"},\"name\":\"A\",\"orientation\":\"v\",\"y\":[1.2750462071228998,1.0564406009906422,-1.2570863513881179,0.1386992449738513,-0.4006631753099272,0.772494714001685,0.3466280655061471,-0.20734882385960135,-1.1605599469356516,1.5335837092173008,0.8701647512889786,0.19959773422082286,-0.7713696453049101,0.8670858884620127,0.7527057455344794,0.2406881376064278,-1.4246729911918348,-1.366338353479444,-2.510532872604319,-0.44076325408168865,-0.2720890733894303,0.1923950171572903,0.17528984033996958,-0.05627900857472087,-0.09464981393955554,0.1109203403862901,0.3506712561808483,0.11860998679044508,0.27273654934561664,0.5451708797402759,-1.3239800797756898,0.7176173593819158,0.6390897967980106,0.6298020357295875,0.9055103909277578,-0.5904176841467053,-0.38213674321117597,-0.9321460998531019,-2.0527241542088164,-0.1355015868759311,-0.15560692657213374,-1.3234419856299242,0.004612749239376862,-0.3533749773258972,-1.2778073755305988,-1.7334811504670158,1.5287980300400834,-1.0900212287039468,1.3066976573006288,0.6829609453885492,-0.024493571992407752,-1.6644241198636218,-1.3552223151228506,-0.7758460191490981,0.52074640219068,-0.5953760210764978,0.696233766527075,-0.714162783949475,0.3429087064661106,0.12880671947928052,0.1253412689647578,-1.5512006665577716,1.4696417176119942,-1.7740325324274242,2.105809697884221,1.9167099561167036,0.7480215913254173,0.7625036829256576,-1.086117863919513,0.4781593150768092,0.7240428405447898,-0.503627557293303,-1.221663772912323,-0.20754934209619638,-1.3419782859135356,0.216215597439171,1.0145615004449249,-1.0220756896864085,0.49363860464637543,-0.01599908409568637,-1.1470627595685077,-1.023726974752981,0.6660548760380969,-0.1311469267172626,1.1191657681276326,-1.5810786212139951,0.8160942888787959,0.06088517630432691,-1.2352546602277445,-0.2717692097212096,-1.0431055662718702,0.13134247407032018,-0.7790614189607978,0.5434045328072897,-1.1755407507532878,0.008915452173938613,0.16280786785568127,-0.6573273421596642,-0.274646533946732,-0.655594361876358],\"type\":\"box\"},{\"boxpoints\":false,\"line\":{\"width\":1.3},\"marker\":{\"color\":\"rgba(55, 128, 191, 1.0)\"},\"name\":\"B\",\"orientation\":\"v\",\"y\":[-0.8340773682113504,0.49123188788963057,-1.9000715568691215,-0.6876295998356547,-0.8538273111014857,1.5511189563186973,1.7916810535863585,-1.2384131342672389,-0.11282532877192572,0.35044387501754315,-0.3725563064013367,-0.5978080296220267,-0.7459415602962436,-0.8062931680433271,-0.41309712402120896,-0.7677684801488446,-1.6237362987866557,-1.3867124997696776,-0.03384343479363602,0.312953792426409,0.43354850664087274,0.11571251414975957,0.7356381212190469,-0.8182781601100041,0.7278710012373059,0.27080432822538103,-0.45224220610112037,1.3889328686699598,0.35415339359074693,1.321491480875497,0.5604879797874698,-2.1780949287932843,0.6772032297272086,0.5068100984347181,0.05294343849021371,0.6762701198557137,-0.41125546955848485,0.9490592885359114,0.9579881061090255,-0.08746731970232335,0.1753148386032337,0.35330636557589246,0.6092976837114229,-0.9897685548060738,1.0082812941583785,-0.07112634100972726,0.7534094755071289,-1.2236591466919062,-0.44741573370710913,-1.056571932317002,-0.6351166490247284,-0.1152534608551299,-0.2753704370824422,-0.03361895378725087,-1.032713772532709,1.2604190210644386,1.6305359116844174,0.28304773071397693,0.46460766770949186,0.9430557112402934,0.8807024197847123,-0.7315449933931041,-0.4801700510822656,0.12234105041850767,-0.8904252461076889,-0.8682230097651995,0.8089776470552416,-0.442143722727833,1.0062933868477435,0.9789586586064842,-0.25604556494295583,-0.8081304318643974,0.32241893796007687,2.9455052125197785,1.0189696497125427,0.24788985930538732,1.136303601810519,-1.3946078662938228,-1.2292418224455168,-1.9150740479746733,-1.0297445925889328,0.8098970537565258,-1.569253924464807,-0.9896971663270222,-0.7057472240000185,0.2204458262981922,0.3173361097439095,-0.5153534162955274,-0.26708392326561814,0.7759496323233144,0.3730259777582601,1.575662623566695,1.1570045050500222,-0.06068007372528039,-1.2513600529835396,0.03669689340334888,0.18579450181477772,-0.16287815628323127,2.0901663180753256,0.9071005520448465],\"type\":\"box\"},{\"boxpoints\":false,\"line\":{\"width\":1.3},\"marker\":{\"color\":\"rgba(50, 171, 96, 1.0)\"},\"name\":\"C\",\"orientation\":\"v\",\"y\":[-0.6065814803506674,-0.0056614743668575,0.47377835760278325,-0.7669808349710616,-0.2984610713736877,-0.7862462591685704,-0.30334996180518786,-2.2561605961038214,1.2104400421793433,0.76132924025126,-2.0764830248963246,-0.3743193722489287,1.3140509336583903,0.8060959354304592,0.8496481858416668,0.3206407546556311,0.7367664103551135,0.10443061661045361,0.03436876868568491,-0.531729950865737,-0.7085974374677646,0.693003807983039,1.6068787266164335,-0.2670568329018913,0.015847628858779165,0.020782059028557603,-0.5196020397478259,-2.1742877376534273,0.2084446674567804,-1.5708351936202887,-1.7303559559458355,-1.14938646406794,0.1412535112325003,0.6739769900674427,0.3341737804458171,-1.544805374766241,1.2630156214631156,1.2993468829704875,0.03943253408824827,-0.6505943976451811,-1.287916846718534,2.6158904742734688,-0.18921140358629004,-0.5088698523799714,0.1583463740320508,0.4034115874377453,0.41730333864937813,0.8443400209241257,-0.8439226873024922,-0.3618591602469053,1.062480966237185,-0.8354902780261675,0.0283856858965905,0.2926742659843175,-1.5072017584217483,0.6701435665882296,0.0918263976356448,0.9848450798155605,0.7126911055257629,0.4209453778492396,-0.6506812038781848,0.6443815364407258,0.11840826658302832,-1.2108032671929079,0.5089945953821506,0.7241253901689519,-0.5367383294366789,0.5947892296709306,-0.48633893865960975,-1.2244062958933806,-1.4408223353729626,0.11646891188842408,0.5058898513373067,-0.9191398133237972,-0.8794916959798096,0.9674124240361822,-0.18460515585573317,0.33866818045005764,-0.3982677523303214,1.1542108469227073,-0.19287897590887343,-0.39691886444408303,1.4587946690503084,0.5030537584716932,0.2834070821409793,1.6602762267945903,-1.6394032252387876,0.3561371864556083,0.5071869990319724,-0.39137338520180515,-1.5625516437520808,1.3424849679480697,-0.798114317162278,-0.5861139711310693,-1.908134652905644,-1.7994024342247412,1.1709653111241818,1.613274553242905,-1.1639037835712955,1.3655742980033005],\"type\":\"box\"},{\"boxpoints\":false,\"line\":{\"width\":1.3},\"marker\":{\"color\":\"rgba(128, 0, 128, 1.0)\"},\"name\":\"D\",\"orientation\":\"v\",\"y\":[0.7139456893048736,1.2182943932514776,-0.022442070790911903,0.29419838907850454,-0.7473982962608382,0.05967193022364727,-1.7581521899961248,2.965034050553671,-0.9716107300425278,-0.10089240576146587,-0.15106025887742477,-0.4843170130123628,0.3220996841547047,-1.332683235916878,-0.561749623803411,0.7783577730763781,-1.0173613113395228,1.4834643870057453,0.5748771426725922,-0.9779032746034094,-1.4773574832741476,1.0746333271797746,1.2070096569013267,-0.35917797105680904,-1.9147305767939333,2.153653228396418,-2.4303885700047854,0.22157959824077164,0.14874563289253137,-1.279771382703922,-0.1521422200622724,1.650037956934773,0.6537104615024295,0.808006760868366,0.13620214175340242,-0.5250470673318475,-0.9880632900100209,1.1180418390662974,-0.22588739170453126,0.28882691039611624,-0.09936686952194648,1.5404142967535457,-1.4001626432695027,-1.3704970552909894,2.2077130901998356,1.116380542662232,-0.4091874611428839,-1.3686904120878665,1.6049816912046597,-0.30703464236377814,-0.5473658982832879,-0.48495979693113145,-0.45033413790447435,0.39922580894613374,0.6047897126936678,-0.8752680433632427,-0.8986365730692438,0.3770440281928797,-1.0420907677722961,-2.2166606762468213,0.41928713539586043,0.7095391770600183,0.5539361345485381,1.8180138617574744,0.020695705953035895,0.6488166069066083,-1.6740646712918874,-1.6236243921041227,1.554106555602854,-0.7419395714313424,-0.15606868120679696,0.709525225488563,-2.060491897944797,-0.04380727568900047,-0.5049371502654176,-1.0450616759167384,0.9509678695829852,1.037888791409695,1.056487613896072,-1.019634938809895,0.21168484870149137,0.22680691036470607,-0.6228332865229037,0.6178469540817563,-0.3438026326951937,-0.8126119160493471,0.5994110507451171,0.6845268659740725,-0.7089044464688247,-1.3941795843099998,-0.4748919927526555,1.2931818578279248,1.155046396747897,0.054391243974638605,0.11105012255970526,2.5610353634730023,0.7022441176694517,0.4563972984648552,0.382547875976814,-0.9960163190933181],\"type\":\"box\"}],                        {\"legend\":{\"bgcolor\":\"#F5F6F9\",\"font\":{\"color\":\"#4D5663\"}},\"paper_bgcolor\":\"#F5F6F9\",\"plot_bgcolor\":\"#F5F6F9\",\"template\":{\"data\":{\"barpolar\":[{\"marker\":{\"line\":{\"color\":\"#E5ECF6\",\"width\":0.5},\"pattern\":{\"fillmode\":\"overlay\",\"size\":10,\"solidity\":0.2}},\"type\":\"barpolar\"}],\"bar\":[{\"error_x\":{\"color\":\"#2a3f5f\"},\"error_y\":{\"color\":\"#2a3f5f\"},\"marker\":{\"line\":{\"color\":\"#E5ECF6\",\"width\":0.5},\"pattern\":{\"fillmode\":\"overlay\",\"size\":10,\"solidity\":0.2}},\"type\":\"bar\"}],\"carpet\":[{\"aaxis\":{\"endlinecolor\":\"#2a3f5f\",\"gridcolor\":\"white\",\"linecolor\":\"white\",\"minorgridcolor\":\"white\",\"startlinecolor\":\"#2a3f5f\"},\"baxis\":{\"endlinecolor\":\"#2a3f5f\",\"gridcolor\":\"white\",\"linecolor\":\"white\",\"minorgridcolor\":\"white\",\"startlinecolor\":\"#2a3f5f\"},\"type\":\"carpet\"}],\"choropleth\":[{\"colorbar\":{\"outlinewidth\":0,\"ticks\":\"\"},\"type\":\"choropleth\"}],\"contourcarpet\":[{\"colorbar\":{\"outlinewidth\":0,\"ticks\":\"\"},\"type\":\"contourcarpet\"}],\"contour\":[{\"colorbar\":{\"outlinewidth\":0,\"ticks\":\"\"},\"colorscale\":[[0.0,\"#0d0887\"],[0.1111111111111111,\"#46039f\"],[0.2222222222222222,\"#7201a8\"],[0.3333333333333333,\"#9c179e\"],[0.4444444444444444,\"#bd3786\"],[0.5555555555555556,\"#d8576b\"],[0.6666666666666666,\"#ed7953\"],[0.7777777777777778,\"#fb9f3a\"],[0.8888888888888888,\"#fdca26\"],[1.0,\"#f0f921\"]],\"type\":\"contour\"}],\"heatmapgl\":[{\"colorbar\":{\"outlinewidth\":0,\"ticks\":\"\"},\"colorscale\":[[0.0,\"#0d0887\"],[0.1111111111111111,\"#46039f\"],[0.2222222222222222,\"#7201a8\"],[0.3333333333333333,\"#9c179e\"],[0.4444444444444444,\"#bd3786\"],[0.5555555555555556,\"#d8576b\"],[0.6666666666666666,\"#ed7953\"],[0.7777777777777778,\"#fb9f3a\"],[0.8888888888888888,\"#fdca26\"],[1.0,\"#f0f921\"]],\"type\":\"heatmapgl\"}],\"heatmap\":[{\"colorbar\":{\"outlinewidth\":0,\"ticks\":\"\"},\"colorscale\":[[0.0,\"#0d0887\"],[0.1111111111111111,\"#46039f\"],[0.2222222222222222,\"#7201a8\"],[0.3333333333333333,\"#9c179e\"],[0.4444444444444444,\"#bd3786\"],[0.5555555555555556,\"#d8576b\"],[0.6666666666666666,\"#ed7953\"],[0.7777777777777778,\"#fb9f3a\"],[0.8888888888888888,\"#fdca26\"],[1.0,\"#f0f921\"]],\"type\":\"heatmap\"}],\"histogram2dcontour\":[{\"colorbar\":{\"outlinewidth\":0,\"ticks\":\"\"},\"colorscale\":[[0.0,\"#0d0887\"],[0.1111111111111111,\"#46039f\"],[0.2222222222222222,\"#7201a8\"],[0.3333333333333333,\"#9c179e\"],[0.4444444444444444,\"#bd3786\"],[0.5555555555555556,\"#d8576b\"],[0.6666666666666666,\"#ed7953\"],[0.7777777777777778,\"#fb9f3a\"],[0.8888888888888888,\"#fdca26\"],[1.0,\"#f0f921\"]],\"type\":\"histogram2dcontour\"}],\"histogram2d\":[{\"colorbar\":{\"outlinewidth\":0,\"ticks\":\"\"},\"colorscale\":[[0.0,\"#0d0887\"],[0.1111111111111111,\"#46039f\"],[0.2222222222222222,\"#7201a8\"],[0.3333333333333333,\"#9c179e\"],[0.4444444444444444,\"#bd3786\"],[0.5555555555555556,\"#d8576b\"],[0.6666666666666666,\"#ed7953\"],[0.7777777777777778,\"#fb9f3a\"],[0.8888888888888888,\"#fdca26\"],[1.0,\"#f0f921\"]],\"type\":\"histogram2d\"}],\"histogram\":[{\"marker\":{\"pattern\":{\"fillmode\":\"overlay\",\"size\":10,\"solidity\":0.2}},\"type\":\"histogram\"}],\"mesh3d\":[{\"colorbar\":{\"outlinewidth\":0,\"ticks\":\"\"},\"type\":\"mesh3d\"}],\"parcoords\":[{\"line\":{\"colorbar\":{\"outlinewidth\":0,\"ticks\":\"\"}},\"type\":\"parcoords\"}],\"pie\":[{\"automargin\":true,\"type\":\"pie\"}],\"scatter3d\":[{\"line\":{\"colorbar\":{\"outlinewidth\":0,\"ticks\":\"\"}},\"marker\":{\"colorbar\":{\"outlinewidth\":0,\"ticks\":\"\"}},\"type\":\"scatter3d\"}],\"scattercarpet\":[{\"marker\":{\"colorbar\":{\"outlinewidth\":0,\"ticks\":\"\"}},\"type\":\"scattercarpet\"}],\"scattergeo\":[{\"marker\":{\"colorbar\":{\"outlinewidth\":0,\"ticks\":\"\"}},\"type\":\"scattergeo\"}],\"scattergl\":[{\"marker\":{\"colorbar\":{\"outlinewidth\":0,\"ticks\":\"\"}},\"type\":\"scattergl\"}],\"scattermapbox\":[{\"marker\":{\"colorbar\":{\"outlinewidth\":0,\"ticks\":\"\"}},\"type\":\"scattermapbox\"}],\"scatterpolargl\":[{\"marker\":{\"colorbar\":{\"outlinewidth\":0,\"ticks\":\"\"}},\"type\":\"scatterpolargl\"}],\"scatterpolar\":[{\"marker\":{\"colorbar\":{\"outlinewidth\":0,\"ticks\":\"\"}},\"type\":\"scatterpolar\"}],\"scatter\":[{\"marker\":{\"colorbar\":{\"outlinewidth\":0,\"ticks\":\"\"}},\"type\":\"scatter\"}],\"scatterternary\":[{\"marker\":{\"colorbar\":{\"outlinewidth\":0,\"ticks\":\"\"}},\"type\":\"scatterternary\"}],\"surface\":[{\"colorbar\":{\"outlinewidth\":0,\"ticks\":\"\"},\"colorscale\":[[0.0,\"#0d0887\"],[0.1111111111111111,\"#46039f\"],[0.2222222222222222,\"#7201a8\"],[0.3333333333333333,\"#9c179e\"],[0.4444444444444444,\"#bd3786\"],[0.5555555555555556,\"#d8576b\"],[0.6666666666666666,\"#ed7953\"],[0.7777777777777778,\"#fb9f3a\"],[0.8888888888888888,\"#fdca26\"],[1.0,\"#f0f921\"]],\"type\":\"surface\"}],\"table\":[{\"cells\":{\"fill\":{\"color\":\"#EBF0F8\"},\"line\":{\"color\":\"white\"}},\"header\":{\"fill\":{\"color\":\"#C8D4E3\"},\"line\":{\"color\":\"white\"}},\"type\":\"table\"}]},\"layout\":{\"annotationdefaults\":{\"arrowcolor\":\"#2a3f5f\",\"arrowhead\":0,\"arrowwidth\":1},\"autotypenumbers\":\"strict\",\"coloraxis\":{\"colorbar\":{\"outlinewidth\":0,\"ticks\":\"\"}},\"colorscale\":{\"diverging\":[[0,\"#8e0152\"],[0.1,\"#c51b7d\"],[0.2,\"#de77ae\"],[0.3,\"#f1b6da\"],[0.4,\"#fde0ef\"],[0.5,\"#f7f7f7\"],[0.6,\"#e6f5d0\"],[0.7,\"#b8e186\"],[0.8,\"#7fbc41\"],[0.9,\"#4d9221\"],[1,\"#276419\"]],\"sequential\":[[0.0,\"#0d0887\"],[0.1111111111111111,\"#46039f\"],[0.2222222222222222,\"#7201a8\"],[0.3333333333333333,\"#9c179e\"],[0.4444444444444444,\"#bd3786\"],[0.5555555555555556,\"#d8576b\"],[0.6666666666666666,\"#ed7953\"],[0.7777777777777778,\"#fb9f3a\"],[0.8888888888888888,\"#fdca26\"],[1.0,\"#f0f921\"]],\"sequentialminus\":[[0.0,\"#0d0887\"],[0.1111111111111111,\"#46039f\"],[0.2222222222222222,\"#7201a8\"],[0.3333333333333333,\"#9c179e\"],[0.4444444444444444,\"#bd3786\"],[0.5555555555555556,\"#d8576b\"],[0.6666666666666666,\"#ed7953\"],[0.7777777777777778,\"#fb9f3a\"],[0.8888888888888888,\"#fdca26\"],[1.0,\"#f0f921\"]]},\"colorway\":[\"#636efa\",\"#EF553B\",\"#00cc96\",\"#ab63fa\",\"#FFA15A\",\"#19d3f3\",\"#FF6692\",\"#B6E880\",\"#FF97FF\",\"#FECB52\"],\"font\":{\"color\":\"#2a3f5f\"},\"geo\":{\"bgcolor\":\"white\",\"lakecolor\":\"white\",\"landcolor\":\"#E5ECF6\",\"showlakes\":true,\"showland\":true,\"subunitcolor\":\"white\"},\"hoverlabel\":{\"align\":\"left\"},\"hovermode\":\"closest\",\"mapbox\":{\"style\":\"light\"},\"paper_bgcolor\":\"white\",\"plot_bgcolor\":\"#E5ECF6\",\"polar\":{\"angularaxis\":{\"gridcolor\":\"white\",\"linecolor\":\"white\",\"ticks\":\"\"},\"bgcolor\":\"#E5ECF6\",\"radialaxis\":{\"gridcolor\":\"white\",\"linecolor\":\"white\",\"ticks\":\"\"}},\"scene\":{\"xaxis\":{\"backgroundcolor\":\"#E5ECF6\",\"gridcolor\":\"white\",\"gridwidth\":2,\"linecolor\":\"white\",\"showbackground\":true,\"ticks\":\"\",\"zerolinecolor\":\"white\"},\"yaxis\":{\"backgroundcolor\":\"#E5ECF6\",\"gridcolor\":\"white\",\"gridwidth\":2,\"linecolor\":\"white\",\"showbackground\":true,\"ticks\":\"\",\"zerolinecolor\":\"white\"},\"zaxis\":{\"backgroundcolor\":\"#E5ECF6\",\"gridcolor\":\"white\",\"gridwidth\":2,\"linecolor\":\"white\",\"showbackground\":true,\"ticks\":\"\",\"zerolinecolor\":\"white\"}},\"shapedefaults\":{\"line\":{\"color\":\"#2a3f5f\"}},\"ternary\":{\"aaxis\":{\"gridcolor\":\"white\",\"linecolor\":\"white\",\"ticks\":\"\"},\"baxis\":{\"gridcolor\":\"white\",\"linecolor\":\"white\",\"ticks\":\"\"},\"bgcolor\":\"#E5ECF6\",\"caxis\":{\"gridcolor\":\"white\",\"linecolor\":\"white\",\"ticks\":\"\"}},\"title\":{\"x\":0.05},\"xaxis\":{\"automargin\":true,\"gridcolor\":\"white\",\"linecolor\":\"white\",\"ticks\":\"\",\"title\":{\"standoff\":15},\"zerolinecolor\":\"white\",\"zerolinewidth\":2},\"yaxis\":{\"automargin\":true,\"gridcolor\":\"white\",\"linecolor\":\"white\",\"ticks\":\"\",\"title\":{\"standoff\":15},\"zerolinecolor\":\"white\",\"zerolinewidth\":2}}},\"title\":{\"font\":{\"color\":\"#4D5663\"}},\"xaxis\":{\"gridcolor\":\"#E1E5ED\",\"showgrid\":true,\"tickfont\":{\"color\":\"#4D5663\"},\"title\":{\"font\":{\"color\":\"#4D5663\"},\"text\":\"\"},\"zerolinecolor\":\"#E1E5ED\"},\"yaxis\":{\"gridcolor\":\"#E1E5ED\",\"showgrid\":true,\"tickfont\":{\"color\":\"#4D5663\"},\"title\":{\"font\":{\"color\":\"#4D5663\"},\"text\":\"\"},\"zerolinecolor\":\"#E1E5ED\"}},                        {\"showLink\": true, \"linkText\": \"Export to plot.ly\", \"plotlyServerURL\": \"https://plot.ly\", \"responsive\": true}                    ).then(function(){\n",
       "                            \n",
       "var gd = document.getElementById('1f9080ca-3ca1-4cc4-a6ed-85c32807b244');\n",
       "var x = new MutationObserver(function (mutations, observer) {{\n",
       "        var display = window.getComputedStyle(gd).display;\n",
       "        if (!display || display === 'none') {{\n",
       "            console.log([gd, 'removed!']);\n",
       "            Plotly.purge(gd);\n",
       "            observer.disconnect();\n",
       "        }}\n",
       "}});\n",
       "\n",
       "// Listen for the removal of the full notebook cells\n",
       "var notebookContainer = gd.closest('#notebook-container');\n",
       "if (notebookContainer) {{\n",
       "    x.observe(notebookContainer, {childList: true});\n",
       "}}\n",
       "\n",
       "// Listen for the clearing of the current output cell\n",
       "var outputEl = gd.closest('.output');\n",
       "if (outputEl) {{\n",
       "    x.observe(outputEl, {childList: true});\n",
       "}}\n",
       "\n",
       "                        })                };                });            </script>        </div>"
      ]
     },
     "metadata": {},
     "output_type": "display_data"
    }
   ],
   "source": [
    "df.iplot(kind='box')"
   ]
  },
  {
   "cell_type": "markdown",
   "metadata": {},
   "source": [
    "## 3d Surface"
   ]
  },
  {
   "cell_type": "code",
   "execution_count": 14,
   "metadata": {
    "collapsed": false
   },
   "outputs": [
    {
     "data": {
      "application/vnd.plotly.v1+json": {
       "config": {
        "linkText": "Export to plot.ly",
        "plotlyServerURL": "https://plot.ly",
        "showLink": true
       },
       "data": [
        {
         "colorscale": [
          [
           0,
           "rgb(165,0,38)"
          ],
          [
           0.1,
           "rgb(215,48,39)"
          ],
          [
           0.2,
           "rgb(244,109,67)"
          ],
          [
           0.3,
           "rgb(253,174,97)"
          ],
          [
           0.4,
           "rgb(254,224,144)"
          ],
          [
           0.5,
           "rgb(255,255,191)"
          ],
          [
           0.6,
           "rgb(224,243,248)"
          ],
          [
           0.7,
           "rgb(171,217,233)"
          ],
          [
           0.8,
           "rgb(116,173,209)"
          ],
          [
           0.9,
           "rgb(69,117,180)"
          ],
          [
           1,
           "rgb(49,54,149)"
          ]
         ],
         "type": "surface",
         "x": [
          0,
          1,
          2,
          3,
          4
         ],
         "y": [
          "x",
          "y",
          "z"
         ],
         "z": [
          [
           1,
           2,
           3,
           4,
           5
          ],
          [
           10,
           20,
           30,
           20,
           10
          ],
          [
           5,
           4,
           3,
           2,
           1
          ]
         ]
        }
       ],
       "layout": {
        "legend": {
         "bgcolor": "#F5F6F9",
         "font": {
          "color": "#4D5663"
         }
        },
        "paper_bgcolor": "#F5F6F9",
        "plot_bgcolor": "#F5F6F9",
        "template": {
         "data": {
          "bar": [
           {
            "error_x": {
             "color": "#2a3f5f"
            },
            "error_y": {
             "color": "#2a3f5f"
            },
            "marker": {
             "line": {
              "color": "#E5ECF6",
              "width": 0.5
             },
             "pattern": {
              "fillmode": "overlay",
              "size": 10,
              "solidity": 0.2
             }
            },
            "type": "bar"
           }
          ],
          "barpolar": [
           {
            "marker": {
             "line": {
              "color": "#E5ECF6",
              "width": 0.5
             },
             "pattern": {
              "fillmode": "overlay",
              "size": 10,
              "solidity": 0.2
             }
            },
            "type": "barpolar"
           }
          ],
          "carpet": [
           {
            "aaxis": {
             "endlinecolor": "#2a3f5f",
             "gridcolor": "white",
             "linecolor": "white",
             "minorgridcolor": "white",
             "startlinecolor": "#2a3f5f"
            },
            "baxis": {
             "endlinecolor": "#2a3f5f",
             "gridcolor": "white",
             "linecolor": "white",
             "minorgridcolor": "white",
             "startlinecolor": "#2a3f5f"
            },
            "type": "carpet"
           }
          ],
          "choropleth": [
           {
            "colorbar": {
             "outlinewidth": 0,
             "ticks": ""
            },
            "type": "choropleth"
           }
          ],
          "contour": [
           {
            "colorbar": {
             "outlinewidth": 0,
             "ticks": ""
            },
            "colorscale": [
             [
              0,
              "#0d0887"
             ],
             [
              0.1111111111111111,
              "#46039f"
             ],
             [
              0.2222222222222222,
              "#7201a8"
             ],
             [
              0.3333333333333333,
              "#9c179e"
             ],
             [
              0.4444444444444444,
              "#bd3786"
             ],
             [
              0.5555555555555556,
              "#d8576b"
             ],
             [
              0.6666666666666666,
              "#ed7953"
             ],
             [
              0.7777777777777778,
              "#fb9f3a"
             ],
             [
              0.8888888888888888,
              "#fdca26"
             ],
             [
              1,
              "#f0f921"
             ]
            ],
            "type": "contour"
           }
          ],
          "contourcarpet": [
           {
            "colorbar": {
             "outlinewidth": 0,
             "ticks": ""
            },
            "type": "contourcarpet"
           }
          ],
          "heatmap": [
           {
            "colorbar": {
             "outlinewidth": 0,
             "ticks": ""
            },
            "colorscale": [
             [
              0,
              "#0d0887"
             ],
             [
              0.1111111111111111,
              "#46039f"
             ],
             [
              0.2222222222222222,
              "#7201a8"
             ],
             [
              0.3333333333333333,
              "#9c179e"
             ],
             [
              0.4444444444444444,
              "#bd3786"
             ],
             [
              0.5555555555555556,
              "#d8576b"
             ],
             [
              0.6666666666666666,
              "#ed7953"
             ],
             [
              0.7777777777777778,
              "#fb9f3a"
             ],
             [
              0.8888888888888888,
              "#fdca26"
             ],
             [
              1,
              "#f0f921"
             ]
            ],
            "type": "heatmap"
           }
          ],
          "heatmapgl": [
           {
            "colorbar": {
             "outlinewidth": 0,
             "ticks": ""
            },
            "colorscale": [
             [
              0,
              "#0d0887"
             ],
             [
              0.1111111111111111,
              "#46039f"
             ],
             [
              0.2222222222222222,
              "#7201a8"
             ],
             [
              0.3333333333333333,
              "#9c179e"
             ],
             [
              0.4444444444444444,
              "#bd3786"
             ],
             [
              0.5555555555555556,
              "#d8576b"
             ],
             [
              0.6666666666666666,
              "#ed7953"
             ],
             [
              0.7777777777777778,
              "#fb9f3a"
             ],
             [
              0.8888888888888888,
              "#fdca26"
             ],
             [
              1,
              "#f0f921"
             ]
            ],
            "type": "heatmapgl"
           }
          ],
          "histogram": [
           {
            "marker": {
             "pattern": {
              "fillmode": "overlay",
              "size": 10,
              "solidity": 0.2
             }
            },
            "type": "histogram"
           }
          ],
          "histogram2d": [
           {
            "colorbar": {
             "outlinewidth": 0,
             "ticks": ""
            },
            "colorscale": [
             [
              0,
              "#0d0887"
             ],
             [
              0.1111111111111111,
              "#46039f"
             ],
             [
              0.2222222222222222,
              "#7201a8"
             ],
             [
              0.3333333333333333,
              "#9c179e"
             ],
             [
              0.4444444444444444,
              "#bd3786"
             ],
             [
              0.5555555555555556,
              "#d8576b"
             ],
             [
              0.6666666666666666,
              "#ed7953"
             ],
             [
              0.7777777777777778,
              "#fb9f3a"
             ],
             [
              0.8888888888888888,
              "#fdca26"
             ],
             [
              1,
              "#f0f921"
             ]
            ],
            "type": "histogram2d"
           }
          ],
          "histogram2dcontour": [
           {
            "colorbar": {
             "outlinewidth": 0,
             "ticks": ""
            },
            "colorscale": [
             [
              0,
              "#0d0887"
             ],
             [
              0.1111111111111111,
              "#46039f"
             ],
             [
              0.2222222222222222,
              "#7201a8"
             ],
             [
              0.3333333333333333,
              "#9c179e"
             ],
             [
              0.4444444444444444,
              "#bd3786"
             ],
             [
              0.5555555555555556,
              "#d8576b"
             ],
             [
              0.6666666666666666,
              "#ed7953"
             ],
             [
              0.7777777777777778,
              "#fb9f3a"
             ],
             [
              0.8888888888888888,
              "#fdca26"
             ],
             [
              1,
              "#f0f921"
             ]
            ],
            "type": "histogram2dcontour"
           }
          ],
          "mesh3d": [
           {
            "colorbar": {
             "outlinewidth": 0,
             "ticks": ""
            },
            "type": "mesh3d"
           }
          ],
          "parcoords": [
           {
            "line": {
             "colorbar": {
              "outlinewidth": 0,
              "ticks": ""
             }
            },
            "type": "parcoords"
           }
          ],
          "pie": [
           {
            "automargin": true,
            "type": "pie"
           }
          ],
          "scatter": [
           {
            "marker": {
             "colorbar": {
              "outlinewidth": 0,
              "ticks": ""
             }
            },
            "type": "scatter"
           }
          ],
          "scatter3d": [
           {
            "line": {
             "colorbar": {
              "outlinewidth": 0,
              "ticks": ""
             }
            },
            "marker": {
             "colorbar": {
              "outlinewidth": 0,
              "ticks": ""
             }
            },
            "type": "scatter3d"
           }
          ],
          "scattercarpet": [
           {
            "marker": {
             "colorbar": {
              "outlinewidth": 0,
              "ticks": ""
             }
            },
            "type": "scattercarpet"
           }
          ],
          "scattergeo": [
           {
            "marker": {
             "colorbar": {
              "outlinewidth": 0,
              "ticks": ""
             }
            },
            "type": "scattergeo"
           }
          ],
          "scattergl": [
           {
            "marker": {
             "colorbar": {
              "outlinewidth": 0,
              "ticks": ""
             }
            },
            "type": "scattergl"
           }
          ],
          "scattermapbox": [
           {
            "marker": {
             "colorbar": {
              "outlinewidth": 0,
              "ticks": ""
             }
            },
            "type": "scattermapbox"
           }
          ],
          "scatterpolar": [
           {
            "marker": {
             "colorbar": {
              "outlinewidth": 0,
              "ticks": ""
             }
            },
            "type": "scatterpolar"
           }
          ],
          "scatterpolargl": [
           {
            "marker": {
             "colorbar": {
              "outlinewidth": 0,
              "ticks": ""
             }
            },
            "type": "scatterpolargl"
           }
          ],
          "scatterternary": [
           {
            "marker": {
             "colorbar": {
              "outlinewidth": 0,
              "ticks": ""
             }
            },
            "type": "scatterternary"
           }
          ],
          "surface": [
           {
            "colorbar": {
             "outlinewidth": 0,
             "ticks": ""
            },
            "colorscale": [
             [
              0,
              "#0d0887"
             ],
             [
              0.1111111111111111,
              "#46039f"
             ],
             [
              0.2222222222222222,
              "#7201a8"
             ],
             [
              0.3333333333333333,
              "#9c179e"
             ],
             [
              0.4444444444444444,
              "#bd3786"
             ],
             [
              0.5555555555555556,
              "#d8576b"
             ],
             [
              0.6666666666666666,
              "#ed7953"
             ],
             [
              0.7777777777777778,
              "#fb9f3a"
             ],
             [
              0.8888888888888888,
              "#fdca26"
             ],
             [
              1,
              "#f0f921"
             ]
            ],
            "type": "surface"
           }
          ],
          "table": [
           {
            "cells": {
             "fill": {
              "color": "#EBF0F8"
             },
             "line": {
              "color": "white"
             }
            },
            "header": {
             "fill": {
              "color": "#C8D4E3"
             },
             "line": {
              "color": "white"
             }
            },
            "type": "table"
           }
          ]
         },
         "layout": {
          "annotationdefaults": {
           "arrowcolor": "#2a3f5f",
           "arrowhead": 0,
           "arrowwidth": 1
          },
          "autotypenumbers": "strict",
          "coloraxis": {
           "colorbar": {
            "outlinewidth": 0,
            "ticks": ""
           }
          },
          "colorscale": {
           "diverging": [
            [
             0,
             "#8e0152"
            ],
            [
             0.1,
             "#c51b7d"
            ],
            [
             0.2,
             "#de77ae"
            ],
            [
             0.3,
             "#f1b6da"
            ],
            [
             0.4,
             "#fde0ef"
            ],
            [
             0.5,
             "#f7f7f7"
            ],
            [
             0.6,
             "#e6f5d0"
            ],
            [
             0.7,
             "#b8e186"
            ],
            [
             0.8,
             "#7fbc41"
            ],
            [
             0.9,
             "#4d9221"
            ],
            [
             1,
             "#276419"
            ]
           ],
           "sequential": [
            [
             0,
             "#0d0887"
            ],
            [
             0.1111111111111111,
             "#46039f"
            ],
            [
             0.2222222222222222,
             "#7201a8"
            ],
            [
             0.3333333333333333,
             "#9c179e"
            ],
            [
             0.4444444444444444,
             "#bd3786"
            ],
            [
             0.5555555555555556,
             "#d8576b"
            ],
            [
             0.6666666666666666,
             "#ed7953"
            ],
            [
             0.7777777777777778,
             "#fb9f3a"
            ],
            [
             0.8888888888888888,
             "#fdca26"
            ],
            [
             1,
             "#f0f921"
            ]
           ],
           "sequentialminus": [
            [
             0,
             "#0d0887"
            ],
            [
             0.1111111111111111,
             "#46039f"
            ],
            [
             0.2222222222222222,
             "#7201a8"
            ],
            [
             0.3333333333333333,
             "#9c179e"
            ],
            [
             0.4444444444444444,
             "#bd3786"
            ],
            [
             0.5555555555555556,
             "#d8576b"
            ],
            [
             0.6666666666666666,
             "#ed7953"
            ],
            [
             0.7777777777777778,
             "#fb9f3a"
            ],
            [
             0.8888888888888888,
             "#fdca26"
            ],
            [
             1,
             "#f0f921"
            ]
           ]
          },
          "colorway": [
           "#636efa",
           "#EF553B",
           "#00cc96",
           "#ab63fa",
           "#FFA15A",
           "#19d3f3",
           "#FF6692",
           "#B6E880",
           "#FF97FF",
           "#FECB52"
          ],
          "font": {
           "color": "#2a3f5f"
          },
          "geo": {
           "bgcolor": "white",
           "lakecolor": "white",
           "landcolor": "#E5ECF6",
           "showlakes": true,
           "showland": true,
           "subunitcolor": "white"
          },
          "hoverlabel": {
           "align": "left"
          },
          "hovermode": "closest",
          "mapbox": {
           "style": "light"
          },
          "paper_bgcolor": "white",
          "plot_bgcolor": "#E5ECF6",
          "polar": {
           "angularaxis": {
            "gridcolor": "white",
            "linecolor": "white",
            "ticks": ""
           },
           "bgcolor": "#E5ECF6",
           "radialaxis": {
            "gridcolor": "white",
            "linecolor": "white",
            "ticks": ""
           }
          },
          "scene": {
           "xaxis": {
            "backgroundcolor": "#E5ECF6",
            "gridcolor": "white",
            "gridwidth": 2,
            "linecolor": "white",
            "showbackground": true,
            "ticks": "",
            "zerolinecolor": "white"
           },
           "yaxis": {
            "backgroundcolor": "#E5ECF6",
            "gridcolor": "white",
            "gridwidth": 2,
            "linecolor": "white",
            "showbackground": true,
            "ticks": "",
            "zerolinecolor": "white"
           },
           "zaxis": {
            "backgroundcolor": "#E5ECF6",
            "gridcolor": "white",
            "gridwidth": 2,
            "linecolor": "white",
            "showbackground": true,
            "ticks": "",
            "zerolinecolor": "white"
           }
          },
          "shapedefaults": {
           "line": {
            "color": "#2a3f5f"
           }
          },
          "ternary": {
           "aaxis": {
            "gridcolor": "white",
            "linecolor": "white",
            "ticks": ""
           },
           "baxis": {
            "gridcolor": "white",
            "linecolor": "white",
            "ticks": ""
           },
           "bgcolor": "#E5ECF6",
           "caxis": {
            "gridcolor": "white",
            "linecolor": "white",
            "ticks": ""
           }
          },
          "title": {
           "x": 0.05
          },
          "xaxis": {
           "automargin": true,
           "gridcolor": "white",
           "linecolor": "white",
           "ticks": "",
           "title": {
            "standoff": 15
           },
           "zerolinecolor": "white",
           "zerolinewidth": 2
          },
          "yaxis": {
           "automargin": true,
           "gridcolor": "white",
           "linecolor": "white",
           "ticks": "",
           "title": {
            "standoff": 15
           },
           "zerolinecolor": "white",
           "zerolinewidth": 2
          }
         }
        },
        "title": {
         "font": {
          "color": "#4D5663"
         }
        },
        "xaxis": {
         "gridcolor": "#E1E5ED",
         "showgrid": true,
         "tickfont": {
          "color": "#4D5663"
         },
         "title": {
          "font": {
           "color": "#4D5663"
          },
          "text": ""
         },
         "zerolinecolor": "#E1E5ED"
        },
        "yaxis": {
         "gridcolor": "#E1E5ED",
         "showgrid": true,
         "tickfont": {
          "color": "#4D5663"
         },
         "title": {
          "font": {
           "color": "#4D5663"
          },
          "text": ""
         },
         "zerolinecolor": "#E1E5ED"
        }
       }
      },
      "text/html": [
       "<div>                            <div id=\"103f0770-8ceb-4058-9049-18cd7b093970\" class=\"plotly-graph-div\" style=\"height:525px; width:100%;\"></div>            <script type=\"text/javascript\">                require([\"plotly\"], function(Plotly) {                    window.PLOTLYENV=window.PLOTLYENV || {};\n",
       "                    window.PLOTLYENV.BASE_URL='https://plot.ly';                                    if (document.getElementById(\"103f0770-8ceb-4058-9049-18cd7b093970\")) {                    Plotly.newPlot(                        \"103f0770-8ceb-4058-9049-18cd7b093970\",                        [{\"colorscale\":[[0.0,\"rgb(165,0,38)\"],[0.1,\"rgb(215,48,39)\"],[0.2,\"rgb(244,109,67)\"],[0.3,\"rgb(253,174,97)\"],[0.4,\"rgb(254,224,144)\"],[0.5,\"rgb(255,255,191)\"],[0.6,\"rgb(224,243,248)\"],[0.7,\"rgb(171,217,233)\"],[0.8,\"rgb(116,173,209)\"],[0.9,\"rgb(69,117,180)\"],[1.0,\"rgb(49,54,149)\"]],\"x\":[0,1,2,3,4],\"y\":[\"x\",\"y\",\"z\"],\"z\":[[1,2,3,4,5],[10,20,30,20,10],[5,4,3,2,1]],\"type\":\"surface\"}],                        {\"legend\":{\"bgcolor\":\"#F5F6F9\",\"font\":{\"color\":\"#4D5663\"}},\"paper_bgcolor\":\"#F5F6F9\",\"plot_bgcolor\":\"#F5F6F9\",\"template\":{\"data\":{\"barpolar\":[{\"marker\":{\"line\":{\"color\":\"#E5ECF6\",\"width\":0.5},\"pattern\":{\"fillmode\":\"overlay\",\"size\":10,\"solidity\":0.2}},\"type\":\"barpolar\"}],\"bar\":[{\"error_x\":{\"color\":\"#2a3f5f\"},\"error_y\":{\"color\":\"#2a3f5f\"},\"marker\":{\"line\":{\"color\":\"#E5ECF6\",\"width\":0.5},\"pattern\":{\"fillmode\":\"overlay\",\"size\":10,\"solidity\":0.2}},\"type\":\"bar\"}],\"carpet\":[{\"aaxis\":{\"endlinecolor\":\"#2a3f5f\",\"gridcolor\":\"white\",\"linecolor\":\"white\",\"minorgridcolor\":\"white\",\"startlinecolor\":\"#2a3f5f\"},\"baxis\":{\"endlinecolor\":\"#2a3f5f\",\"gridcolor\":\"white\",\"linecolor\":\"white\",\"minorgridcolor\":\"white\",\"startlinecolor\":\"#2a3f5f\"},\"type\":\"carpet\"}],\"choropleth\":[{\"colorbar\":{\"outlinewidth\":0,\"ticks\":\"\"},\"type\":\"choropleth\"}],\"contourcarpet\":[{\"colorbar\":{\"outlinewidth\":0,\"ticks\":\"\"},\"type\":\"contourcarpet\"}],\"contour\":[{\"colorbar\":{\"outlinewidth\":0,\"ticks\":\"\"},\"colorscale\":[[0.0,\"#0d0887\"],[0.1111111111111111,\"#46039f\"],[0.2222222222222222,\"#7201a8\"],[0.3333333333333333,\"#9c179e\"],[0.4444444444444444,\"#bd3786\"],[0.5555555555555556,\"#d8576b\"],[0.6666666666666666,\"#ed7953\"],[0.7777777777777778,\"#fb9f3a\"],[0.8888888888888888,\"#fdca26\"],[1.0,\"#f0f921\"]],\"type\":\"contour\"}],\"heatmapgl\":[{\"colorbar\":{\"outlinewidth\":0,\"ticks\":\"\"},\"colorscale\":[[0.0,\"#0d0887\"],[0.1111111111111111,\"#46039f\"],[0.2222222222222222,\"#7201a8\"],[0.3333333333333333,\"#9c179e\"],[0.4444444444444444,\"#bd3786\"],[0.5555555555555556,\"#d8576b\"],[0.6666666666666666,\"#ed7953\"],[0.7777777777777778,\"#fb9f3a\"],[0.8888888888888888,\"#fdca26\"],[1.0,\"#f0f921\"]],\"type\":\"heatmapgl\"}],\"heatmap\":[{\"colorbar\":{\"outlinewidth\":0,\"ticks\":\"\"},\"colorscale\":[[0.0,\"#0d0887\"],[0.1111111111111111,\"#46039f\"],[0.2222222222222222,\"#7201a8\"],[0.3333333333333333,\"#9c179e\"],[0.4444444444444444,\"#bd3786\"],[0.5555555555555556,\"#d8576b\"],[0.6666666666666666,\"#ed7953\"],[0.7777777777777778,\"#fb9f3a\"],[0.8888888888888888,\"#fdca26\"],[1.0,\"#f0f921\"]],\"type\":\"heatmap\"}],\"histogram2dcontour\":[{\"colorbar\":{\"outlinewidth\":0,\"ticks\":\"\"},\"colorscale\":[[0.0,\"#0d0887\"],[0.1111111111111111,\"#46039f\"],[0.2222222222222222,\"#7201a8\"],[0.3333333333333333,\"#9c179e\"],[0.4444444444444444,\"#bd3786\"],[0.5555555555555556,\"#d8576b\"],[0.6666666666666666,\"#ed7953\"],[0.7777777777777778,\"#fb9f3a\"],[0.8888888888888888,\"#fdca26\"],[1.0,\"#f0f921\"]],\"type\":\"histogram2dcontour\"}],\"histogram2d\":[{\"colorbar\":{\"outlinewidth\":0,\"ticks\":\"\"},\"colorscale\":[[0.0,\"#0d0887\"],[0.1111111111111111,\"#46039f\"],[0.2222222222222222,\"#7201a8\"],[0.3333333333333333,\"#9c179e\"],[0.4444444444444444,\"#bd3786\"],[0.5555555555555556,\"#d8576b\"],[0.6666666666666666,\"#ed7953\"],[0.7777777777777778,\"#fb9f3a\"],[0.8888888888888888,\"#fdca26\"],[1.0,\"#f0f921\"]],\"type\":\"histogram2d\"}],\"histogram\":[{\"marker\":{\"pattern\":{\"fillmode\":\"overlay\",\"size\":10,\"solidity\":0.2}},\"type\":\"histogram\"}],\"mesh3d\":[{\"colorbar\":{\"outlinewidth\":0,\"ticks\":\"\"},\"type\":\"mesh3d\"}],\"parcoords\":[{\"line\":{\"colorbar\":{\"outlinewidth\":0,\"ticks\":\"\"}},\"type\":\"parcoords\"}],\"pie\":[{\"automargin\":true,\"type\":\"pie\"}],\"scatter3d\":[{\"line\":{\"colorbar\":{\"outlinewidth\":0,\"ticks\":\"\"}},\"marker\":{\"colorbar\":{\"outlinewidth\":0,\"ticks\":\"\"}},\"type\":\"scatter3d\"}],\"scattercarpet\":[{\"marker\":{\"colorbar\":{\"outlinewidth\":0,\"ticks\":\"\"}},\"type\":\"scattercarpet\"}],\"scattergeo\":[{\"marker\":{\"colorbar\":{\"outlinewidth\":0,\"ticks\":\"\"}},\"type\":\"scattergeo\"}],\"scattergl\":[{\"marker\":{\"colorbar\":{\"outlinewidth\":0,\"ticks\":\"\"}},\"type\":\"scattergl\"}],\"scattermapbox\":[{\"marker\":{\"colorbar\":{\"outlinewidth\":0,\"ticks\":\"\"}},\"type\":\"scattermapbox\"}],\"scatterpolargl\":[{\"marker\":{\"colorbar\":{\"outlinewidth\":0,\"ticks\":\"\"}},\"type\":\"scatterpolargl\"}],\"scatterpolar\":[{\"marker\":{\"colorbar\":{\"outlinewidth\":0,\"ticks\":\"\"}},\"type\":\"scatterpolar\"}],\"scatter\":[{\"marker\":{\"colorbar\":{\"outlinewidth\":0,\"ticks\":\"\"}},\"type\":\"scatter\"}],\"scatterternary\":[{\"marker\":{\"colorbar\":{\"outlinewidth\":0,\"ticks\":\"\"}},\"type\":\"scatterternary\"}],\"surface\":[{\"colorbar\":{\"outlinewidth\":0,\"ticks\":\"\"},\"colorscale\":[[0.0,\"#0d0887\"],[0.1111111111111111,\"#46039f\"],[0.2222222222222222,\"#7201a8\"],[0.3333333333333333,\"#9c179e\"],[0.4444444444444444,\"#bd3786\"],[0.5555555555555556,\"#d8576b\"],[0.6666666666666666,\"#ed7953\"],[0.7777777777777778,\"#fb9f3a\"],[0.8888888888888888,\"#fdca26\"],[1.0,\"#f0f921\"]],\"type\":\"surface\"}],\"table\":[{\"cells\":{\"fill\":{\"color\":\"#EBF0F8\"},\"line\":{\"color\":\"white\"}},\"header\":{\"fill\":{\"color\":\"#C8D4E3\"},\"line\":{\"color\":\"white\"}},\"type\":\"table\"}]},\"layout\":{\"annotationdefaults\":{\"arrowcolor\":\"#2a3f5f\",\"arrowhead\":0,\"arrowwidth\":1},\"autotypenumbers\":\"strict\",\"coloraxis\":{\"colorbar\":{\"outlinewidth\":0,\"ticks\":\"\"}},\"colorscale\":{\"diverging\":[[0,\"#8e0152\"],[0.1,\"#c51b7d\"],[0.2,\"#de77ae\"],[0.3,\"#f1b6da\"],[0.4,\"#fde0ef\"],[0.5,\"#f7f7f7\"],[0.6,\"#e6f5d0\"],[0.7,\"#b8e186\"],[0.8,\"#7fbc41\"],[0.9,\"#4d9221\"],[1,\"#276419\"]],\"sequential\":[[0.0,\"#0d0887\"],[0.1111111111111111,\"#46039f\"],[0.2222222222222222,\"#7201a8\"],[0.3333333333333333,\"#9c179e\"],[0.4444444444444444,\"#bd3786\"],[0.5555555555555556,\"#d8576b\"],[0.6666666666666666,\"#ed7953\"],[0.7777777777777778,\"#fb9f3a\"],[0.8888888888888888,\"#fdca26\"],[1.0,\"#f0f921\"]],\"sequentialminus\":[[0.0,\"#0d0887\"],[0.1111111111111111,\"#46039f\"],[0.2222222222222222,\"#7201a8\"],[0.3333333333333333,\"#9c179e\"],[0.4444444444444444,\"#bd3786\"],[0.5555555555555556,\"#d8576b\"],[0.6666666666666666,\"#ed7953\"],[0.7777777777777778,\"#fb9f3a\"],[0.8888888888888888,\"#fdca26\"],[1.0,\"#f0f921\"]]},\"colorway\":[\"#636efa\",\"#EF553B\",\"#00cc96\",\"#ab63fa\",\"#FFA15A\",\"#19d3f3\",\"#FF6692\",\"#B6E880\",\"#FF97FF\",\"#FECB52\"],\"font\":{\"color\":\"#2a3f5f\"},\"geo\":{\"bgcolor\":\"white\",\"lakecolor\":\"white\",\"landcolor\":\"#E5ECF6\",\"showlakes\":true,\"showland\":true,\"subunitcolor\":\"white\"},\"hoverlabel\":{\"align\":\"left\"},\"hovermode\":\"closest\",\"mapbox\":{\"style\":\"light\"},\"paper_bgcolor\":\"white\",\"plot_bgcolor\":\"#E5ECF6\",\"polar\":{\"angularaxis\":{\"gridcolor\":\"white\",\"linecolor\":\"white\",\"ticks\":\"\"},\"bgcolor\":\"#E5ECF6\",\"radialaxis\":{\"gridcolor\":\"white\",\"linecolor\":\"white\",\"ticks\":\"\"}},\"scene\":{\"xaxis\":{\"backgroundcolor\":\"#E5ECF6\",\"gridcolor\":\"white\",\"gridwidth\":2,\"linecolor\":\"white\",\"showbackground\":true,\"ticks\":\"\",\"zerolinecolor\":\"white\"},\"yaxis\":{\"backgroundcolor\":\"#E5ECF6\",\"gridcolor\":\"white\",\"gridwidth\":2,\"linecolor\":\"white\",\"showbackground\":true,\"ticks\":\"\",\"zerolinecolor\":\"white\"},\"zaxis\":{\"backgroundcolor\":\"#E5ECF6\",\"gridcolor\":\"white\",\"gridwidth\":2,\"linecolor\":\"white\",\"showbackground\":true,\"ticks\":\"\",\"zerolinecolor\":\"white\"}},\"shapedefaults\":{\"line\":{\"color\":\"#2a3f5f\"}},\"ternary\":{\"aaxis\":{\"gridcolor\":\"white\",\"linecolor\":\"white\",\"ticks\":\"\"},\"baxis\":{\"gridcolor\":\"white\",\"linecolor\":\"white\",\"ticks\":\"\"},\"bgcolor\":\"#E5ECF6\",\"caxis\":{\"gridcolor\":\"white\",\"linecolor\":\"white\",\"ticks\":\"\"}},\"title\":{\"x\":0.05},\"xaxis\":{\"automargin\":true,\"gridcolor\":\"white\",\"linecolor\":\"white\",\"ticks\":\"\",\"title\":{\"standoff\":15},\"zerolinecolor\":\"white\",\"zerolinewidth\":2},\"yaxis\":{\"automargin\":true,\"gridcolor\":\"white\",\"linecolor\":\"white\",\"ticks\":\"\",\"title\":{\"standoff\":15},\"zerolinecolor\":\"white\",\"zerolinewidth\":2}}},\"title\":{\"font\":{\"color\":\"#4D5663\"}},\"xaxis\":{\"gridcolor\":\"#E1E5ED\",\"showgrid\":true,\"tickfont\":{\"color\":\"#4D5663\"},\"title\":{\"font\":{\"color\":\"#4D5663\"},\"text\":\"\"},\"zerolinecolor\":\"#E1E5ED\"},\"yaxis\":{\"gridcolor\":\"#E1E5ED\",\"showgrid\":true,\"tickfont\":{\"color\":\"#4D5663\"},\"title\":{\"font\":{\"color\":\"#4D5663\"},\"text\":\"\"},\"zerolinecolor\":\"#E1E5ED\"}},                        {\"showLink\": true, \"linkText\": \"Export to plot.ly\", \"plotlyServerURL\": \"https://plot.ly\", \"responsive\": true}                    ).then(function(){\n",
       "                            \n",
       "var gd = document.getElementById('103f0770-8ceb-4058-9049-18cd7b093970');\n",
       "var x = new MutationObserver(function (mutations, observer) {{\n",
       "        var display = window.getComputedStyle(gd).display;\n",
       "        if (!display || display === 'none') {{\n",
       "            console.log([gd, 'removed!']);\n",
       "            Plotly.purge(gd);\n",
       "            observer.disconnect();\n",
       "        }}\n",
       "}});\n",
       "\n",
       "// Listen for the removal of the full notebook cells\n",
       "var notebookContainer = gd.closest('#notebook-container');\n",
       "if (notebookContainer) {{\n",
       "    x.observe(notebookContainer, {childList: true});\n",
       "}}\n",
       "\n",
       "// Listen for the clearing of the current output cell\n",
       "var outputEl = gd.closest('.output');\n",
       "if (outputEl) {{\n",
       "    x.observe(outputEl, {childList: true});\n",
       "}}\n",
       "\n",
       "                        })                };                });            </script>        </div>"
      ]
     },
     "metadata": {},
     "output_type": "display_data"
    }
   ],
   "source": [
    "df3 = pd.DataFrame({'x':[1,2,3,4,5],'y':[10,20,30,20,10],'z':[5,4,3,2,1]})\n",
    "df3.iplot(kind='surface',colorscale='rdylbu')"
   ]
  },
  {
   "cell_type": "markdown",
   "metadata": {},
   "source": [
    "## Spread"
   ]
  },
  {
   "cell_type": "code",
   "execution_count": 15,
   "metadata": {
    "collapsed": false
   },
   "outputs": [
    {
     "name": "stderr",
     "output_type": "stream",
     "text": [
      "c:\\Users\\Susamay\\anaconda3\\lib\\site-packages\\cufflinks\\plotlytools.py:849: FutureWarning:\n",
      "\n",
      "The pandas.np module is deprecated and will be removed from pandas in a future version. Import numpy directly instead.\n",
      "\n",
      "c:\\Users\\Susamay\\anaconda3\\lib\\site-packages\\cufflinks\\plotlytools.py:850: FutureWarning:\n",
      "\n",
      "The pandas.np module is deprecated and will be removed from pandas in a future version. Import numpy directly instead.\n",
      "\n"
     ]
    },
    {
     "data": {
      "application/vnd.plotly.v1+json": {
       "config": {
        "linkText": "Export to plot.ly",
        "plotlyServerURL": "https://plot.ly",
        "showLink": true
       },
       "data": [
        {
         "line": {
          "color": "rgba(255, 153, 51, 1.0)",
          "dash": "solid",
          "shape": "linear",
          "width": 1.3
         },
         "mode": "lines",
         "name": "A",
         "text": "",
         "type": "scatter",
         "x": [
          0,
          1,
          2,
          3,
          4,
          5,
          6,
          7,
          8,
          9,
          10,
          11,
          12,
          13,
          14,
          15,
          16,
          17,
          18,
          19,
          20,
          21,
          22,
          23,
          24,
          25,
          26,
          27,
          28,
          29,
          30,
          31,
          32,
          33,
          34,
          35,
          36,
          37,
          38,
          39,
          40,
          41,
          42,
          43,
          44,
          45,
          46,
          47,
          48,
          49,
          50,
          51,
          52,
          53,
          54,
          55,
          56,
          57,
          58,
          59,
          60,
          61,
          62,
          63,
          64,
          65,
          66,
          67,
          68,
          69,
          70,
          71,
          72,
          73,
          74,
          75,
          76,
          77,
          78,
          79,
          80,
          81,
          82,
          83,
          84,
          85,
          86,
          87,
          88,
          89,
          90,
          91,
          92,
          93,
          94,
          95,
          96,
          97,
          98,
          99
         ],
         "y": [
          1.2750462071228998,
          1.0564406009906422,
          -1.2570863513881179,
          0.1386992449738513,
          -0.4006631753099272,
          0.772494714001685,
          0.3466280655061471,
          -0.20734882385960135,
          -1.1605599469356516,
          1.5335837092173008,
          0.8701647512889786,
          0.19959773422082286,
          -0.7713696453049101,
          0.8670858884620127,
          0.7527057455344794,
          0.2406881376064278,
          -1.4246729911918348,
          -1.366338353479444,
          -2.510532872604319,
          -0.44076325408168865,
          -0.2720890733894303,
          0.1923950171572903,
          0.17528984033996958,
          -0.05627900857472087,
          -0.09464981393955554,
          0.1109203403862901,
          0.3506712561808483,
          0.11860998679044508,
          0.27273654934561664,
          0.5451708797402759,
          -1.3239800797756898,
          0.7176173593819158,
          0.6390897967980106,
          0.6298020357295875,
          0.9055103909277578,
          -0.5904176841467053,
          -0.38213674321117597,
          -0.9321460998531019,
          -2.0527241542088164,
          -0.1355015868759311,
          -0.15560692657213374,
          -1.3234419856299242,
          0.004612749239376862,
          -0.3533749773258972,
          -1.2778073755305988,
          -1.7334811504670158,
          1.5287980300400834,
          -1.0900212287039468,
          1.3066976573006288,
          0.6829609453885492,
          -0.024493571992407752,
          -1.6644241198636218,
          -1.3552223151228506,
          -0.7758460191490981,
          0.52074640219068,
          -0.5953760210764978,
          0.696233766527075,
          -0.714162783949475,
          0.3429087064661106,
          0.12880671947928052,
          0.1253412689647578,
          -1.5512006665577716,
          1.4696417176119942,
          -1.7740325324274242,
          2.105809697884221,
          1.9167099561167036,
          0.7480215913254173,
          0.7625036829256576,
          -1.086117863919513,
          0.4781593150768092,
          0.7240428405447898,
          -0.503627557293303,
          -1.221663772912323,
          -0.20754934209619638,
          -1.3419782859135356,
          0.216215597439171,
          1.0145615004449249,
          -1.0220756896864085,
          0.49363860464637543,
          -0.01599908409568637,
          -1.1470627595685077,
          -1.023726974752981,
          0.6660548760380969,
          -0.1311469267172626,
          1.1191657681276326,
          -1.5810786212139951,
          0.8160942888787959,
          0.06088517630432691,
          -1.2352546602277445,
          -0.2717692097212096,
          -1.0431055662718702,
          0.13134247407032018,
          -0.7790614189607978,
          0.5434045328072897,
          -1.1755407507532878,
          0.008915452173938613,
          0.16280786785568127,
          -0.6573273421596642,
          -0.274646533946732,
          -0.655594361876358
         ]
        },
        {
         "line": {
          "color": "rgba(55, 128, 191, 1.0)",
          "dash": "solid",
          "shape": "linear",
          "width": 1.3
         },
         "mode": "lines",
         "name": "B",
         "text": "",
         "type": "scatter",
         "x": [
          0,
          1,
          2,
          3,
          4,
          5,
          6,
          7,
          8,
          9,
          10,
          11,
          12,
          13,
          14,
          15,
          16,
          17,
          18,
          19,
          20,
          21,
          22,
          23,
          24,
          25,
          26,
          27,
          28,
          29,
          30,
          31,
          32,
          33,
          34,
          35,
          36,
          37,
          38,
          39,
          40,
          41,
          42,
          43,
          44,
          45,
          46,
          47,
          48,
          49,
          50,
          51,
          52,
          53,
          54,
          55,
          56,
          57,
          58,
          59,
          60,
          61,
          62,
          63,
          64,
          65,
          66,
          67,
          68,
          69,
          70,
          71,
          72,
          73,
          74,
          75,
          76,
          77,
          78,
          79,
          80,
          81,
          82,
          83,
          84,
          85,
          86,
          87,
          88,
          89,
          90,
          91,
          92,
          93,
          94,
          95,
          96,
          97,
          98,
          99
         ],
         "y": [
          -0.8340773682113504,
          0.49123188788963057,
          -1.9000715568691215,
          -0.6876295998356547,
          -0.8538273111014857,
          1.5511189563186973,
          1.7916810535863585,
          -1.2384131342672389,
          -0.11282532877192572,
          0.35044387501754315,
          -0.3725563064013367,
          -0.5978080296220267,
          -0.7459415602962436,
          -0.8062931680433271,
          -0.41309712402120896,
          -0.7677684801488446,
          -1.6237362987866557,
          -1.3867124997696776,
          -0.03384343479363602,
          0.312953792426409,
          0.43354850664087274,
          0.11571251414975957,
          0.7356381212190469,
          -0.8182781601100041,
          0.7278710012373059,
          0.27080432822538103,
          -0.45224220610112037,
          1.3889328686699598,
          0.35415339359074693,
          1.321491480875497,
          0.5604879797874698,
          -2.1780949287932843,
          0.6772032297272086,
          0.5068100984347181,
          0.05294343849021371,
          0.6762701198557137,
          -0.41125546955848485,
          0.9490592885359114,
          0.9579881061090255,
          -0.08746731970232335,
          0.1753148386032337,
          0.35330636557589246,
          0.6092976837114229,
          -0.9897685548060738,
          1.0082812941583785,
          -0.07112634100972726,
          0.7534094755071289,
          -1.2236591466919062,
          -0.44741573370710913,
          -1.056571932317002,
          -0.6351166490247284,
          -0.1152534608551299,
          -0.2753704370824422,
          -0.03361895378725087,
          -1.032713772532709,
          1.2604190210644386,
          1.6305359116844174,
          0.28304773071397693,
          0.46460766770949186,
          0.9430557112402934,
          0.8807024197847123,
          -0.7315449933931041,
          -0.4801700510822656,
          0.12234105041850767,
          -0.8904252461076889,
          -0.8682230097651995,
          0.8089776470552416,
          -0.442143722727833,
          1.0062933868477435,
          0.9789586586064842,
          -0.25604556494295583,
          -0.8081304318643974,
          0.32241893796007687,
          2.9455052125197785,
          1.0189696497125427,
          0.24788985930538732,
          1.136303601810519,
          -1.3946078662938228,
          -1.2292418224455168,
          -1.9150740479746733,
          -1.0297445925889328,
          0.8098970537565258,
          -1.569253924464807,
          -0.9896971663270222,
          -0.7057472240000185,
          0.2204458262981922,
          0.3173361097439095,
          -0.5153534162955274,
          -0.26708392326561814,
          0.7759496323233144,
          0.3730259777582601,
          1.575662623566695,
          1.1570045050500222,
          -0.06068007372528039,
          -1.2513600529835396,
          0.03669689340334888,
          0.18579450181477772,
          -0.16287815628323127,
          2.0901663180753256,
          0.9071005520448465
         ]
        },
        {
         "connectgaps": false,
         "fill": "tozeroy",
         "line": {
          "color": "green",
          "dash": "solid",
          "shape": "linear",
          "width": 0.5
         },
         "mode": "lines",
         "name": "Spread",
         "showlegend": false,
         "type": "scatter",
         "x": [
          0,
          1,
          2,
          3,
          4,
          5,
          6,
          7,
          8,
          9,
          10,
          11,
          12,
          13,
          14,
          15,
          16,
          17,
          18,
          19,
          20,
          21,
          22,
          23,
          24,
          25,
          26,
          27,
          28,
          29,
          30,
          31,
          32,
          33,
          34,
          35,
          36,
          37,
          38,
          39,
          40,
          41,
          42,
          43,
          44,
          45,
          46,
          47,
          48,
          49,
          50,
          51,
          52,
          53,
          54,
          55,
          56,
          57,
          58,
          59,
          60,
          61,
          62,
          63,
          64,
          65,
          66,
          67,
          68,
          69,
          70,
          71,
          72,
          73,
          74,
          75,
          76,
          77,
          78,
          79,
          80,
          81,
          82,
          83,
          84,
          85,
          86,
          87,
          88,
          89,
          90,
          91,
          92,
          93,
          94,
          95,
          96,
          97,
          98,
          99
         ],
         "xaxis": "x2",
         "y": [
          2.1091235753342503,
          0.5652087131010116,
          0.6429852054810037,
          0.8263288448095061,
          0.4531641357915585,
          "",
          "",
          1.0310643104076376,
          "",
          1.1831398341997577,
          1.2427210576903154,
          0.7974057638428496,
          "",
          1.6733790565053397,
          1.1658028695556883,
          1.0084566177552723,
          0.19906330759482094,
          0.020374146290233597,
          "",
          "",
          "",
          0.07668250300753073,
          "",
          0.7619991515352832,
          "",
          "",
          0.8029134622819687,
          "",
          "",
          "",
          "",
          2.8957122881752,
          "",
          0.12299193729486935,
          0.8525669524375441,
          "",
          0.029118726347308888,
          "",
          "",
          "",
          "",
          "",
          "",
          0.6363935774801767,
          "",
          "",
          0.7753885545329545,
          0.13363791798795943,
          1.754113391007738,
          1.7395328777055512,
          0.6106230770323207,
          "",
          "",
          "",
          1.553460174723389,
          "",
          "",
          "",
          "",
          "",
          "",
          "",
          1.9498117686942598,
          "",
          2.99623494399191,
          2.784932965881903,
          "",
          1.2046474056534906,
          "",
          "",
          0.9800884054877457,
          0.3045028745710944,
          "",
          "",
          "",
          "",
          "",
          0.37253217660741433,
          1.7228804270918923,
          1.899074963878987,
          "",
          "",
          2.235308800502904,
          0.8585502396097596,
          1.824912992127651,
          "",
          0.49875817913488635,
          0.5762385925998543,
          "",
          "",
          "",
          "",
          "",
          0.6040846065325701,
          0.0758193022302518,
          "",
          "",
          "",
          "",
          ""
         ],
         "yaxis": "y2"
        },
        {
         "connectgaps": false,
         "fill": "tozeroy",
         "line": {
          "color": "red",
          "dash": "solid",
          "shape": "linear",
          "width": 0.5
         },
         "mode": "lines",
         "name": "Spread",
         "showlegend": false,
         "type": "scatter",
         "x": [
          0,
          1,
          2,
          3,
          4,
          5,
          6,
          7,
          8,
          9,
          10,
          11,
          12,
          13,
          14,
          15,
          16,
          17,
          18,
          19,
          20,
          21,
          22,
          23,
          24,
          25,
          26,
          27,
          28,
          29,
          30,
          31,
          32,
          33,
          34,
          35,
          36,
          37,
          38,
          39,
          40,
          41,
          42,
          43,
          44,
          45,
          46,
          47,
          48,
          49,
          50,
          51,
          52,
          53,
          54,
          55,
          56,
          57,
          58,
          59,
          60,
          61,
          62,
          63,
          64,
          65,
          66,
          67,
          68,
          69,
          70,
          71,
          72,
          73,
          74,
          75,
          76,
          77,
          78,
          79,
          80,
          81,
          82,
          83,
          84,
          85,
          86,
          87,
          88,
          89,
          90,
          91,
          92,
          93,
          94,
          95,
          96,
          97,
          98,
          99
         ],
         "xaxis": "x2",
         "y": [
          "",
          "",
          "",
          "",
          "",
          -0.7786242423170123,
          -1.4450529880802114,
          "",
          -1.047734618163726,
          "",
          "",
          "",
          -0.025428085008666557,
          "",
          "",
          "",
          "",
          "",
          -2.476689437810683,
          -0.7537170465080977,
          -0.705637580030303,
          "",
          -0.5603482808790774,
          "",
          -0.8225208151768614,
          -0.1598839878390909,
          "",
          -1.2703228818795147,
          -0.0814168442451303,
          -0.7763206011352211,
          -1.8844680595631595,
          "",
          -0.038113432929198,
          "",
          "",
          -1.266687804002419,
          "",
          -1.8812053883890134,
          -3.010712260317842,
          -0.04803426717360776,
          -0.3309217651753674,
          -1.6767483512058168,
          -0.6046849344720461,
          "",
          -2.2860886696889775,
          -1.6623548094572884,
          "",
          "",
          "",
          "",
          "",
          -1.549170659008492,
          -1.0798518780404085,
          -0.7422270653618472,
          "",
          -1.8557950421409364,
          -0.9343021451573423,
          -0.9972105146634519,
          -0.12169896124338125,
          -0.814248991761013,
          -0.7553611508199545,
          -0.8196556731646675,
          "",
          -1.8963735828459318,
          "",
          "",
          -0.06095605572982421,
          "",
          -2.0924112507672565,
          -0.500799343529675,
          "",
          "",
          -1.5440827108723998,
          -3.153054554615975,
          -2.3609479356260783,
          -0.03167426186621633,
          -0.12174210136559416,
          "",
          "",
          "",
          -0.11731816697957487,
          -1.8336240285095067,
          "",
          "",
          "",
          -1.8015244475121874,
          "",
          "",
          -0.9681707369621264,
          -1.047718842044524,
          -1.4161315440301303,
          -1.4443201494963749,
          -1.93606592401082,
          "",
          "",
          -0.027781441229410272,
          -0.022986633959096447,
          -0.4944491858764329,
          -2.3648128520220575,
          -1.5626949139212045
         ],
         "yaxis": "y2"
        }
       ],
       "layout": {
        "hovermode": "x",
        "legend": {
         "bgcolor": "#F5F6F9",
         "font": {
          "color": "#4D5663"
         }
        },
        "paper_bgcolor": "#F5F6F9",
        "plot_bgcolor": "#F5F6F9",
        "template": {
         "data": {
          "bar": [
           {
            "error_x": {
             "color": "#2a3f5f"
            },
            "error_y": {
             "color": "#2a3f5f"
            },
            "marker": {
             "line": {
              "color": "#E5ECF6",
              "width": 0.5
             },
             "pattern": {
              "fillmode": "overlay",
              "size": 10,
              "solidity": 0.2
             }
            },
            "type": "bar"
           }
          ],
          "barpolar": [
           {
            "marker": {
             "line": {
              "color": "#E5ECF6",
              "width": 0.5
             },
             "pattern": {
              "fillmode": "overlay",
              "size": 10,
              "solidity": 0.2
             }
            },
            "type": "barpolar"
           }
          ],
          "carpet": [
           {
            "aaxis": {
             "endlinecolor": "#2a3f5f",
             "gridcolor": "white",
             "linecolor": "white",
             "minorgridcolor": "white",
             "startlinecolor": "#2a3f5f"
            },
            "baxis": {
             "endlinecolor": "#2a3f5f",
             "gridcolor": "white",
             "linecolor": "white",
             "minorgridcolor": "white",
             "startlinecolor": "#2a3f5f"
            },
            "type": "carpet"
           }
          ],
          "choropleth": [
           {
            "colorbar": {
             "outlinewidth": 0,
             "ticks": ""
            },
            "type": "choropleth"
           }
          ],
          "contour": [
           {
            "colorbar": {
             "outlinewidth": 0,
             "ticks": ""
            },
            "colorscale": [
             [
              0,
              "#0d0887"
             ],
             [
              0.1111111111111111,
              "#46039f"
             ],
             [
              0.2222222222222222,
              "#7201a8"
             ],
             [
              0.3333333333333333,
              "#9c179e"
             ],
             [
              0.4444444444444444,
              "#bd3786"
             ],
             [
              0.5555555555555556,
              "#d8576b"
             ],
             [
              0.6666666666666666,
              "#ed7953"
             ],
             [
              0.7777777777777778,
              "#fb9f3a"
             ],
             [
              0.8888888888888888,
              "#fdca26"
             ],
             [
              1,
              "#f0f921"
             ]
            ],
            "type": "contour"
           }
          ],
          "contourcarpet": [
           {
            "colorbar": {
             "outlinewidth": 0,
             "ticks": ""
            },
            "type": "contourcarpet"
           }
          ],
          "heatmap": [
           {
            "colorbar": {
             "outlinewidth": 0,
             "ticks": ""
            },
            "colorscale": [
             [
              0,
              "#0d0887"
             ],
             [
              0.1111111111111111,
              "#46039f"
             ],
             [
              0.2222222222222222,
              "#7201a8"
             ],
             [
              0.3333333333333333,
              "#9c179e"
             ],
             [
              0.4444444444444444,
              "#bd3786"
             ],
             [
              0.5555555555555556,
              "#d8576b"
             ],
             [
              0.6666666666666666,
              "#ed7953"
             ],
             [
              0.7777777777777778,
              "#fb9f3a"
             ],
             [
              0.8888888888888888,
              "#fdca26"
             ],
             [
              1,
              "#f0f921"
             ]
            ],
            "type": "heatmap"
           }
          ],
          "heatmapgl": [
           {
            "colorbar": {
             "outlinewidth": 0,
             "ticks": ""
            },
            "colorscale": [
             [
              0,
              "#0d0887"
             ],
             [
              0.1111111111111111,
              "#46039f"
             ],
             [
              0.2222222222222222,
              "#7201a8"
             ],
             [
              0.3333333333333333,
              "#9c179e"
             ],
             [
              0.4444444444444444,
              "#bd3786"
             ],
             [
              0.5555555555555556,
              "#d8576b"
             ],
             [
              0.6666666666666666,
              "#ed7953"
             ],
             [
              0.7777777777777778,
              "#fb9f3a"
             ],
             [
              0.8888888888888888,
              "#fdca26"
             ],
             [
              1,
              "#f0f921"
             ]
            ],
            "type": "heatmapgl"
           }
          ],
          "histogram": [
           {
            "marker": {
             "pattern": {
              "fillmode": "overlay",
              "size": 10,
              "solidity": 0.2
             }
            },
            "type": "histogram"
           }
          ],
          "histogram2d": [
           {
            "colorbar": {
             "outlinewidth": 0,
             "ticks": ""
            },
            "colorscale": [
             [
              0,
              "#0d0887"
             ],
             [
              0.1111111111111111,
              "#46039f"
             ],
             [
              0.2222222222222222,
              "#7201a8"
             ],
             [
              0.3333333333333333,
              "#9c179e"
             ],
             [
              0.4444444444444444,
              "#bd3786"
             ],
             [
              0.5555555555555556,
              "#d8576b"
             ],
             [
              0.6666666666666666,
              "#ed7953"
             ],
             [
              0.7777777777777778,
              "#fb9f3a"
             ],
             [
              0.8888888888888888,
              "#fdca26"
             ],
             [
              1,
              "#f0f921"
             ]
            ],
            "type": "histogram2d"
           }
          ],
          "histogram2dcontour": [
           {
            "colorbar": {
             "outlinewidth": 0,
             "ticks": ""
            },
            "colorscale": [
             [
              0,
              "#0d0887"
             ],
             [
              0.1111111111111111,
              "#46039f"
             ],
             [
              0.2222222222222222,
              "#7201a8"
             ],
             [
              0.3333333333333333,
              "#9c179e"
             ],
             [
              0.4444444444444444,
              "#bd3786"
             ],
             [
              0.5555555555555556,
              "#d8576b"
             ],
             [
              0.6666666666666666,
              "#ed7953"
             ],
             [
              0.7777777777777778,
              "#fb9f3a"
             ],
             [
              0.8888888888888888,
              "#fdca26"
             ],
             [
              1,
              "#f0f921"
             ]
            ],
            "type": "histogram2dcontour"
           }
          ],
          "mesh3d": [
           {
            "colorbar": {
             "outlinewidth": 0,
             "ticks": ""
            },
            "type": "mesh3d"
           }
          ],
          "parcoords": [
           {
            "line": {
             "colorbar": {
              "outlinewidth": 0,
              "ticks": ""
             }
            },
            "type": "parcoords"
           }
          ],
          "pie": [
           {
            "automargin": true,
            "type": "pie"
           }
          ],
          "scatter": [
           {
            "marker": {
             "colorbar": {
              "outlinewidth": 0,
              "ticks": ""
             }
            },
            "type": "scatter"
           }
          ],
          "scatter3d": [
           {
            "line": {
             "colorbar": {
              "outlinewidth": 0,
              "ticks": ""
             }
            },
            "marker": {
             "colorbar": {
              "outlinewidth": 0,
              "ticks": ""
             }
            },
            "type": "scatter3d"
           }
          ],
          "scattercarpet": [
           {
            "marker": {
             "colorbar": {
              "outlinewidth": 0,
              "ticks": ""
             }
            },
            "type": "scattercarpet"
           }
          ],
          "scattergeo": [
           {
            "marker": {
             "colorbar": {
              "outlinewidth": 0,
              "ticks": ""
             }
            },
            "type": "scattergeo"
           }
          ],
          "scattergl": [
           {
            "marker": {
             "colorbar": {
              "outlinewidth": 0,
              "ticks": ""
             }
            },
            "type": "scattergl"
           }
          ],
          "scattermapbox": [
           {
            "marker": {
             "colorbar": {
              "outlinewidth": 0,
              "ticks": ""
             }
            },
            "type": "scattermapbox"
           }
          ],
          "scatterpolar": [
           {
            "marker": {
             "colorbar": {
              "outlinewidth": 0,
              "ticks": ""
             }
            },
            "type": "scatterpolar"
           }
          ],
          "scatterpolargl": [
           {
            "marker": {
             "colorbar": {
              "outlinewidth": 0,
              "ticks": ""
             }
            },
            "type": "scatterpolargl"
           }
          ],
          "scatterternary": [
           {
            "marker": {
             "colorbar": {
              "outlinewidth": 0,
              "ticks": ""
             }
            },
            "type": "scatterternary"
           }
          ],
          "surface": [
           {
            "colorbar": {
             "outlinewidth": 0,
             "ticks": ""
            },
            "colorscale": [
             [
              0,
              "#0d0887"
             ],
             [
              0.1111111111111111,
              "#46039f"
             ],
             [
              0.2222222222222222,
              "#7201a8"
             ],
             [
              0.3333333333333333,
              "#9c179e"
             ],
             [
              0.4444444444444444,
              "#bd3786"
             ],
             [
              0.5555555555555556,
              "#d8576b"
             ],
             [
              0.6666666666666666,
              "#ed7953"
             ],
             [
              0.7777777777777778,
              "#fb9f3a"
             ],
             [
              0.8888888888888888,
              "#fdca26"
             ],
             [
              1,
              "#f0f921"
             ]
            ],
            "type": "surface"
           }
          ],
          "table": [
           {
            "cells": {
             "fill": {
              "color": "#EBF0F8"
             },
             "line": {
              "color": "white"
             }
            },
            "header": {
             "fill": {
              "color": "#C8D4E3"
             },
             "line": {
              "color": "white"
             }
            },
            "type": "table"
           }
          ]
         },
         "layout": {
          "annotationdefaults": {
           "arrowcolor": "#2a3f5f",
           "arrowhead": 0,
           "arrowwidth": 1
          },
          "autotypenumbers": "strict",
          "coloraxis": {
           "colorbar": {
            "outlinewidth": 0,
            "ticks": ""
           }
          },
          "colorscale": {
           "diverging": [
            [
             0,
             "#8e0152"
            ],
            [
             0.1,
             "#c51b7d"
            ],
            [
             0.2,
             "#de77ae"
            ],
            [
             0.3,
             "#f1b6da"
            ],
            [
             0.4,
             "#fde0ef"
            ],
            [
             0.5,
             "#f7f7f7"
            ],
            [
             0.6,
             "#e6f5d0"
            ],
            [
             0.7,
             "#b8e186"
            ],
            [
             0.8,
             "#7fbc41"
            ],
            [
             0.9,
             "#4d9221"
            ],
            [
             1,
             "#276419"
            ]
           ],
           "sequential": [
            [
             0,
             "#0d0887"
            ],
            [
             0.1111111111111111,
             "#46039f"
            ],
            [
             0.2222222222222222,
             "#7201a8"
            ],
            [
             0.3333333333333333,
             "#9c179e"
            ],
            [
             0.4444444444444444,
             "#bd3786"
            ],
            [
             0.5555555555555556,
             "#d8576b"
            ],
            [
             0.6666666666666666,
             "#ed7953"
            ],
            [
             0.7777777777777778,
             "#fb9f3a"
            ],
            [
             0.8888888888888888,
             "#fdca26"
            ],
            [
             1,
             "#f0f921"
            ]
           ],
           "sequentialminus": [
            [
             0,
             "#0d0887"
            ],
            [
             0.1111111111111111,
             "#46039f"
            ],
            [
             0.2222222222222222,
             "#7201a8"
            ],
            [
             0.3333333333333333,
             "#9c179e"
            ],
            [
             0.4444444444444444,
             "#bd3786"
            ],
            [
             0.5555555555555556,
             "#d8576b"
            ],
            [
             0.6666666666666666,
             "#ed7953"
            ],
            [
             0.7777777777777778,
             "#fb9f3a"
            ],
            [
             0.8888888888888888,
             "#fdca26"
            ],
            [
             1,
             "#f0f921"
            ]
           ]
          },
          "colorway": [
           "#636efa",
           "#EF553B",
           "#00cc96",
           "#ab63fa",
           "#FFA15A",
           "#19d3f3",
           "#FF6692",
           "#B6E880",
           "#FF97FF",
           "#FECB52"
          ],
          "font": {
           "color": "#2a3f5f"
          },
          "geo": {
           "bgcolor": "white",
           "lakecolor": "white",
           "landcolor": "#E5ECF6",
           "showlakes": true,
           "showland": true,
           "subunitcolor": "white"
          },
          "hoverlabel": {
           "align": "left"
          },
          "hovermode": "closest",
          "mapbox": {
           "style": "light"
          },
          "paper_bgcolor": "white",
          "plot_bgcolor": "#E5ECF6",
          "polar": {
           "angularaxis": {
            "gridcolor": "white",
            "linecolor": "white",
            "ticks": ""
           },
           "bgcolor": "#E5ECF6",
           "radialaxis": {
            "gridcolor": "white",
            "linecolor": "white",
            "ticks": ""
           }
          },
          "scene": {
           "xaxis": {
            "backgroundcolor": "#E5ECF6",
            "gridcolor": "white",
            "gridwidth": 2,
            "linecolor": "white",
            "showbackground": true,
            "ticks": "",
            "zerolinecolor": "white"
           },
           "yaxis": {
            "backgroundcolor": "#E5ECF6",
            "gridcolor": "white",
            "gridwidth": 2,
            "linecolor": "white",
            "showbackground": true,
            "ticks": "",
            "zerolinecolor": "white"
           },
           "zaxis": {
            "backgroundcolor": "#E5ECF6",
            "gridcolor": "white",
            "gridwidth": 2,
            "linecolor": "white",
            "showbackground": true,
            "ticks": "",
            "zerolinecolor": "white"
           }
          },
          "shapedefaults": {
           "line": {
            "color": "#2a3f5f"
           }
          },
          "ternary": {
           "aaxis": {
            "gridcolor": "white",
            "linecolor": "white",
            "ticks": ""
           },
           "baxis": {
            "gridcolor": "white",
            "linecolor": "white",
            "ticks": ""
           },
           "bgcolor": "#E5ECF6",
           "caxis": {
            "gridcolor": "white",
            "linecolor": "white",
            "ticks": ""
           }
          },
          "title": {
           "x": 0.05
          },
          "xaxis": {
           "automargin": true,
           "gridcolor": "white",
           "linecolor": "white",
           "ticks": "",
           "title": {
            "standoff": 15
           },
           "zerolinecolor": "white",
           "zerolinewidth": 2
          },
          "yaxis": {
           "automargin": true,
           "gridcolor": "white",
           "linecolor": "white",
           "ticks": "",
           "title": {
            "standoff": 15
           },
           "zerolinecolor": "white",
           "zerolinewidth": 2
          }
         }
        },
        "title": {
         "font": {
          "color": "#4D5663"
         }
        },
        "xaxis": {
         "gridcolor": "#E1E5ED",
         "showgrid": true,
         "tickfont": {
          "color": "#4D5663"
         },
         "title": {
          "font": {
           "color": "#4D5663"
          },
          "text": ""
         },
         "zerolinecolor": "#E1E5ED"
        },
        "xaxis2": {
         "anchor": "y2",
         "gridcolor": "#E1E5ED",
         "showgrid": true,
         "showticklabels": false,
         "tickfont": {
          "color": "#4D5663"
         },
         "title": {
          "font": {
           "color": "#4D5663"
          },
          "text": ""
         },
         "zerolinecolor": "#E1E5ED"
        },
        "yaxis": {
         "domain": [
          0.3,
          1
         ],
         "gridcolor": "#E1E5ED",
         "showgrid": true,
         "tickfont": {
          "color": "#4D5663"
         },
         "title": {
          "font": {
           "color": "#4D5663"
          },
          "text": ""
         },
         "zerolinecolor": "#E1E5ED"
        },
        "yaxis2": {
         "domain": [
          0,
          0.25
         ],
         "gridcolor": "#E1E5ED",
         "showgrid": true,
         "tickfont": {
          "color": "#4D5663"
         },
         "title": {
          "font": {
           "color": "#4D5663"
          },
          "text": "Spread"
         },
         "zerolinecolor": "#E1E5ED"
        }
       }
      },
      "text/html": [
       "<div>                            <div id=\"33db2bde-fa32-452a-8223-922843d9740b\" class=\"plotly-graph-div\" style=\"height:525px; width:100%;\"></div>            <script type=\"text/javascript\">                require([\"plotly\"], function(Plotly) {                    window.PLOTLYENV=window.PLOTLYENV || {};\n",
       "                    window.PLOTLYENV.BASE_URL='https://plot.ly';                                    if (document.getElementById(\"33db2bde-fa32-452a-8223-922843d9740b\")) {                    Plotly.newPlot(                        \"33db2bde-fa32-452a-8223-922843d9740b\",                        [{\"line\":{\"color\":\"rgba(255, 153, 51, 1.0)\",\"dash\":\"solid\",\"shape\":\"linear\",\"width\":1.3},\"mode\":\"lines\",\"name\":\"A\",\"text\":\"\",\"x\":[0,1,2,3,4,5,6,7,8,9,10,11,12,13,14,15,16,17,18,19,20,21,22,23,24,25,26,27,28,29,30,31,32,33,34,35,36,37,38,39,40,41,42,43,44,45,46,47,48,49,50,51,52,53,54,55,56,57,58,59,60,61,62,63,64,65,66,67,68,69,70,71,72,73,74,75,76,77,78,79,80,81,82,83,84,85,86,87,88,89,90,91,92,93,94,95,96,97,98,99],\"y\":[1.2750462071228998,1.0564406009906422,-1.2570863513881179,0.1386992449738513,-0.4006631753099272,0.772494714001685,0.3466280655061471,-0.20734882385960135,-1.1605599469356516,1.5335837092173008,0.8701647512889786,0.19959773422082286,-0.7713696453049101,0.8670858884620127,0.7527057455344794,0.2406881376064278,-1.4246729911918348,-1.366338353479444,-2.510532872604319,-0.44076325408168865,-0.2720890733894303,0.1923950171572903,0.17528984033996958,-0.05627900857472087,-0.09464981393955554,0.1109203403862901,0.3506712561808483,0.11860998679044508,0.27273654934561664,0.5451708797402759,-1.3239800797756898,0.7176173593819158,0.6390897967980106,0.6298020357295875,0.9055103909277578,-0.5904176841467053,-0.38213674321117597,-0.9321460998531019,-2.0527241542088164,-0.1355015868759311,-0.15560692657213374,-1.3234419856299242,0.004612749239376862,-0.3533749773258972,-1.2778073755305988,-1.7334811504670158,1.5287980300400834,-1.0900212287039468,1.3066976573006288,0.6829609453885492,-0.024493571992407752,-1.6644241198636218,-1.3552223151228506,-0.7758460191490981,0.52074640219068,-0.5953760210764978,0.696233766527075,-0.714162783949475,0.3429087064661106,0.12880671947928052,0.1253412689647578,-1.5512006665577716,1.4696417176119942,-1.7740325324274242,2.105809697884221,1.9167099561167036,0.7480215913254173,0.7625036829256576,-1.086117863919513,0.4781593150768092,0.7240428405447898,-0.503627557293303,-1.221663772912323,-0.20754934209619638,-1.3419782859135356,0.216215597439171,1.0145615004449249,-1.0220756896864085,0.49363860464637543,-0.01599908409568637,-1.1470627595685077,-1.023726974752981,0.6660548760380969,-0.1311469267172626,1.1191657681276326,-1.5810786212139951,0.8160942888787959,0.06088517630432691,-1.2352546602277445,-0.2717692097212096,-1.0431055662718702,0.13134247407032018,-0.7790614189607978,0.5434045328072897,-1.1755407507532878,0.008915452173938613,0.16280786785568127,-0.6573273421596642,-0.274646533946732,-0.655594361876358],\"type\":\"scatter\"},{\"line\":{\"color\":\"rgba(55, 128, 191, 1.0)\",\"dash\":\"solid\",\"shape\":\"linear\",\"width\":1.3},\"mode\":\"lines\",\"name\":\"B\",\"text\":\"\",\"x\":[0,1,2,3,4,5,6,7,8,9,10,11,12,13,14,15,16,17,18,19,20,21,22,23,24,25,26,27,28,29,30,31,32,33,34,35,36,37,38,39,40,41,42,43,44,45,46,47,48,49,50,51,52,53,54,55,56,57,58,59,60,61,62,63,64,65,66,67,68,69,70,71,72,73,74,75,76,77,78,79,80,81,82,83,84,85,86,87,88,89,90,91,92,93,94,95,96,97,98,99],\"y\":[-0.8340773682113504,0.49123188788963057,-1.9000715568691215,-0.6876295998356547,-0.8538273111014857,1.5511189563186973,1.7916810535863585,-1.2384131342672389,-0.11282532877192572,0.35044387501754315,-0.3725563064013367,-0.5978080296220267,-0.7459415602962436,-0.8062931680433271,-0.41309712402120896,-0.7677684801488446,-1.6237362987866557,-1.3867124997696776,-0.03384343479363602,0.312953792426409,0.43354850664087274,0.11571251414975957,0.7356381212190469,-0.8182781601100041,0.7278710012373059,0.27080432822538103,-0.45224220610112037,1.3889328686699598,0.35415339359074693,1.321491480875497,0.5604879797874698,-2.1780949287932843,0.6772032297272086,0.5068100984347181,0.05294343849021371,0.6762701198557137,-0.41125546955848485,0.9490592885359114,0.9579881061090255,-0.08746731970232335,0.1753148386032337,0.35330636557589246,0.6092976837114229,-0.9897685548060738,1.0082812941583785,-0.07112634100972726,0.7534094755071289,-1.2236591466919062,-0.44741573370710913,-1.056571932317002,-0.6351166490247284,-0.1152534608551299,-0.2753704370824422,-0.03361895378725087,-1.032713772532709,1.2604190210644386,1.6305359116844174,0.28304773071397693,0.46460766770949186,0.9430557112402934,0.8807024197847123,-0.7315449933931041,-0.4801700510822656,0.12234105041850767,-0.8904252461076889,-0.8682230097651995,0.8089776470552416,-0.442143722727833,1.0062933868477435,0.9789586586064842,-0.25604556494295583,-0.8081304318643974,0.32241893796007687,2.9455052125197785,1.0189696497125427,0.24788985930538732,1.136303601810519,-1.3946078662938228,-1.2292418224455168,-1.9150740479746733,-1.0297445925889328,0.8098970537565258,-1.569253924464807,-0.9896971663270222,-0.7057472240000185,0.2204458262981922,0.3173361097439095,-0.5153534162955274,-0.26708392326561814,0.7759496323233144,0.3730259777582601,1.575662623566695,1.1570045050500222,-0.06068007372528039,-1.2513600529835396,0.03669689340334888,0.18579450181477772,-0.16287815628323127,2.0901663180753256,0.9071005520448465],\"type\":\"scatter\"},{\"connectgaps\":false,\"fill\":\"tozeroy\",\"line\":{\"color\":\"green\",\"dash\":\"solid\",\"shape\":\"linear\",\"width\":0.5},\"mode\":\"lines\",\"name\":\"Spread\",\"showlegend\":false,\"x\":[0,1,2,3,4,5,6,7,8,9,10,11,12,13,14,15,16,17,18,19,20,21,22,23,24,25,26,27,28,29,30,31,32,33,34,35,36,37,38,39,40,41,42,43,44,45,46,47,48,49,50,51,52,53,54,55,56,57,58,59,60,61,62,63,64,65,66,67,68,69,70,71,72,73,74,75,76,77,78,79,80,81,82,83,84,85,86,87,88,89,90,91,92,93,94,95,96,97,98,99],\"xaxis\":\"x2\",\"y\":[2.1091235753342503,0.5652087131010116,0.6429852054810037,0.8263288448095061,0.4531641357915585,\"\",\"\",1.0310643104076376,\"\",1.1831398341997577,1.2427210576903154,0.7974057638428496,\"\",1.6733790565053397,1.1658028695556883,1.0084566177552723,0.19906330759482094,0.020374146290233597,\"\",\"\",\"\",0.07668250300753073,\"\",0.7619991515352832,\"\",\"\",0.8029134622819687,\"\",\"\",\"\",\"\",2.8957122881752,\"\",0.12299193729486935,0.8525669524375441,\"\",0.029118726347308888,\"\",\"\",\"\",\"\",\"\",\"\",0.6363935774801767,\"\",\"\",0.7753885545329545,0.13363791798795943,1.754113391007738,1.7395328777055512,0.6106230770323207,\"\",\"\",\"\",1.553460174723389,\"\",\"\",\"\",\"\",\"\",\"\",\"\",1.9498117686942598,\"\",2.99623494399191,2.784932965881903,\"\",1.2046474056534906,\"\",\"\",0.9800884054877457,0.3045028745710944,\"\",\"\",\"\",\"\",\"\",0.37253217660741433,1.7228804270918923,1.899074963878987,\"\",\"\",2.235308800502904,0.8585502396097596,1.824912992127651,\"\",0.49875817913488635,0.5762385925998543,\"\",\"\",\"\",\"\",\"\",0.6040846065325701,0.0758193022302518,\"\",\"\",\"\",\"\",\"\"],\"yaxis\":\"y2\",\"type\":\"scatter\"},{\"connectgaps\":false,\"fill\":\"tozeroy\",\"line\":{\"color\":\"red\",\"dash\":\"solid\",\"shape\":\"linear\",\"width\":0.5},\"mode\":\"lines\",\"name\":\"Spread\",\"showlegend\":false,\"x\":[0,1,2,3,4,5,6,7,8,9,10,11,12,13,14,15,16,17,18,19,20,21,22,23,24,25,26,27,28,29,30,31,32,33,34,35,36,37,38,39,40,41,42,43,44,45,46,47,48,49,50,51,52,53,54,55,56,57,58,59,60,61,62,63,64,65,66,67,68,69,70,71,72,73,74,75,76,77,78,79,80,81,82,83,84,85,86,87,88,89,90,91,92,93,94,95,96,97,98,99],\"xaxis\":\"x2\",\"y\":[\"\",\"\",\"\",\"\",\"\",-0.7786242423170123,-1.4450529880802114,\"\",-1.047734618163726,\"\",\"\",\"\",-0.025428085008666557,\"\",\"\",\"\",\"\",\"\",-2.476689437810683,-0.7537170465080977,-0.705637580030303,\"\",-0.5603482808790774,\"\",-0.8225208151768614,-0.1598839878390909,\"\",-1.2703228818795147,-0.0814168442451303,-0.7763206011352211,-1.8844680595631595,\"\",-0.038113432929198,\"\",\"\",-1.266687804002419,\"\",-1.8812053883890134,-3.010712260317842,-0.04803426717360776,-0.3309217651753674,-1.6767483512058168,-0.6046849344720461,\"\",-2.2860886696889775,-1.6623548094572884,\"\",\"\",\"\",\"\",\"\",-1.549170659008492,-1.0798518780404085,-0.7422270653618472,\"\",-1.8557950421409364,-0.9343021451573423,-0.9972105146634519,-0.12169896124338125,-0.814248991761013,-0.7553611508199545,-0.8196556731646675,\"\",-1.8963735828459318,\"\",\"\",-0.06095605572982421,\"\",-2.0924112507672565,-0.500799343529675,\"\",\"\",-1.5440827108723998,-3.153054554615975,-2.3609479356260783,-0.03167426186621633,-0.12174210136559416,\"\",\"\",\"\",-0.11731816697957487,-1.8336240285095067,\"\",\"\",\"\",-1.8015244475121874,\"\",\"\",-0.9681707369621264,-1.047718842044524,-1.4161315440301303,-1.4443201494963749,-1.93606592401082,\"\",\"\",-0.027781441229410272,-0.022986633959096447,-0.4944491858764329,-2.3648128520220575,-1.5626949139212045],\"yaxis\":\"y2\",\"type\":\"scatter\"}],                        {\"hovermode\":\"x\",\"legend\":{\"bgcolor\":\"#F5F6F9\",\"font\":{\"color\":\"#4D5663\"}},\"paper_bgcolor\":\"#F5F6F9\",\"plot_bgcolor\":\"#F5F6F9\",\"template\":{\"data\":{\"barpolar\":[{\"marker\":{\"line\":{\"color\":\"#E5ECF6\",\"width\":0.5},\"pattern\":{\"fillmode\":\"overlay\",\"size\":10,\"solidity\":0.2}},\"type\":\"barpolar\"}],\"bar\":[{\"error_x\":{\"color\":\"#2a3f5f\"},\"error_y\":{\"color\":\"#2a3f5f\"},\"marker\":{\"line\":{\"color\":\"#E5ECF6\",\"width\":0.5},\"pattern\":{\"fillmode\":\"overlay\",\"size\":10,\"solidity\":0.2}},\"type\":\"bar\"}],\"carpet\":[{\"aaxis\":{\"endlinecolor\":\"#2a3f5f\",\"gridcolor\":\"white\",\"linecolor\":\"white\",\"minorgridcolor\":\"white\",\"startlinecolor\":\"#2a3f5f\"},\"baxis\":{\"endlinecolor\":\"#2a3f5f\",\"gridcolor\":\"white\",\"linecolor\":\"white\",\"minorgridcolor\":\"white\",\"startlinecolor\":\"#2a3f5f\"},\"type\":\"carpet\"}],\"choropleth\":[{\"colorbar\":{\"outlinewidth\":0,\"ticks\":\"\"},\"type\":\"choropleth\"}],\"contourcarpet\":[{\"colorbar\":{\"outlinewidth\":0,\"ticks\":\"\"},\"type\":\"contourcarpet\"}],\"contour\":[{\"colorbar\":{\"outlinewidth\":0,\"ticks\":\"\"},\"colorscale\":[[0.0,\"#0d0887\"],[0.1111111111111111,\"#46039f\"],[0.2222222222222222,\"#7201a8\"],[0.3333333333333333,\"#9c179e\"],[0.4444444444444444,\"#bd3786\"],[0.5555555555555556,\"#d8576b\"],[0.6666666666666666,\"#ed7953\"],[0.7777777777777778,\"#fb9f3a\"],[0.8888888888888888,\"#fdca26\"],[1.0,\"#f0f921\"]],\"type\":\"contour\"}],\"heatmapgl\":[{\"colorbar\":{\"outlinewidth\":0,\"ticks\":\"\"},\"colorscale\":[[0.0,\"#0d0887\"],[0.1111111111111111,\"#46039f\"],[0.2222222222222222,\"#7201a8\"],[0.3333333333333333,\"#9c179e\"],[0.4444444444444444,\"#bd3786\"],[0.5555555555555556,\"#d8576b\"],[0.6666666666666666,\"#ed7953\"],[0.7777777777777778,\"#fb9f3a\"],[0.8888888888888888,\"#fdca26\"],[1.0,\"#f0f921\"]],\"type\":\"heatmapgl\"}],\"heatmap\":[{\"colorbar\":{\"outlinewidth\":0,\"ticks\":\"\"},\"colorscale\":[[0.0,\"#0d0887\"],[0.1111111111111111,\"#46039f\"],[0.2222222222222222,\"#7201a8\"],[0.3333333333333333,\"#9c179e\"],[0.4444444444444444,\"#bd3786\"],[0.5555555555555556,\"#d8576b\"],[0.6666666666666666,\"#ed7953\"],[0.7777777777777778,\"#fb9f3a\"],[0.8888888888888888,\"#fdca26\"],[1.0,\"#f0f921\"]],\"type\":\"heatmap\"}],\"histogram2dcontour\":[{\"colorbar\":{\"outlinewidth\":0,\"ticks\":\"\"},\"colorscale\":[[0.0,\"#0d0887\"],[0.1111111111111111,\"#46039f\"],[0.2222222222222222,\"#7201a8\"],[0.3333333333333333,\"#9c179e\"],[0.4444444444444444,\"#bd3786\"],[0.5555555555555556,\"#d8576b\"],[0.6666666666666666,\"#ed7953\"],[0.7777777777777778,\"#fb9f3a\"],[0.8888888888888888,\"#fdca26\"],[1.0,\"#f0f921\"]],\"type\":\"histogram2dcontour\"}],\"histogram2d\":[{\"colorbar\":{\"outlinewidth\":0,\"ticks\":\"\"},\"colorscale\":[[0.0,\"#0d0887\"],[0.1111111111111111,\"#46039f\"],[0.2222222222222222,\"#7201a8\"],[0.3333333333333333,\"#9c179e\"],[0.4444444444444444,\"#bd3786\"],[0.5555555555555556,\"#d8576b\"],[0.6666666666666666,\"#ed7953\"],[0.7777777777777778,\"#fb9f3a\"],[0.8888888888888888,\"#fdca26\"],[1.0,\"#f0f921\"]],\"type\":\"histogram2d\"}],\"histogram\":[{\"marker\":{\"pattern\":{\"fillmode\":\"overlay\",\"size\":10,\"solidity\":0.2}},\"type\":\"histogram\"}],\"mesh3d\":[{\"colorbar\":{\"outlinewidth\":0,\"ticks\":\"\"},\"type\":\"mesh3d\"}],\"parcoords\":[{\"line\":{\"colorbar\":{\"outlinewidth\":0,\"ticks\":\"\"}},\"type\":\"parcoords\"}],\"pie\":[{\"automargin\":true,\"type\":\"pie\"}],\"scatter3d\":[{\"line\":{\"colorbar\":{\"outlinewidth\":0,\"ticks\":\"\"}},\"marker\":{\"colorbar\":{\"outlinewidth\":0,\"ticks\":\"\"}},\"type\":\"scatter3d\"}],\"scattercarpet\":[{\"marker\":{\"colorbar\":{\"outlinewidth\":0,\"ticks\":\"\"}},\"type\":\"scattercarpet\"}],\"scattergeo\":[{\"marker\":{\"colorbar\":{\"outlinewidth\":0,\"ticks\":\"\"}},\"type\":\"scattergeo\"}],\"scattergl\":[{\"marker\":{\"colorbar\":{\"outlinewidth\":0,\"ticks\":\"\"}},\"type\":\"scattergl\"}],\"scattermapbox\":[{\"marker\":{\"colorbar\":{\"outlinewidth\":0,\"ticks\":\"\"}},\"type\":\"scattermapbox\"}],\"scatterpolargl\":[{\"marker\":{\"colorbar\":{\"outlinewidth\":0,\"ticks\":\"\"}},\"type\":\"scatterpolargl\"}],\"scatterpolar\":[{\"marker\":{\"colorbar\":{\"outlinewidth\":0,\"ticks\":\"\"}},\"type\":\"scatterpolar\"}],\"scatter\":[{\"marker\":{\"colorbar\":{\"outlinewidth\":0,\"ticks\":\"\"}},\"type\":\"scatter\"}],\"scatterternary\":[{\"marker\":{\"colorbar\":{\"outlinewidth\":0,\"ticks\":\"\"}},\"type\":\"scatterternary\"}],\"surface\":[{\"colorbar\":{\"outlinewidth\":0,\"ticks\":\"\"},\"colorscale\":[[0.0,\"#0d0887\"],[0.1111111111111111,\"#46039f\"],[0.2222222222222222,\"#7201a8\"],[0.3333333333333333,\"#9c179e\"],[0.4444444444444444,\"#bd3786\"],[0.5555555555555556,\"#d8576b\"],[0.6666666666666666,\"#ed7953\"],[0.7777777777777778,\"#fb9f3a\"],[0.8888888888888888,\"#fdca26\"],[1.0,\"#f0f921\"]],\"type\":\"surface\"}],\"table\":[{\"cells\":{\"fill\":{\"color\":\"#EBF0F8\"},\"line\":{\"color\":\"white\"}},\"header\":{\"fill\":{\"color\":\"#C8D4E3\"},\"line\":{\"color\":\"white\"}},\"type\":\"table\"}]},\"layout\":{\"annotationdefaults\":{\"arrowcolor\":\"#2a3f5f\",\"arrowhead\":0,\"arrowwidth\":1},\"autotypenumbers\":\"strict\",\"coloraxis\":{\"colorbar\":{\"outlinewidth\":0,\"ticks\":\"\"}},\"colorscale\":{\"diverging\":[[0,\"#8e0152\"],[0.1,\"#c51b7d\"],[0.2,\"#de77ae\"],[0.3,\"#f1b6da\"],[0.4,\"#fde0ef\"],[0.5,\"#f7f7f7\"],[0.6,\"#e6f5d0\"],[0.7,\"#b8e186\"],[0.8,\"#7fbc41\"],[0.9,\"#4d9221\"],[1,\"#276419\"]],\"sequential\":[[0.0,\"#0d0887\"],[0.1111111111111111,\"#46039f\"],[0.2222222222222222,\"#7201a8\"],[0.3333333333333333,\"#9c179e\"],[0.4444444444444444,\"#bd3786\"],[0.5555555555555556,\"#d8576b\"],[0.6666666666666666,\"#ed7953\"],[0.7777777777777778,\"#fb9f3a\"],[0.8888888888888888,\"#fdca26\"],[1.0,\"#f0f921\"]],\"sequentialminus\":[[0.0,\"#0d0887\"],[0.1111111111111111,\"#46039f\"],[0.2222222222222222,\"#7201a8\"],[0.3333333333333333,\"#9c179e\"],[0.4444444444444444,\"#bd3786\"],[0.5555555555555556,\"#d8576b\"],[0.6666666666666666,\"#ed7953\"],[0.7777777777777778,\"#fb9f3a\"],[0.8888888888888888,\"#fdca26\"],[1.0,\"#f0f921\"]]},\"colorway\":[\"#636efa\",\"#EF553B\",\"#00cc96\",\"#ab63fa\",\"#FFA15A\",\"#19d3f3\",\"#FF6692\",\"#B6E880\",\"#FF97FF\",\"#FECB52\"],\"font\":{\"color\":\"#2a3f5f\"},\"geo\":{\"bgcolor\":\"white\",\"lakecolor\":\"white\",\"landcolor\":\"#E5ECF6\",\"showlakes\":true,\"showland\":true,\"subunitcolor\":\"white\"},\"hoverlabel\":{\"align\":\"left\"},\"hovermode\":\"closest\",\"mapbox\":{\"style\":\"light\"},\"paper_bgcolor\":\"white\",\"plot_bgcolor\":\"#E5ECF6\",\"polar\":{\"angularaxis\":{\"gridcolor\":\"white\",\"linecolor\":\"white\",\"ticks\":\"\"},\"bgcolor\":\"#E5ECF6\",\"radialaxis\":{\"gridcolor\":\"white\",\"linecolor\":\"white\",\"ticks\":\"\"}},\"scene\":{\"xaxis\":{\"backgroundcolor\":\"#E5ECF6\",\"gridcolor\":\"white\",\"gridwidth\":2,\"linecolor\":\"white\",\"showbackground\":true,\"ticks\":\"\",\"zerolinecolor\":\"white\"},\"yaxis\":{\"backgroundcolor\":\"#E5ECF6\",\"gridcolor\":\"white\",\"gridwidth\":2,\"linecolor\":\"white\",\"showbackground\":true,\"ticks\":\"\",\"zerolinecolor\":\"white\"},\"zaxis\":{\"backgroundcolor\":\"#E5ECF6\",\"gridcolor\":\"white\",\"gridwidth\":2,\"linecolor\":\"white\",\"showbackground\":true,\"ticks\":\"\",\"zerolinecolor\":\"white\"}},\"shapedefaults\":{\"line\":{\"color\":\"#2a3f5f\"}},\"ternary\":{\"aaxis\":{\"gridcolor\":\"white\",\"linecolor\":\"white\",\"ticks\":\"\"},\"baxis\":{\"gridcolor\":\"white\",\"linecolor\":\"white\",\"ticks\":\"\"},\"bgcolor\":\"#E5ECF6\",\"caxis\":{\"gridcolor\":\"white\",\"linecolor\":\"white\",\"ticks\":\"\"}},\"title\":{\"x\":0.05},\"xaxis\":{\"automargin\":true,\"gridcolor\":\"white\",\"linecolor\":\"white\",\"ticks\":\"\",\"title\":{\"standoff\":15},\"zerolinecolor\":\"white\",\"zerolinewidth\":2},\"yaxis\":{\"automargin\":true,\"gridcolor\":\"white\",\"linecolor\":\"white\",\"ticks\":\"\",\"title\":{\"standoff\":15},\"zerolinecolor\":\"white\",\"zerolinewidth\":2}}},\"title\":{\"font\":{\"color\":\"#4D5663\"}},\"xaxis\":{\"gridcolor\":\"#E1E5ED\",\"showgrid\":true,\"tickfont\":{\"color\":\"#4D5663\"},\"title\":{\"font\":{\"color\":\"#4D5663\"},\"text\":\"\"},\"zerolinecolor\":\"#E1E5ED\"},\"yaxis\":{\"domain\":[0.3,1],\"gridcolor\":\"#E1E5ED\",\"showgrid\":true,\"tickfont\":{\"color\":\"#4D5663\"},\"title\":{\"font\":{\"color\":\"#4D5663\"},\"text\":\"\"},\"zerolinecolor\":\"#E1E5ED\"},\"yaxis2\":{\"domain\":[0,0.25],\"gridcolor\":\"#E1E5ED\",\"showgrid\":true,\"tickfont\":{\"color\":\"#4D5663\"},\"title\":{\"font\":{\"color\":\"#4D5663\"},\"text\":\"Spread\"},\"zerolinecolor\":\"#E1E5ED\"},\"xaxis2\":{\"anchor\":\"y2\",\"gridcolor\":\"#E1E5ED\",\"showgrid\":true,\"showticklabels\":false,\"tickfont\":{\"color\":\"#4D5663\"},\"title\":{\"font\":{\"color\":\"#4D5663\"},\"text\":\"\"},\"zerolinecolor\":\"#E1E5ED\"}},                        {\"showLink\": true, \"linkText\": \"Export to plot.ly\", \"plotlyServerURL\": \"https://plot.ly\", \"responsive\": true}                    ).then(function(){\n",
       "                            \n",
       "var gd = document.getElementById('33db2bde-fa32-452a-8223-922843d9740b');\n",
       "var x = new MutationObserver(function (mutations, observer) {{\n",
       "        var display = window.getComputedStyle(gd).display;\n",
       "        if (!display || display === 'none') {{\n",
       "            console.log([gd, 'removed!']);\n",
       "            Plotly.purge(gd);\n",
       "            observer.disconnect();\n",
       "        }}\n",
       "}});\n",
       "\n",
       "// Listen for the removal of the full notebook cells\n",
       "var notebookContainer = gd.closest('#notebook-container');\n",
       "if (notebookContainer) {{\n",
       "    x.observe(notebookContainer, {childList: true});\n",
       "}}\n",
       "\n",
       "// Listen for the clearing of the current output cell\n",
       "var outputEl = gd.closest('.output');\n",
       "if (outputEl) {{\n",
       "    x.observe(outputEl, {childList: true});\n",
       "}}\n",
       "\n",
       "                        })                };                });            </script>        </div>"
      ]
     },
     "metadata": {},
     "output_type": "display_data"
    }
   ],
   "source": [
    "df[['A','B']].iplot(kind='spread')"
   ]
  },
  {
   "cell_type": "markdown",
   "metadata": {},
   "source": [
    "## histogram"
   ]
  },
  {
   "cell_type": "code",
   "execution_count": 16,
   "metadata": {
    "collapsed": false
   },
   "outputs": [
    {
     "data": {
      "application/vnd.plotly.v1+json": {
       "config": {
        "linkText": "Export to plot.ly",
        "plotlyServerURL": "https://plot.ly",
        "showLink": true
       },
       "data": [
        {
         "histfunc": "count",
         "histnorm": "",
         "marker": {
          "color": "rgba(255, 153, 51, 1.0)",
          "line": {
           "color": "#4D5663",
           "width": 1.3
          }
         },
         "name": "A",
         "nbinsx": 25,
         "opacity": 0.8,
         "orientation": "v",
         "type": "histogram",
         "x": [
          1.2750462071228998,
          1.0564406009906422,
          -1.2570863513881179,
          0.1386992449738513,
          -0.4006631753099272,
          0.772494714001685,
          0.3466280655061471,
          -0.20734882385960135,
          -1.1605599469356516,
          1.5335837092173008,
          0.8701647512889786,
          0.19959773422082286,
          -0.7713696453049101,
          0.8670858884620127,
          0.7527057455344794,
          0.2406881376064278,
          -1.4246729911918348,
          -1.366338353479444,
          -2.510532872604319,
          -0.44076325408168865,
          -0.2720890733894303,
          0.1923950171572903,
          0.17528984033996958,
          -0.05627900857472087,
          -0.09464981393955554,
          0.1109203403862901,
          0.3506712561808483,
          0.11860998679044508,
          0.27273654934561664,
          0.5451708797402759,
          -1.3239800797756898,
          0.7176173593819158,
          0.6390897967980106,
          0.6298020357295875,
          0.9055103909277578,
          -0.5904176841467053,
          -0.38213674321117597,
          -0.9321460998531019,
          -2.0527241542088164,
          -0.1355015868759311,
          -0.15560692657213374,
          -1.3234419856299242,
          0.004612749239376862,
          -0.3533749773258972,
          -1.2778073755305988,
          -1.7334811504670158,
          1.5287980300400834,
          -1.0900212287039468,
          1.3066976573006288,
          0.6829609453885492,
          -0.024493571992407752,
          -1.6644241198636218,
          -1.3552223151228506,
          -0.7758460191490981,
          0.52074640219068,
          -0.5953760210764978,
          0.696233766527075,
          -0.714162783949475,
          0.3429087064661106,
          0.12880671947928052,
          0.1253412689647578,
          -1.5512006665577716,
          1.4696417176119942,
          -1.7740325324274242,
          2.105809697884221,
          1.9167099561167036,
          0.7480215913254173,
          0.7625036829256576,
          -1.086117863919513,
          0.4781593150768092,
          0.7240428405447898,
          -0.503627557293303,
          -1.221663772912323,
          -0.20754934209619638,
          -1.3419782859135356,
          0.216215597439171,
          1.0145615004449249,
          -1.0220756896864085,
          0.49363860464637543,
          -0.01599908409568637,
          -1.1470627595685077,
          -1.023726974752981,
          0.6660548760380969,
          -0.1311469267172626,
          1.1191657681276326,
          -1.5810786212139951,
          0.8160942888787959,
          0.06088517630432691,
          -1.2352546602277445,
          -0.2717692097212096,
          -1.0431055662718702,
          0.13134247407032018,
          -0.7790614189607978,
          0.5434045328072897,
          -1.1755407507532878,
          0.008915452173938613,
          0.16280786785568127,
          -0.6573273421596642,
          -0.274646533946732,
          -0.655594361876358
         ]
        }
       ],
       "layout": {
        "barmode": "overlay",
        "legend": {
         "bgcolor": "#F5F6F9",
         "font": {
          "color": "#4D5663"
         }
        },
        "paper_bgcolor": "#F5F6F9",
        "plot_bgcolor": "#F5F6F9",
        "template": {
         "data": {
          "bar": [
           {
            "error_x": {
             "color": "#2a3f5f"
            },
            "error_y": {
             "color": "#2a3f5f"
            },
            "marker": {
             "line": {
              "color": "#E5ECF6",
              "width": 0.5
             },
             "pattern": {
              "fillmode": "overlay",
              "size": 10,
              "solidity": 0.2
             }
            },
            "type": "bar"
           }
          ],
          "barpolar": [
           {
            "marker": {
             "line": {
              "color": "#E5ECF6",
              "width": 0.5
             },
             "pattern": {
              "fillmode": "overlay",
              "size": 10,
              "solidity": 0.2
             }
            },
            "type": "barpolar"
           }
          ],
          "carpet": [
           {
            "aaxis": {
             "endlinecolor": "#2a3f5f",
             "gridcolor": "white",
             "linecolor": "white",
             "minorgridcolor": "white",
             "startlinecolor": "#2a3f5f"
            },
            "baxis": {
             "endlinecolor": "#2a3f5f",
             "gridcolor": "white",
             "linecolor": "white",
             "minorgridcolor": "white",
             "startlinecolor": "#2a3f5f"
            },
            "type": "carpet"
           }
          ],
          "choropleth": [
           {
            "colorbar": {
             "outlinewidth": 0,
             "ticks": ""
            },
            "type": "choropleth"
           }
          ],
          "contour": [
           {
            "colorbar": {
             "outlinewidth": 0,
             "ticks": ""
            },
            "colorscale": [
             [
              0,
              "#0d0887"
             ],
             [
              0.1111111111111111,
              "#46039f"
             ],
             [
              0.2222222222222222,
              "#7201a8"
             ],
             [
              0.3333333333333333,
              "#9c179e"
             ],
             [
              0.4444444444444444,
              "#bd3786"
             ],
             [
              0.5555555555555556,
              "#d8576b"
             ],
             [
              0.6666666666666666,
              "#ed7953"
             ],
             [
              0.7777777777777778,
              "#fb9f3a"
             ],
             [
              0.8888888888888888,
              "#fdca26"
             ],
             [
              1,
              "#f0f921"
             ]
            ],
            "type": "contour"
           }
          ],
          "contourcarpet": [
           {
            "colorbar": {
             "outlinewidth": 0,
             "ticks": ""
            },
            "type": "contourcarpet"
           }
          ],
          "heatmap": [
           {
            "colorbar": {
             "outlinewidth": 0,
             "ticks": ""
            },
            "colorscale": [
             [
              0,
              "#0d0887"
             ],
             [
              0.1111111111111111,
              "#46039f"
             ],
             [
              0.2222222222222222,
              "#7201a8"
             ],
             [
              0.3333333333333333,
              "#9c179e"
             ],
             [
              0.4444444444444444,
              "#bd3786"
             ],
             [
              0.5555555555555556,
              "#d8576b"
             ],
             [
              0.6666666666666666,
              "#ed7953"
             ],
             [
              0.7777777777777778,
              "#fb9f3a"
             ],
             [
              0.8888888888888888,
              "#fdca26"
             ],
             [
              1,
              "#f0f921"
             ]
            ],
            "type": "heatmap"
           }
          ],
          "heatmapgl": [
           {
            "colorbar": {
             "outlinewidth": 0,
             "ticks": ""
            },
            "colorscale": [
             [
              0,
              "#0d0887"
             ],
             [
              0.1111111111111111,
              "#46039f"
             ],
             [
              0.2222222222222222,
              "#7201a8"
             ],
             [
              0.3333333333333333,
              "#9c179e"
             ],
             [
              0.4444444444444444,
              "#bd3786"
             ],
             [
              0.5555555555555556,
              "#d8576b"
             ],
             [
              0.6666666666666666,
              "#ed7953"
             ],
             [
              0.7777777777777778,
              "#fb9f3a"
             ],
             [
              0.8888888888888888,
              "#fdca26"
             ],
             [
              1,
              "#f0f921"
             ]
            ],
            "type": "heatmapgl"
           }
          ],
          "histogram": [
           {
            "marker": {
             "pattern": {
              "fillmode": "overlay",
              "size": 10,
              "solidity": 0.2
             }
            },
            "type": "histogram"
           }
          ],
          "histogram2d": [
           {
            "colorbar": {
             "outlinewidth": 0,
             "ticks": ""
            },
            "colorscale": [
             [
              0,
              "#0d0887"
             ],
             [
              0.1111111111111111,
              "#46039f"
             ],
             [
              0.2222222222222222,
              "#7201a8"
             ],
             [
              0.3333333333333333,
              "#9c179e"
             ],
             [
              0.4444444444444444,
              "#bd3786"
             ],
             [
              0.5555555555555556,
              "#d8576b"
             ],
             [
              0.6666666666666666,
              "#ed7953"
             ],
             [
              0.7777777777777778,
              "#fb9f3a"
             ],
             [
              0.8888888888888888,
              "#fdca26"
             ],
             [
              1,
              "#f0f921"
             ]
            ],
            "type": "histogram2d"
           }
          ],
          "histogram2dcontour": [
           {
            "colorbar": {
             "outlinewidth": 0,
             "ticks": ""
            },
            "colorscale": [
             [
              0,
              "#0d0887"
             ],
             [
              0.1111111111111111,
              "#46039f"
             ],
             [
              0.2222222222222222,
              "#7201a8"
             ],
             [
              0.3333333333333333,
              "#9c179e"
             ],
             [
              0.4444444444444444,
              "#bd3786"
             ],
             [
              0.5555555555555556,
              "#d8576b"
             ],
             [
              0.6666666666666666,
              "#ed7953"
             ],
             [
              0.7777777777777778,
              "#fb9f3a"
             ],
             [
              0.8888888888888888,
              "#fdca26"
             ],
             [
              1,
              "#f0f921"
             ]
            ],
            "type": "histogram2dcontour"
           }
          ],
          "mesh3d": [
           {
            "colorbar": {
             "outlinewidth": 0,
             "ticks": ""
            },
            "type": "mesh3d"
           }
          ],
          "parcoords": [
           {
            "line": {
             "colorbar": {
              "outlinewidth": 0,
              "ticks": ""
             }
            },
            "type": "parcoords"
           }
          ],
          "pie": [
           {
            "automargin": true,
            "type": "pie"
           }
          ],
          "scatter": [
           {
            "marker": {
             "colorbar": {
              "outlinewidth": 0,
              "ticks": ""
             }
            },
            "type": "scatter"
           }
          ],
          "scatter3d": [
           {
            "line": {
             "colorbar": {
              "outlinewidth": 0,
              "ticks": ""
             }
            },
            "marker": {
             "colorbar": {
              "outlinewidth": 0,
              "ticks": ""
             }
            },
            "type": "scatter3d"
           }
          ],
          "scattercarpet": [
           {
            "marker": {
             "colorbar": {
              "outlinewidth": 0,
              "ticks": ""
             }
            },
            "type": "scattercarpet"
           }
          ],
          "scattergeo": [
           {
            "marker": {
             "colorbar": {
              "outlinewidth": 0,
              "ticks": ""
             }
            },
            "type": "scattergeo"
           }
          ],
          "scattergl": [
           {
            "marker": {
             "colorbar": {
              "outlinewidth": 0,
              "ticks": ""
             }
            },
            "type": "scattergl"
           }
          ],
          "scattermapbox": [
           {
            "marker": {
             "colorbar": {
              "outlinewidth": 0,
              "ticks": ""
             }
            },
            "type": "scattermapbox"
           }
          ],
          "scatterpolar": [
           {
            "marker": {
             "colorbar": {
              "outlinewidth": 0,
              "ticks": ""
             }
            },
            "type": "scatterpolar"
           }
          ],
          "scatterpolargl": [
           {
            "marker": {
             "colorbar": {
              "outlinewidth": 0,
              "ticks": ""
             }
            },
            "type": "scatterpolargl"
           }
          ],
          "scatterternary": [
           {
            "marker": {
             "colorbar": {
              "outlinewidth": 0,
              "ticks": ""
             }
            },
            "type": "scatterternary"
           }
          ],
          "surface": [
           {
            "colorbar": {
             "outlinewidth": 0,
             "ticks": ""
            },
            "colorscale": [
             [
              0,
              "#0d0887"
             ],
             [
              0.1111111111111111,
              "#46039f"
             ],
             [
              0.2222222222222222,
              "#7201a8"
             ],
             [
              0.3333333333333333,
              "#9c179e"
             ],
             [
              0.4444444444444444,
              "#bd3786"
             ],
             [
              0.5555555555555556,
              "#d8576b"
             ],
             [
              0.6666666666666666,
              "#ed7953"
             ],
             [
              0.7777777777777778,
              "#fb9f3a"
             ],
             [
              0.8888888888888888,
              "#fdca26"
             ],
             [
              1,
              "#f0f921"
             ]
            ],
            "type": "surface"
           }
          ],
          "table": [
           {
            "cells": {
             "fill": {
              "color": "#EBF0F8"
             },
             "line": {
              "color": "white"
             }
            },
            "header": {
             "fill": {
              "color": "#C8D4E3"
             },
             "line": {
              "color": "white"
             }
            },
            "type": "table"
           }
          ]
         },
         "layout": {
          "annotationdefaults": {
           "arrowcolor": "#2a3f5f",
           "arrowhead": 0,
           "arrowwidth": 1
          },
          "autotypenumbers": "strict",
          "coloraxis": {
           "colorbar": {
            "outlinewidth": 0,
            "ticks": ""
           }
          },
          "colorscale": {
           "diverging": [
            [
             0,
             "#8e0152"
            ],
            [
             0.1,
             "#c51b7d"
            ],
            [
             0.2,
             "#de77ae"
            ],
            [
             0.3,
             "#f1b6da"
            ],
            [
             0.4,
             "#fde0ef"
            ],
            [
             0.5,
             "#f7f7f7"
            ],
            [
             0.6,
             "#e6f5d0"
            ],
            [
             0.7,
             "#b8e186"
            ],
            [
             0.8,
             "#7fbc41"
            ],
            [
             0.9,
             "#4d9221"
            ],
            [
             1,
             "#276419"
            ]
           ],
           "sequential": [
            [
             0,
             "#0d0887"
            ],
            [
             0.1111111111111111,
             "#46039f"
            ],
            [
             0.2222222222222222,
             "#7201a8"
            ],
            [
             0.3333333333333333,
             "#9c179e"
            ],
            [
             0.4444444444444444,
             "#bd3786"
            ],
            [
             0.5555555555555556,
             "#d8576b"
            ],
            [
             0.6666666666666666,
             "#ed7953"
            ],
            [
             0.7777777777777778,
             "#fb9f3a"
            ],
            [
             0.8888888888888888,
             "#fdca26"
            ],
            [
             1,
             "#f0f921"
            ]
           ],
           "sequentialminus": [
            [
             0,
             "#0d0887"
            ],
            [
             0.1111111111111111,
             "#46039f"
            ],
            [
             0.2222222222222222,
             "#7201a8"
            ],
            [
             0.3333333333333333,
             "#9c179e"
            ],
            [
             0.4444444444444444,
             "#bd3786"
            ],
            [
             0.5555555555555556,
             "#d8576b"
            ],
            [
             0.6666666666666666,
             "#ed7953"
            ],
            [
             0.7777777777777778,
             "#fb9f3a"
            ],
            [
             0.8888888888888888,
             "#fdca26"
            ],
            [
             1,
             "#f0f921"
            ]
           ]
          },
          "colorway": [
           "#636efa",
           "#EF553B",
           "#00cc96",
           "#ab63fa",
           "#FFA15A",
           "#19d3f3",
           "#FF6692",
           "#B6E880",
           "#FF97FF",
           "#FECB52"
          ],
          "font": {
           "color": "#2a3f5f"
          },
          "geo": {
           "bgcolor": "white",
           "lakecolor": "white",
           "landcolor": "#E5ECF6",
           "showlakes": true,
           "showland": true,
           "subunitcolor": "white"
          },
          "hoverlabel": {
           "align": "left"
          },
          "hovermode": "closest",
          "mapbox": {
           "style": "light"
          },
          "paper_bgcolor": "white",
          "plot_bgcolor": "#E5ECF6",
          "polar": {
           "angularaxis": {
            "gridcolor": "white",
            "linecolor": "white",
            "ticks": ""
           },
           "bgcolor": "#E5ECF6",
           "radialaxis": {
            "gridcolor": "white",
            "linecolor": "white",
            "ticks": ""
           }
          },
          "scene": {
           "xaxis": {
            "backgroundcolor": "#E5ECF6",
            "gridcolor": "white",
            "gridwidth": 2,
            "linecolor": "white",
            "showbackground": true,
            "ticks": "",
            "zerolinecolor": "white"
           },
           "yaxis": {
            "backgroundcolor": "#E5ECF6",
            "gridcolor": "white",
            "gridwidth": 2,
            "linecolor": "white",
            "showbackground": true,
            "ticks": "",
            "zerolinecolor": "white"
           },
           "zaxis": {
            "backgroundcolor": "#E5ECF6",
            "gridcolor": "white",
            "gridwidth": 2,
            "linecolor": "white",
            "showbackground": true,
            "ticks": "",
            "zerolinecolor": "white"
           }
          },
          "shapedefaults": {
           "line": {
            "color": "#2a3f5f"
           }
          },
          "ternary": {
           "aaxis": {
            "gridcolor": "white",
            "linecolor": "white",
            "ticks": ""
           },
           "baxis": {
            "gridcolor": "white",
            "linecolor": "white",
            "ticks": ""
           },
           "bgcolor": "#E5ECF6",
           "caxis": {
            "gridcolor": "white",
            "linecolor": "white",
            "ticks": ""
           }
          },
          "title": {
           "x": 0.05
          },
          "xaxis": {
           "automargin": true,
           "gridcolor": "white",
           "linecolor": "white",
           "ticks": "",
           "title": {
            "standoff": 15
           },
           "zerolinecolor": "white",
           "zerolinewidth": 2
          },
          "yaxis": {
           "automargin": true,
           "gridcolor": "white",
           "linecolor": "white",
           "ticks": "",
           "title": {
            "standoff": 15
           },
           "zerolinecolor": "white",
           "zerolinewidth": 2
          }
         }
        },
        "title": {
         "font": {
          "color": "#4D5663"
         }
        },
        "xaxis": {
         "gridcolor": "#E1E5ED",
         "showgrid": true,
         "tickfont": {
          "color": "#4D5663"
         },
         "title": {
          "font": {
           "color": "#4D5663"
          },
          "text": ""
         },
         "zerolinecolor": "#E1E5ED"
        },
        "yaxis": {
         "gridcolor": "#E1E5ED",
         "showgrid": true,
         "tickfont": {
          "color": "#4D5663"
         },
         "title": {
          "font": {
           "color": "#4D5663"
          },
          "text": ""
         },
         "zerolinecolor": "#E1E5ED"
        }
       }
      },
      "text/html": [
       "<div>                            <div id=\"1662ccc5-a8a2-4b99-bfca-1078de11dde0\" class=\"plotly-graph-div\" style=\"height:525px; width:100%;\"></div>            <script type=\"text/javascript\">                require([\"plotly\"], function(Plotly) {                    window.PLOTLYENV=window.PLOTLYENV || {};\n",
       "                    window.PLOTLYENV.BASE_URL='https://plot.ly';                                    if (document.getElementById(\"1662ccc5-a8a2-4b99-bfca-1078de11dde0\")) {                    Plotly.newPlot(                        \"1662ccc5-a8a2-4b99-bfca-1078de11dde0\",                        [{\"histfunc\":\"count\",\"histnorm\":\"\",\"marker\":{\"color\":\"rgba(255, 153, 51, 1.0)\",\"line\":{\"color\":\"#4D5663\",\"width\":1.3}},\"name\":\"A\",\"nbinsx\":25,\"opacity\":0.8,\"orientation\":\"v\",\"x\":[1.2750462071228998,1.0564406009906422,-1.2570863513881179,0.1386992449738513,-0.4006631753099272,0.772494714001685,0.3466280655061471,-0.20734882385960135,-1.1605599469356516,1.5335837092173008,0.8701647512889786,0.19959773422082286,-0.7713696453049101,0.8670858884620127,0.7527057455344794,0.2406881376064278,-1.4246729911918348,-1.366338353479444,-2.510532872604319,-0.44076325408168865,-0.2720890733894303,0.1923950171572903,0.17528984033996958,-0.05627900857472087,-0.09464981393955554,0.1109203403862901,0.3506712561808483,0.11860998679044508,0.27273654934561664,0.5451708797402759,-1.3239800797756898,0.7176173593819158,0.6390897967980106,0.6298020357295875,0.9055103909277578,-0.5904176841467053,-0.38213674321117597,-0.9321460998531019,-2.0527241542088164,-0.1355015868759311,-0.15560692657213374,-1.3234419856299242,0.004612749239376862,-0.3533749773258972,-1.2778073755305988,-1.7334811504670158,1.5287980300400834,-1.0900212287039468,1.3066976573006288,0.6829609453885492,-0.024493571992407752,-1.6644241198636218,-1.3552223151228506,-0.7758460191490981,0.52074640219068,-0.5953760210764978,0.696233766527075,-0.714162783949475,0.3429087064661106,0.12880671947928052,0.1253412689647578,-1.5512006665577716,1.4696417176119942,-1.7740325324274242,2.105809697884221,1.9167099561167036,0.7480215913254173,0.7625036829256576,-1.086117863919513,0.4781593150768092,0.7240428405447898,-0.503627557293303,-1.221663772912323,-0.20754934209619638,-1.3419782859135356,0.216215597439171,1.0145615004449249,-1.0220756896864085,0.49363860464637543,-0.01599908409568637,-1.1470627595685077,-1.023726974752981,0.6660548760380969,-0.1311469267172626,1.1191657681276326,-1.5810786212139951,0.8160942888787959,0.06088517630432691,-1.2352546602277445,-0.2717692097212096,-1.0431055662718702,0.13134247407032018,-0.7790614189607978,0.5434045328072897,-1.1755407507532878,0.008915452173938613,0.16280786785568127,-0.6573273421596642,-0.274646533946732,-0.655594361876358],\"type\":\"histogram\"}],                        {\"barmode\":\"overlay\",\"legend\":{\"bgcolor\":\"#F5F6F9\",\"font\":{\"color\":\"#4D5663\"}},\"paper_bgcolor\":\"#F5F6F9\",\"plot_bgcolor\":\"#F5F6F9\",\"template\":{\"data\":{\"barpolar\":[{\"marker\":{\"line\":{\"color\":\"#E5ECF6\",\"width\":0.5},\"pattern\":{\"fillmode\":\"overlay\",\"size\":10,\"solidity\":0.2}},\"type\":\"barpolar\"}],\"bar\":[{\"error_x\":{\"color\":\"#2a3f5f\"},\"error_y\":{\"color\":\"#2a3f5f\"},\"marker\":{\"line\":{\"color\":\"#E5ECF6\",\"width\":0.5},\"pattern\":{\"fillmode\":\"overlay\",\"size\":10,\"solidity\":0.2}},\"type\":\"bar\"}],\"carpet\":[{\"aaxis\":{\"endlinecolor\":\"#2a3f5f\",\"gridcolor\":\"white\",\"linecolor\":\"white\",\"minorgridcolor\":\"white\",\"startlinecolor\":\"#2a3f5f\"},\"baxis\":{\"endlinecolor\":\"#2a3f5f\",\"gridcolor\":\"white\",\"linecolor\":\"white\",\"minorgridcolor\":\"white\",\"startlinecolor\":\"#2a3f5f\"},\"type\":\"carpet\"}],\"choropleth\":[{\"colorbar\":{\"outlinewidth\":0,\"ticks\":\"\"},\"type\":\"choropleth\"}],\"contourcarpet\":[{\"colorbar\":{\"outlinewidth\":0,\"ticks\":\"\"},\"type\":\"contourcarpet\"}],\"contour\":[{\"colorbar\":{\"outlinewidth\":0,\"ticks\":\"\"},\"colorscale\":[[0.0,\"#0d0887\"],[0.1111111111111111,\"#46039f\"],[0.2222222222222222,\"#7201a8\"],[0.3333333333333333,\"#9c179e\"],[0.4444444444444444,\"#bd3786\"],[0.5555555555555556,\"#d8576b\"],[0.6666666666666666,\"#ed7953\"],[0.7777777777777778,\"#fb9f3a\"],[0.8888888888888888,\"#fdca26\"],[1.0,\"#f0f921\"]],\"type\":\"contour\"}],\"heatmapgl\":[{\"colorbar\":{\"outlinewidth\":0,\"ticks\":\"\"},\"colorscale\":[[0.0,\"#0d0887\"],[0.1111111111111111,\"#46039f\"],[0.2222222222222222,\"#7201a8\"],[0.3333333333333333,\"#9c179e\"],[0.4444444444444444,\"#bd3786\"],[0.5555555555555556,\"#d8576b\"],[0.6666666666666666,\"#ed7953\"],[0.7777777777777778,\"#fb9f3a\"],[0.8888888888888888,\"#fdca26\"],[1.0,\"#f0f921\"]],\"type\":\"heatmapgl\"}],\"heatmap\":[{\"colorbar\":{\"outlinewidth\":0,\"ticks\":\"\"},\"colorscale\":[[0.0,\"#0d0887\"],[0.1111111111111111,\"#46039f\"],[0.2222222222222222,\"#7201a8\"],[0.3333333333333333,\"#9c179e\"],[0.4444444444444444,\"#bd3786\"],[0.5555555555555556,\"#d8576b\"],[0.6666666666666666,\"#ed7953\"],[0.7777777777777778,\"#fb9f3a\"],[0.8888888888888888,\"#fdca26\"],[1.0,\"#f0f921\"]],\"type\":\"heatmap\"}],\"histogram2dcontour\":[{\"colorbar\":{\"outlinewidth\":0,\"ticks\":\"\"},\"colorscale\":[[0.0,\"#0d0887\"],[0.1111111111111111,\"#46039f\"],[0.2222222222222222,\"#7201a8\"],[0.3333333333333333,\"#9c179e\"],[0.4444444444444444,\"#bd3786\"],[0.5555555555555556,\"#d8576b\"],[0.6666666666666666,\"#ed7953\"],[0.7777777777777778,\"#fb9f3a\"],[0.8888888888888888,\"#fdca26\"],[1.0,\"#f0f921\"]],\"type\":\"histogram2dcontour\"}],\"histogram2d\":[{\"colorbar\":{\"outlinewidth\":0,\"ticks\":\"\"},\"colorscale\":[[0.0,\"#0d0887\"],[0.1111111111111111,\"#46039f\"],[0.2222222222222222,\"#7201a8\"],[0.3333333333333333,\"#9c179e\"],[0.4444444444444444,\"#bd3786\"],[0.5555555555555556,\"#d8576b\"],[0.6666666666666666,\"#ed7953\"],[0.7777777777777778,\"#fb9f3a\"],[0.8888888888888888,\"#fdca26\"],[1.0,\"#f0f921\"]],\"type\":\"histogram2d\"}],\"histogram\":[{\"marker\":{\"pattern\":{\"fillmode\":\"overlay\",\"size\":10,\"solidity\":0.2}},\"type\":\"histogram\"}],\"mesh3d\":[{\"colorbar\":{\"outlinewidth\":0,\"ticks\":\"\"},\"type\":\"mesh3d\"}],\"parcoords\":[{\"line\":{\"colorbar\":{\"outlinewidth\":0,\"ticks\":\"\"}},\"type\":\"parcoords\"}],\"pie\":[{\"automargin\":true,\"type\":\"pie\"}],\"scatter3d\":[{\"line\":{\"colorbar\":{\"outlinewidth\":0,\"ticks\":\"\"}},\"marker\":{\"colorbar\":{\"outlinewidth\":0,\"ticks\":\"\"}},\"type\":\"scatter3d\"}],\"scattercarpet\":[{\"marker\":{\"colorbar\":{\"outlinewidth\":0,\"ticks\":\"\"}},\"type\":\"scattercarpet\"}],\"scattergeo\":[{\"marker\":{\"colorbar\":{\"outlinewidth\":0,\"ticks\":\"\"}},\"type\":\"scattergeo\"}],\"scattergl\":[{\"marker\":{\"colorbar\":{\"outlinewidth\":0,\"ticks\":\"\"}},\"type\":\"scattergl\"}],\"scattermapbox\":[{\"marker\":{\"colorbar\":{\"outlinewidth\":0,\"ticks\":\"\"}},\"type\":\"scattermapbox\"}],\"scatterpolargl\":[{\"marker\":{\"colorbar\":{\"outlinewidth\":0,\"ticks\":\"\"}},\"type\":\"scatterpolargl\"}],\"scatterpolar\":[{\"marker\":{\"colorbar\":{\"outlinewidth\":0,\"ticks\":\"\"}},\"type\":\"scatterpolar\"}],\"scatter\":[{\"marker\":{\"colorbar\":{\"outlinewidth\":0,\"ticks\":\"\"}},\"type\":\"scatter\"}],\"scatterternary\":[{\"marker\":{\"colorbar\":{\"outlinewidth\":0,\"ticks\":\"\"}},\"type\":\"scatterternary\"}],\"surface\":[{\"colorbar\":{\"outlinewidth\":0,\"ticks\":\"\"},\"colorscale\":[[0.0,\"#0d0887\"],[0.1111111111111111,\"#46039f\"],[0.2222222222222222,\"#7201a8\"],[0.3333333333333333,\"#9c179e\"],[0.4444444444444444,\"#bd3786\"],[0.5555555555555556,\"#d8576b\"],[0.6666666666666666,\"#ed7953\"],[0.7777777777777778,\"#fb9f3a\"],[0.8888888888888888,\"#fdca26\"],[1.0,\"#f0f921\"]],\"type\":\"surface\"}],\"table\":[{\"cells\":{\"fill\":{\"color\":\"#EBF0F8\"},\"line\":{\"color\":\"white\"}},\"header\":{\"fill\":{\"color\":\"#C8D4E3\"},\"line\":{\"color\":\"white\"}},\"type\":\"table\"}]},\"layout\":{\"annotationdefaults\":{\"arrowcolor\":\"#2a3f5f\",\"arrowhead\":0,\"arrowwidth\":1},\"autotypenumbers\":\"strict\",\"coloraxis\":{\"colorbar\":{\"outlinewidth\":0,\"ticks\":\"\"}},\"colorscale\":{\"diverging\":[[0,\"#8e0152\"],[0.1,\"#c51b7d\"],[0.2,\"#de77ae\"],[0.3,\"#f1b6da\"],[0.4,\"#fde0ef\"],[0.5,\"#f7f7f7\"],[0.6,\"#e6f5d0\"],[0.7,\"#b8e186\"],[0.8,\"#7fbc41\"],[0.9,\"#4d9221\"],[1,\"#276419\"]],\"sequential\":[[0.0,\"#0d0887\"],[0.1111111111111111,\"#46039f\"],[0.2222222222222222,\"#7201a8\"],[0.3333333333333333,\"#9c179e\"],[0.4444444444444444,\"#bd3786\"],[0.5555555555555556,\"#d8576b\"],[0.6666666666666666,\"#ed7953\"],[0.7777777777777778,\"#fb9f3a\"],[0.8888888888888888,\"#fdca26\"],[1.0,\"#f0f921\"]],\"sequentialminus\":[[0.0,\"#0d0887\"],[0.1111111111111111,\"#46039f\"],[0.2222222222222222,\"#7201a8\"],[0.3333333333333333,\"#9c179e\"],[0.4444444444444444,\"#bd3786\"],[0.5555555555555556,\"#d8576b\"],[0.6666666666666666,\"#ed7953\"],[0.7777777777777778,\"#fb9f3a\"],[0.8888888888888888,\"#fdca26\"],[1.0,\"#f0f921\"]]},\"colorway\":[\"#636efa\",\"#EF553B\",\"#00cc96\",\"#ab63fa\",\"#FFA15A\",\"#19d3f3\",\"#FF6692\",\"#B6E880\",\"#FF97FF\",\"#FECB52\"],\"font\":{\"color\":\"#2a3f5f\"},\"geo\":{\"bgcolor\":\"white\",\"lakecolor\":\"white\",\"landcolor\":\"#E5ECF6\",\"showlakes\":true,\"showland\":true,\"subunitcolor\":\"white\"},\"hoverlabel\":{\"align\":\"left\"},\"hovermode\":\"closest\",\"mapbox\":{\"style\":\"light\"},\"paper_bgcolor\":\"white\",\"plot_bgcolor\":\"#E5ECF6\",\"polar\":{\"angularaxis\":{\"gridcolor\":\"white\",\"linecolor\":\"white\",\"ticks\":\"\"},\"bgcolor\":\"#E5ECF6\",\"radialaxis\":{\"gridcolor\":\"white\",\"linecolor\":\"white\",\"ticks\":\"\"}},\"scene\":{\"xaxis\":{\"backgroundcolor\":\"#E5ECF6\",\"gridcolor\":\"white\",\"gridwidth\":2,\"linecolor\":\"white\",\"showbackground\":true,\"ticks\":\"\",\"zerolinecolor\":\"white\"},\"yaxis\":{\"backgroundcolor\":\"#E5ECF6\",\"gridcolor\":\"white\",\"gridwidth\":2,\"linecolor\":\"white\",\"showbackground\":true,\"ticks\":\"\",\"zerolinecolor\":\"white\"},\"zaxis\":{\"backgroundcolor\":\"#E5ECF6\",\"gridcolor\":\"white\",\"gridwidth\":2,\"linecolor\":\"white\",\"showbackground\":true,\"ticks\":\"\",\"zerolinecolor\":\"white\"}},\"shapedefaults\":{\"line\":{\"color\":\"#2a3f5f\"}},\"ternary\":{\"aaxis\":{\"gridcolor\":\"white\",\"linecolor\":\"white\",\"ticks\":\"\"},\"baxis\":{\"gridcolor\":\"white\",\"linecolor\":\"white\",\"ticks\":\"\"},\"bgcolor\":\"#E5ECF6\",\"caxis\":{\"gridcolor\":\"white\",\"linecolor\":\"white\",\"ticks\":\"\"}},\"title\":{\"x\":0.05},\"xaxis\":{\"automargin\":true,\"gridcolor\":\"white\",\"linecolor\":\"white\",\"ticks\":\"\",\"title\":{\"standoff\":15},\"zerolinecolor\":\"white\",\"zerolinewidth\":2},\"yaxis\":{\"automargin\":true,\"gridcolor\":\"white\",\"linecolor\":\"white\",\"ticks\":\"\",\"title\":{\"standoff\":15},\"zerolinecolor\":\"white\",\"zerolinewidth\":2}}},\"title\":{\"font\":{\"color\":\"#4D5663\"}},\"xaxis\":{\"gridcolor\":\"#E1E5ED\",\"showgrid\":true,\"tickfont\":{\"color\":\"#4D5663\"},\"title\":{\"font\":{\"color\":\"#4D5663\"},\"text\":\"\"},\"zerolinecolor\":\"#E1E5ED\"},\"yaxis\":{\"gridcolor\":\"#E1E5ED\",\"showgrid\":true,\"tickfont\":{\"color\":\"#4D5663\"},\"title\":{\"font\":{\"color\":\"#4D5663\"},\"text\":\"\"},\"zerolinecolor\":\"#E1E5ED\"}},                        {\"showLink\": true, \"linkText\": \"Export to plot.ly\", \"plotlyServerURL\": \"https://plot.ly\", \"responsive\": true}                    ).then(function(){\n",
       "                            \n",
       "var gd = document.getElementById('1662ccc5-a8a2-4b99-bfca-1078de11dde0');\n",
       "var x = new MutationObserver(function (mutations, observer) {{\n",
       "        var display = window.getComputedStyle(gd).display;\n",
       "        if (!display || display === 'none') {{\n",
       "            console.log([gd, 'removed!']);\n",
       "            Plotly.purge(gd);\n",
       "            observer.disconnect();\n",
       "        }}\n",
       "}});\n",
       "\n",
       "// Listen for the removal of the full notebook cells\n",
       "var notebookContainer = gd.closest('#notebook-container');\n",
       "if (notebookContainer) {{\n",
       "    x.observe(notebookContainer, {childList: true});\n",
       "}}\n",
       "\n",
       "// Listen for the clearing of the current output cell\n",
       "var outputEl = gd.closest('.output');\n",
       "if (outputEl) {{\n",
       "    x.observe(outputEl, {childList: true});\n",
       "}}\n",
       "\n",
       "                        })                };                });            </script>        </div>"
      ]
     },
     "metadata": {},
     "output_type": "display_data"
    }
   ],
   "source": [
    "df['A'].iplot(kind='hist',bins=25)"
   ]
  },
  {
   "cell_type": "code",
   "execution_count": 17,
   "metadata": {
    "collapsed": false
   },
   "outputs": [
    {
     "data": {
      "application/vnd.plotly.v1+json": {
       "config": {
        "linkText": "Export to plot.ly",
        "plotlyServerURL": "https://plot.ly",
        "showLink": true
       },
       "data": [
        {
         "marker": {
          "color": [
           "rgb(255, 153, 51)",
           "rgb(55, 128, 191)",
           "rgb(50, 171, 96)",
           "rgb(128, 0, 128)",
           "rgb(219, 64, 82)",
           "rgb(0, 128, 128)",
           "rgb(255, 255, 51)",
           "rgb(128, 128, 0)",
           "rgb(251, 128, 114)",
           "rgb(128, 177, 211)"
          ],
          "line": {
           "width": 1.3
          },
          "size": [
           45,
           58,
           68,
           42,
           52,
           42,
           52,
           12,
           83,
           73,
           15,
           50,
           85,
           74,
           75,
           64,
           73,
           60,
           59,
           47,
           43,
           72,
           91,
           52,
           58,
           58,
           47,
           13,
           62,
           26,
           22,
           34,
           61,
           72,
           65,
           26,
           84,
           84,
           59,
           44,
           31,
           112,
           54,
           47,
           61,
           66,
           66,
           75,
           40,
           50,
           80,
           41,
           58,
           64,
           27,
           72,
           60,
           78,
           72,
           66,
           44,
           71,
           60,
           33,
           68,
           73,
           47,
           70,
           48,
           33,
           28,
           60,
           68,
           39,
           40,
           78,
           54,
           65,
           50,
           81,
           54,
           50,
           88,
           68,
           64,
           92,
           24,
           65,
           68,
           50,
           26,
           85,
           41,
           46,
           19,
           21,
           82,
           91,
           34,
           86
          ],
          "symbol": "circle"
         },
         "mode": "markers",
         "text": "",
         "type": "scatter",
         "x": [
          1.2750462071228998,
          1.0564406009906422,
          -1.2570863513881179,
          0.1386992449738513,
          -0.4006631753099272,
          0.772494714001685,
          0.3466280655061471,
          -0.20734882385960135,
          -1.1605599469356516,
          1.5335837092173008,
          0.8701647512889786,
          0.19959773422082286,
          -0.7713696453049101,
          0.8670858884620127,
          0.7527057455344794,
          0.2406881376064278,
          -1.4246729911918348,
          -1.366338353479444,
          -2.510532872604319,
          -0.44076325408168865,
          -0.2720890733894303,
          0.1923950171572903,
          0.17528984033996958,
          -0.05627900857472087,
          -0.09464981393955554,
          0.1109203403862901,
          0.3506712561808483,
          0.11860998679044508,
          0.27273654934561664,
          0.5451708797402759,
          -1.3239800797756898,
          0.7176173593819158,
          0.6390897967980106,
          0.6298020357295875,
          0.9055103909277578,
          -0.5904176841467053,
          -0.38213674321117597,
          -0.9321460998531019,
          -2.0527241542088164,
          -0.1355015868759311,
          -0.15560692657213374,
          -1.3234419856299242,
          0.004612749239376862,
          -0.3533749773258972,
          -1.2778073755305988,
          -1.7334811504670158,
          1.5287980300400834,
          -1.0900212287039468,
          1.3066976573006288,
          0.6829609453885492,
          -0.024493571992407752,
          -1.6644241198636218,
          -1.3552223151228506,
          -0.7758460191490981,
          0.52074640219068,
          -0.5953760210764978,
          0.696233766527075,
          -0.714162783949475,
          0.3429087064661106,
          0.12880671947928052,
          0.1253412689647578,
          -1.5512006665577716,
          1.4696417176119942,
          -1.7740325324274242,
          2.105809697884221,
          1.9167099561167036,
          0.7480215913254173,
          0.7625036829256576,
          -1.086117863919513,
          0.4781593150768092,
          0.7240428405447898,
          -0.503627557293303,
          -1.221663772912323,
          -0.20754934209619638,
          -1.3419782859135356,
          0.216215597439171,
          1.0145615004449249,
          -1.0220756896864085,
          0.49363860464637543,
          -0.01599908409568637,
          -1.1470627595685077,
          -1.023726974752981,
          0.6660548760380969,
          -0.1311469267172626,
          1.1191657681276326,
          -1.5810786212139951,
          0.8160942888787959,
          0.06088517630432691,
          -1.2352546602277445,
          -0.2717692097212096,
          -1.0431055662718702,
          0.13134247407032018,
          -0.7790614189607978,
          0.5434045328072897,
          -1.1755407507532878,
          0.008915452173938613,
          0.16280786785568127,
          -0.6573273421596642,
          -0.274646533946732,
          -0.655594361876358
         ],
         "y": [
          -0.8340773682113504,
          0.49123188788963057,
          -1.9000715568691215,
          -0.6876295998356547,
          -0.8538273111014857,
          1.5511189563186973,
          1.7916810535863585,
          -1.2384131342672389,
          -0.11282532877192572,
          0.35044387501754315,
          -0.3725563064013367,
          -0.5978080296220267,
          -0.7459415602962436,
          -0.8062931680433271,
          -0.41309712402120896,
          -0.7677684801488446,
          -1.6237362987866557,
          -1.3867124997696776,
          -0.03384343479363602,
          0.312953792426409,
          0.43354850664087274,
          0.11571251414975957,
          0.7356381212190469,
          -0.8182781601100041,
          0.7278710012373059,
          0.27080432822538103,
          -0.45224220610112037,
          1.3889328686699598,
          0.35415339359074693,
          1.321491480875497,
          0.5604879797874698,
          -2.1780949287932843,
          0.6772032297272086,
          0.5068100984347181,
          0.05294343849021371,
          0.6762701198557137,
          -0.41125546955848485,
          0.9490592885359114,
          0.9579881061090255,
          -0.08746731970232335,
          0.1753148386032337,
          0.35330636557589246,
          0.6092976837114229,
          -0.9897685548060738,
          1.0082812941583785,
          -0.07112634100972726,
          0.7534094755071289,
          -1.2236591466919062,
          -0.44741573370710913,
          -1.056571932317002,
          -0.6351166490247284,
          -0.1152534608551299,
          -0.2753704370824422,
          -0.03361895378725087,
          -1.032713772532709,
          1.2604190210644386,
          1.6305359116844174,
          0.28304773071397693,
          0.46460766770949186,
          0.9430557112402934,
          0.8807024197847123,
          -0.7315449933931041,
          -0.4801700510822656,
          0.12234105041850767,
          -0.8904252461076889,
          -0.8682230097651995,
          0.8089776470552416,
          -0.442143722727833,
          1.0062933868477435,
          0.9789586586064842,
          -0.25604556494295583,
          -0.8081304318643974,
          0.32241893796007687,
          2.9455052125197785,
          1.0189696497125427,
          0.24788985930538732,
          1.136303601810519,
          -1.3946078662938228,
          -1.2292418224455168,
          -1.9150740479746733,
          -1.0297445925889328,
          0.8098970537565258,
          -1.569253924464807,
          -0.9896971663270222,
          -0.7057472240000185,
          0.2204458262981922,
          0.3173361097439095,
          -0.5153534162955274,
          -0.26708392326561814,
          0.7759496323233144,
          0.3730259777582601,
          1.575662623566695,
          1.1570045050500222,
          -0.06068007372528039,
          -1.2513600529835396,
          0.03669689340334888,
          0.18579450181477772,
          -0.16287815628323127,
          2.0901663180753256,
          0.9071005520448465
         ]
        }
       ],
       "layout": {
        "legend": {
         "bgcolor": "#F5F6F9",
         "font": {
          "color": "#4D5663"
         }
        },
        "paper_bgcolor": "#F5F6F9",
        "plot_bgcolor": "#F5F6F9",
        "template": {
         "data": {
          "bar": [
           {
            "error_x": {
             "color": "#2a3f5f"
            },
            "error_y": {
             "color": "#2a3f5f"
            },
            "marker": {
             "line": {
              "color": "#E5ECF6",
              "width": 0.5
             },
             "pattern": {
              "fillmode": "overlay",
              "size": 10,
              "solidity": 0.2
             }
            },
            "type": "bar"
           }
          ],
          "barpolar": [
           {
            "marker": {
             "line": {
              "color": "#E5ECF6",
              "width": 0.5
             },
             "pattern": {
              "fillmode": "overlay",
              "size": 10,
              "solidity": 0.2
             }
            },
            "type": "barpolar"
           }
          ],
          "carpet": [
           {
            "aaxis": {
             "endlinecolor": "#2a3f5f",
             "gridcolor": "white",
             "linecolor": "white",
             "minorgridcolor": "white",
             "startlinecolor": "#2a3f5f"
            },
            "baxis": {
             "endlinecolor": "#2a3f5f",
             "gridcolor": "white",
             "linecolor": "white",
             "minorgridcolor": "white",
             "startlinecolor": "#2a3f5f"
            },
            "type": "carpet"
           }
          ],
          "choropleth": [
           {
            "colorbar": {
             "outlinewidth": 0,
             "ticks": ""
            },
            "type": "choropleth"
           }
          ],
          "contour": [
           {
            "colorbar": {
             "outlinewidth": 0,
             "ticks": ""
            },
            "colorscale": [
             [
              0,
              "#0d0887"
             ],
             [
              0.1111111111111111,
              "#46039f"
             ],
             [
              0.2222222222222222,
              "#7201a8"
             ],
             [
              0.3333333333333333,
              "#9c179e"
             ],
             [
              0.4444444444444444,
              "#bd3786"
             ],
             [
              0.5555555555555556,
              "#d8576b"
             ],
             [
              0.6666666666666666,
              "#ed7953"
             ],
             [
              0.7777777777777778,
              "#fb9f3a"
             ],
             [
              0.8888888888888888,
              "#fdca26"
             ],
             [
              1,
              "#f0f921"
             ]
            ],
            "type": "contour"
           }
          ],
          "contourcarpet": [
           {
            "colorbar": {
             "outlinewidth": 0,
             "ticks": ""
            },
            "type": "contourcarpet"
           }
          ],
          "heatmap": [
           {
            "colorbar": {
             "outlinewidth": 0,
             "ticks": ""
            },
            "colorscale": [
             [
              0,
              "#0d0887"
             ],
             [
              0.1111111111111111,
              "#46039f"
             ],
             [
              0.2222222222222222,
              "#7201a8"
             ],
             [
              0.3333333333333333,
              "#9c179e"
             ],
             [
              0.4444444444444444,
              "#bd3786"
             ],
             [
              0.5555555555555556,
              "#d8576b"
             ],
             [
              0.6666666666666666,
              "#ed7953"
             ],
             [
              0.7777777777777778,
              "#fb9f3a"
             ],
             [
              0.8888888888888888,
              "#fdca26"
             ],
             [
              1,
              "#f0f921"
             ]
            ],
            "type": "heatmap"
           }
          ],
          "heatmapgl": [
           {
            "colorbar": {
             "outlinewidth": 0,
             "ticks": ""
            },
            "colorscale": [
             [
              0,
              "#0d0887"
             ],
             [
              0.1111111111111111,
              "#46039f"
             ],
             [
              0.2222222222222222,
              "#7201a8"
             ],
             [
              0.3333333333333333,
              "#9c179e"
             ],
             [
              0.4444444444444444,
              "#bd3786"
             ],
             [
              0.5555555555555556,
              "#d8576b"
             ],
             [
              0.6666666666666666,
              "#ed7953"
             ],
             [
              0.7777777777777778,
              "#fb9f3a"
             ],
             [
              0.8888888888888888,
              "#fdca26"
             ],
             [
              1,
              "#f0f921"
             ]
            ],
            "type": "heatmapgl"
           }
          ],
          "histogram": [
           {
            "marker": {
             "pattern": {
              "fillmode": "overlay",
              "size": 10,
              "solidity": 0.2
             }
            },
            "type": "histogram"
           }
          ],
          "histogram2d": [
           {
            "colorbar": {
             "outlinewidth": 0,
             "ticks": ""
            },
            "colorscale": [
             [
              0,
              "#0d0887"
             ],
             [
              0.1111111111111111,
              "#46039f"
             ],
             [
              0.2222222222222222,
              "#7201a8"
             ],
             [
              0.3333333333333333,
              "#9c179e"
             ],
             [
              0.4444444444444444,
              "#bd3786"
             ],
             [
              0.5555555555555556,
              "#d8576b"
             ],
             [
              0.6666666666666666,
              "#ed7953"
             ],
             [
              0.7777777777777778,
              "#fb9f3a"
             ],
             [
              0.8888888888888888,
              "#fdca26"
             ],
             [
              1,
              "#f0f921"
             ]
            ],
            "type": "histogram2d"
           }
          ],
          "histogram2dcontour": [
           {
            "colorbar": {
             "outlinewidth": 0,
             "ticks": ""
            },
            "colorscale": [
             [
              0,
              "#0d0887"
             ],
             [
              0.1111111111111111,
              "#46039f"
             ],
             [
              0.2222222222222222,
              "#7201a8"
             ],
             [
              0.3333333333333333,
              "#9c179e"
             ],
             [
              0.4444444444444444,
              "#bd3786"
             ],
             [
              0.5555555555555556,
              "#d8576b"
             ],
             [
              0.6666666666666666,
              "#ed7953"
             ],
             [
              0.7777777777777778,
              "#fb9f3a"
             ],
             [
              0.8888888888888888,
              "#fdca26"
             ],
             [
              1,
              "#f0f921"
             ]
            ],
            "type": "histogram2dcontour"
           }
          ],
          "mesh3d": [
           {
            "colorbar": {
             "outlinewidth": 0,
             "ticks": ""
            },
            "type": "mesh3d"
           }
          ],
          "parcoords": [
           {
            "line": {
             "colorbar": {
              "outlinewidth": 0,
              "ticks": ""
             }
            },
            "type": "parcoords"
           }
          ],
          "pie": [
           {
            "automargin": true,
            "type": "pie"
           }
          ],
          "scatter": [
           {
            "marker": {
             "colorbar": {
              "outlinewidth": 0,
              "ticks": ""
             }
            },
            "type": "scatter"
           }
          ],
          "scatter3d": [
           {
            "line": {
             "colorbar": {
              "outlinewidth": 0,
              "ticks": ""
             }
            },
            "marker": {
             "colorbar": {
              "outlinewidth": 0,
              "ticks": ""
             }
            },
            "type": "scatter3d"
           }
          ],
          "scattercarpet": [
           {
            "marker": {
             "colorbar": {
              "outlinewidth": 0,
              "ticks": ""
             }
            },
            "type": "scattercarpet"
           }
          ],
          "scattergeo": [
           {
            "marker": {
             "colorbar": {
              "outlinewidth": 0,
              "ticks": ""
             }
            },
            "type": "scattergeo"
           }
          ],
          "scattergl": [
           {
            "marker": {
             "colorbar": {
              "outlinewidth": 0,
              "ticks": ""
             }
            },
            "type": "scattergl"
           }
          ],
          "scattermapbox": [
           {
            "marker": {
             "colorbar": {
              "outlinewidth": 0,
              "ticks": ""
             }
            },
            "type": "scattermapbox"
           }
          ],
          "scatterpolar": [
           {
            "marker": {
             "colorbar": {
              "outlinewidth": 0,
              "ticks": ""
             }
            },
            "type": "scatterpolar"
           }
          ],
          "scatterpolargl": [
           {
            "marker": {
             "colorbar": {
              "outlinewidth": 0,
              "ticks": ""
             }
            },
            "type": "scatterpolargl"
           }
          ],
          "scatterternary": [
           {
            "marker": {
             "colorbar": {
              "outlinewidth": 0,
              "ticks": ""
             }
            },
            "type": "scatterternary"
           }
          ],
          "surface": [
           {
            "colorbar": {
             "outlinewidth": 0,
             "ticks": ""
            },
            "colorscale": [
             [
              0,
              "#0d0887"
             ],
             [
              0.1111111111111111,
              "#46039f"
             ],
             [
              0.2222222222222222,
              "#7201a8"
             ],
             [
              0.3333333333333333,
              "#9c179e"
             ],
             [
              0.4444444444444444,
              "#bd3786"
             ],
             [
              0.5555555555555556,
              "#d8576b"
             ],
             [
              0.6666666666666666,
              "#ed7953"
             ],
             [
              0.7777777777777778,
              "#fb9f3a"
             ],
             [
              0.8888888888888888,
              "#fdca26"
             ],
             [
              1,
              "#f0f921"
             ]
            ],
            "type": "surface"
           }
          ],
          "table": [
           {
            "cells": {
             "fill": {
              "color": "#EBF0F8"
             },
             "line": {
              "color": "white"
             }
            },
            "header": {
             "fill": {
              "color": "#C8D4E3"
             },
             "line": {
              "color": "white"
             }
            },
            "type": "table"
           }
          ]
         },
         "layout": {
          "annotationdefaults": {
           "arrowcolor": "#2a3f5f",
           "arrowhead": 0,
           "arrowwidth": 1
          },
          "autotypenumbers": "strict",
          "coloraxis": {
           "colorbar": {
            "outlinewidth": 0,
            "ticks": ""
           }
          },
          "colorscale": {
           "diverging": [
            [
             0,
             "#8e0152"
            ],
            [
             0.1,
             "#c51b7d"
            ],
            [
             0.2,
             "#de77ae"
            ],
            [
             0.3,
             "#f1b6da"
            ],
            [
             0.4,
             "#fde0ef"
            ],
            [
             0.5,
             "#f7f7f7"
            ],
            [
             0.6,
             "#e6f5d0"
            ],
            [
             0.7,
             "#b8e186"
            ],
            [
             0.8,
             "#7fbc41"
            ],
            [
             0.9,
             "#4d9221"
            ],
            [
             1,
             "#276419"
            ]
           ],
           "sequential": [
            [
             0,
             "#0d0887"
            ],
            [
             0.1111111111111111,
             "#46039f"
            ],
            [
             0.2222222222222222,
             "#7201a8"
            ],
            [
             0.3333333333333333,
             "#9c179e"
            ],
            [
             0.4444444444444444,
             "#bd3786"
            ],
            [
             0.5555555555555556,
             "#d8576b"
            ],
            [
             0.6666666666666666,
             "#ed7953"
            ],
            [
             0.7777777777777778,
             "#fb9f3a"
            ],
            [
             0.8888888888888888,
             "#fdca26"
            ],
            [
             1,
             "#f0f921"
            ]
           ],
           "sequentialminus": [
            [
             0,
             "#0d0887"
            ],
            [
             0.1111111111111111,
             "#46039f"
            ],
            [
             0.2222222222222222,
             "#7201a8"
            ],
            [
             0.3333333333333333,
             "#9c179e"
            ],
            [
             0.4444444444444444,
             "#bd3786"
            ],
            [
             0.5555555555555556,
             "#d8576b"
            ],
            [
             0.6666666666666666,
             "#ed7953"
            ],
            [
             0.7777777777777778,
             "#fb9f3a"
            ],
            [
             0.8888888888888888,
             "#fdca26"
            ],
            [
             1,
             "#f0f921"
            ]
           ]
          },
          "colorway": [
           "#636efa",
           "#EF553B",
           "#00cc96",
           "#ab63fa",
           "#FFA15A",
           "#19d3f3",
           "#FF6692",
           "#B6E880",
           "#FF97FF",
           "#FECB52"
          ],
          "font": {
           "color": "#2a3f5f"
          },
          "geo": {
           "bgcolor": "white",
           "lakecolor": "white",
           "landcolor": "#E5ECF6",
           "showlakes": true,
           "showland": true,
           "subunitcolor": "white"
          },
          "hoverlabel": {
           "align": "left"
          },
          "hovermode": "closest",
          "mapbox": {
           "style": "light"
          },
          "paper_bgcolor": "white",
          "plot_bgcolor": "#E5ECF6",
          "polar": {
           "angularaxis": {
            "gridcolor": "white",
            "linecolor": "white",
            "ticks": ""
           },
           "bgcolor": "#E5ECF6",
           "radialaxis": {
            "gridcolor": "white",
            "linecolor": "white",
            "ticks": ""
           }
          },
          "scene": {
           "xaxis": {
            "backgroundcolor": "#E5ECF6",
            "gridcolor": "white",
            "gridwidth": 2,
            "linecolor": "white",
            "showbackground": true,
            "ticks": "",
            "zerolinecolor": "white"
           },
           "yaxis": {
            "backgroundcolor": "#E5ECF6",
            "gridcolor": "white",
            "gridwidth": 2,
            "linecolor": "white",
            "showbackground": true,
            "ticks": "",
            "zerolinecolor": "white"
           },
           "zaxis": {
            "backgroundcolor": "#E5ECF6",
            "gridcolor": "white",
            "gridwidth": 2,
            "linecolor": "white",
            "showbackground": true,
            "ticks": "",
            "zerolinecolor": "white"
           }
          },
          "shapedefaults": {
           "line": {
            "color": "#2a3f5f"
           }
          },
          "ternary": {
           "aaxis": {
            "gridcolor": "white",
            "linecolor": "white",
            "ticks": ""
           },
           "baxis": {
            "gridcolor": "white",
            "linecolor": "white",
            "ticks": ""
           },
           "bgcolor": "#E5ECF6",
           "caxis": {
            "gridcolor": "white",
            "linecolor": "white",
            "ticks": ""
           }
          },
          "title": {
           "x": 0.05
          },
          "xaxis": {
           "automargin": true,
           "gridcolor": "white",
           "linecolor": "white",
           "ticks": "",
           "title": {
            "standoff": 15
           },
           "zerolinecolor": "white",
           "zerolinewidth": 2
          },
          "yaxis": {
           "automargin": true,
           "gridcolor": "white",
           "linecolor": "white",
           "ticks": "",
           "title": {
            "standoff": 15
           },
           "zerolinecolor": "white",
           "zerolinewidth": 2
          }
         }
        },
        "title": {
         "font": {
          "color": "#4D5663"
         }
        },
        "xaxis": {
         "gridcolor": "#E1E5ED",
         "showgrid": true,
         "tickfont": {
          "color": "#4D5663"
         },
         "title": {
          "font": {
           "color": "#4D5663"
          },
          "text": ""
         },
         "zerolinecolor": "#E1E5ED"
        },
        "yaxis": {
         "gridcolor": "#E1E5ED",
         "showgrid": true,
         "tickfont": {
          "color": "#4D5663"
         },
         "title": {
          "font": {
           "color": "#4D5663"
          },
          "text": ""
         },
         "zerolinecolor": "#E1E5ED"
        }
       }
      },
      "text/html": [
       "<div>                            <div id=\"9b6430be-5788-488c-9976-47518b50f769\" class=\"plotly-graph-div\" style=\"height:525px; width:100%;\"></div>            <script type=\"text/javascript\">                require([\"plotly\"], function(Plotly) {                    window.PLOTLYENV=window.PLOTLYENV || {};\n",
       "                    window.PLOTLYENV.BASE_URL='https://plot.ly';                                    if (document.getElementById(\"9b6430be-5788-488c-9976-47518b50f769\")) {                    Plotly.newPlot(                        \"9b6430be-5788-488c-9976-47518b50f769\",                        [{\"marker\":{\"color\":[\"rgb(255, 153, 51)\",\"rgb(55, 128, 191)\",\"rgb(50, 171, 96)\",\"rgb(128, 0, 128)\",\"rgb(219, 64, 82)\",\"rgb(0, 128, 128)\",\"rgb(255, 255, 51)\",\"rgb(128, 128, 0)\",\"rgb(251, 128, 114)\",\"rgb(128, 177, 211)\"],\"line\":{\"width\":1.3},\"size\":[45,58,68,42,52,42,52,12,83,73,15,50,85,74,75,64,73,60,59,47,43,72,91,52,58,58,47,13,62,26,22,34,61,72,65,26,84,84,59,44,31,112,54,47,61,66,66,75,40,50,80,41,58,64,27,72,60,78,72,66,44,71,60,33,68,73,47,70,48,33,28,60,68,39,40,78,54,65,50,81,54,50,88,68,64,92,24,65,68,50,26,85,41,46,19,21,82,91,34,86],\"symbol\":\"circle\"},\"mode\":\"markers\",\"text\":\"\",\"x\":[1.2750462071228998,1.0564406009906422,-1.2570863513881179,0.1386992449738513,-0.4006631753099272,0.772494714001685,0.3466280655061471,-0.20734882385960135,-1.1605599469356516,1.5335837092173008,0.8701647512889786,0.19959773422082286,-0.7713696453049101,0.8670858884620127,0.7527057455344794,0.2406881376064278,-1.4246729911918348,-1.366338353479444,-2.510532872604319,-0.44076325408168865,-0.2720890733894303,0.1923950171572903,0.17528984033996958,-0.05627900857472087,-0.09464981393955554,0.1109203403862901,0.3506712561808483,0.11860998679044508,0.27273654934561664,0.5451708797402759,-1.3239800797756898,0.7176173593819158,0.6390897967980106,0.6298020357295875,0.9055103909277578,-0.5904176841467053,-0.38213674321117597,-0.9321460998531019,-2.0527241542088164,-0.1355015868759311,-0.15560692657213374,-1.3234419856299242,0.004612749239376862,-0.3533749773258972,-1.2778073755305988,-1.7334811504670158,1.5287980300400834,-1.0900212287039468,1.3066976573006288,0.6829609453885492,-0.024493571992407752,-1.6644241198636218,-1.3552223151228506,-0.7758460191490981,0.52074640219068,-0.5953760210764978,0.696233766527075,-0.714162783949475,0.3429087064661106,0.12880671947928052,0.1253412689647578,-1.5512006665577716,1.4696417176119942,-1.7740325324274242,2.105809697884221,1.9167099561167036,0.7480215913254173,0.7625036829256576,-1.086117863919513,0.4781593150768092,0.7240428405447898,-0.503627557293303,-1.221663772912323,-0.20754934209619638,-1.3419782859135356,0.216215597439171,1.0145615004449249,-1.0220756896864085,0.49363860464637543,-0.01599908409568637,-1.1470627595685077,-1.023726974752981,0.6660548760380969,-0.1311469267172626,1.1191657681276326,-1.5810786212139951,0.8160942888787959,0.06088517630432691,-1.2352546602277445,-0.2717692097212096,-1.0431055662718702,0.13134247407032018,-0.7790614189607978,0.5434045328072897,-1.1755407507532878,0.008915452173938613,0.16280786785568127,-0.6573273421596642,-0.274646533946732,-0.655594361876358],\"y\":[-0.8340773682113504,0.49123188788963057,-1.9000715568691215,-0.6876295998356547,-0.8538273111014857,1.5511189563186973,1.7916810535863585,-1.2384131342672389,-0.11282532877192572,0.35044387501754315,-0.3725563064013367,-0.5978080296220267,-0.7459415602962436,-0.8062931680433271,-0.41309712402120896,-0.7677684801488446,-1.6237362987866557,-1.3867124997696776,-0.03384343479363602,0.312953792426409,0.43354850664087274,0.11571251414975957,0.7356381212190469,-0.8182781601100041,0.7278710012373059,0.27080432822538103,-0.45224220610112037,1.3889328686699598,0.35415339359074693,1.321491480875497,0.5604879797874698,-2.1780949287932843,0.6772032297272086,0.5068100984347181,0.05294343849021371,0.6762701198557137,-0.41125546955848485,0.9490592885359114,0.9579881061090255,-0.08746731970232335,0.1753148386032337,0.35330636557589246,0.6092976837114229,-0.9897685548060738,1.0082812941583785,-0.07112634100972726,0.7534094755071289,-1.2236591466919062,-0.44741573370710913,-1.056571932317002,-0.6351166490247284,-0.1152534608551299,-0.2753704370824422,-0.03361895378725087,-1.032713772532709,1.2604190210644386,1.6305359116844174,0.28304773071397693,0.46460766770949186,0.9430557112402934,0.8807024197847123,-0.7315449933931041,-0.4801700510822656,0.12234105041850767,-0.8904252461076889,-0.8682230097651995,0.8089776470552416,-0.442143722727833,1.0062933868477435,0.9789586586064842,-0.25604556494295583,-0.8081304318643974,0.32241893796007687,2.9455052125197785,1.0189696497125427,0.24788985930538732,1.136303601810519,-1.3946078662938228,-1.2292418224455168,-1.9150740479746733,-1.0297445925889328,0.8098970537565258,-1.569253924464807,-0.9896971663270222,-0.7057472240000185,0.2204458262981922,0.3173361097439095,-0.5153534162955274,-0.26708392326561814,0.7759496323233144,0.3730259777582601,1.575662623566695,1.1570045050500222,-0.06068007372528039,-1.2513600529835396,0.03669689340334888,0.18579450181477772,-0.16287815628323127,2.0901663180753256,0.9071005520448465],\"type\":\"scatter\"}],                        {\"legend\":{\"bgcolor\":\"#F5F6F9\",\"font\":{\"color\":\"#4D5663\"}},\"paper_bgcolor\":\"#F5F6F9\",\"plot_bgcolor\":\"#F5F6F9\",\"template\":{\"data\":{\"barpolar\":[{\"marker\":{\"line\":{\"color\":\"#E5ECF6\",\"width\":0.5},\"pattern\":{\"fillmode\":\"overlay\",\"size\":10,\"solidity\":0.2}},\"type\":\"barpolar\"}],\"bar\":[{\"error_x\":{\"color\":\"#2a3f5f\"},\"error_y\":{\"color\":\"#2a3f5f\"},\"marker\":{\"line\":{\"color\":\"#E5ECF6\",\"width\":0.5},\"pattern\":{\"fillmode\":\"overlay\",\"size\":10,\"solidity\":0.2}},\"type\":\"bar\"}],\"carpet\":[{\"aaxis\":{\"endlinecolor\":\"#2a3f5f\",\"gridcolor\":\"white\",\"linecolor\":\"white\",\"minorgridcolor\":\"white\",\"startlinecolor\":\"#2a3f5f\"},\"baxis\":{\"endlinecolor\":\"#2a3f5f\",\"gridcolor\":\"white\",\"linecolor\":\"white\",\"minorgridcolor\":\"white\",\"startlinecolor\":\"#2a3f5f\"},\"type\":\"carpet\"}],\"choropleth\":[{\"colorbar\":{\"outlinewidth\":0,\"ticks\":\"\"},\"type\":\"choropleth\"}],\"contourcarpet\":[{\"colorbar\":{\"outlinewidth\":0,\"ticks\":\"\"},\"type\":\"contourcarpet\"}],\"contour\":[{\"colorbar\":{\"outlinewidth\":0,\"ticks\":\"\"},\"colorscale\":[[0.0,\"#0d0887\"],[0.1111111111111111,\"#46039f\"],[0.2222222222222222,\"#7201a8\"],[0.3333333333333333,\"#9c179e\"],[0.4444444444444444,\"#bd3786\"],[0.5555555555555556,\"#d8576b\"],[0.6666666666666666,\"#ed7953\"],[0.7777777777777778,\"#fb9f3a\"],[0.8888888888888888,\"#fdca26\"],[1.0,\"#f0f921\"]],\"type\":\"contour\"}],\"heatmapgl\":[{\"colorbar\":{\"outlinewidth\":0,\"ticks\":\"\"},\"colorscale\":[[0.0,\"#0d0887\"],[0.1111111111111111,\"#46039f\"],[0.2222222222222222,\"#7201a8\"],[0.3333333333333333,\"#9c179e\"],[0.4444444444444444,\"#bd3786\"],[0.5555555555555556,\"#d8576b\"],[0.6666666666666666,\"#ed7953\"],[0.7777777777777778,\"#fb9f3a\"],[0.8888888888888888,\"#fdca26\"],[1.0,\"#f0f921\"]],\"type\":\"heatmapgl\"}],\"heatmap\":[{\"colorbar\":{\"outlinewidth\":0,\"ticks\":\"\"},\"colorscale\":[[0.0,\"#0d0887\"],[0.1111111111111111,\"#46039f\"],[0.2222222222222222,\"#7201a8\"],[0.3333333333333333,\"#9c179e\"],[0.4444444444444444,\"#bd3786\"],[0.5555555555555556,\"#d8576b\"],[0.6666666666666666,\"#ed7953\"],[0.7777777777777778,\"#fb9f3a\"],[0.8888888888888888,\"#fdca26\"],[1.0,\"#f0f921\"]],\"type\":\"heatmap\"}],\"histogram2dcontour\":[{\"colorbar\":{\"outlinewidth\":0,\"ticks\":\"\"},\"colorscale\":[[0.0,\"#0d0887\"],[0.1111111111111111,\"#46039f\"],[0.2222222222222222,\"#7201a8\"],[0.3333333333333333,\"#9c179e\"],[0.4444444444444444,\"#bd3786\"],[0.5555555555555556,\"#d8576b\"],[0.6666666666666666,\"#ed7953\"],[0.7777777777777778,\"#fb9f3a\"],[0.8888888888888888,\"#fdca26\"],[1.0,\"#f0f921\"]],\"type\":\"histogram2dcontour\"}],\"histogram2d\":[{\"colorbar\":{\"outlinewidth\":0,\"ticks\":\"\"},\"colorscale\":[[0.0,\"#0d0887\"],[0.1111111111111111,\"#46039f\"],[0.2222222222222222,\"#7201a8\"],[0.3333333333333333,\"#9c179e\"],[0.4444444444444444,\"#bd3786\"],[0.5555555555555556,\"#d8576b\"],[0.6666666666666666,\"#ed7953\"],[0.7777777777777778,\"#fb9f3a\"],[0.8888888888888888,\"#fdca26\"],[1.0,\"#f0f921\"]],\"type\":\"histogram2d\"}],\"histogram\":[{\"marker\":{\"pattern\":{\"fillmode\":\"overlay\",\"size\":10,\"solidity\":0.2}},\"type\":\"histogram\"}],\"mesh3d\":[{\"colorbar\":{\"outlinewidth\":0,\"ticks\":\"\"},\"type\":\"mesh3d\"}],\"parcoords\":[{\"line\":{\"colorbar\":{\"outlinewidth\":0,\"ticks\":\"\"}},\"type\":\"parcoords\"}],\"pie\":[{\"automargin\":true,\"type\":\"pie\"}],\"scatter3d\":[{\"line\":{\"colorbar\":{\"outlinewidth\":0,\"ticks\":\"\"}},\"marker\":{\"colorbar\":{\"outlinewidth\":0,\"ticks\":\"\"}},\"type\":\"scatter3d\"}],\"scattercarpet\":[{\"marker\":{\"colorbar\":{\"outlinewidth\":0,\"ticks\":\"\"}},\"type\":\"scattercarpet\"}],\"scattergeo\":[{\"marker\":{\"colorbar\":{\"outlinewidth\":0,\"ticks\":\"\"}},\"type\":\"scattergeo\"}],\"scattergl\":[{\"marker\":{\"colorbar\":{\"outlinewidth\":0,\"ticks\":\"\"}},\"type\":\"scattergl\"}],\"scattermapbox\":[{\"marker\":{\"colorbar\":{\"outlinewidth\":0,\"ticks\":\"\"}},\"type\":\"scattermapbox\"}],\"scatterpolargl\":[{\"marker\":{\"colorbar\":{\"outlinewidth\":0,\"ticks\":\"\"}},\"type\":\"scatterpolargl\"}],\"scatterpolar\":[{\"marker\":{\"colorbar\":{\"outlinewidth\":0,\"ticks\":\"\"}},\"type\":\"scatterpolar\"}],\"scatter\":[{\"marker\":{\"colorbar\":{\"outlinewidth\":0,\"ticks\":\"\"}},\"type\":\"scatter\"}],\"scatterternary\":[{\"marker\":{\"colorbar\":{\"outlinewidth\":0,\"ticks\":\"\"}},\"type\":\"scatterternary\"}],\"surface\":[{\"colorbar\":{\"outlinewidth\":0,\"ticks\":\"\"},\"colorscale\":[[0.0,\"#0d0887\"],[0.1111111111111111,\"#46039f\"],[0.2222222222222222,\"#7201a8\"],[0.3333333333333333,\"#9c179e\"],[0.4444444444444444,\"#bd3786\"],[0.5555555555555556,\"#d8576b\"],[0.6666666666666666,\"#ed7953\"],[0.7777777777777778,\"#fb9f3a\"],[0.8888888888888888,\"#fdca26\"],[1.0,\"#f0f921\"]],\"type\":\"surface\"}],\"table\":[{\"cells\":{\"fill\":{\"color\":\"#EBF0F8\"},\"line\":{\"color\":\"white\"}},\"header\":{\"fill\":{\"color\":\"#C8D4E3\"},\"line\":{\"color\":\"white\"}},\"type\":\"table\"}]},\"layout\":{\"annotationdefaults\":{\"arrowcolor\":\"#2a3f5f\",\"arrowhead\":0,\"arrowwidth\":1},\"autotypenumbers\":\"strict\",\"coloraxis\":{\"colorbar\":{\"outlinewidth\":0,\"ticks\":\"\"}},\"colorscale\":{\"diverging\":[[0,\"#8e0152\"],[0.1,\"#c51b7d\"],[0.2,\"#de77ae\"],[0.3,\"#f1b6da\"],[0.4,\"#fde0ef\"],[0.5,\"#f7f7f7\"],[0.6,\"#e6f5d0\"],[0.7,\"#b8e186\"],[0.8,\"#7fbc41\"],[0.9,\"#4d9221\"],[1,\"#276419\"]],\"sequential\":[[0.0,\"#0d0887\"],[0.1111111111111111,\"#46039f\"],[0.2222222222222222,\"#7201a8\"],[0.3333333333333333,\"#9c179e\"],[0.4444444444444444,\"#bd3786\"],[0.5555555555555556,\"#d8576b\"],[0.6666666666666666,\"#ed7953\"],[0.7777777777777778,\"#fb9f3a\"],[0.8888888888888888,\"#fdca26\"],[1.0,\"#f0f921\"]],\"sequentialminus\":[[0.0,\"#0d0887\"],[0.1111111111111111,\"#46039f\"],[0.2222222222222222,\"#7201a8\"],[0.3333333333333333,\"#9c179e\"],[0.4444444444444444,\"#bd3786\"],[0.5555555555555556,\"#d8576b\"],[0.6666666666666666,\"#ed7953\"],[0.7777777777777778,\"#fb9f3a\"],[0.8888888888888888,\"#fdca26\"],[1.0,\"#f0f921\"]]},\"colorway\":[\"#636efa\",\"#EF553B\",\"#00cc96\",\"#ab63fa\",\"#FFA15A\",\"#19d3f3\",\"#FF6692\",\"#B6E880\",\"#FF97FF\",\"#FECB52\"],\"font\":{\"color\":\"#2a3f5f\"},\"geo\":{\"bgcolor\":\"white\",\"lakecolor\":\"white\",\"landcolor\":\"#E5ECF6\",\"showlakes\":true,\"showland\":true,\"subunitcolor\":\"white\"},\"hoverlabel\":{\"align\":\"left\"},\"hovermode\":\"closest\",\"mapbox\":{\"style\":\"light\"},\"paper_bgcolor\":\"white\",\"plot_bgcolor\":\"#E5ECF6\",\"polar\":{\"angularaxis\":{\"gridcolor\":\"white\",\"linecolor\":\"white\",\"ticks\":\"\"},\"bgcolor\":\"#E5ECF6\",\"radialaxis\":{\"gridcolor\":\"white\",\"linecolor\":\"white\",\"ticks\":\"\"}},\"scene\":{\"xaxis\":{\"backgroundcolor\":\"#E5ECF6\",\"gridcolor\":\"white\",\"gridwidth\":2,\"linecolor\":\"white\",\"showbackground\":true,\"ticks\":\"\",\"zerolinecolor\":\"white\"},\"yaxis\":{\"backgroundcolor\":\"#E5ECF6\",\"gridcolor\":\"white\",\"gridwidth\":2,\"linecolor\":\"white\",\"showbackground\":true,\"ticks\":\"\",\"zerolinecolor\":\"white\"},\"zaxis\":{\"backgroundcolor\":\"#E5ECF6\",\"gridcolor\":\"white\",\"gridwidth\":2,\"linecolor\":\"white\",\"showbackground\":true,\"ticks\":\"\",\"zerolinecolor\":\"white\"}},\"shapedefaults\":{\"line\":{\"color\":\"#2a3f5f\"}},\"ternary\":{\"aaxis\":{\"gridcolor\":\"white\",\"linecolor\":\"white\",\"ticks\":\"\"},\"baxis\":{\"gridcolor\":\"white\",\"linecolor\":\"white\",\"ticks\":\"\"},\"bgcolor\":\"#E5ECF6\",\"caxis\":{\"gridcolor\":\"white\",\"linecolor\":\"white\",\"ticks\":\"\"}},\"title\":{\"x\":0.05},\"xaxis\":{\"automargin\":true,\"gridcolor\":\"white\",\"linecolor\":\"white\",\"ticks\":\"\",\"title\":{\"standoff\":15},\"zerolinecolor\":\"white\",\"zerolinewidth\":2},\"yaxis\":{\"automargin\":true,\"gridcolor\":\"white\",\"linecolor\":\"white\",\"ticks\":\"\",\"title\":{\"standoff\":15},\"zerolinecolor\":\"white\",\"zerolinewidth\":2}}},\"title\":{\"font\":{\"color\":\"#4D5663\"}},\"xaxis\":{\"gridcolor\":\"#E1E5ED\",\"showgrid\":true,\"tickfont\":{\"color\":\"#4D5663\"},\"title\":{\"font\":{\"color\":\"#4D5663\"},\"text\":\"\"},\"zerolinecolor\":\"#E1E5ED\"},\"yaxis\":{\"gridcolor\":\"#E1E5ED\",\"showgrid\":true,\"tickfont\":{\"color\":\"#4D5663\"},\"title\":{\"font\":{\"color\":\"#4D5663\"},\"text\":\"\"},\"zerolinecolor\":\"#E1E5ED\"}},                        {\"showLink\": true, \"linkText\": \"Export to plot.ly\", \"plotlyServerURL\": \"https://plot.ly\", \"responsive\": true}                    ).then(function(){\n",
       "                            \n",
       "var gd = document.getElementById('9b6430be-5788-488c-9976-47518b50f769');\n",
       "var x = new MutationObserver(function (mutations, observer) {{\n",
       "        var display = window.getComputedStyle(gd).display;\n",
       "        if (!display || display === 'none') {{\n",
       "            console.log([gd, 'removed!']);\n",
       "            Plotly.purge(gd);\n",
       "            observer.disconnect();\n",
       "        }}\n",
       "}});\n",
       "\n",
       "// Listen for the removal of the full notebook cells\n",
       "var notebookContainer = gd.closest('#notebook-container');\n",
       "if (notebookContainer) {{\n",
       "    x.observe(notebookContainer, {childList: true});\n",
       "}}\n",
       "\n",
       "// Listen for the clearing of the current output cell\n",
       "var outputEl = gd.closest('.output');\n",
       "if (outputEl) {{\n",
       "    x.observe(outputEl, {childList: true});\n",
       "}}\n",
       "\n",
       "                        })                };                });            </script>        </div>"
      ]
     },
     "metadata": {},
     "output_type": "display_data"
    }
   ],
   "source": [
    "df.iplot(kind='bubble',x='A',y='B',size='C')"
   ]
  },
  {
   "cell_type": "markdown",
   "metadata": {},
   "source": [
    "## scatter_matrix()\n",
    "\n",
    "Similar to sns.pairplot()"
   ]
  },
  {
   "cell_type": "code",
   "execution_count": 18,
   "metadata": {
    "collapsed": false
   },
   "outputs": [
    {
     "data": {
      "application/vnd.plotly.v1+json": {
       "config": {
        "linkText": "Export to plot.ly",
        "plotlyServerURL": "https://plot.ly",
        "showLink": true
       },
       "data": [
        {
         "histfunc": "count",
         "histnorm": "",
         "marker": {
          "color": "rgba(255, 153, 51, 1.0)",
          "line": {
           "color": "#4D5663",
           "width": 1.3
          }
         },
         "name": "A",
         "nbinsx": 10,
         "opacity": 0.8,
         "orientation": "v",
         "type": "histogram",
         "x": [
          1.2750462071228998,
          1.0564406009906422,
          -1.2570863513881179,
          0.1386992449738513,
          -0.4006631753099272,
          0.772494714001685,
          0.3466280655061471,
          -0.20734882385960135,
          -1.1605599469356516,
          1.5335837092173008,
          0.8701647512889786,
          0.19959773422082286,
          -0.7713696453049101,
          0.8670858884620127,
          0.7527057455344794,
          0.2406881376064278,
          -1.4246729911918348,
          -1.366338353479444,
          -2.510532872604319,
          -0.44076325408168865,
          -0.2720890733894303,
          0.1923950171572903,
          0.17528984033996958,
          -0.05627900857472087,
          -0.09464981393955554,
          0.1109203403862901,
          0.3506712561808483,
          0.11860998679044508,
          0.27273654934561664,
          0.5451708797402759,
          -1.3239800797756898,
          0.7176173593819158,
          0.6390897967980106,
          0.6298020357295875,
          0.9055103909277578,
          -0.5904176841467053,
          -0.38213674321117597,
          -0.9321460998531019,
          -2.0527241542088164,
          -0.1355015868759311,
          -0.15560692657213374,
          -1.3234419856299242,
          0.004612749239376862,
          -0.3533749773258972,
          -1.2778073755305988,
          -1.7334811504670158,
          1.5287980300400834,
          -1.0900212287039468,
          1.3066976573006288,
          0.6829609453885492,
          -0.024493571992407752,
          -1.6644241198636218,
          -1.3552223151228506,
          -0.7758460191490981,
          0.52074640219068,
          -0.5953760210764978,
          0.696233766527075,
          -0.714162783949475,
          0.3429087064661106,
          0.12880671947928052,
          0.1253412689647578,
          -1.5512006665577716,
          1.4696417176119942,
          -1.7740325324274242,
          2.105809697884221,
          1.9167099561167036,
          0.7480215913254173,
          0.7625036829256576,
          -1.086117863919513,
          0.4781593150768092,
          0.7240428405447898,
          -0.503627557293303,
          -1.221663772912323,
          -0.20754934209619638,
          -1.3419782859135356,
          0.216215597439171,
          1.0145615004449249,
          -1.0220756896864085,
          0.49363860464637543,
          -0.01599908409568637,
          -1.1470627595685077,
          -1.023726974752981,
          0.6660548760380969,
          -0.1311469267172626,
          1.1191657681276326,
          -1.5810786212139951,
          0.8160942888787959,
          0.06088517630432691,
          -1.2352546602277445,
          -0.2717692097212096,
          -1.0431055662718702,
          0.13134247407032018,
          -0.7790614189607978,
          0.5434045328072897,
          -1.1755407507532878,
          0.008915452173938613,
          0.16280786785568127,
          -0.6573273421596642,
          -0.274646533946732,
          -0.655594361876358
         ],
         "xaxis": "x",
         "yaxis": "y"
        },
        {
         "line": {
          "color": "rgba(128, 128, 128, 1.0)",
          "dash": "solid",
          "shape": "linear",
          "width": 1.3
         },
         "marker": {
          "size": 2,
          "symbol": "circle"
         },
         "mode": "markers",
         "name": "A",
         "text": "",
         "type": "scatter",
         "x": [
          -0.8340773682113504,
          0.49123188788963057,
          -1.9000715568691215,
          -0.6876295998356547,
          -0.8538273111014857,
          1.5511189563186973,
          1.7916810535863585,
          -1.2384131342672389,
          -0.11282532877192572,
          0.35044387501754315,
          -0.3725563064013367,
          -0.5978080296220267,
          -0.7459415602962436,
          -0.8062931680433271,
          -0.41309712402120896,
          -0.7677684801488446,
          -1.6237362987866557,
          -1.3867124997696776,
          -0.03384343479363602,
          0.312953792426409,
          0.43354850664087274,
          0.11571251414975957,
          0.7356381212190469,
          -0.8182781601100041,
          0.7278710012373059,
          0.27080432822538103,
          -0.45224220610112037,
          1.3889328686699598,
          0.35415339359074693,
          1.321491480875497,
          0.5604879797874698,
          -2.1780949287932843,
          0.6772032297272086,
          0.5068100984347181,
          0.05294343849021371,
          0.6762701198557137,
          -0.41125546955848485,
          0.9490592885359114,
          0.9579881061090255,
          -0.08746731970232335,
          0.1753148386032337,
          0.35330636557589246,
          0.6092976837114229,
          -0.9897685548060738,
          1.0082812941583785,
          -0.07112634100972726,
          0.7534094755071289,
          -1.2236591466919062,
          -0.44741573370710913,
          -1.056571932317002,
          -0.6351166490247284,
          -0.1152534608551299,
          -0.2753704370824422,
          -0.03361895378725087,
          -1.032713772532709,
          1.2604190210644386,
          1.6305359116844174,
          0.28304773071397693,
          0.46460766770949186,
          0.9430557112402934,
          0.8807024197847123,
          -0.7315449933931041,
          -0.4801700510822656,
          0.12234105041850767,
          -0.8904252461076889,
          -0.8682230097651995,
          0.8089776470552416,
          -0.442143722727833,
          1.0062933868477435,
          0.9789586586064842,
          -0.25604556494295583,
          -0.8081304318643974,
          0.32241893796007687,
          2.9455052125197785,
          1.0189696497125427,
          0.24788985930538732,
          1.136303601810519,
          -1.3946078662938228,
          -1.2292418224455168,
          -1.9150740479746733,
          -1.0297445925889328,
          0.8098970537565258,
          -1.569253924464807,
          -0.9896971663270222,
          -0.7057472240000185,
          0.2204458262981922,
          0.3173361097439095,
          -0.5153534162955274,
          -0.26708392326561814,
          0.7759496323233144,
          0.3730259777582601,
          1.575662623566695,
          1.1570045050500222,
          -0.06068007372528039,
          -1.2513600529835396,
          0.03669689340334888,
          0.18579450181477772,
          -0.16287815628323127,
          2.0901663180753256,
          0.9071005520448465
         ],
         "xaxis": "x2",
         "y": [
          1.2750462071228998,
          1.0564406009906422,
          -1.2570863513881179,
          0.1386992449738513,
          -0.4006631753099272,
          0.772494714001685,
          0.3466280655061471,
          -0.20734882385960135,
          -1.1605599469356516,
          1.5335837092173008,
          0.8701647512889786,
          0.19959773422082286,
          -0.7713696453049101,
          0.8670858884620127,
          0.7527057455344794,
          0.2406881376064278,
          -1.4246729911918348,
          -1.366338353479444,
          -2.510532872604319,
          -0.44076325408168865,
          -0.2720890733894303,
          0.1923950171572903,
          0.17528984033996958,
          -0.05627900857472087,
          -0.09464981393955554,
          0.1109203403862901,
          0.3506712561808483,
          0.11860998679044508,
          0.27273654934561664,
          0.5451708797402759,
          -1.3239800797756898,
          0.7176173593819158,
          0.6390897967980106,
          0.6298020357295875,
          0.9055103909277578,
          -0.5904176841467053,
          -0.38213674321117597,
          -0.9321460998531019,
          -2.0527241542088164,
          -0.1355015868759311,
          -0.15560692657213374,
          -1.3234419856299242,
          0.004612749239376862,
          -0.3533749773258972,
          -1.2778073755305988,
          -1.7334811504670158,
          1.5287980300400834,
          -1.0900212287039468,
          1.3066976573006288,
          0.6829609453885492,
          -0.024493571992407752,
          -1.6644241198636218,
          -1.3552223151228506,
          -0.7758460191490981,
          0.52074640219068,
          -0.5953760210764978,
          0.696233766527075,
          -0.714162783949475,
          0.3429087064661106,
          0.12880671947928052,
          0.1253412689647578,
          -1.5512006665577716,
          1.4696417176119942,
          -1.7740325324274242,
          2.105809697884221,
          1.9167099561167036,
          0.7480215913254173,
          0.7625036829256576,
          -1.086117863919513,
          0.4781593150768092,
          0.7240428405447898,
          -0.503627557293303,
          -1.221663772912323,
          -0.20754934209619638,
          -1.3419782859135356,
          0.216215597439171,
          1.0145615004449249,
          -1.0220756896864085,
          0.49363860464637543,
          -0.01599908409568637,
          -1.1470627595685077,
          -1.023726974752981,
          0.6660548760380969,
          -0.1311469267172626,
          1.1191657681276326,
          -1.5810786212139951,
          0.8160942888787959,
          0.06088517630432691,
          -1.2352546602277445,
          -0.2717692097212096,
          -1.0431055662718702,
          0.13134247407032018,
          -0.7790614189607978,
          0.5434045328072897,
          -1.1755407507532878,
          0.008915452173938613,
          0.16280786785568127,
          -0.6573273421596642,
          -0.274646533946732,
          -0.655594361876358
         ],
         "yaxis": "y2"
        },
        {
         "line": {
          "color": "rgba(128, 128, 128, 1.0)",
          "dash": "solid",
          "shape": "linear",
          "width": 1.3
         },
         "marker": {
          "size": 2,
          "symbol": "circle"
         },
         "mode": "markers",
         "name": "A",
         "text": "",
         "type": "scatter",
         "x": [
          -0.6065814803506674,
          -0.0056614743668575,
          0.47377835760278325,
          -0.7669808349710616,
          -0.2984610713736877,
          -0.7862462591685704,
          -0.30334996180518786,
          -2.2561605961038214,
          1.2104400421793433,
          0.76132924025126,
          -2.0764830248963246,
          -0.3743193722489287,
          1.3140509336583903,
          0.8060959354304592,
          0.8496481858416668,
          0.3206407546556311,
          0.7367664103551135,
          0.10443061661045361,
          0.03436876868568491,
          -0.531729950865737,
          -0.7085974374677646,
          0.693003807983039,
          1.6068787266164335,
          -0.2670568329018913,
          0.015847628858779165,
          0.020782059028557603,
          -0.5196020397478259,
          -2.1742877376534273,
          0.2084446674567804,
          -1.5708351936202887,
          -1.7303559559458355,
          -1.14938646406794,
          0.1412535112325003,
          0.6739769900674427,
          0.3341737804458171,
          -1.544805374766241,
          1.2630156214631156,
          1.2993468829704875,
          0.03943253408824827,
          -0.6505943976451811,
          -1.287916846718534,
          2.6158904742734688,
          -0.18921140358629004,
          -0.5088698523799714,
          0.1583463740320508,
          0.4034115874377453,
          0.41730333864937813,
          0.8443400209241257,
          -0.8439226873024922,
          -0.3618591602469053,
          1.062480966237185,
          -0.8354902780261675,
          0.0283856858965905,
          0.2926742659843175,
          -1.5072017584217483,
          0.6701435665882296,
          0.0918263976356448,
          0.9848450798155605,
          0.7126911055257629,
          0.4209453778492396,
          -0.6506812038781848,
          0.6443815364407258,
          0.11840826658302832,
          -1.2108032671929079,
          0.5089945953821506,
          0.7241253901689519,
          -0.5367383294366789,
          0.5947892296709306,
          -0.48633893865960975,
          -1.2244062958933806,
          -1.4408223353729626,
          0.11646891188842408,
          0.5058898513373067,
          -0.9191398133237972,
          -0.8794916959798096,
          0.9674124240361822,
          -0.18460515585573317,
          0.33866818045005764,
          -0.3982677523303214,
          1.1542108469227073,
          -0.19287897590887343,
          -0.39691886444408303,
          1.4587946690503084,
          0.5030537584716932,
          0.2834070821409793,
          1.6602762267945903,
          -1.6394032252387876,
          0.3561371864556083,
          0.5071869990319724,
          -0.39137338520180515,
          -1.5625516437520808,
          1.3424849679480697,
          -0.798114317162278,
          -0.5861139711310693,
          -1.908134652905644,
          -1.7994024342247412,
          1.1709653111241818,
          1.613274553242905,
          -1.1639037835712955,
          1.3655742980033005
         ],
         "xaxis": "x3",
         "y": [
          1.2750462071228998,
          1.0564406009906422,
          -1.2570863513881179,
          0.1386992449738513,
          -0.4006631753099272,
          0.772494714001685,
          0.3466280655061471,
          -0.20734882385960135,
          -1.1605599469356516,
          1.5335837092173008,
          0.8701647512889786,
          0.19959773422082286,
          -0.7713696453049101,
          0.8670858884620127,
          0.7527057455344794,
          0.2406881376064278,
          -1.4246729911918348,
          -1.366338353479444,
          -2.510532872604319,
          -0.44076325408168865,
          -0.2720890733894303,
          0.1923950171572903,
          0.17528984033996958,
          -0.05627900857472087,
          -0.09464981393955554,
          0.1109203403862901,
          0.3506712561808483,
          0.11860998679044508,
          0.27273654934561664,
          0.5451708797402759,
          -1.3239800797756898,
          0.7176173593819158,
          0.6390897967980106,
          0.6298020357295875,
          0.9055103909277578,
          -0.5904176841467053,
          -0.38213674321117597,
          -0.9321460998531019,
          -2.0527241542088164,
          -0.1355015868759311,
          -0.15560692657213374,
          -1.3234419856299242,
          0.004612749239376862,
          -0.3533749773258972,
          -1.2778073755305988,
          -1.7334811504670158,
          1.5287980300400834,
          -1.0900212287039468,
          1.3066976573006288,
          0.6829609453885492,
          -0.024493571992407752,
          -1.6644241198636218,
          -1.3552223151228506,
          -0.7758460191490981,
          0.52074640219068,
          -0.5953760210764978,
          0.696233766527075,
          -0.714162783949475,
          0.3429087064661106,
          0.12880671947928052,
          0.1253412689647578,
          -1.5512006665577716,
          1.4696417176119942,
          -1.7740325324274242,
          2.105809697884221,
          1.9167099561167036,
          0.7480215913254173,
          0.7625036829256576,
          -1.086117863919513,
          0.4781593150768092,
          0.7240428405447898,
          -0.503627557293303,
          -1.221663772912323,
          -0.20754934209619638,
          -1.3419782859135356,
          0.216215597439171,
          1.0145615004449249,
          -1.0220756896864085,
          0.49363860464637543,
          -0.01599908409568637,
          -1.1470627595685077,
          -1.023726974752981,
          0.6660548760380969,
          -0.1311469267172626,
          1.1191657681276326,
          -1.5810786212139951,
          0.8160942888787959,
          0.06088517630432691,
          -1.2352546602277445,
          -0.2717692097212096,
          -1.0431055662718702,
          0.13134247407032018,
          -0.7790614189607978,
          0.5434045328072897,
          -1.1755407507532878,
          0.008915452173938613,
          0.16280786785568127,
          -0.6573273421596642,
          -0.274646533946732,
          -0.655594361876358
         ],
         "yaxis": "y3"
        },
        {
         "line": {
          "color": "rgba(128, 128, 128, 1.0)",
          "dash": "solid",
          "shape": "linear",
          "width": 1.3
         },
         "marker": {
          "size": 2,
          "symbol": "circle"
         },
         "mode": "markers",
         "name": "A",
         "text": "",
         "type": "scatter",
         "x": [
          0.7139456893048736,
          1.2182943932514776,
          -0.022442070790911903,
          0.29419838907850454,
          -0.7473982962608382,
          0.05967193022364727,
          -1.7581521899961248,
          2.965034050553671,
          -0.9716107300425278,
          -0.10089240576146587,
          -0.15106025887742477,
          -0.4843170130123628,
          0.3220996841547047,
          -1.332683235916878,
          -0.561749623803411,
          0.7783577730763781,
          -1.0173613113395228,
          1.4834643870057453,
          0.5748771426725922,
          -0.9779032746034094,
          -1.4773574832741476,
          1.0746333271797746,
          1.2070096569013267,
          -0.35917797105680904,
          -1.9147305767939333,
          2.153653228396418,
          -2.4303885700047854,
          0.22157959824077164,
          0.14874563289253137,
          -1.279771382703922,
          -0.1521422200622724,
          1.650037956934773,
          0.6537104615024295,
          0.808006760868366,
          0.13620214175340242,
          -0.5250470673318475,
          -0.9880632900100209,
          1.1180418390662974,
          -0.22588739170453126,
          0.28882691039611624,
          -0.09936686952194648,
          1.5404142967535457,
          -1.4001626432695027,
          -1.3704970552909894,
          2.2077130901998356,
          1.116380542662232,
          -0.4091874611428839,
          -1.3686904120878665,
          1.6049816912046597,
          -0.30703464236377814,
          -0.5473658982832879,
          -0.48495979693113145,
          -0.45033413790447435,
          0.39922580894613374,
          0.6047897126936678,
          -0.8752680433632427,
          -0.8986365730692438,
          0.3770440281928797,
          -1.0420907677722961,
          -2.2166606762468213,
          0.41928713539586043,
          0.7095391770600183,
          0.5539361345485381,
          1.8180138617574744,
          0.020695705953035895,
          0.6488166069066083,
          -1.6740646712918874,
          -1.6236243921041227,
          1.554106555602854,
          -0.7419395714313424,
          -0.15606868120679696,
          0.709525225488563,
          -2.060491897944797,
          -0.04380727568900047,
          -0.5049371502654176,
          -1.0450616759167384,
          0.9509678695829852,
          1.037888791409695,
          1.056487613896072,
          -1.019634938809895,
          0.21168484870149137,
          0.22680691036470607,
          -0.6228332865229037,
          0.6178469540817563,
          -0.3438026326951937,
          -0.8126119160493471,
          0.5994110507451171,
          0.6845268659740725,
          -0.7089044464688247,
          -1.3941795843099998,
          -0.4748919927526555,
          1.2931818578279248,
          1.155046396747897,
          0.054391243974638605,
          0.11105012255970526,
          2.5610353634730023,
          0.7022441176694517,
          0.4563972984648552,
          0.382547875976814,
          -0.9960163190933181
         ],
         "xaxis": "x4",
         "y": [
          1.2750462071228998,
          1.0564406009906422,
          -1.2570863513881179,
          0.1386992449738513,
          -0.4006631753099272,
          0.772494714001685,
          0.3466280655061471,
          -0.20734882385960135,
          -1.1605599469356516,
          1.5335837092173008,
          0.8701647512889786,
          0.19959773422082286,
          -0.7713696453049101,
          0.8670858884620127,
          0.7527057455344794,
          0.2406881376064278,
          -1.4246729911918348,
          -1.366338353479444,
          -2.510532872604319,
          -0.44076325408168865,
          -0.2720890733894303,
          0.1923950171572903,
          0.17528984033996958,
          -0.05627900857472087,
          -0.09464981393955554,
          0.1109203403862901,
          0.3506712561808483,
          0.11860998679044508,
          0.27273654934561664,
          0.5451708797402759,
          -1.3239800797756898,
          0.7176173593819158,
          0.6390897967980106,
          0.6298020357295875,
          0.9055103909277578,
          -0.5904176841467053,
          -0.38213674321117597,
          -0.9321460998531019,
          -2.0527241542088164,
          -0.1355015868759311,
          -0.15560692657213374,
          -1.3234419856299242,
          0.004612749239376862,
          -0.3533749773258972,
          -1.2778073755305988,
          -1.7334811504670158,
          1.5287980300400834,
          -1.0900212287039468,
          1.3066976573006288,
          0.6829609453885492,
          -0.024493571992407752,
          -1.6644241198636218,
          -1.3552223151228506,
          -0.7758460191490981,
          0.52074640219068,
          -0.5953760210764978,
          0.696233766527075,
          -0.714162783949475,
          0.3429087064661106,
          0.12880671947928052,
          0.1253412689647578,
          -1.5512006665577716,
          1.4696417176119942,
          -1.7740325324274242,
          2.105809697884221,
          1.9167099561167036,
          0.7480215913254173,
          0.7625036829256576,
          -1.086117863919513,
          0.4781593150768092,
          0.7240428405447898,
          -0.503627557293303,
          -1.221663772912323,
          -0.20754934209619638,
          -1.3419782859135356,
          0.216215597439171,
          1.0145615004449249,
          -1.0220756896864085,
          0.49363860464637543,
          -0.01599908409568637,
          -1.1470627595685077,
          -1.023726974752981,
          0.6660548760380969,
          -0.1311469267172626,
          1.1191657681276326,
          -1.5810786212139951,
          0.8160942888787959,
          0.06088517630432691,
          -1.2352546602277445,
          -0.2717692097212096,
          -1.0431055662718702,
          0.13134247407032018,
          -0.7790614189607978,
          0.5434045328072897,
          -1.1755407507532878,
          0.008915452173938613,
          0.16280786785568127,
          -0.6573273421596642,
          -0.274646533946732,
          -0.655594361876358
         ],
         "yaxis": "y4"
        },
        {
         "line": {
          "color": "rgba(128, 128, 128, 1.0)",
          "dash": "solid",
          "shape": "linear",
          "width": 1.3
         },
         "marker": {
          "size": 2,
          "symbol": "circle"
         },
         "mode": "markers",
         "name": "B",
         "text": "",
         "type": "scatter",
         "x": [
          1.2750462071228998,
          1.0564406009906422,
          -1.2570863513881179,
          0.1386992449738513,
          -0.4006631753099272,
          0.772494714001685,
          0.3466280655061471,
          -0.20734882385960135,
          -1.1605599469356516,
          1.5335837092173008,
          0.8701647512889786,
          0.19959773422082286,
          -0.7713696453049101,
          0.8670858884620127,
          0.7527057455344794,
          0.2406881376064278,
          -1.4246729911918348,
          -1.366338353479444,
          -2.510532872604319,
          -0.44076325408168865,
          -0.2720890733894303,
          0.1923950171572903,
          0.17528984033996958,
          -0.05627900857472087,
          -0.09464981393955554,
          0.1109203403862901,
          0.3506712561808483,
          0.11860998679044508,
          0.27273654934561664,
          0.5451708797402759,
          -1.3239800797756898,
          0.7176173593819158,
          0.6390897967980106,
          0.6298020357295875,
          0.9055103909277578,
          -0.5904176841467053,
          -0.38213674321117597,
          -0.9321460998531019,
          -2.0527241542088164,
          -0.1355015868759311,
          -0.15560692657213374,
          -1.3234419856299242,
          0.004612749239376862,
          -0.3533749773258972,
          -1.2778073755305988,
          -1.7334811504670158,
          1.5287980300400834,
          -1.0900212287039468,
          1.3066976573006288,
          0.6829609453885492,
          -0.024493571992407752,
          -1.6644241198636218,
          -1.3552223151228506,
          -0.7758460191490981,
          0.52074640219068,
          -0.5953760210764978,
          0.696233766527075,
          -0.714162783949475,
          0.3429087064661106,
          0.12880671947928052,
          0.1253412689647578,
          -1.5512006665577716,
          1.4696417176119942,
          -1.7740325324274242,
          2.105809697884221,
          1.9167099561167036,
          0.7480215913254173,
          0.7625036829256576,
          -1.086117863919513,
          0.4781593150768092,
          0.7240428405447898,
          -0.503627557293303,
          -1.221663772912323,
          -0.20754934209619638,
          -1.3419782859135356,
          0.216215597439171,
          1.0145615004449249,
          -1.0220756896864085,
          0.49363860464637543,
          -0.01599908409568637,
          -1.1470627595685077,
          -1.023726974752981,
          0.6660548760380969,
          -0.1311469267172626,
          1.1191657681276326,
          -1.5810786212139951,
          0.8160942888787959,
          0.06088517630432691,
          -1.2352546602277445,
          -0.2717692097212096,
          -1.0431055662718702,
          0.13134247407032018,
          -0.7790614189607978,
          0.5434045328072897,
          -1.1755407507532878,
          0.008915452173938613,
          0.16280786785568127,
          -0.6573273421596642,
          -0.274646533946732,
          -0.655594361876358
         ],
         "xaxis": "x5",
         "y": [
          -0.8340773682113504,
          0.49123188788963057,
          -1.9000715568691215,
          -0.6876295998356547,
          -0.8538273111014857,
          1.5511189563186973,
          1.7916810535863585,
          -1.2384131342672389,
          -0.11282532877192572,
          0.35044387501754315,
          -0.3725563064013367,
          -0.5978080296220267,
          -0.7459415602962436,
          -0.8062931680433271,
          -0.41309712402120896,
          -0.7677684801488446,
          -1.6237362987866557,
          -1.3867124997696776,
          -0.03384343479363602,
          0.312953792426409,
          0.43354850664087274,
          0.11571251414975957,
          0.7356381212190469,
          -0.8182781601100041,
          0.7278710012373059,
          0.27080432822538103,
          -0.45224220610112037,
          1.3889328686699598,
          0.35415339359074693,
          1.321491480875497,
          0.5604879797874698,
          -2.1780949287932843,
          0.6772032297272086,
          0.5068100984347181,
          0.05294343849021371,
          0.6762701198557137,
          -0.41125546955848485,
          0.9490592885359114,
          0.9579881061090255,
          -0.08746731970232335,
          0.1753148386032337,
          0.35330636557589246,
          0.6092976837114229,
          -0.9897685548060738,
          1.0082812941583785,
          -0.07112634100972726,
          0.7534094755071289,
          -1.2236591466919062,
          -0.44741573370710913,
          -1.056571932317002,
          -0.6351166490247284,
          -0.1152534608551299,
          -0.2753704370824422,
          -0.03361895378725087,
          -1.032713772532709,
          1.2604190210644386,
          1.6305359116844174,
          0.28304773071397693,
          0.46460766770949186,
          0.9430557112402934,
          0.8807024197847123,
          -0.7315449933931041,
          -0.4801700510822656,
          0.12234105041850767,
          -0.8904252461076889,
          -0.8682230097651995,
          0.8089776470552416,
          -0.442143722727833,
          1.0062933868477435,
          0.9789586586064842,
          -0.25604556494295583,
          -0.8081304318643974,
          0.32241893796007687,
          2.9455052125197785,
          1.0189696497125427,
          0.24788985930538732,
          1.136303601810519,
          -1.3946078662938228,
          -1.2292418224455168,
          -1.9150740479746733,
          -1.0297445925889328,
          0.8098970537565258,
          -1.569253924464807,
          -0.9896971663270222,
          -0.7057472240000185,
          0.2204458262981922,
          0.3173361097439095,
          -0.5153534162955274,
          -0.26708392326561814,
          0.7759496323233144,
          0.3730259777582601,
          1.575662623566695,
          1.1570045050500222,
          -0.06068007372528039,
          -1.2513600529835396,
          0.03669689340334888,
          0.18579450181477772,
          -0.16287815628323127,
          2.0901663180753256,
          0.9071005520448465
         ],
         "yaxis": "y5"
        },
        {
         "histfunc": "count",
         "histnorm": "",
         "marker": {
          "color": "rgba(55, 128, 191, 1.0)",
          "line": {
           "color": "#4D5663",
           "width": 1.3
          }
         },
         "name": "B",
         "nbinsx": 10,
         "opacity": 0.8,
         "orientation": "v",
         "type": "histogram",
         "x": [
          -0.8340773682113504,
          0.49123188788963057,
          -1.9000715568691215,
          -0.6876295998356547,
          -0.8538273111014857,
          1.5511189563186973,
          1.7916810535863585,
          -1.2384131342672389,
          -0.11282532877192572,
          0.35044387501754315,
          -0.3725563064013367,
          -0.5978080296220267,
          -0.7459415602962436,
          -0.8062931680433271,
          -0.41309712402120896,
          -0.7677684801488446,
          -1.6237362987866557,
          -1.3867124997696776,
          -0.03384343479363602,
          0.312953792426409,
          0.43354850664087274,
          0.11571251414975957,
          0.7356381212190469,
          -0.8182781601100041,
          0.7278710012373059,
          0.27080432822538103,
          -0.45224220610112037,
          1.3889328686699598,
          0.35415339359074693,
          1.321491480875497,
          0.5604879797874698,
          -2.1780949287932843,
          0.6772032297272086,
          0.5068100984347181,
          0.05294343849021371,
          0.6762701198557137,
          -0.41125546955848485,
          0.9490592885359114,
          0.9579881061090255,
          -0.08746731970232335,
          0.1753148386032337,
          0.35330636557589246,
          0.6092976837114229,
          -0.9897685548060738,
          1.0082812941583785,
          -0.07112634100972726,
          0.7534094755071289,
          -1.2236591466919062,
          -0.44741573370710913,
          -1.056571932317002,
          -0.6351166490247284,
          -0.1152534608551299,
          -0.2753704370824422,
          -0.03361895378725087,
          -1.032713772532709,
          1.2604190210644386,
          1.6305359116844174,
          0.28304773071397693,
          0.46460766770949186,
          0.9430557112402934,
          0.8807024197847123,
          -0.7315449933931041,
          -0.4801700510822656,
          0.12234105041850767,
          -0.8904252461076889,
          -0.8682230097651995,
          0.8089776470552416,
          -0.442143722727833,
          1.0062933868477435,
          0.9789586586064842,
          -0.25604556494295583,
          -0.8081304318643974,
          0.32241893796007687,
          2.9455052125197785,
          1.0189696497125427,
          0.24788985930538732,
          1.136303601810519,
          -1.3946078662938228,
          -1.2292418224455168,
          -1.9150740479746733,
          -1.0297445925889328,
          0.8098970537565258,
          -1.569253924464807,
          -0.9896971663270222,
          -0.7057472240000185,
          0.2204458262981922,
          0.3173361097439095,
          -0.5153534162955274,
          -0.26708392326561814,
          0.7759496323233144,
          0.3730259777582601,
          1.575662623566695,
          1.1570045050500222,
          -0.06068007372528039,
          -1.2513600529835396,
          0.03669689340334888,
          0.18579450181477772,
          -0.16287815628323127,
          2.0901663180753256,
          0.9071005520448465
         ],
         "xaxis": "x6",
         "yaxis": "y6"
        },
        {
         "line": {
          "color": "rgba(128, 128, 128, 1.0)",
          "dash": "solid",
          "shape": "linear",
          "width": 1.3
         },
         "marker": {
          "size": 2,
          "symbol": "circle"
         },
         "mode": "markers",
         "name": "B",
         "text": "",
         "type": "scatter",
         "x": [
          -0.6065814803506674,
          -0.0056614743668575,
          0.47377835760278325,
          -0.7669808349710616,
          -0.2984610713736877,
          -0.7862462591685704,
          -0.30334996180518786,
          -2.2561605961038214,
          1.2104400421793433,
          0.76132924025126,
          -2.0764830248963246,
          -0.3743193722489287,
          1.3140509336583903,
          0.8060959354304592,
          0.8496481858416668,
          0.3206407546556311,
          0.7367664103551135,
          0.10443061661045361,
          0.03436876868568491,
          -0.531729950865737,
          -0.7085974374677646,
          0.693003807983039,
          1.6068787266164335,
          -0.2670568329018913,
          0.015847628858779165,
          0.020782059028557603,
          -0.5196020397478259,
          -2.1742877376534273,
          0.2084446674567804,
          -1.5708351936202887,
          -1.7303559559458355,
          -1.14938646406794,
          0.1412535112325003,
          0.6739769900674427,
          0.3341737804458171,
          -1.544805374766241,
          1.2630156214631156,
          1.2993468829704875,
          0.03943253408824827,
          -0.6505943976451811,
          -1.287916846718534,
          2.6158904742734688,
          -0.18921140358629004,
          -0.5088698523799714,
          0.1583463740320508,
          0.4034115874377453,
          0.41730333864937813,
          0.8443400209241257,
          -0.8439226873024922,
          -0.3618591602469053,
          1.062480966237185,
          -0.8354902780261675,
          0.0283856858965905,
          0.2926742659843175,
          -1.5072017584217483,
          0.6701435665882296,
          0.0918263976356448,
          0.9848450798155605,
          0.7126911055257629,
          0.4209453778492396,
          -0.6506812038781848,
          0.6443815364407258,
          0.11840826658302832,
          -1.2108032671929079,
          0.5089945953821506,
          0.7241253901689519,
          -0.5367383294366789,
          0.5947892296709306,
          -0.48633893865960975,
          -1.2244062958933806,
          -1.4408223353729626,
          0.11646891188842408,
          0.5058898513373067,
          -0.9191398133237972,
          -0.8794916959798096,
          0.9674124240361822,
          -0.18460515585573317,
          0.33866818045005764,
          -0.3982677523303214,
          1.1542108469227073,
          -0.19287897590887343,
          -0.39691886444408303,
          1.4587946690503084,
          0.5030537584716932,
          0.2834070821409793,
          1.6602762267945903,
          -1.6394032252387876,
          0.3561371864556083,
          0.5071869990319724,
          -0.39137338520180515,
          -1.5625516437520808,
          1.3424849679480697,
          -0.798114317162278,
          -0.5861139711310693,
          -1.908134652905644,
          -1.7994024342247412,
          1.1709653111241818,
          1.613274553242905,
          -1.1639037835712955,
          1.3655742980033005
         ],
         "xaxis": "x7",
         "y": [
          -0.8340773682113504,
          0.49123188788963057,
          -1.9000715568691215,
          -0.6876295998356547,
          -0.8538273111014857,
          1.5511189563186973,
          1.7916810535863585,
          -1.2384131342672389,
          -0.11282532877192572,
          0.35044387501754315,
          -0.3725563064013367,
          -0.5978080296220267,
          -0.7459415602962436,
          -0.8062931680433271,
          -0.41309712402120896,
          -0.7677684801488446,
          -1.6237362987866557,
          -1.3867124997696776,
          -0.03384343479363602,
          0.312953792426409,
          0.43354850664087274,
          0.11571251414975957,
          0.7356381212190469,
          -0.8182781601100041,
          0.7278710012373059,
          0.27080432822538103,
          -0.45224220610112037,
          1.3889328686699598,
          0.35415339359074693,
          1.321491480875497,
          0.5604879797874698,
          -2.1780949287932843,
          0.6772032297272086,
          0.5068100984347181,
          0.05294343849021371,
          0.6762701198557137,
          -0.41125546955848485,
          0.9490592885359114,
          0.9579881061090255,
          -0.08746731970232335,
          0.1753148386032337,
          0.35330636557589246,
          0.6092976837114229,
          -0.9897685548060738,
          1.0082812941583785,
          -0.07112634100972726,
          0.7534094755071289,
          -1.2236591466919062,
          -0.44741573370710913,
          -1.056571932317002,
          -0.6351166490247284,
          -0.1152534608551299,
          -0.2753704370824422,
          -0.03361895378725087,
          -1.032713772532709,
          1.2604190210644386,
          1.6305359116844174,
          0.28304773071397693,
          0.46460766770949186,
          0.9430557112402934,
          0.8807024197847123,
          -0.7315449933931041,
          -0.4801700510822656,
          0.12234105041850767,
          -0.8904252461076889,
          -0.8682230097651995,
          0.8089776470552416,
          -0.442143722727833,
          1.0062933868477435,
          0.9789586586064842,
          -0.25604556494295583,
          -0.8081304318643974,
          0.32241893796007687,
          2.9455052125197785,
          1.0189696497125427,
          0.24788985930538732,
          1.136303601810519,
          -1.3946078662938228,
          -1.2292418224455168,
          -1.9150740479746733,
          -1.0297445925889328,
          0.8098970537565258,
          -1.569253924464807,
          -0.9896971663270222,
          -0.7057472240000185,
          0.2204458262981922,
          0.3173361097439095,
          -0.5153534162955274,
          -0.26708392326561814,
          0.7759496323233144,
          0.3730259777582601,
          1.575662623566695,
          1.1570045050500222,
          -0.06068007372528039,
          -1.2513600529835396,
          0.03669689340334888,
          0.18579450181477772,
          -0.16287815628323127,
          2.0901663180753256,
          0.9071005520448465
         ],
         "yaxis": "y7"
        },
        {
         "line": {
          "color": "rgba(128, 128, 128, 1.0)",
          "dash": "solid",
          "shape": "linear",
          "width": 1.3
         },
         "marker": {
          "size": 2,
          "symbol": "circle"
         },
         "mode": "markers",
         "name": "B",
         "text": "",
         "type": "scatter",
         "x": [
          0.7139456893048736,
          1.2182943932514776,
          -0.022442070790911903,
          0.29419838907850454,
          -0.7473982962608382,
          0.05967193022364727,
          -1.7581521899961248,
          2.965034050553671,
          -0.9716107300425278,
          -0.10089240576146587,
          -0.15106025887742477,
          -0.4843170130123628,
          0.3220996841547047,
          -1.332683235916878,
          -0.561749623803411,
          0.7783577730763781,
          -1.0173613113395228,
          1.4834643870057453,
          0.5748771426725922,
          -0.9779032746034094,
          -1.4773574832741476,
          1.0746333271797746,
          1.2070096569013267,
          -0.35917797105680904,
          -1.9147305767939333,
          2.153653228396418,
          -2.4303885700047854,
          0.22157959824077164,
          0.14874563289253137,
          -1.279771382703922,
          -0.1521422200622724,
          1.650037956934773,
          0.6537104615024295,
          0.808006760868366,
          0.13620214175340242,
          -0.5250470673318475,
          -0.9880632900100209,
          1.1180418390662974,
          -0.22588739170453126,
          0.28882691039611624,
          -0.09936686952194648,
          1.5404142967535457,
          -1.4001626432695027,
          -1.3704970552909894,
          2.2077130901998356,
          1.116380542662232,
          -0.4091874611428839,
          -1.3686904120878665,
          1.6049816912046597,
          -0.30703464236377814,
          -0.5473658982832879,
          -0.48495979693113145,
          -0.45033413790447435,
          0.39922580894613374,
          0.6047897126936678,
          -0.8752680433632427,
          -0.8986365730692438,
          0.3770440281928797,
          -1.0420907677722961,
          -2.2166606762468213,
          0.41928713539586043,
          0.7095391770600183,
          0.5539361345485381,
          1.8180138617574744,
          0.020695705953035895,
          0.6488166069066083,
          -1.6740646712918874,
          -1.6236243921041227,
          1.554106555602854,
          -0.7419395714313424,
          -0.15606868120679696,
          0.709525225488563,
          -2.060491897944797,
          -0.04380727568900047,
          -0.5049371502654176,
          -1.0450616759167384,
          0.9509678695829852,
          1.037888791409695,
          1.056487613896072,
          -1.019634938809895,
          0.21168484870149137,
          0.22680691036470607,
          -0.6228332865229037,
          0.6178469540817563,
          -0.3438026326951937,
          -0.8126119160493471,
          0.5994110507451171,
          0.6845268659740725,
          -0.7089044464688247,
          -1.3941795843099998,
          -0.4748919927526555,
          1.2931818578279248,
          1.155046396747897,
          0.054391243974638605,
          0.11105012255970526,
          2.5610353634730023,
          0.7022441176694517,
          0.4563972984648552,
          0.382547875976814,
          -0.9960163190933181
         ],
         "xaxis": "x8",
         "y": [
          -0.8340773682113504,
          0.49123188788963057,
          -1.9000715568691215,
          -0.6876295998356547,
          -0.8538273111014857,
          1.5511189563186973,
          1.7916810535863585,
          -1.2384131342672389,
          -0.11282532877192572,
          0.35044387501754315,
          -0.3725563064013367,
          -0.5978080296220267,
          -0.7459415602962436,
          -0.8062931680433271,
          -0.41309712402120896,
          -0.7677684801488446,
          -1.6237362987866557,
          -1.3867124997696776,
          -0.03384343479363602,
          0.312953792426409,
          0.43354850664087274,
          0.11571251414975957,
          0.7356381212190469,
          -0.8182781601100041,
          0.7278710012373059,
          0.27080432822538103,
          -0.45224220610112037,
          1.3889328686699598,
          0.35415339359074693,
          1.321491480875497,
          0.5604879797874698,
          -2.1780949287932843,
          0.6772032297272086,
          0.5068100984347181,
          0.05294343849021371,
          0.6762701198557137,
          -0.41125546955848485,
          0.9490592885359114,
          0.9579881061090255,
          -0.08746731970232335,
          0.1753148386032337,
          0.35330636557589246,
          0.6092976837114229,
          -0.9897685548060738,
          1.0082812941583785,
          -0.07112634100972726,
          0.7534094755071289,
          -1.2236591466919062,
          -0.44741573370710913,
          -1.056571932317002,
          -0.6351166490247284,
          -0.1152534608551299,
          -0.2753704370824422,
          -0.03361895378725087,
          -1.032713772532709,
          1.2604190210644386,
          1.6305359116844174,
          0.28304773071397693,
          0.46460766770949186,
          0.9430557112402934,
          0.8807024197847123,
          -0.7315449933931041,
          -0.4801700510822656,
          0.12234105041850767,
          -0.8904252461076889,
          -0.8682230097651995,
          0.8089776470552416,
          -0.442143722727833,
          1.0062933868477435,
          0.9789586586064842,
          -0.25604556494295583,
          -0.8081304318643974,
          0.32241893796007687,
          2.9455052125197785,
          1.0189696497125427,
          0.24788985930538732,
          1.136303601810519,
          -1.3946078662938228,
          -1.2292418224455168,
          -1.9150740479746733,
          -1.0297445925889328,
          0.8098970537565258,
          -1.569253924464807,
          -0.9896971663270222,
          -0.7057472240000185,
          0.2204458262981922,
          0.3173361097439095,
          -0.5153534162955274,
          -0.26708392326561814,
          0.7759496323233144,
          0.3730259777582601,
          1.575662623566695,
          1.1570045050500222,
          -0.06068007372528039,
          -1.2513600529835396,
          0.03669689340334888,
          0.18579450181477772,
          -0.16287815628323127,
          2.0901663180753256,
          0.9071005520448465
         ],
         "yaxis": "y8"
        },
        {
         "line": {
          "color": "rgba(128, 128, 128, 1.0)",
          "dash": "solid",
          "shape": "linear",
          "width": 1.3
         },
         "marker": {
          "size": 2,
          "symbol": "circle"
         },
         "mode": "markers",
         "name": "C",
         "text": "",
         "type": "scatter",
         "x": [
          1.2750462071228998,
          1.0564406009906422,
          -1.2570863513881179,
          0.1386992449738513,
          -0.4006631753099272,
          0.772494714001685,
          0.3466280655061471,
          -0.20734882385960135,
          -1.1605599469356516,
          1.5335837092173008,
          0.8701647512889786,
          0.19959773422082286,
          -0.7713696453049101,
          0.8670858884620127,
          0.7527057455344794,
          0.2406881376064278,
          -1.4246729911918348,
          -1.366338353479444,
          -2.510532872604319,
          -0.44076325408168865,
          -0.2720890733894303,
          0.1923950171572903,
          0.17528984033996958,
          -0.05627900857472087,
          -0.09464981393955554,
          0.1109203403862901,
          0.3506712561808483,
          0.11860998679044508,
          0.27273654934561664,
          0.5451708797402759,
          -1.3239800797756898,
          0.7176173593819158,
          0.6390897967980106,
          0.6298020357295875,
          0.9055103909277578,
          -0.5904176841467053,
          -0.38213674321117597,
          -0.9321460998531019,
          -2.0527241542088164,
          -0.1355015868759311,
          -0.15560692657213374,
          -1.3234419856299242,
          0.004612749239376862,
          -0.3533749773258972,
          -1.2778073755305988,
          -1.7334811504670158,
          1.5287980300400834,
          -1.0900212287039468,
          1.3066976573006288,
          0.6829609453885492,
          -0.024493571992407752,
          -1.6644241198636218,
          -1.3552223151228506,
          -0.7758460191490981,
          0.52074640219068,
          -0.5953760210764978,
          0.696233766527075,
          -0.714162783949475,
          0.3429087064661106,
          0.12880671947928052,
          0.1253412689647578,
          -1.5512006665577716,
          1.4696417176119942,
          -1.7740325324274242,
          2.105809697884221,
          1.9167099561167036,
          0.7480215913254173,
          0.7625036829256576,
          -1.086117863919513,
          0.4781593150768092,
          0.7240428405447898,
          -0.503627557293303,
          -1.221663772912323,
          -0.20754934209619638,
          -1.3419782859135356,
          0.216215597439171,
          1.0145615004449249,
          -1.0220756896864085,
          0.49363860464637543,
          -0.01599908409568637,
          -1.1470627595685077,
          -1.023726974752981,
          0.6660548760380969,
          -0.1311469267172626,
          1.1191657681276326,
          -1.5810786212139951,
          0.8160942888787959,
          0.06088517630432691,
          -1.2352546602277445,
          -0.2717692097212096,
          -1.0431055662718702,
          0.13134247407032018,
          -0.7790614189607978,
          0.5434045328072897,
          -1.1755407507532878,
          0.008915452173938613,
          0.16280786785568127,
          -0.6573273421596642,
          -0.274646533946732,
          -0.655594361876358
         ],
         "xaxis": "x9",
         "y": [
          -0.6065814803506674,
          -0.0056614743668575,
          0.47377835760278325,
          -0.7669808349710616,
          -0.2984610713736877,
          -0.7862462591685704,
          -0.30334996180518786,
          -2.2561605961038214,
          1.2104400421793433,
          0.76132924025126,
          -2.0764830248963246,
          -0.3743193722489287,
          1.3140509336583903,
          0.8060959354304592,
          0.8496481858416668,
          0.3206407546556311,
          0.7367664103551135,
          0.10443061661045361,
          0.03436876868568491,
          -0.531729950865737,
          -0.7085974374677646,
          0.693003807983039,
          1.6068787266164335,
          -0.2670568329018913,
          0.015847628858779165,
          0.020782059028557603,
          -0.5196020397478259,
          -2.1742877376534273,
          0.2084446674567804,
          -1.5708351936202887,
          -1.7303559559458355,
          -1.14938646406794,
          0.1412535112325003,
          0.6739769900674427,
          0.3341737804458171,
          -1.544805374766241,
          1.2630156214631156,
          1.2993468829704875,
          0.03943253408824827,
          -0.6505943976451811,
          -1.287916846718534,
          2.6158904742734688,
          -0.18921140358629004,
          -0.5088698523799714,
          0.1583463740320508,
          0.4034115874377453,
          0.41730333864937813,
          0.8443400209241257,
          -0.8439226873024922,
          -0.3618591602469053,
          1.062480966237185,
          -0.8354902780261675,
          0.0283856858965905,
          0.2926742659843175,
          -1.5072017584217483,
          0.6701435665882296,
          0.0918263976356448,
          0.9848450798155605,
          0.7126911055257629,
          0.4209453778492396,
          -0.6506812038781848,
          0.6443815364407258,
          0.11840826658302832,
          -1.2108032671929079,
          0.5089945953821506,
          0.7241253901689519,
          -0.5367383294366789,
          0.5947892296709306,
          -0.48633893865960975,
          -1.2244062958933806,
          -1.4408223353729626,
          0.11646891188842408,
          0.5058898513373067,
          -0.9191398133237972,
          -0.8794916959798096,
          0.9674124240361822,
          -0.18460515585573317,
          0.33866818045005764,
          -0.3982677523303214,
          1.1542108469227073,
          -0.19287897590887343,
          -0.39691886444408303,
          1.4587946690503084,
          0.5030537584716932,
          0.2834070821409793,
          1.6602762267945903,
          -1.6394032252387876,
          0.3561371864556083,
          0.5071869990319724,
          -0.39137338520180515,
          -1.5625516437520808,
          1.3424849679480697,
          -0.798114317162278,
          -0.5861139711310693,
          -1.908134652905644,
          -1.7994024342247412,
          1.1709653111241818,
          1.613274553242905,
          -1.1639037835712955,
          1.3655742980033005
         ],
         "yaxis": "y9"
        },
        {
         "line": {
          "color": "rgba(128, 128, 128, 1.0)",
          "dash": "solid",
          "shape": "linear",
          "width": 1.3
         },
         "marker": {
          "size": 2,
          "symbol": "circle"
         },
         "mode": "markers",
         "name": "C",
         "text": "",
         "type": "scatter",
         "x": [
          -0.8340773682113504,
          0.49123188788963057,
          -1.9000715568691215,
          -0.6876295998356547,
          -0.8538273111014857,
          1.5511189563186973,
          1.7916810535863585,
          -1.2384131342672389,
          -0.11282532877192572,
          0.35044387501754315,
          -0.3725563064013367,
          -0.5978080296220267,
          -0.7459415602962436,
          -0.8062931680433271,
          -0.41309712402120896,
          -0.7677684801488446,
          -1.6237362987866557,
          -1.3867124997696776,
          -0.03384343479363602,
          0.312953792426409,
          0.43354850664087274,
          0.11571251414975957,
          0.7356381212190469,
          -0.8182781601100041,
          0.7278710012373059,
          0.27080432822538103,
          -0.45224220610112037,
          1.3889328686699598,
          0.35415339359074693,
          1.321491480875497,
          0.5604879797874698,
          -2.1780949287932843,
          0.6772032297272086,
          0.5068100984347181,
          0.05294343849021371,
          0.6762701198557137,
          -0.41125546955848485,
          0.9490592885359114,
          0.9579881061090255,
          -0.08746731970232335,
          0.1753148386032337,
          0.35330636557589246,
          0.6092976837114229,
          -0.9897685548060738,
          1.0082812941583785,
          -0.07112634100972726,
          0.7534094755071289,
          -1.2236591466919062,
          -0.44741573370710913,
          -1.056571932317002,
          -0.6351166490247284,
          -0.1152534608551299,
          -0.2753704370824422,
          -0.03361895378725087,
          -1.032713772532709,
          1.2604190210644386,
          1.6305359116844174,
          0.28304773071397693,
          0.46460766770949186,
          0.9430557112402934,
          0.8807024197847123,
          -0.7315449933931041,
          -0.4801700510822656,
          0.12234105041850767,
          -0.8904252461076889,
          -0.8682230097651995,
          0.8089776470552416,
          -0.442143722727833,
          1.0062933868477435,
          0.9789586586064842,
          -0.25604556494295583,
          -0.8081304318643974,
          0.32241893796007687,
          2.9455052125197785,
          1.0189696497125427,
          0.24788985930538732,
          1.136303601810519,
          -1.3946078662938228,
          -1.2292418224455168,
          -1.9150740479746733,
          -1.0297445925889328,
          0.8098970537565258,
          -1.569253924464807,
          -0.9896971663270222,
          -0.7057472240000185,
          0.2204458262981922,
          0.3173361097439095,
          -0.5153534162955274,
          -0.26708392326561814,
          0.7759496323233144,
          0.3730259777582601,
          1.575662623566695,
          1.1570045050500222,
          -0.06068007372528039,
          -1.2513600529835396,
          0.03669689340334888,
          0.18579450181477772,
          -0.16287815628323127,
          2.0901663180753256,
          0.9071005520448465
         ],
         "xaxis": "x10",
         "y": [
          -0.6065814803506674,
          -0.0056614743668575,
          0.47377835760278325,
          -0.7669808349710616,
          -0.2984610713736877,
          -0.7862462591685704,
          -0.30334996180518786,
          -2.2561605961038214,
          1.2104400421793433,
          0.76132924025126,
          -2.0764830248963246,
          -0.3743193722489287,
          1.3140509336583903,
          0.8060959354304592,
          0.8496481858416668,
          0.3206407546556311,
          0.7367664103551135,
          0.10443061661045361,
          0.03436876868568491,
          -0.531729950865737,
          -0.7085974374677646,
          0.693003807983039,
          1.6068787266164335,
          -0.2670568329018913,
          0.015847628858779165,
          0.020782059028557603,
          -0.5196020397478259,
          -2.1742877376534273,
          0.2084446674567804,
          -1.5708351936202887,
          -1.7303559559458355,
          -1.14938646406794,
          0.1412535112325003,
          0.6739769900674427,
          0.3341737804458171,
          -1.544805374766241,
          1.2630156214631156,
          1.2993468829704875,
          0.03943253408824827,
          -0.6505943976451811,
          -1.287916846718534,
          2.6158904742734688,
          -0.18921140358629004,
          -0.5088698523799714,
          0.1583463740320508,
          0.4034115874377453,
          0.41730333864937813,
          0.8443400209241257,
          -0.8439226873024922,
          -0.3618591602469053,
          1.062480966237185,
          -0.8354902780261675,
          0.0283856858965905,
          0.2926742659843175,
          -1.5072017584217483,
          0.6701435665882296,
          0.0918263976356448,
          0.9848450798155605,
          0.7126911055257629,
          0.4209453778492396,
          -0.6506812038781848,
          0.6443815364407258,
          0.11840826658302832,
          -1.2108032671929079,
          0.5089945953821506,
          0.7241253901689519,
          -0.5367383294366789,
          0.5947892296709306,
          -0.48633893865960975,
          -1.2244062958933806,
          -1.4408223353729626,
          0.11646891188842408,
          0.5058898513373067,
          -0.9191398133237972,
          -0.8794916959798096,
          0.9674124240361822,
          -0.18460515585573317,
          0.33866818045005764,
          -0.3982677523303214,
          1.1542108469227073,
          -0.19287897590887343,
          -0.39691886444408303,
          1.4587946690503084,
          0.5030537584716932,
          0.2834070821409793,
          1.6602762267945903,
          -1.6394032252387876,
          0.3561371864556083,
          0.5071869990319724,
          -0.39137338520180515,
          -1.5625516437520808,
          1.3424849679480697,
          -0.798114317162278,
          -0.5861139711310693,
          -1.908134652905644,
          -1.7994024342247412,
          1.1709653111241818,
          1.613274553242905,
          -1.1639037835712955,
          1.3655742980033005
         ],
         "yaxis": "y10"
        },
        {
         "histfunc": "count",
         "histnorm": "",
         "marker": {
          "color": "rgba(50, 171, 96, 1.0)",
          "line": {
           "color": "#4D5663",
           "width": 1.3
          }
         },
         "name": "C",
         "nbinsx": 10,
         "opacity": 0.8,
         "orientation": "v",
         "type": "histogram",
         "x": [
          -0.6065814803506674,
          -0.0056614743668575,
          0.47377835760278325,
          -0.7669808349710616,
          -0.2984610713736877,
          -0.7862462591685704,
          -0.30334996180518786,
          -2.2561605961038214,
          1.2104400421793433,
          0.76132924025126,
          -2.0764830248963246,
          -0.3743193722489287,
          1.3140509336583903,
          0.8060959354304592,
          0.8496481858416668,
          0.3206407546556311,
          0.7367664103551135,
          0.10443061661045361,
          0.03436876868568491,
          -0.531729950865737,
          -0.7085974374677646,
          0.693003807983039,
          1.6068787266164335,
          -0.2670568329018913,
          0.015847628858779165,
          0.020782059028557603,
          -0.5196020397478259,
          -2.1742877376534273,
          0.2084446674567804,
          -1.5708351936202887,
          -1.7303559559458355,
          -1.14938646406794,
          0.1412535112325003,
          0.6739769900674427,
          0.3341737804458171,
          -1.544805374766241,
          1.2630156214631156,
          1.2993468829704875,
          0.03943253408824827,
          -0.6505943976451811,
          -1.287916846718534,
          2.6158904742734688,
          -0.18921140358629004,
          -0.5088698523799714,
          0.1583463740320508,
          0.4034115874377453,
          0.41730333864937813,
          0.8443400209241257,
          -0.8439226873024922,
          -0.3618591602469053,
          1.062480966237185,
          -0.8354902780261675,
          0.0283856858965905,
          0.2926742659843175,
          -1.5072017584217483,
          0.6701435665882296,
          0.0918263976356448,
          0.9848450798155605,
          0.7126911055257629,
          0.4209453778492396,
          -0.6506812038781848,
          0.6443815364407258,
          0.11840826658302832,
          -1.2108032671929079,
          0.5089945953821506,
          0.7241253901689519,
          -0.5367383294366789,
          0.5947892296709306,
          -0.48633893865960975,
          -1.2244062958933806,
          -1.4408223353729626,
          0.11646891188842408,
          0.5058898513373067,
          -0.9191398133237972,
          -0.8794916959798096,
          0.9674124240361822,
          -0.18460515585573317,
          0.33866818045005764,
          -0.3982677523303214,
          1.1542108469227073,
          -0.19287897590887343,
          -0.39691886444408303,
          1.4587946690503084,
          0.5030537584716932,
          0.2834070821409793,
          1.6602762267945903,
          -1.6394032252387876,
          0.3561371864556083,
          0.5071869990319724,
          -0.39137338520180515,
          -1.5625516437520808,
          1.3424849679480697,
          -0.798114317162278,
          -0.5861139711310693,
          -1.908134652905644,
          -1.7994024342247412,
          1.1709653111241818,
          1.613274553242905,
          -1.1639037835712955,
          1.3655742980033005
         ],
         "xaxis": "x11",
         "yaxis": "y11"
        },
        {
         "line": {
          "color": "rgba(128, 128, 128, 1.0)",
          "dash": "solid",
          "shape": "linear",
          "width": 1.3
         },
         "marker": {
          "size": 2,
          "symbol": "circle"
         },
         "mode": "markers",
         "name": "C",
         "text": "",
         "type": "scatter",
         "x": [
          0.7139456893048736,
          1.2182943932514776,
          -0.022442070790911903,
          0.29419838907850454,
          -0.7473982962608382,
          0.05967193022364727,
          -1.7581521899961248,
          2.965034050553671,
          -0.9716107300425278,
          -0.10089240576146587,
          -0.15106025887742477,
          -0.4843170130123628,
          0.3220996841547047,
          -1.332683235916878,
          -0.561749623803411,
          0.7783577730763781,
          -1.0173613113395228,
          1.4834643870057453,
          0.5748771426725922,
          -0.9779032746034094,
          -1.4773574832741476,
          1.0746333271797746,
          1.2070096569013267,
          -0.35917797105680904,
          -1.9147305767939333,
          2.153653228396418,
          -2.4303885700047854,
          0.22157959824077164,
          0.14874563289253137,
          -1.279771382703922,
          -0.1521422200622724,
          1.650037956934773,
          0.6537104615024295,
          0.808006760868366,
          0.13620214175340242,
          -0.5250470673318475,
          -0.9880632900100209,
          1.1180418390662974,
          -0.22588739170453126,
          0.28882691039611624,
          -0.09936686952194648,
          1.5404142967535457,
          -1.4001626432695027,
          -1.3704970552909894,
          2.2077130901998356,
          1.116380542662232,
          -0.4091874611428839,
          -1.3686904120878665,
          1.6049816912046597,
          -0.30703464236377814,
          -0.5473658982832879,
          -0.48495979693113145,
          -0.45033413790447435,
          0.39922580894613374,
          0.6047897126936678,
          -0.8752680433632427,
          -0.8986365730692438,
          0.3770440281928797,
          -1.0420907677722961,
          -2.2166606762468213,
          0.41928713539586043,
          0.7095391770600183,
          0.5539361345485381,
          1.8180138617574744,
          0.020695705953035895,
          0.6488166069066083,
          -1.6740646712918874,
          -1.6236243921041227,
          1.554106555602854,
          -0.7419395714313424,
          -0.15606868120679696,
          0.709525225488563,
          -2.060491897944797,
          -0.04380727568900047,
          -0.5049371502654176,
          -1.0450616759167384,
          0.9509678695829852,
          1.037888791409695,
          1.056487613896072,
          -1.019634938809895,
          0.21168484870149137,
          0.22680691036470607,
          -0.6228332865229037,
          0.6178469540817563,
          -0.3438026326951937,
          -0.8126119160493471,
          0.5994110507451171,
          0.6845268659740725,
          -0.7089044464688247,
          -1.3941795843099998,
          -0.4748919927526555,
          1.2931818578279248,
          1.155046396747897,
          0.054391243974638605,
          0.11105012255970526,
          2.5610353634730023,
          0.7022441176694517,
          0.4563972984648552,
          0.382547875976814,
          -0.9960163190933181
         ],
         "xaxis": "x12",
         "y": [
          -0.6065814803506674,
          -0.0056614743668575,
          0.47377835760278325,
          -0.7669808349710616,
          -0.2984610713736877,
          -0.7862462591685704,
          -0.30334996180518786,
          -2.2561605961038214,
          1.2104400421793433,
          0.76132924025126,
          -2.0764830248963246,
          -0.3743193722489287,
          1.3140509336583903,
          0.8060959354304592,
          0.8496481858416668,
          0.3206407546556311,
          0.7367664103551135,
          0.10443061661045361,
          0.03436876868568491,
          -0.531729950865737,
          -0.7085974374677646,
          0.693003807983039,
          1.6068787266164335,
          -0.2670568329018913,
          0.015847628858779165,
          0.020782059028557603,
          -0.5196020397478259,
          -2.1742877376534273,
          0.2084446674567804,
          -1.5708351936202887,
          -1.7303559559458355,
          -1.14938646406794,
          0.1412535112325003,
          0.6739769900674427,
          0.3341737804458171,
          -1.544805374766241,
          1.2630156214631156,
          1.2993468829704875,
          0.03943253408824827,
          -0.6505943976451811,
          -1.287916846718534,
          2.6158904742734688,
          -0.18921140358629004,
          -0.5088698523799714,
          0.1583463740320508,
          0.4034115874377453,
          0.41730333864937813,
          0.8443400209241257,
          -0.8439226873024922,
          -0.3618591602469053,
          1.062480966237185,
          -0.8354902780261675,
          0.0283856858965905,
          0.2926742659843175,
          -1.5072017584217483,
          0.6701435665882296,
          0.0918263976356448,
          0.9848450798155605,
          0.7126911055257629,
          0.4209453778492396,
          -0.6506812038781848,
          0.6443815364407258,
          0.11840826658302832,
          -1.2108032671929079,
          0.5089945953821506,
          0.7241253901689519,
          -0.5367383294366789,
          0.5947892296709306,
          -0.48633893865960975,
          -1.2244062958933806,
          -1.4408223353729626,
          0.11646891188842408,
          0.5058898513373067,
          -0.9191398133237972,
          -0.8794916959798096,
          0.9674124240361822,
          -0.18460515585573317,
          0.33866818045005764,
          -0.3982677523303214,
          1.1542108469227073,
          -0.19287897590887343,
          -0.39691886444408303,
          1.4587946690503084,
          0.5030537584716932,
          0.2834070821409793,
          1.6602762267945903,
          -1.6394032252387876,
          0.3561371864556083,
          0.5071869990319724,
          -0.39137338520180515,
          -1.5625516437520808,
          1.3424849679480697,
          -0.798114317162278,
          -0.5861139711310693,
          -1.908134652905644,
          -1.7994024342247412,
          1.1709653111241818,
          1.613274553242905,
          -1.1639037835712955,
          1.3655742980033005
         ],
         "yaxis": "y12"
        },
        {
         "line": {
          "color": "rgba(128, 128, 128, 1.0)",
          "dash": "solid",
          "shape": "linear",
          "width": 1.3
         },
         "marker": {
          "size": 2,
          "symbol": "circle"
         },
         "mode": "markers",
         "name": "D",
         "text": "",
         "type": "scatter",
         "x": [
          1.2750462071228998,
          1.0564406009906422,
          -1.2570863513881179,
          0.1386992449738513,
          -0.4006631753099272,
          0.772494714001685,
          0.3466280655061471,
          -0.20734882385960135,
          -1.1605599469356516,
          1.5335837092173008,
          0.8701647512889786,
          0.19959773422082286,
          -0.7713696453049101,
          0.8670858884620127,
          0.7527057455344794,
          0.2406881376064278,
          -1.4246729911918348,
          -1.366338353479444,
          -2.510532872604319,
          -0.44076325408168865,
          -0.2720890733894303,
          0.1923950171572903,
          0.17528984033996958,
          -0.05627900857472087,
          -0.09464981393955554,
          0.1109203403862901,
          0.3506712561808483,
          0.11860998679044508,
          0.27273654934561664,
          0.5451708797402759,
          -1.3239800797756898,
          0.7176173593819158,
          0.6390897967980106,
          0.6298020357295875,
          0.9055103909277578,
          -0.5904176841467053,
          -0.38213674321117597,
          -0.9321460998531019,
          -2.0527241542088164,
          -0.1355015868759311,
          -0.15560692657213374,
          -1.3234419856299242,
          0.004612749239376862,
          -0.3533749773258972,
          -1.2778073755305988,
          -1.7334811504670158,
          1.5287980300400834,
          -1.0900212287039468,
          1.3066976573006288,
          0.6829609453885492,
          -0.024493571992407752,
          -1.6644241198636218,
          -1.3552223151228506,
          -0.7758460191490981,
          0.52074640219068,
          -0.5953760210764978,
          0.696233766527075,
          -0.714162783949475,
          0.3429087064661106,
          0.12880671947928052,
          0.1253412689647578,
          -1.5512006665577716,
          1.4696417176119942,
          -1.7740325324274242,
          2.105809697884221,
          1.9167099561167036,
          0.7480215913254173,
          0.7625036829256576,
          -1.086117863919513,
          0.4781593150768092,
          0.7240428405447898,
          -0.503627557293303,
          -1.221663772912323,
          -0.20754934209619638,
          -1.3419782859135356,
          0.216215597439171,
          1.0145615004449249,
          -1.0220756896864085,
          0.49363860464637543,
          -0.01599908409568637,
          -1.1470627595685077,
          -1.023726974752981,
          0.6660548760380969,
          -0.1311469267172626,
          1.1191657681276326,
          -1.5810786212139951,
          0.8160942888787959,
          0.06088517630432691,
          -1.2352546602277445,
          -0.2717692097212096,
          -1.0431055662718702,
          0.13134247407032018,
          -0.7790614189607978,
          0.5434045328072897,
          -1.1755407507532878,
          0.008915452173938613,
          0.16280786785568127,
          -0.6573273421596642,
          -0.274646533946732,
          -0.655594361876358
         ],
         "xaxis": "x13",
         "y": [
          0.7139456893048736,
          1.2182943932514776,
          -0.022442070790911903,
          0.29419838907850454,
          -0.7473982962608382,
          0.05967193022364727,
          -1.7581521899961248,
          2.965034050553671,
          -0.9716107300425278,
          -0.10089240576146587,
          -0.15106025887742477,
          -0.4843170130123628,
          0.3220996841547047,
          -1.332683235916878,
          -0.561749623803411,
          0.7783577730763781,
          -1.0173613113395228,
          1.4834643870057453,
          0.5748771426725922,
          -0.9779032746034094,
          -1.4773574832741476,
          1.0746333271797746,
          1.2070096569013267,
          -0.35917797105680904,
          -1.9147305767939333,
          2.153653228396418,
          -2.4303885700047854,
          0.22157959824077164,
          0.14874563289253137,
          -1.279771382703922,
          -0.1521422200622724,
          1.650037956934773,
          0.6537104615024295,
          0.808006760868366,
          0.13620214175340242,
          -0.5250470673318475,
          -0.9880632900100209,
          1.1180418390662974,
          -0.22588739170453126,
          0.28882691039611624,
          -0.09936686952194648,
          1.5404142967535457,
          -1.4001626432695027,
          -1.3704970552909894,
          2.2077130901998356,
          1.116380542662232,
          -0.4091874611428839,
          -1.3686904120878665,
          1.6049816912046597,
          -0.30703464236377814,
          -0.5473658982832879,
          -0.48495979693113145,
          -0.45033413790447435,
          0.39922580894613374,
          0.6047897126936678,
          -0.8752680433632427,
          -0.8986365730692438,
          0.3770440281928797,
          -1.0420907677722961,
          -2.2166606762468213,
          0.41928713539586043,
          0.7095391770600183,
          0.5539361345485381,
          1.8180138617574744,
          0.020695705953035895,
          0.6488166069066083,
          -1.6740646712918874,
          -1.6236243921041227,
          1.554106555602854,
          -0.7419395714313424,
          -0.15606868120679696,
          0.709525225488563,
          -2.060491897944797,
          -0.04380727568900047,
          -0.5049371502654176,
          -1.0450616759167384,
          0.9509678695829852,
          1.037888791409695,
          1.056487613896072,
          -1.019634938809895,
          0.21168484870149137,
          0.22680691036470607,
          -0.6228332865229037,
          0.6178469540817563,
          -0.3438026326951937,
          -0.8126119160493471,
          0.5994110507451171,
          0.6845268659740725,
          -0.7089044464688247,
          -1.3941795843099998,
          -0.4748919927526555,
          1.2931818578279248,
          1.155046396747897,
          0.054391243974638605,
          0.11105012255970526,
          2.5610353634730023,
          0.7022441176694517,
          0.4563972984648552,
          0.382547875976814,
          -0.9960163190933181
         ],
         "yaxis": "y13"
        },
        {
         "line": {
          "color": "rgba(128, 128, 128, 1.0)",
          "dash": "solid",
          "shape": "linear",
          "width": 1.3
         },
         "marker": {
          "size": 2,
          "symbol": "circle"
         },
         "mode": "markers",
         "name": "D",
         "text": "",
         "type": "scatter",
         "x": [
          -0.8340773682113504,
          0.49123188788963057,
          -1.9000715568691215,
          -0.6876295998356547,
          -0.8538273111014857,
          1.5511189563186973,
          1.7916810535863585,
          -1.2384131342672389,
          -0.11282532877192572,
          0.35044387501754315,
          -0.3725563064013367,
          -0.5978080296220267,
          -0.7459415602962436,
          -0.8062931680433271,
          -0.41309712402120896,
          -0.7677684801488446,
          -1.6237362987866557,
          -1.3867124997696776,
          -0.03384343479363602,
          0.312953792426409,
          0.43354850664087274,
          0.11571251414975957,
          0.7356381212190469,
          -0.8182781601100041,
          0.7278710012373059,
          0.27080432822538103,
          -0.45224220610112037,
          1.3889328686699598,
          0.35415339359074693,
          1.321491480875497,
          0.5604879797874698,
          -2.1780949287932843,
          0.6772032297272086,
          0.5068100984347181,
          0.05294343849021371,
          0.6762701198557137,
          -0.41125546955848485,
          0.9490592885359114,
          0.9579881061090255,
          -0.08746731970232335,
          0.1753148386032337,
          0.35330636557589246,
          0.6092976837114229,
          -0.9897685548060738,
          1.0082812941583785,
          -0.07112634100972726,
          0.7534094755071289,
          -1.2236591466919062,
          -0.44741573370710913,
          -1.056571932317002,
          -0.6351166490247284,
          -0.1152534608551299,
          -0.2753704370824422,
          -0.03361895378725087,
          -1.032713772532709,
          1.2604190210644386,
          1.6305359116844174,
          0.28304773071397693,
          0.46460766770949186,
          0.9430557112402934,
          0.8807024197847123,
          -0.7315449933931041,
          -0.4801700510822656,
          0.12234105041850767,
          -0.8904252461076889,
          -0.8682230097651995,
          0.8089776470552416,
          -0.442143722727833,
          1.0062933868477435,
          0.9789586586064842,
          -0.25604556494295583,
          -0.8081304318643974,
          0.32241893796007687,
          2.9455052125197785,
          1.0189696497125427,
          0.24788985930538732,
          1.136303601810519,
          -1.3946078662938228,
          -1.2292418224455168,
          -1.9150740479746733,
          -1.0297445925889328,
          0.8098970537565258,
          -1.569253924464807,
          -0.9896971663270222,
          -0.7057472240000185,
          0.2204458262981922,
          0.3173361097439095,
          -0.5153534162955274,
          -0.26708392326561814,
          0.7759496323233144,
          0.3730259777582601,
          1.575662623566695,
          1.1570045050500222,
          -0.06068007372528039,
          -1.2513600529835396,
          0.03669689340334888,
          0.18579450181477772,
          -0.16287815628323127,
          2.0901663180753256,
          0.9071005520448465
         ],
         "xaxis": "x14",
         "y": [
          0.7139456893048736,
          1.2182943932514776,
          -0.022442070790911903,
          0.29419838907850454,
          -0.7473982962608382,
          0.05967193022364727,
          -1.7581521899961248,
          2.965034050553671,
          -0.9716107300425278,
          -0.10089240576146587,
          -0.15106025887742477,
          -0.4843170130123628,
          0.3220996841547047,
          -1.332683235916878,
          -0.561749623803411,
          0.7783577730763781,
          -1.0173613113395228,
          1.4834643870057453,
          0.5748771426725922,
          -0.9779032746034094,
          -1.4773574832741476,
          1.0746333271797746,
          1.2070096569013267,
          -0.35917797105680904,
          -1.9147305767939333,
          2.153653228396418,
          -2.4303885700047854,
          0.22157959824077164,
          0.14874563289253137,
          -1.279771382703922,
          -0.1521422200622724,
          1.650037956934773,
          0.6537104615024295,
          0.808006760868366,
          0.13620214175340242,
          -0.5250470673318475,
          -0.9880632900100209,
          1.1180418390662974,
          -0.22588739170453126,
          0.28882691039611624,
          -0.09936686952194648,
          1.5404142967535457,
          -1.4001626432695027,
          -1.3704970552909894,
          2.2077130901998356,
          1.116380542662232,
          -0.4091874611428839,
          -1.3686904120878665,
          1.6049816912046597,
          -0.30703464236377814,
          -0.5473658982832879,
          -0.48495979693113145,
          -0.45033413790447435,
          0.39922580894613374,
          0.6047897126936678,
          -0.8752680433632427,
          -0.8986365730692438,
          0.3770440281928797,
          -1.0420907677722961,
          -2.2166606762468213,
          0.41928713539586043,
          0.7095391770600183,
          0.5539361345485381,
          1.8180138617574744,
          0.020695705953035895,
          0.6488166069066083,
          -1.6740646712918874,
          -1.6236243921041227,
          1.554106555602854,
          -0.7419395714313424,
          -0.15606868120679696,
          0.709525225488563,
          -2.060491897944797,
          -0.04380727568900047,
          -0.5049371502654176,
          -1.0450616759167384,
          0.9509678695829852,
          1.037888791409695,
          1.056487613896072,
          -1.019634938809895,
          0.21168484870149137,
          0.22680691036470607,
          -0.6228332865229037,
          0.6178469540817563,
          -0.3438026326951937,
          -0.8126119160493471,
          0.5994110507451171,
          0.6845268659740725,
          -0.7089044464688247,
          -1.3941795843099998,
          -0.4748919927526555,
          1.2931818578279248,
          1.155046396747897,
          0.054391243974638605,
          0.11105012255970526,
          2.5610353634730023,
          0.7022441176694517,
          0.4563972984648552,
          0.382547875976814,
          -0.9960163190933181
         ],
         "yaxis": "y14"
        },
        {
         "line": {
          "color": "rgba(128, 128, 128, 1.0)",
          "dash": "solid",
          "shape": "linear",
          "width": 1.3
         },
         "marker": {
          "size": 2,
          "symbol": "circle"
         },
         "mode": "markers",
         "name": "D",
         "text": "",
         "type": "scatter",
         "x": [
          -0.6065814803506674,
          -0.0056614743668575,
          0.47377835760278325,
          -0.7669808349710616,
          -0.2984610713736877,
          -0.7862462591685704,
          -0.30334996180518786,
          -2.2561605961038214,
          1.2104400421793433,
          0.76132924025126,
          -2.0764830248963246,
          -0.3743193722489287,
          1.3140509336583903,
          0.8060959354304592,
          0.8496481858416668,
          0.3206407546556311,
          0.7367664103551135,
          0.10443061661045361,
          0.03436876868568491,
          -0.531729950865737,
          -0.7085974374677646,
          0.693003807983039,
          1.6068787266164335,
          -0.2670568329018913,
          0.015847628858779165,
          0.020782059028557603,
          -0.5196020397478259,
          -2.1742877376534273,
          0.2084446674567804,
          -1.5708351936202887,
          -1.7303559559458355,
          -1.14938646406794,
          0.1412535112325003,
          0.6739769900674427,
          0.3341737804458171,
          -1.544805374766241,
          1.2630156214631156,
          1.2993468829704875,
          0.03943253408824827,
          -0.6505943976451811,
          -1.287916846718534,
          2.6158904742734688,
          -0.18921140358629004,
          -0.5088698523799714,
          0.1583463740320508,
          0.4034115874377453,
          0.41730333864937813,
          0.8443400209241257,
          -0.8439226873024922,
          -0.3618591602469053,
          1.062480966237185,
          -0.8354902780261675,
          0.0283856858965905,
          0.2926742659843175,
          -1.5072017584217483,
          0.6701435665882296,
          0.0918263976356448,
          0.9848450798155605,
          0.7126911055257629,
          0.4209453778492396,
          -0.6506812038781848,
          0.6443815364407258,
          0.11840826658302832,
          -1.2108032671929079,
          0.5089945953821506,
          0.7241253901689519,
          -0.5367383294366789,
          0.5947892296709306,
          -0.48633893865960975,
          -1.2244062958933806,
          -1.4408223353729626,
          0.11646891188842408,
          0.5058898513373067,
          -0.9191398133237972,
          -0.8794916959798096,
          0.9674124240361822,
          -0.18460515585573317,
          0.33866818045005764,
          -0.3982677523303214,
          1.1542108469227073,
          -0.19287897590887343,
          -0.39691886444408303,
          1.4587946690503084,
          0.5030537584716932,
          0.2834070821409793,
          1.6602762267945903,
          -1.6394032252387876,
          0.3561371864556083,
          0.5071869990319724,
          -0.39137338520180515,
          -1.5625516437520808,
          1.3424849679480697,
          -0.798114317162278,
          -0.5861139711310693,
          -1.908134652905644,
          -1.7994024342247412,
          1.1709653111241818,
          1.613274553242905,
          -1.1639037835712955,
          1.3655742980033005
         ],
         "xaxis": "x15",
         "y": [
          0.7139456893048736,
          1.2182943932514776,
          -0.022442070790911903,
          0.29419838907850454,
          -0.7473982962608382,
          0.05967193022364727,
          -1.7581521899961248,
          2.965034050553671,
          -0.9716107300425278,
          -0.10089240576146587,
          -0.15106025887742477,
          -0.4843170130123628,
          0.3220996841547047,
          -1.332683235916878,
          -0.561749623803411,
          0.7783577730763781,
          -1.0173613113395228,
          1.4834643870057453,
          0.5748771426725922,
          -0.9779032746034094,
          -1.4773574832741476,
          1.0746333271797746,
          1.2070096569013267,
          -0.35917797105680904,
          -1.9147305767939333,
          2.153653228396418,
          -2.4303885700047854,
          0.22157959824077164,
          0.14874563289253137,
          -1.279771382703922,
          -0.1521422200622724,
          1.650037956934773,
          0.6537104615024295,
          0.808006760868366,
          0.13620214175340242,
          -0.5250470673318475,
          -0.9880632900100209,
          1.1180418390662974,
          -0.22588739170453126,
          0.28882691039611624,
          -0.09936686952194648,
          1.5404142967535457,
          -1.4001626432695027,
          -1.3704970552909894,
          2.2077130901998356,
          1.116380542662232,
          -0.4091874611428839,
          -1.3686904120878665,
          1.6049816912046597,
          -0.30703464236377814,
          -0.5473658982832879,
          -0.48495979693113145,
          -0.45033413790447435,
          0.39922580894613374,
          0.6047897126936678,
          -0.8752680433632427,
          -0.8986365730692438,
          0.3770440281928797,
          -1.0420907677722961,
          -2.2166606762468213,
          0.41928713539586043,
          0.7095391770600183,
          0.5539361345485381,
          1.8180138617574744,
          0.020695705953035895,
          0.6488166069066083,
          -1.6740646712918874,
          -1.6236243921041227,
          1.554106555602854,
          -0.7419395714313424,
          -0.15606868120679696,
          0.709525225488563,
          -2.060491897944797,
          -0.04380727568900047,
          -0.5049371502654176,
          -1.0450616759167384,
          0.9509678695829852,
          1.037888791409695,
          1.056487613896072,
          -1.019634938809895,
          0.21168484870149137,
          0.22680691036470607,
          -0.6228332865229037,
          0.6178469540817563,
          -0.3438026326951937,
          -0.8126119160493471,
          0.5994110507451171,
          0.6845268659740725,
          -0.7089044464688247,
          -1.3941795843099998,
          -0.4748919927526555,
          1.2931818578279248,
          1.155046396747897,
          0.054391243974638605,
          0.11105012255970526,
          2.5610353634730023,
          0.7022441176694517,
          0.4563972984648552,
          0.382547875976814,
          -0.9960163190933181
         ],
         "yaxis": "y15"
        },
        {
         "histfunc": "count",
         "histnorm": "",
         "marker": {
          "color": "rgba(128, 0, 128, 1.0)",
          "line": {
           "color": "#4D5663",
           "width": 1.3
          }
         },
         "name": "D",
         "nbinsx": 10,
         "opacity": 0.8,
         "orientation": "v",
         "type": "histogram",
         "x": [
          0.7139456893048736,
          1.2182943932514776,
          -0.022442070790911903,
          0.29419838907850454,
          -0.7473982962608382,
          0.05967193022364727,
          -1.7581521899961248,
          2.965034050553671,
          -0.9716107300425278,
          -0.10089240576146587,
          -0.15106025887742477,
          -0.4843170130123628,
          0.3220996841547047,
          -1.332683235916878,
          -0.561749623803411,
          0.7783577730763781,
          -1.0173613113395228,
          1.4834643870057453,
          0.5748771426725922,
          -0.9779032746034094,
          -1.4773574832741476,
          1.0746333271797746,
          1.2070096569013267,
          -0.35917797105680904,
          -1.9147305767939333,
          2.153653228396418,
          -2.4303885700047854,
          0.22157959824077164,
          0.14874563289253137,
          -1.279771382703922,
          -0.1521422200622724,
          1.650037956934773,
          0.6537104615024295,
          0.808006760868366,
          0.13620214175340242,
          -0.5250470673318475,
          -0.9880632900100209,
          1.1180418390662974,
          -0.22588739170453126,
          0.28882691039611624,
          -0.09936686952194648,
          1.5404142967535457,
          -1.4001626432695027,
          -1.3704970552909894,
          2.2077130901998356,
          1.116380542662232,
          -0.4091874611428839,
          -1.3686904120878665,
          1.6049816912046597,
          -0.30703464236377814,
          -0.5473658982832879,
          -0.48495979693113145,
          -0.45033413790447435,
          0.39922580894613374,
          0.6047897126936678,
          -0.8752680433632427,
          -0.8986365730692438,
          0.3770440281928797,
          -1.0420907677722961,
          -2.2166606762468213,
          0.41928713539586043,
          0.7095391770600183,
          0.5539361345485381,
          1.8180138617574744,
          0.020695705953035895,
          0.6488166069066083,
          -1.6740646712918874,
          -1.6236243921041227,
          1.554106555602854,
          -0.7419395714313424,
          -0.15606868120679696,
          0.709525225488563,
          -2.060491897944797,
          -0.04380727568900047,
          -0.5049371502654176,
          -1.0450616759167384,
          0.9509678695829852,
          1.037888791409695,
          1.056487613896072,
          -1.019634938809895,
          0.21168484870149137,
          0.22680691036470607,
          -0.6228332865229037,
          0.6178469540817563,
          -0.3438026326951937,
          -0.8126119160493471,
          0.5994110507451171,
          0.6845268659740725,
          -0.7089044464688247,
          -1.3941795843099998,
          -0.4748919927526555,
          1.2931818578279248,
          1.155046396747897,
          0.054391243974638605,
          0.11105012255970526,
          2.5610353634730023,
          0.7022441176694517,
          0.4563972984648552,
          0.382547875976814,
          -0.9960163190933181
         ],
         "xaxis": "x16",
         "yaxis": "y16"
        }
       ],
       "layout": {
        "bargap": 0.02,
        "legend": {
         "bgcolor": "#F5F6F9",
         "font": {
          "color": "#4D5663"
         }
        },
        "paper_bgcolor": "#F5F6F9",
        "plot_bgcolor": "#F5F6F9",
        "showlegend": false,
        "template": {
         "data": {
          "bar": [
           {
            "error_x": {
             "color": "#2a3f5f"
            },
            "error_y": {
             "color": "#2a3f5f"
            },
            "marker": {
             "line": {
              "color": "#E5ECF6",
              "width": 0.5
             },
             "pattern": {
              "fillmode": "overlay",
              "size": 10,
              "solidity": 0.2
             }
            },
            "type": "bar"
           }
          ],
          "barpolar": [
           {
            "marker": {
             "line": {
              "color": "#E5ECF6",
              "width": 0.5
             },
             "pattern": {
              "fillmode": "overlay",
              "size": 10,
              "solidity": 0.2
             }
            },
            "type": "barpolar"
           }
          ],
          "carpet": [
           {
            "aaxis": {
             "endlinecolor": "#2a3f5f",
             "gridcolor": "white",
             "linecolor": "white",
             "minorgridcolor": "white",
             "startlinecolor": "#2a3f5f"
            },
            "baxis": {
             "endlinecolor": "#2a3f5f",
             "gridcolor": "white",
             "linecolor": "white",
             "minorgridcolor": "white",
             "startlinecolor": "#2a3f5f"
            },
            "type": "carpet"
           }
          ],
          "choropleth": [
           {
            "colorbar": {
             "outlinewidth": 0,
             "ticks": ""
            },
            "type": "choropleth"
           }
          ],
          "contour": [
           {
            "colorbar": {
             "outlinewidth": 0,
             "ticks": ""
            },
            "colorscale": [
             [
              0,
              "#0d0887"
             ],
             [
              0.1111111111111111,
              "#46039f"
             ],
             [
              0.2222222222222222,
              "#7201a8"
             ],
             [
              0.3333333333333333,
              "#9c179e"
             ],
             [
              0.4444444444444444,
              "#bd3786"
             ],
             [
              0.5555555555555556,
              "#d8576b"
             ],
             [
              0.6666666666666666,
              "#ed7953"
             ],
             [
              0.7777777777777778,
              "#fb9f3a"
             ],
             [
              0.8888888888888888,
              "#fdca26"
             ],
             [
              1,
              "#f0f921"
             ]
            ],
            "type": "contour"
           }
          ],
          "contourcarpet": [
           {
            "colorbar": {
             "outlinewidth": 0,
             "ticks": ""
            },
            "type": "contourcarpet"
           }
          ],
          "heatmap": [
           {
            "colorbar": {
             "outlinewidth": 0,
             "ticks": ""
            },
            "colorscale": [
             [
              0,
              "#0d0887"
             ],
             [
              0.1111111111111111,
              "#46039f"
             ],
             [
              0.2222222222222222,
              "#7201a8"
             ],
             [
              0.3333333333333333,
              "#9c179e"
             ],
             [
              0.4444444444444444,
              "#bd3786"
             ],
             [
              0.5555555555555556,
              "#d8576b"
             ],
             [
              0.6666666666666666,
              "#ed7953"
             ],
             [
              0.7777777777777778,
              "#fb9f3a"
             ],
             [
              0.8888888888888888,
              "#fdca26"
             ],
             [
              1,
              "#f0f921"
             ]
            ],
            "type": "heatmap"
           }
          ],
          "heatmapgl": [
           {
            "colorbar": {
             "outlinewidth": 0,
             "ticks": ""
            },
            "colorscale": [
             [
              0,
              "#0d0887"
             ],
             [
              0.1111111111111111,
              "#46039f"
             ],
             [
              0.2222222222222222,
              "#7201a8"
             ],
             [
              0.3333333333333333,
              "#9c179e"
             ],
             [
              0.4444444444444444,
              "#bd3786"
             ],
             [
              0.5555555555555556,
              "#d8576b"
             ],
             [
              0.6666666666666666,
              "#ed7953"
             ],
             [
              0.7777777777777778,
              "#fb9f3a"
             ],
             [
              0.8888888888888888,
              "#fdca26"
             ],
             [
              1,
              "#f0f921"
             ]
            ],
            "type": "heatmapgl"
           }
          ],
          "histogram": [
           {
            "marker": {
             "pattern": {
              "fillmode": "overlay",
              "size": 10,
              "solidity": 0.2
             }
            },
            "type": "histogram"
           }
          ],
          "histogram2d": [
           {
            "colorbar": {
             "outlinewidth": 0,
             "ticks": ""
            },
            "colorscale": [
             [
              0,
              "#0d0887"
             ],
             [
              0.1111111111111111,
              "#46039f"
             ],
             [
              0.2222222222222222,
              "#7201a8"
             ],
             [
              0.3333333333333333,
              "#9c179e"
             ],
             [
              0.4444444444444444,
              "#bd3786"
             ],
             [
              0.5555555555555556,
              "#d8576b"
             ],
             [
              0.6666666666666666,
              "#ed7953"
             ],
             [
              0.7777777777777778,
              "#fb9f3a"
             ],
             [
              0.8888888888888888,
              "#fdca26"
             ],
             [
              1,
              "#f0f921"
             ]
            ],
            "type": "histogram2d"
           }
          ],
          "histogram2dcontour": [
           {
            "colorbar": {
             "outlinewidth": 0,
             "ticks": ""
            },
            "colorscale": [
             [
              0,
              "#0d0887"
             ],
             [
              0.1111111111111111,
              "#46039f"
             ],
             [
              0.2222222222222222,
              "#7201a8"
             ],
             [
              0.3333333333333333,
              "#9c179e"
             ],
             [
              0.4444444444444444,
              "#bd3786"
             ],
             [
              0.5555555555555556,
              "#d8576b"
             ],
             [
              0.6666666666666666,
              "#ed7953"
             ],
             [
              0.7777777777777778,
              "#fb9f3a"
             ],
             [
              0.8888888888888888,
              "#fdca26"
             ],
             [
              1,
              "#f0f921"
             ]
            ],
            "type": "histogram2dcontour"
           }
          ],
          "mesh3d": [
           {
            "colorbar": {
             "outlinewidth": 0,
             "ticks": ""
            },
            "type": "mesh3d"
           }
          ],
          "parcoords": [
           {
            "line": {
             "colorbar": {
              "outlinewidth": 0,
              "ticks": ""
             }
            },
            "type": "parcoords"
           }
          ],
          "pie": [
           {
            "automargin": true,
            "type": "pie"
           }
          ],
          "scatter": [
           {
            "marker": {
             "colorbar": {
              "outlinewidth": 0,
              "ticks": ""
             }
            },
            "type": "scatter"
           }
          ],
          "scatter3d": [
           {
            "line": {
             "colorbar": {
              "outlinewidth": 0,
              "ticks": ""
             }
            },
            "marker": {
             "colorbar": {
              "outlinewidth": 0,
              "ticks": ""
             }
            },
            "type": "scatter3d"
           }
          ],
          "scattercarpet": [
           {
            "marker": {
             "colorbar": {
              "outlinewidth": 0,
              "ticks": ""
             }
            },
            "type": "scattercarpet"
           }
          ],
          "scattergeo": [
           {
            "marker": {
             "colorbar": {
              "outlinewidth": 0,
              "ticks": ""
             }
            },
            "type": "scattergeo"
           }
          ],
          "scattergl": [
           {
            "marker": {
             "colorbar": {
              "outlinewidth": 0,
              "ticks": ""
             }
            },
            "type": "scattergl"
           }
          ],
          "scattermapbox": [
           {
            "marker": {
             "colorbar": {
              "outlinewidth": 0,
              "ticks": ""
             }
            },
            "type": "scattermapbox"
           }
          ],
          "scatterpolar": [
           {
            "marker": {
             "colorbar": {
              "outlinewidth": 0,
              "ticks": ""
             }
            },
            "type": "scatterpolar"
           }
          ],
          "scatterpolargl": [
           {
            "marker": {
             "colorbar": {
              "outlinewidth": 0,
              "ticks": ""
             }
            },
            "type": "scatterpolargl"
           }
          ],
          "scatterternary": [
           {
            "marker": {
             "colorbar": {
              "outlinewidth": 0,
              "ticks": ""
             }
            },
            "type": "scatterternary"
           }
          ],
          "surface": [
           {
            "colorbar": {
             "outlinewidth": 0,
             "ticks": ""
            },
            "colorscale": [
             [
              0,
              "#0d0887"
             ],
             [
              0.1111111111111111,
              "#46039f"
             ],
             [
              0.2222222222222222,
              "#7201a8"
             ],
             [
              0.3333333333333333,
              "#9c179e"
             ],
             [
              0.4444444444444444,
              "#bd3786"
             ],
             [
              0.5555555555555556,
              "#d8576b"
             ],
             [
              0.6666666666666666,
              "#ed7953"
             ],
             [
              0.7777777777777778,
              "#fb9f3a"
             ],
             [
              0.8888888888888888,
              "#fdca26"
             ],
             [
              1,
              "#f0f921"
             ]
            ],
            "type": "surface"
           }
          ],
          "table": [
           {
            "cells": {
             "fill": {
              "color": "#EBF0F8"
             },
             "line": {
              "color": "white"
             }
            },
            "header": {
             "fill": {
              "color": "#C8D4E3"
             },
             "line": {
              "color": "white"
             }
            },
            "type": "table"
           }
          ]
         },
         "layout": {
          "annotationdefaults": {
           "arrowcolor": "#2a3f5f",
           "arrowhead": 0,
           "arrowwidth": 1
          },
          "autotypenumbers": "strict",
          "coloraxis": {
           "colorbar": {
            "outlinewidth": 0,
            "ticks": ""
           }
          },
          "colorscale": {
           "diverging": [
            [
             0,
             "#8e0152"
            ],
            [
             0.1,
             "#c51b7d"
            ],
            [
             0.2,
             "#de77ae"
            ],
            [
             0.3,
             "#f1b6da"
            ],
            [
             0.4,
             "#fde0ef"
            ],
            [
             0.5,
             "#f7f7f7"
            ],
            [
             0.6,
             "#e6f5d0"
            ],
            [
             0.7,
             "#b8e186"
            ],
            [
             0.8,
             "#7fbc41"
            ],
            [
             0.9,
             "#4d9221"
            ],
            [
             1,
             "#276419"
            ]
           ],
           "sequential": [
            [
             0,
             "#0d0887"
            ],
            [
             0.1111111111111111,
             "#46039f"
            ],
            [
             0.2222222222222222,
             "#7201a8"
            ],
            [
             0.3333333333333333,
             "#9c179e"
            ],
            [
             0.4444444444444444,
             "#bd3786"
            ],
            [
             0.5555555555555556,
             "#d8576b"
            ],
            [
             0.6666666666666666,
             "#ed7953"
            ],
            [
             0.7777777777777778,
             "#fb9f3a"
            ],
            [
             0.8888888888888888,
             "#fdca26"
            ],
            [
             1,
             "#f0f921"
            ]
           ],
           "sequentialminus": [
            [
             0,
             "#0d0887"
            ],
            [
             0.1111111111111111,
             "#46039f"
            ],
            [
             0.2222222222222222,
             "#7201a8"
            ],
            [
             0.3333333333333333,
             "#9c179e"
            ],
            [
             0.4444444444444444,
             "#bd3786"
            ],
            [
             0.5555555555555556,
             "#d8576b"
            ],
            [
             0.6666666666666666,
             "#ed7953"
            ],
            [
             0.7777777777777778,
             "#fb9f3a"
            ],
            [
             0.8888888888888888,
             "#fdca26"
            ],
            [
             1,
             "#f0f921"
            ]
           ]
          },
          "colorway": [
           "#636efa",
           "#EF553B",
           "#00cc96",
           "#ab63fa",
           "#FFA15A",
           "#19d3f3",
           "#FF6692",
           "#B6E880",
           "#FF97FF",
           "#FECB52"
          ],
          "font": {
           "color": "#2a3f5f"
          },
          "geo": {
           "bgcolor": "white",
           "lakecolor": "white",
           "landcolor": "#E5ECF6",
           "showlakes": true,
           "showland": true,
           "subunitcolor": "white"
          },
          "hoverlabel": {
           "align": "left"
          },
          "hovermode": "closest",
          "mapbox": {
           "style": "light"
          },
          "paper_bgcolor": "white",
          "plot_bgcolor": "#E5ECF6",
          "polar": {
           "angularaxis": {
            "gridcolor": "white",
            "linecolor": "white",
            "ticks": ""
           },
           "bgcolor": "#E5ECF6",
           "radialaxis": {
            "gridcolor": "white",
            "linecolor": "white",
            "ticks": ""
           }
          },
          "scene": {
           "xaxis": {
            "backgroundcolor": "#E5ECF6",
            "gridcolor": "white",
            "gridwidth": 2,
            "linecolor": "white",
            "showbackground": true,
            "ticks": "",
            "zerolinecolor": "white"
           },
           "yaxis": {
            "backgroundcolor": "#E5ECF6",
            "gridcolor": "white",
            "gridwidth": 2,
            "linecolor": "white",
            "showbackground": true,
            "ticks": "",
            "zerolinecolor": "white"
           },
           "zaxis": {
            "backgroundcolor": "#E5ECF6",
            "gridcolor": "white",
            "gridwidth": 2,
            "linecolor": "white",
            "showbackground": true,
            "ticks": "",
            "zerolinecolor": "white"
           }
          },
          "shapedefaults": {
           "line": {
            "color": "#2a3f5f"
           }
          },
          "ternary": {
           "aaxis": {
            "gridcolor": "white",
            "linecolor": "white",
            "ticks": ""
           },
           "baxis": {
            "gridcolor": "white",
            "linecolor": "white",
            "ticks": ""
           },
           "bgcolor": "#E5ECF6",
           "caxis": {
            "gridcolor": "white",
            "linecolor": "white",
            "ticks": ""
           }
          },
          "title": {
           "x": 0.05
          },
          "xaxis": {
           "automargin": true,
           "gridcolor": "white",
           "linecolor": "white",
           "ticks": "",
           "title": {
            "standoff": 15
           },
           "zerolinecolor": "white",
           "zerolinewidth": 2
          },
          "yaxis": {
           "automargin": true,
           "gridcolor": "white",
           "linecolor": "white",
           "ticks": "",
           "title": {
            "standoff": 15
           },
           "zerolinecolor": "white",
           "zerolinewidth": 2
          }
         }
        },
        "title": {
         "font": {
          "color": "#4D5663"
         }
        },
        "xaxis": {
         "anchor": "y",
         "domain": [
          0,
          0.2125
         ],
         "gridcolor": "#E1E5ED",
         "showgrid": false,
         "tickfont": {
          "color": "#4D5663"
         },
         "title": {
          "font": {
           "color": "#4D5663"
          },
          "text": ""
         },
         "zerolinecolor": "#E1E5ED"
        },
        "xaxis10": {
         "anchor": "y10",
         "domain": [
          0.2625,
          0.475
         ],
         "gridcolor": "#E1E5ED",
         "showgrid": false,
         "tickfont": {
          "color": "#4D5663"
         },
         "title": {
          "font": {
           "color": "#4D5663"
          },
          "text": ""
         },
         "zerolinecolor": "#E1E5ED"
        },
        "xaxis11": {
         "anchor": "y11",
         "domain": [
          0.525,
          0.7375
         ],
         "gridcolor": "#E1E5ED",
         "showgrid": false,
         "tickfont": {
          "color": "#4D5663"
         },
         "title": {
          "font": {
           "color": "#4D5663"
          },
          "text": ""
         },
         "zerolinecolor": "#E1E5ED"
        },
        "xaxis12": {
         "anchor": "y12",
         "domain": [
          0.7875,
          1
         ],
         "gridcolor": "#E1E5ED",
         "showgrid": false,
         "tickfont": {
          "color": "#4D5663"
         },
         "title": {
          "font": {
           "color": "#4D5663"
          },
          "text": ""
         },
         "zerolinecolor": "#E1E5ED"
        },
        "xaxis13": {
         "anchor": "y13",
         "domain": [
          0,
          0.2125
         ],
         "gridcolor": "#E1E5ED",
         "showgrid": false,
         "tickfont": {
          "color": "#4D5663"
         },
         "title": {
          "font": {
           "color": "#4D5663"
          },
          "text": ""
         },
         "zerolinecolor": "#E1E5ED"
        },
        "xaxis14": {
         "anchor": "y14",
         "domain": [
          0.2625,
          0.475
         ],
         "gridcolor": "#E1E5ED",
         "showgrid": false,
         "tickfont": {
          "color": "#4D5663"
         },
         "title": {
          "font": {
           "color": "#4D5663"
          },
          "text": ""
         },
         "zerolinecolor": "#E1E5ED"
        },
        "xaxis15": {
         "anchor": "y15",
         "domain": [
          0.525,
          0.7375
         ],
         "gridcolor": "#E1E5ED",
         "showgrid": false,
         "tickfont": {
          "color": "#4D5663"
         },
         "title": {
          "font": {
           "color": "#4D5663"
          },
          "text": ""
         },
         "zerolinecolor": "#E1E5ED"
        },
        "xaxis16": {
         "anchor": "y16",
         "domain": [
          0.7875,
          1
         ],
         "gridcolor": "#E1E5ED",
         "showgrid": false,
         "tickfont": {
          "color": "#4D5663"
         },
         "title": {
          "font": {
           "color": "#4D5663"
          },
          "text": ""
         },
         "zerolinecolor": "#E1E5ED"
        },
        "xaxis2": {
         "anchor": "y2",
         "domain": [
          0.2625,
          0.475
         ],
         "gridcolor": "#E1E5ED",
         "showgrid": false,
         "tickfont": {
          "color": "#4D5663"
         },
         "title": {
          "font": {
           "color": "#4D5663"
          },
          "text": ""
         },
         "zerolinecolor": "#E1E5ED"
        },
        "xaxis3": {
         "anchor": "y3",
         "domain": [
          0.525,
          0.7375
         ],
         "gridcolor": "#E1E5ED",
         "showgrid": false,
         "tickfont": {
          "color": "#4D5663"
         },
         "title": {
          "font": {
           "color": "#4D5663"
          },
          "text": ""
         },
         "zerolinecolor": "#E1E5ED"
        },
        "xaxis4": {
         "anchor": "y4",
         "domain": [
          0.7875,
          1
         ],
         "gridcolor": "#E1E5ED",
         "showgrid": false,
         "tickfont": {
          "color": "#4D5663"
         },
         "title": {
          "font": {
           "color": "#4D5663"
          },
          "text": ""
         },
         "zerolinecolor": "#E1E5ED"
        },
        "xaxis5": {
         "anchor": "y5",
         "domain": [
          0,
          0.2125
         ],
         "gridcolor": "#E1E5ED",
         "showgrid": false,
         "tickfont": {
          "color": "#4D5663"
         },
         "title": {
          "font": {
           "color": "#4D5663"
          },
          "text": ""
         },
         "zerolinecolor": "#E1E5ED"
        },
        "xaxis6": {
         "anchor": "y6",
         "domain": [
          0.2625,
          0.475
         ],
         "gridcolor": "#E1E5ED",
         "showgrid": false,
         "tickfont": {
          "color": "#4D5663"
         },
         "title": {
          "font": {
           "color": "#4D5663"
          },
          "text": ""
         },
         "zerolinecolor": "#E1E5ED"
        },
        "xaxis7": {
         "anchor": "y7",
         "domain": [
          0.525,
          0.7375
         ],
         "gridcolor": "#E1E5ED",
         "showgrid": false,
         "tickfont": {
          "color": "#4D5663"
         },
         "title": {
          "font": {
           "color": "#4D5663"
          },
          "text": ""
         },
         "zerolinecolor": "#E1E5ED"
        },
        "xaxis8": {
         "anchor": "y8",
         "domain": [
          0.7875,
          1
         ],
         "gridcolor": "#E1E5ED",
         "showgrid": false,
         "tickfont": {
          "color": "#4D5663"
         },
         "title": {
          "font": {
           "color": "#4D5663"
          },
          "text": ""
         },
         "zerolinecolor": "#E1E5ED"
        },
        "xaxis9": {
         "anchor": "y9",
         "domain": [
          0,
          0.2125
         ],
         "gridcolor": "#E1E5ED",
         "showgrid": false,
         "tickfont": {
          "color": "#4D5663"
         },
         "title": {
          "font": {
           "color": "#4D5663"
          },
          "text": ""
         },
         "zerolinecolor": "#E1E5ED"
        },
        "yaxis": {
         "anchor": "x",
         "domain": [
          0.8025,
          1
         ],
         "gridcolor": "#E1E5ED",
         "showgrid": false,
         "tickfont": {
          "color": "#4D5663"
         },
         "title": {
          "font": {
           "color": "#4D5663"
          },
          "text": ""
         },
         "zerolinecolor": "#E1E5ED"
        },
        "yaxis10": {
         "anchor": "x10",
         "domain": [
          0.2675,
          0.465
         ],
         "gridcolor": "#E1E5ED",
         "showgrid": false,
         "tickfont": {
          "color": "#4D5663"
         },
         "title": {
          "font": {
           "color": "#4D5663"
          },
          "text": ""
         },
         "zerolinecolor": "#E1E5ED"
        },
        "yaxis11": {
         "anchor": "x11",
         "domain": [
          0.2675,
          0.465
         ],
         "gridcolor": "#E1E5ED",
         "showgrid": false,
         "tickfont": {
          "color": "#4D5663"
         },
         "title": {
          "font": {
           "color": "#4D5663"
          },
          "text": ""
         },
         "zerolinecolor": "#E1E5ED"
        },
        "yaxis12": {
         "anchor": "x12",
         "domain": [
          0.2675,
          0.465
         ],
         "gridcolor": "#E1E5ED",
         "showgrid": false,
         "tickfont": {
          "color": "#4D5663"
         },
         "title": {
          "font": {
           "color": "#4D5663"
          },
          "text": ""
         },
         "zerolinecolor": "#E1E5ED"
        },
        "yaxis13": {
         "anchor": "x13",
         "domain": [
          0,
          0.1975
         ],
         "gridcolor": "#E1E5ED",
         "showgrid": false,
         "tickfont": {
          "color": "#4D5663"
         },
         "title": {
          "font": {
           "color": "#4D5663"
          },
          "text": ""
         },
         "zerolinecolor": "#E1E5ED"
        },
        "yaxis14": {
         "anchor": "x14",
         "domain": [
          0,
          0.1975
         ],
         "gridcolor": "#E1E5ED",
         "showgrid": false,
         "tickfont": {
          "color": "#4D5663"
         },
         "title": {
          "font": {
           "color": "#4D5663"
          },
          "text": ""
         },
         "zerolinecolor": "#E1E5ED"
        },
        "yaxis15": {
         "anchor": "x15",
         "domain": [
          0,
          0.1975
         ],
         "gridcolor": "#E1E5ED",
         "showgrid": false,
         "tickfont": {
          "color": "#4D5663"
         },
         "title": {
          "font": {
           "color": "#4D5663"
          },
          "text": ""
         },
         "zerolinecolor": "#E1E5ED"
        },
        "yaxis16": {
         "anchor": "x16",
         "domain": [
          0,
          0.1975
         ],
         "gridcolor": "#E1E5ED",
         "showgrid": false,
         "tickfont": {
          "color": "#4D5663"
         },
         "title": {
          "font": {
           "color": "#4D5663"
          },
          "text": ""
         },
         "zerolinecolor": "#E1E5ED"
        },
        "yaxis2": {
         "anchor": "x2",
         "domain": [
          0.8025,
          1
         ],
         "gridcolor": "#E1E5ED",
         "showgrid": false,
         "tickfont": {
          "color": "#4D5663"
         },
         "title": {
          "font": {
           "color": "#4D5663"
          },
          "text": ""
         },
         "zerolinecolor": "#E1E5ED"
        },
        "yaxis3": {
         "anchor": "x3",
         "domain": [
          0.8025,
          1
         ],
         "gridcolor": "#E1E5ED",
         "showgrid": false,
         "tickfont": {
          "color": "#4D5663"
         },
         "title": {
          "font": {
           "color": "#4D5663"
          },
          "text": ""
         },
         "zerolinecolor": "#E1E5ED"
        },
        "yaxis4": {
         "anchor": "x4",
         "domain": [
          0.8025,
          1
         ],
         "gridcolor": "#E1E5ED",
         "showgrid": false,
         "tickfont": {
          "color": "#4D5663"
         },
         "title": {
          "font": {
           "color": "#4D5663"
          },
          "text": ""
         },
         "zerolinecolor": "#E1E5ED"
        },
        "yaxis5": {
         "anchor": "x5",
         "domain": [
          0.535,
          0.7325
         ],
         "gridcolor": "#E1E5ED",
         "showgrid": false,
         "tickfont": {
          "color": "#4D5663"
         },
         "title": {
          "font": {
           "color": "#4D5663"
          },
          "text": ""
         },
         "zerolinecolor": "#E1E5ED"
        },
        "yaxis6": {
         "anchor": "x6",
         "domain": [
          0.535,
          0.7325
         ],
         "gridcolor": "#E1E5ED",
         "showgrid": false,
         "tickfont": {
          "color": "#4D5663"
         },
         "title": {
          "font": {
           "color": "#4D5663"
          },
          "text": ""
         },
         "zerolinecolor": "#E1E5ED"
        },
        "yaxis7": {
         "anchor": "x7",
         "domain": [
          0.535,
          0.7325
         ],
         "gridcolor": "#E1E5ED",
         "showgrid": false,
         "tickfont": {
          "color": "#4D5663"
         },
         "title": {
          "font": {
           "color": "#4D5663"
          },
          "text": ""
         },
         "zerolinecolor": "#E1E5ED"
        },
        "yaxis8": {
         "anchor": "x8",
         "domain": [
          0.535,
          0.7325
         ],
         "gridcolor": "#E1E5ED",
         "showgrid": false,
         "tickfont": {
          "color": "#4D5663"
         },
         "title": {
          "font": {
           "color": "#4D5663"
          },
          "text": ""
         },
         "zerolinecolor": "#E1E5ED"
        },
        "yaxis9": {
         "anchor": "x9",
         "domain": [
          0.2675,
          0.465
         ],
         "gridcolor": "#E1E5ED",
         "showgrid": false,
         "tickfont": {
          "color": "#4D5663"
         },
         "title": {
          "font": {
           "color": "#4D5663"
          },
          "text": ""
         },
         "zerolinecolor": "#E1E5ED"
        }
       }
      },
      "text/html": [
       "<div>                            <div id=\"2de79c09-5c37-489f-a096-0084f7737b23\" class=\"plotly-graph-div\" style=\"height:525px; width:100%;\"></div>            <script type=\"text/javascript\">                require([\"plotly\"], function(Plotly) {                    window.PLOTLYENV=window.PLOTLYENV || {};\n",
       "                    window.PLOTLYENV.BASE_URL='https://plot.ly';                                    if (document.getElementById(\"2de79c09-5c37-489f-a096-0084f7737b23\")) {                    Plotly.newPlot(                        \"2de79c09-5c37-489f-a096-0084f7737b23\",                        [{\"histfunc\":\"count\",\"histnorm\":\"\",\"marker\":{\"color\":\"rgba(255, 153, 51, 1.0)\",\"line\":{\"color\":\"#4D5663\",\"width\":1.3}},\"name\":\"A\",\"nbinsx\":10,\"opacity\":0.8,\"orientation\":\"v\",\"x\":[1.2750462071228998,1.0564406009906422,-1.2570863513881179,0.1386992449738513,-0.4006631753099272,0.772494714001685,0.3466280655061471,-0.20734882385960135,-1.1605599469356516,1.5335837092173008,0.8701647512889786,0.19959773422082286,-0.7713696453049101,0.8670858884620127,0.7527057455344794,0.2406881376064278,-1.4246729911918348,-1.366338353479444,-2.510532872604319,-0.44076325408168865,-0.2720890733894303,0.1923950171572903,0.17528984033996958,-0.05627900857472087,-0.09464981393955554,0.1109203403862901,0.3506712561808483,0.11860998679044508,0.27273654934561664,0.5451708797402759,-1.3239800797756898,0.7176173593819158,0.6390897967980106,0.6298020357295875,0.9055103909277578,-0.5904176841467053,-0.38213674321117597,-0.9321460998531019,-2.0527241542088164,-0.1355015868759311,-0.15560692657213374,-1.3234419856299242,0.004612749239376862,-0.3533749773258972,-1.2778073755305988,-1.7334811504670158,1.5287980300400834,-1.0900212287039468,1.3066976573006288,0.6829609453885492,-0.024493571992407752,-1.6644241198636218,-1.3552223151228506,-0.7758460191490981,0.52074640219068,-0.5953760210764978,0.696233766527075,-0.714162783949475,0.3429087064661106,0.12880671947928052,0.1253412689647578,-1.5512006665577716,1.4696417176119942,-1.7740325324274242,2.105809697884221,1.9167099561167036,0.7480215913254173,0.7625036829256576,-1.086117863919513,0.4781593150768092,0.7240428405447898,-0.503627557293303,-1.221663772912323,-0.20754934209619638,-1.3419782859135356,0.216215597439171,1.0145615004449249,-1.0220756896864085,0.49363860464637543,-0.01599908409568637,-1.1470627595685077,-1.023726974752981,0.6660548760380969,-0.1311469267172626,1.1191657681276326,-1.5810786212139951,0.8160942888787959,0.06088517630432691,-1.2352546602277445,-0.2717692097212096,-1.0431055662718702,0.13134247407032018,-0.7790614189607978,0.5434045328072897,-1.1755407507532878,0.008915452173938613,0.16280786785568127,-0.6573273421596642,-0.274646533946732,-0.655594361876358],\"xaxis\":\"x\",\"yaxis\":\"y\",\"type\":\"histogram\"},{\"line\":{\"color\":\"rgba(128, 128, 128, 1.0)\",\"dash\":\"solid\",\"shape\":\"linear\",\"width\":1.3},\"marker\":{\"size\":2,\"symbol\":\"circle\"},\"mode\":\"markers\",\"name\":\"A\",\"text\":\"\",\"x\":[-0.8340773682113504,0.49123188788963057,-1.9000715568691215,-0.6876295998356547,-0.8538273111014857,1.5511189563186973,1.7916810535863585,-1.2384131342672389,-0.11282532877192572,0.35044387501754315,-0.3725563064013367,-0.5978080296220267,-0.7459415602962436,-0.8062931680433271,-0.41309712402120896,-0.7677684801488446,-1.6237362987866557,-1.3867124997696776,-0.03384343479363602,0.312953792426409,0.43354850664087274,0.11571251414975957,0.7356381212190469,-0.8182781601100041,0.7278710012373059,0.27080432822538103,-0.45224220610112037,1.3889328686699598,0.35415339359074693,1.321491480875497,0.5604879797874698,-2.1780949287932843,0.6772032297272086,0.5068100984347181,0.05294343849021371,0.6762701198557137,-0.41125546955848485,0.9490592885359114,0.9579881061090255,-0.08746731970232335,0.1753148386032337,0.35330636557589246,0.6092976837114229,-0.9897685548060738,1.0082812941583785,-0.07112634100972726,0.7534094755071289,-1.2236591466919062,-0.44741573370710913,-1.056571932317002,-0.6351166490247284,-0.1152534608551299,-0.2753704370824422,-0.03361895378725087,-1.032713772532709,1.2604190210644386,1.6305359116844174,0.28304773071397693,0.46460766770949186,0.9430557112402934,0.8807024197847123,-0.7315449933931041,-0.4801700510822656,0.12234105041850767,-0.8904252461076889,-0.8682230097651995,0.8089776470552416,-0.442143722727833,1.0062933868477435,0.9789586586064842,-0.25604556494295583,-0.8081304318643974,0.32241893796007687,2.9455052125197785,1.0189696497125427,0.24788985930538732,1.136303601810519,-1.3946078662938228,-1.2292418224455168,-1.9150740479746733,-1.0297445925889328,0.8098970537565258,-1.569253924464807,-0.9896971663270222,-0.7057472240000185,0.2204458262981922,0.3173361097439095,-0.5153534162955274,-0.26708392326561814,0.7759496323233144,0.3730259777582601,1.575662623566695,1.1570045050500222,-0.06068007372528039,-1.2513600529835396,0.03669689340334888,0.18579450181477772,-0.16287815628323127,2.0901663180753256,0.9071005520448465],\"xaxis\":\"x2\",\"y\":[1.2750462071228998,1.0564406009906422,-1.2570863513881179,0.1386992449738513,-0.4006631753099272,0.772494714001685,0.3466280655061471,-0.20734882385960135,-1.1605599469356516,1.5335837092173008,0.8701647512889786,0.19959773422082286,-0.7713696453049101,0.8670858884620127,0.7527057455344794,0.2406881376064278,-1.4246729911918348,-1.366338353479444,-2.510532872604319,-0.44076325408168865,-0.2720890733894303,0.1923950171572903,0.17528984033996958,-0.05627900857472087,-0.09464981393955554,0.1109203403862901,0.3506712561808483,0.11860998679044508,0.27273654934561664,0.5451708797402759,-1.3239800797756898,0.7176173593819158,0.6390897967980106,0.6298020357295875,0.9055103909277578,-0.5904176841467053,-0.38213674321117597,-0.9321460998531019,-2.0527241542088164,-0.1355015868759311,-0.15560692657213374,-1.3234419856299242,0.004612749239376862,-0.3533749773258972,-1.2778073755305988,-1.7334811504670158,1.5287980300400834,-1.0900212287039468,1.3066976573006288,0.6829609453885492,-0.024493571992407752,-1.6644241198636218,-1.3552223151228506,-0.7758460191490981,0.52074640219068,-0.5953760210764978,0.696233766527075,-0.714162783949475,0.3429087064661106,0.12880671947928052,0.1253412689647578,-1.5512006665577716,1.4696417176119942,-1.7740325324274242,2.105809697884221,1.9167099561167036,0.7480215913254173,0.7625036829256576,-1.086117863919513,0.4781593150768092,0.7240428405447898,-0.503627557293303,-1.221663772912323,-0.20754934209619638,-1.3419782859135356,0.216215597439171,1.0145615004449249,-1.0220756896864085,0.49363860464637543,-0.01599908409568637,-1.1470627595685077,-1.023726974752981,0.6660548760380969,-0.1311469267172626,1.1191657681276326,-1.5810786212139951,0.8160942888787959,0.06088517630432691,-1.2352546602277445,-0.2717692097212096,-1.0431055662718702,0.13134247407032018,-0.7790614189607978,0.5434045328072897,-1.1755407507532878,0.008915452173938613,0.16280786785568127,-0.6573273421596642,-0.274646533946732,-0.655594361876358],\"yaxis\":\"y2\",\"type\":\"scatter\"},{\"line\":{\"color\":\"rgba(128, 128, 128, 1.0)\",\"dash\":\"solid\",\"shape\":\"linear\",\"width\":1.3},\"marker\":{\"size\":2,\"symbol\":\"circle\"},\"mode\":\"markers\",\"name\":\"A\",\"text\":\"\",\"x\":[-0.6065814803506674,-0.0056614743668575,0.47377835760278325,-0.7669808349710616,-0.2984610713736877,-0.7862462591685704,-0.30334996180518786,-2.2561605961038214,1.2104400421793433,0.76132924025126,-2.0764830248963246,-0.3743193722489287,1.3140509336583903,0.8060959354304592,0.8496481858416668,0.3206407546556311,0.7367664103551135,0.10443061661045361,0.03436876868568491,-0.531729950865737,-0.7085974374677646,0.693003807983039,1.6068787266164335,-0.2670568329018913,0.015847628858779165,0.020782059028557603,-0.5196020397478259,-2.1742877376534273,0.2084446674567804,-1.5708351936202887,-1.7303559559458355,-1.14938646406794,0.1412535112325003,0.6739769900674427,0.3341737804458171,-1.544805374766241,1.2630156214631156,1.2993468829704875,0.03943253408824827,-0.6505943976451811,-1.287916846718534,2.6158904742734688,-0.18921140358629004,-0.5088698523799714,0.1583463740320508,0.4034115874377453,0.41730333864937813,0.8443400209241257,-0.8439226873024922,-0.3618591602469053,1.062480966237185,-0.8354902780261675,0.0283856858965905,0.2926742659843175,-1.5072017584217483,0.6701435665882296,0.0918263976356448,0.9848450798155605,0.7126911055257629,0.4209453778492396,-0.6506812038781848,0.6443815364407258,0.11840826658302832,-1.2108032671929079,0.5089945953821506,0.7241253901689519,-0.5367383294366789,0.5947892296709306,-0.48633893865960975,-1.2244062958933806,-1.4408223353729626,0.11646891188842408,0.5058898513373067,-0.9191398133237972,-0.8794916959798096,0.9674124240361822,-0.18460515585573317,0.33866818045005764,-0.3982677523303214,1.1542108469227073,-0.19287897590887343,-0.39691886444408303,1.4587946690503084,0.5030537584716932,0.2834070821409793,1.6602762267945903,-1.6394032252387876,0.3561371864556083,0.5071869990319724,-0.39137338520180515,-1.5625516437520808,1.3424849679480697,-0.798114317162278,-0.5861139711310693,-1.908134652905644,-1.7994024342247412,1.1709653111241818,1.613274553242905,-1.1639037835712955,1.3655742980033005],\"xaxis\":\"x3\",\"y\":[1.2750462071228998,1.0564406009906422,-1.2570863513881179,0.1386992449738513,-0.4006631753099272,0.772494714001685,0.3466280655061471,-0.20734882385960135,-1.1605599469356516,1.5335837092173008,0.8701647512889786,0.19959773422082286,-0.7713696453049101,0.8670858884620127,0.7527057455344794,0.2406881376064278,-1.4246729911918348,-1.366338353479444,-2.510532872604319,-0.44076325408168865,-0.2720890733894303,0.1923950171572903,0.17528984033996958,-0.05627900857472087,-0.09464981393955554,0.1109203403862901,0.3506712561808483,0.11860998679044508,0.27273654934561664,0.5451708797402759,-1.3239800797756898,0.7176173593819158,0.6390897967980106,0.6298020357295875,0.9055103909277578,-0.5904176841467053,-0.38213674321117597,-0.9321460998531019,-2.0527241542088164,-0.1355015868759311,-0.15560692657213374,-1.3234419856299242,0.004612749239376862,-0.3533749773258972,-1.2778073755305988,-1.7334811504670158,1.5287980300400834,-1.0900212287039468,1.3066976573006288,0.6829609453885492,-0.024493571992407752,-1.6644241198636218,-1.3552223151228506,-0.7758460191490981,0.52074640219068,-0.5953760210764978,0.696233766527075,-0.714162783949475,0.3429087064661106,0.12880671947928052,0.1253412689647578,-1.5512006665577716,1.4696417176119942,-1.7740325324274242,2.105809697884221,1.9167099561167036,0.7480215913254173,0.7625036829256576,-1.086117863919513,0.4781593150768092,0.7240428405447898,-0.503627557293303,-1.221663772912323,-0.20754934209619638,-1.3419782859135356,0.216215597439171,1.0145615004449249,-1.0220756896864085,0.49363860464637543,-0.01599908409568637,-1.1470627595685077,-1.023726974752981,0.6660548760380969,-0.1311469267172626,1.1191657681276326,-1.5810786212139951,0.8160942888787959,0.06088517630432691,-1.2352546602277445,-0.2717692097212096,-1.0431055662718702,0.13134247407032018,-0.7790614189607978,0.5434045328072897,-1.1755407507532878,0.008915452173938613,0.16280786785568127,-0.6573273421596642,-0.274646533946732,-0.655594361876358],\"yaxis\":\"y3\",\"type\":\"scatter\"},{\"line\":{\"color\":\"rgba(128, 128, 128, 1.0)\",\"dash\":\"solid\",\"shape\":\"linear\",\"width\":1.3},\"marker\":{\"size\":2,\"symbol\":\"circle\"},\"mode\":\"markers\",\"name\":\"A\",\"text\":\"\",\"x\":[0.7139456893048736,1.2182943932514776,-0.022442070790911903,0.29419838907850454,-0.7473982962608382,0.05967193022364727,-1.7581521899961248,2.965034050553671,-0.9716107300425278,-0.10089240576146587,-0.15106025887742477,-0.4843170130123628,0.3220996841547047,-1.332683235916878,-0.561749623803411,0.7783577730763781,-1.0173613113395228,1.4834643870057453,0.5748771426725922,-0.9779032746034094,-1.4773574832741476,1.0746333271797746,1.2070096569013267,-0.35917797105680904,-1.9147305767939333,2.153653228396418,-2.4303885700047854,0.22157959824077164,0.14874563289253137,-1.279771382703922,-0.1521422200622724,1.650037956934773,0.6537104615024295,0.808006760868366,0.13620214175340242,-0.5250470673318475,-0.9880632900100209,1.1180418390662974,-0.22588739170453126,0.28882691039611624,-0.09936686952194648,1.5404142967535457,-1.4001626432695027,-1.3704970552909894,2.2077130901998356,1.116380542662232,-0.4091874611428839,-1.3686904120878665,1.6049816912046597,-0.30703464236377814,-0.5473658982832879,-0.48495979693113145,-0.45033413790447435,0.39922580894613374,0.6047897126936678,-0.8752680433632427,-0.8986365730692438,0.3770440281928797,-1.0420907677722961,-2.2166606762468213,0.41928713539586043,0.7095391770600183,0.5539361345485381,1.8180138617574744,0.020695705953035895,0.6488166069066083,-1.6740646712918874,-1.6236243921041227,1.554106555602854,-0.7419395714313424,-0.15606868120679696,0.709525225488563,-2.060491897944797,-0.04380727568900047,-0.5049371502654176,-1.0450616759167384,0.9509678695829852,1.037888791409695,1.056487613896072,-1.019634938809895,0.21168484870149137,0.22680691036470607,-0.6228332865229037,0.6178469540817563,-0.3438026326951937,-0.8126119160493471,0.5994110507451171,0.6845268659740725,-0.7089044464688247,-1.3941795843099998,-0.4748919927526555,1.2931818578279248,1.155046396747897,0.054391243974638605,0.11105012255970526,2.5610353634730023,0.7022441176694517,0.4563972984648552,0.382547875976814,-0.9960163190933181],\"xaxis\":\"x4\",\"y\":[1.2750462071228998,1.0564406009906422,-1.2570863513881179,0.1386992449738513,-0.4006631753099272,0.772494714001685,0.3466280655061471,-0.20734882385960135,-1.1605599469356516,1.5335837092173008,0.8701647512889786,0.19959773422082286,-0.7713696453049101,0.8670858884620127,0.7527057455344794,0.2406881376064278,-1.4246729911918348,-1.366338353479444,-2.510532872604319,-0.44076325408168865,-0.2720890733894303,0.1923950171572903,0.17528984033996958,-0.05627900857472087,-0.09464981393955554,0.1109203403862901,0.3506712561808483,0.11860998679044508,0.27273654934561664,0.5451708797402759,-1.3239800797756898,0.7176173593819158,0.6390897967980106,0.6298020357295875,0.9055103909277578,-0.5904176841467053,-0.38213674321117597,-0.9321460998531019,-2.0527241542088164,-0.1355015868759311,-0.15560692657213374,-1.3234419856299242,0.004612749239376862,-0.3533749773258972,-1.2778073755305988,-1.7334811504670158,1.5287980300400834,-1.0900212287039468,1.3066976573006288,0.6829609453885492,-0.024493571992407752,-1.6644241198636218,-1.3552223151228506,-0.7758460191490981,0.52074640219068,-0.5953760210764978,0.696233766527075,-0.714162783949475,0.3429087064661106,0.12880671947928052,0.1253412689647578,-1.5512006665577716,1.4696417176119942,-1.7740325324274242,2.105809697884221,1.9167099561167036,0.7480215913254173,0.7625036829256576,-1.086117863919513,0.4781593150768092,0.7240428405447898,-0.503627557293303,-1.221663772912323,-0.20754934209619638,-1.3419782859135356,0.216215597439171,1.0145615004449249,-1.0220756896864085,0.49363860464637543,-0.01599908409568637,-1.1470627595685077,-1.023726974752981,0.6660548760380969,-0.1311469267172626,1.1191657681276326,-1.5810786212139951,0.8160942888787959,0.06088517630432691,-1.2352546602277445,-0.2717692097212096,-1.0431055662718702,0.13134247407032018,-0.7790614189607978,0.5434045328072897,-1.1755407507532878,0.008915452173938613,0.16280786785568127,-0.6573273421596642,-0.274646533946732,-0.655594361876358],\"yaxis\":\"y4\",\"type\":\"scatter\"},{\"line\":{\"color\":\"rgba(128, 128, 128, 1.0)\",\"dash\":\"solid\",\"shape\":\"linear\",\"width\":1.3},\"marker\":{\"size\":2,\"symbol\":\"circle\"},\"mode\":\"markers\",\"name\":\"B\",\"text\":\"\",\"x\":[1.2750462071228998,1.0564406009906422,-1.2570863513881179,0.1386992449738513,-0.4006631753099272,0.772494714001685,0.3466280655061471,-0.20734882385960135,-1.1605599469356516,1.5335837092173008,0.8701647512889786,0.19959773422082286,-0.7713696453049101,0.8670858884620127,0.7527057455344794,0.2406881376064278,-1.4246729911918348,-1.366338353479444,-2.510532872604319,-0.44076325408168865,-0.2720890733894303,0.1923950171572903,0.17528984033996958,-0.05627900857472087,-0.09464981393955554,0.1109203403862901,0.3506712561808483,0.11860998679044508,0.27273654934561664,0.5451708797402759,-1.3239800797756898,0.7176173593819158,0.6390897967980106,0.6298020357295875,0.9055103909277578,-0.5904176841467053,-0.38213674321117597,-0.9321460998531019,-2.0527241542088164,-0.1355015868759311,-0.15560692657213374,-1.3234419856299242,0.004612749239376862,-0.3533749773258972,-1.2778073755305988,-1.7334811504670158,1.5287980300400834,-1.0900212287039468,1.3066976573006288,0.6829609453885492,-0.024493571992407752,-1.6644241198636218,-1.3552223151228506,-0.7758460191490981,0.52074640219068,-0.5953760210764978,0.696233766527075,-0.714162783949475,0.3429087064661106,0.12880671947928052,0.1253412689647578,-1.5512006665577716,1.4696417176119942,-1.7740325324274242,2.105809697884221,1.9167099561167036,0.7480215913254173,0.7625036829256576,-1.086117863919513,0.4781593150768092,0.7240428405447898,-0.503627557293303,-1.221663772912323,-0.20754934209619638,-1.3419782859135356,0.216215597439171,1.0145615004449249,-1.0220756896864085,0.49363860464637543,-0.01599908409568637,-1.1470627595685077,-1.023726974752981,0.6660548760380969,-0.1311469267172626,1.1191657681276326,-1.5810786212139951,0.8160942888787959,0.06088517630432691,-1.2352546602277445,-0.2717692097212096,-1.0431055662718702,0.13134247407032018,-0.7790614189607978,0.5434045328072897,-1.1755407507532878,0.008915452173938613,0.16280786785568127,-0.6573273421596642,-0.274646533946732,-0.655594361876358],\"xaxis\":\"x5\",\"y\":[-0.8340773682113504,0.49123188788963057,-1.9000715568691215,-0.6876295998356547,-0.8538273111014857,1.5511189563186973,1.7916810535863585,-1.2384131342672389,-0.11282532877192572,0.35044387501754315,-0.3725563064013367,-0.5978080296220267,-0.7459415602962436,-0.8062931680433271,-0.41309712402120896,-0.7677684801488446,-1.6237362987866557,-1.3867124997696776,-0.03384343479363602,0.312953792426409,0.43354850664087274,0.11571251414975957,0.7356381212190469,-0.8182781601100041,0.7278710012373059,0.27080432822538103,-0.45224220610112037,1.3889328686699598,0.35415339359074693,1.321491480875497,0.5604879797874698,-2.1780949287932843,0.6772032297272086,0.5068100984347181,0.05294343849021371,0.6762701198557137,-0.41125546955848485,0.9490592885359114,0.9579881061090255,-0.08746731970232335,0.1753148386032337,0.35330636557589246,0.6092976837114229,-0.9897685548060738,1.0082812941583785,-0.07112634100972726,0.7534094755071289,-1.2236591466919062,-0.44741573370710913,-1.056571932317002,-0.6351166490247284,-0.1152534608551299,-0.2753704370824422,-0.03361895378725087,-1.032713772532709,1.2604190210644386,1.6305359116844174,0.28304773071397693,0.46460766770949186,0.9430557112402934,0.8807024197847123,-0.7315449933931041,-0.4801700510822656,0.12234105041850767,-0.8904252461076889,-0.8682230097651995,0.8089776470552416,-0.442143722727833,1.0062933868477435,0.9789586586064842,-0.25604556494295583,-0.8081304318643974,0.32241893796007687,2.9455052125197785,1.0189696497125427,0.24788985930538732,1.136303601810519,-1.3946078662938228,-1.2292418224455168,-1.9150740479746733,-1.0297445925889328,0.8098970537565258,-1.569253924464807,-0.9896971663270222,-0.7057472240000185,0.2204458262981922,0.3173361097439095,-0.5153534162955274,-0.26708392326561814,0.7759496323233144,0.3730259777582601,1.575662623566695,1.1570045050500222,-0.06068007372528039,-1.2513600529835396,0.03669689340334888,0.18579450181477772,-0.16287815628323127,2.0901663180753256,0.9071005520448465],\"yaxis\":\"y5\",\"type\":\"scatter\"},{\"histfunc\":\"count\",\"histnorm\":\"\",\"marker\":{\"color\":\"rgba(55, 128, 191, 1.0)\",\"line\":{\"color\":\"#4D5663\",\"width\":1.3}},\"name\":\"B\",\"nbinsx\":10,\"opacity\":0.8,\"orientation\":\"v\",\"x\":[-0.8340773682113504,0.49123188788963057,-1.9000715568691215,-0.6876295998356547,-0.8538273111014857,1.5511189563186973,1.7916810535863585,-1.2384131342672389,-0.11282532877192572,0.35044387501754315,-0.3725563064013367,-0.5978080296220267,-0.7459415602962436,-0.8062931680433271,-0.41309712402120896,-0.7677684801488446,-1.6237362987866557,-1.3867124997696776,-0.03384343479363602,0.312953792426409,0.43354850664087274,0.11571251414975957,0.7356381212190469,-0.8182781601100041,0.7278710012373059,0.27080432822538103,-0.45224220610112037,1.3889328686699598,0.35415339359074693,1.321491480875497,0.5604879797874698,-2.1780949287932843,0.6772032297272086,0.5068100984347181,0.05294343849021371,0.6762701198557137,-0.41125546955848485,0.9490592885359114,0.9579881061090255,-0.08746731970232335,0.1753148386032337,0.35330636557589246,0.6092976837114229,-0.9897685548060738,1.0082812941583785,-0.07112634100972726,0.7534094755071289,-1.2236591466919062,-0.44741573370710913,-1.056571932317002,-0.6351166490247284,-0.1152534608551299,-0.2753704370824422,-0.03361895378725087,-1.032713772532709,1.2604190210644386,1.6305359116844174,0.28304773071397693,0.46460766770949186,0.9430557112402934,0.8807024197847123,-0.7315449933931041,-0.4801700510822656,0.12234105041850767,-0.8904252461076889,-0.8682230097651995,0.8089776470552416,-0.442143722727833,1.0062933868477435,0.9789586586064842,-0.25604556494295583,-0.8081304318643974,0.32241893796007687,2.9455052125197785,1.0189696497125427,0.24788985930538732,1.136303601810519,-1.3946078662938228,-1.2292418224455168,-1.9150740479746733,-1.0297445925889328,0.8098970537565258,-1.569253924464807,-0.9896971663270222,-0.7057472240000185,0.2204458262981922,0.3173361097439095,-0.5153534162955274,-0.26708392326561814,0.7759496323233144,0.3730259777582601,1.575662623566695,1.1570045050500222,-0.06068007372528039,-1.2513600529835396,0.03669689340334888,0.18579450181477772,-0.16287815628323127,2.0901663180753256,0.9071005520448465],\"xaxis\":\"x6\",\"yaxis\":\"y6\",\"type\":\"histogram\"},{\"line\":{\"color\":\"rgba(128, 128, 128, 1.0)\",\"dash\":\"solid\",\"shape\":\"linear\",\"width\":1.3},\"marker\":{\"size\":2,\"symbol\":\"circle\"},\"mode\":\"markers\",\"name\":\"B\",\"text\":\"\",\"x\":[-0.6065814803506674,-0.0056614743668575,0.47377835760278325,-0.7669808349710616,-0.2984610713736877,-0.7862462591685704,-0.30334996180518786,-2.2561605961038214,1.2104400421793433,0.76132924025126,-2.0764830248963246,-0.3743193722489287,1.3140509336583903,0.8060959354304592,0.8496481858416668,0.3206407546556311,0.7367664103551135,0.10443061661045361,0.03436876868568491,-0.531729950865737,-0.7085974374677646,0.693003807983039,1.6068787266164335,-0.2670568329018913,0.015847628858779165,0.020782059028557603,-0.5196020397478259,-2.1742877376534273,0.2084446674567804,-1.5708351936202887,-1.7303559559458355,-1.14938646406794,0.1412535112325003,0.6739769900674427,0.3341737804458171,-1.544805374766241,1.2630156214631156,1.2993468829704875,0.03943253408824827,-0.6505943976451811,-1.287916846718534,2.6158904742734688,-0.18921140358629004,-0.5088698523799714,0.1583463740320508,0.4034115874377453,0.41730333864937813,0.8443400209241257,-0.8439226873024922,-0.3618591602469053,1.062480966237185,-0.8354902780261675,0.0283856858965905,0.2926742659843175,-1.5072017584217483,0.6701435665882296,0.0918263976356448,0.9848450798155605,0.7126911055257629,0.4209453778492396,-0.6506812038781848,0.6443815364407258,0.11840826658302832,-1.2108032671929079,0.5089945953821506,0.7241253901689519,-0.5367383294366789,0.5947892296709306,-0.48633893865960975,-1.2244062958933806,-1.4408223353729626,0.11646891188842408,0.5058898513373067,-0.9191398133237972,-0.8794916959798096,0.9674124240361822,-0.18460515585573317,0.33866818045005764,-0.3982677523303214,1.1542108469227073,-0.19287897590887343,-0.39691886444408303,1.4587946690503084,0.5030537584716932,0.2834070821409793,1.6602762267945903,-1.6394032252387876,0.3561371864556083,0.5071869990319724,-0.39137338520180515,-1.5625516437520808,1.3424849679480697,-0.798114317162278,-0.5861139711310693,-1.908134652905644,-1.7994024342247412,1.1709653111241818,1.613274553242905,-1.1639037835712955,1.3655742980033005],\"xaxis\":\"x7\",\"y\":[-0.8340773682113504,0.49123188788963057,-1.9000715568691215,-0.6876295998356547,-0.8538273111014857,1.5511189563186973,1.7916810535863585,-1.2384131342672389,-0.11282532877192572,0.35044387501754315,-0.3725563064013367,-0.5978080296220267,-0.7459415602962436,-0.8062931680433271,-0.41309712402120896,-0.7677684801488446,-1.6237362987866557,-1.3867124997696776,-0.03384343479363602,0.312953792426409,0.43354850664087274,0.11571251414975957,0.7356381212190469,-0.8182781601100041,0.7278710012373059,0.27080432822538103,-0.45224220610112037,1.3889328686699598,0.35415339359074693,1.321491480875497,0.5604879797874698,-2.1780949287932843,0.6772032297272086,0.5068100984347181,0.05294343849021371,0.6762701198557137,-0.41125546955848485,0.9490592885359114,0.9579881061090255,-0.08746731970232335,0.1753148386032337,0.35330636557589246,0.6092976837114229,-0.9897685548060738,1.0082812941583785,-0.07112634100972726,0.7534094755071289,-1.2236591466919062,-0.44741573370710913,-1.056571932317002,-0.6351166490247284,-0.1152534608551299,-0.2753704370824422,-0.03361895378725087,-1.032713772532709,1.2604190210644386,1.6305359116844174,0.28304773071397693,0.46460766770949186,0.9430557112402934,0.8807024197847123,-0.7315449933931041,-0.4801700510822656,0.12234105041850767,-0.8904252461076889,-0.8682230097651995,0.8089776470552416,-0.442143722727833,1.0062933868477435,0.9789586586064842,-0.25604556494295583,-0.8081304318643974,0.32241893796007687,2.9455052125197785,1.0189696497125427,0.24788985930538732,1.136303601810519,-1.3946078662938228,-1.2292418224455168,-1.9150740479746733,-1.0297445925889328,0.8098970537565258,-1.569253924464807,-0.9896971663270222,-0.7057472240000185,0.2204458262981922,0.3173361097439095,-0.5153534162955274,-0.26708392326561814,0.7759496323233144,0.3730259777582601,1.575662623566695,1.1570045050500222,-0.06068007372528039,-1.2513600529835396,0.03669689340334888,0.18579450181477772,-0.16287815628323127,2.0901663180753256,0.9071005520448465],\"yaxis\":\"y7\",\"type\":\"scatter\"},{\"line\":{\"color\":\"rgba(128, 128, 128, 1.0)\",\"dash\":\"solid\",\"shape\":\"linear\",\"width\":1.3},\"marker\":{\"size\":2,\"symbol\":\"circle\"},\"mode\":\"markers\",\"name\":\"B\",\"text\":\"\",\"x\":[0.7139456893048736,1.2182943932514776,-0.022442070790911903,0.29419838907850454,-0.7473982962608382,0.05967193022364727,-1.7581521899961248,2.965034050553671,-0.9716107300425278,-0.10089240576146587,-0.15106025887742477,-0.4843170130123628,0.3220996841547047,-1.332683235916878,-0.561749623803411,0.7783577730763781,-1.0173613113395228,1.4834643870057453,0.5748771426725922,-0.9779032746034094,-1.4773574832741476,1.0746333271797746,1.2070096569013267,-0.35917797105680904,-1.9147305767939333,2.153653228396418,-2.4303885700047854,0.22157959824077164,0.14874563289253137,-1.279771382703922,-0.1521422200622724,1.650037956934773,0.6537104615024295,0.808006760868366,0.13620214175340242,-0.5250470673318475,-0.9880632900100209,1.1180418390662974,-0.22588739170453126,0.28882691039611624,-0.09936686952194648,1.5404142967535457,-1.4001626432695027,-1.3704970552909894,2.2077130901998356,1.116380542662232,-0.4091874611428839,-1.3686904120878665,1.6049816912046597,-0.30703464236377814,-0.5473658982832879,-0.48495979693113145,-0.45033413790447435,0.39922580894613374,0.6047897126936678,-0.8752680433632427,-0.8986365730692438,0.3770440281928797,-1.0420907677722961,-2.2166606762468213,0.41928713539586043,0.7095391770600183,0.5539361345485381,1.8180138617574744,0.020695705953035895,0.6488166069066083,-1.6740646712918874,-1.6236243921041227,1.554106555602854,-0.7419395714313424,-0.15606868120679696,0.709525225488563,-2.060491897944797,-0.04380727568900047,-0.5049371502654176,-1.0450616759167384,0.9509678695829852,1.037888791409695,1.056487613896072,-1.019634938809895,0.21168484870149137,0.22680691036470607,-0.6228332865229037,0.6178469540817563,-0.3438026326951937,-0.8126119160493471,0.5994110507451171,0.6845268659740725,-0.7089044464688247,-1.3941795843099998,-0.4748919927526555,1.2931818578279248,1.155046396747897,0.054391243974638605,0.11105012255970526,2.5610353634730023,0.7022441176694517,0.4563972984648552,0.382547875976814,-0.9960163190933181],\"xaxis\":\"x8\",\"y\":[-0.8340773682113504,0.49123188788963057,-1.9000715568691215,-0.6876295998356547,-0.8538273111014857,1.5511189563186973,1.7916810535863585,-1.2384131342672389,-0.11282532877192572,0.35044387501754315,-0.3725563064013367,-0.5978080296220267,-0.7459415602962436,-0.8062931680433271,-0.41309712402120896,-0.7677684801488446,-1.6237362987866557,-1.3867124997696776,-0.03384343479363602,0.312953792426409,0.43354850664087274,0.11571251414975957,0.7356381212190469,-0.8182781601100041,0.7278710012373059,0.27080432822538103,-0.45224220610112037,1.3889328686699598,0.35415339359074693,1.321491480875497,0.5604879797874698,-2.1780949287932843,0.6772032297272086,0.5068100984347181,0.05294343849021371,0.6762701198557137,-0.41125546955848485,0.9490592885359114,0.9579881061090255,-0.08746731970232335,0.1753148386032337,0.35330636557589246,0.6092976837114229,-0.9897685548060738,1.0082812941583785,-0.07112634100972726,0.7534094755071289,-1.2236591466919062,-0.44741573370710913,-1.056571932317002,-0.6351166490247284,-0.1152534608551299,-0.2753704370824422,-0.03361895378725087,-1.032713772532709,1.2604190210644386,1.6305359116844174,0.28304773071397693,0.46460766770949186,0.9430557112402934,0.8807024197847123,-0.7315449933931041,-0.4801700510822656,0.12234105041850767,-0.8904252461076889,-0.8682230097651995,0.8089776470552416,-0.442143722727833,1.0062933868477435,0.9789586586064842,-0.25604556494295583,-0.8081304318643974,0.32241893796007687,2.9455052125197785,1.0189696497125427,0.24788985930538732,1.136303601810519,-1.3946078662938228,-1.2292418224455168,-1.9150740479746733,-1.0297445925889328,0.8098970537565258,-1.569253924464807,-0.9896971663270222,-0.7057472240000185,0.2204458262981922,0.3173361097439095,-0.5153534162955274,-0.26708392326561814,0.7759496323233144,0.3730259777582601,1.575662623566695,1.1570045050500222,-0.06068007372528039,-1.2513600529835396,0.03669689340334888,0.18579450181477772,-0.16287815628323127,2.0901663180753256,0.9071005520448465],\"yaxis\":\"y8\",\"type\":\"scatter\"},{\"line\":{\"color\":\"rgba(128, 128, 128, 1.0)\",\"dash\":\"solid\",\"shape\":\"linear\",\"width\":1.3},\"marker\":{\"size\":2,\"symbol\":\"circle\"},\"mode\":\"markers\",\"name\":\"C\",\"text\":\"\",\"x\":[1.2750462071228998,1.0564406009906422,-1.2570863513881179,0.1386992449738513,-0.4006631753099272,0.772494714001685,0.3466280655061471,-0.20734882385960135,-1.1605599469356516,1.5335837092173008,0.8701647512889786,0.19959773422082286,-0.7713696453049101,0.8670858884620127,0.7527057455344794,0.2406881376064278,-1.4246729911918348,-1.366338353479444,-2.510532872604319,-0.44076325408168865,-0.2720890733894303,0.1923950171572903,0.17528984033996958,-0.05627900857472087,-0.09464981393955554,0.1109203403862901,0.3506712561808483,0.11860998679044508,0.27273654934561664,0.5451708797402759,-1.3239800797756898,0.7176173593819158,0.6390897967980106,0.6298020357295875,0.9055103909277578,-0.5904176841467053,-0.38213674321117597,-0.9321460998531019,-2.0527241542088164,-0.1355015868759311,-0.15560692657213374,-1.3234419856299242,0.004612749239376862,-0.3533749773258972,-1.2778073755305988,-1.7334811504670158,1.5287980300400834,-1.0900212287039468,1.3066976573006288,0.6829609453885492,-0.024493571992407752,-1.6644241198636218,-1.3552223151228506,-0.7758460191490981,0.52074640219068,-0.5953760210764978,0.696233766527075,-0.714162783949475,0.3429087064661106,0.12880671947928052,0.1253412689647578,-1.5512006665577716,1.4696417176119942,-1.7740325324274242,2.105809697884221,1.9167099561167036,0.7480215913254173,0.7625036829256576,-1.086117863919513,0.4781593150768092,0.7240428405447898,-0.503627557293303,-1.221663772912323,-0.20754934209619638,-1.3419782859135356,0.216215597439171,1.0145615004449249,-1.0220756896864085,0.49363860464637543,-0.01599908409568637,-1.1470627595685077,-1.023726974752981,0.6660548760380969,-0.1311469267172626,1.1191657681276326,-1.5810786212139951,0.8160942888787959,0.06088517630432691,-1.2352546602277445,-0.2717692097212096,-1.0431055662718702,0.13134247407032018,-0.7790614189607978,0.5434045328072897,-1.1755407507532878,0.008915452173938613,0.16280786785568127,-0.6573273421596642,-0.274646533946732,-0.655594361876358],\"xaxis\":\"x9\",\"y\":[-0.6065814803506674,-0.0056614743668575,0.47377835760278325,-0.7669808349710616,-0.2984610713736877,-0.7862462591685704,-0.30334996180518786,-2.2561605961038214,1.2104400421793433,0.76132924025126,-2.0764830248963246,-0.3743193722489287,1.3140509336583903,0.8060959354304592,0.8496481858416668,0.3206407546556311,0.7367664103551135,0.10443061661045361,0.03436876868568491,-0.531729950865737,-0.7085974374677646,0.693003807983039,1.6068787266164335,-0.2670568329018913,0.015847628858779165,0.020782059028557603,-0.5196020397478259,-2.1742877376534273,0.2084446674567804,-1.5708351936202887,-1.7303559559458355,-1.14938646406794,0.1412535112325003,0.6739769900674427,0.3341737804458171,-1.544805374766241,1.2630156214631156,1.2993468829704875,0.03943253408824827,-0.6505943976451811,-1.287916846718534,2.6158904742734688,-0.18921140358629004,-0.5088698523799714,0.1583463740320508,0.4034115874377453,0.41730333864937813,0.8443400209241257,-0.8439226873024922,-0.3618591602469053,1.062480966237185,-0.8354902780261675,0.0283856858965905,0.2926742659843175,-1.5072017584217483,0.6701435665882296,0.0918263976356448,0.9848450798155605,0.7126911055257629,0.4209453778492396,-0.6506812038781848,0.6443815364407258,0.11840826658302832,-1.2108032671929079,0.5089945953821506,0.7241253901689519,-0.5367383294366789,0.5947892296709306,-0.48633893865960975,-1.2244062958933806,-1.4408223353729626,0.11646891188842408,0.5058898513373067,-0.9191398133237972,-0.8794916959798096,0.9674124240361822,-0.18460515585573317,0.33866818045005764,-0.3982677523303214,1.1542108469227073,-0.19287897590887343,-0.39691886444408303,1.4587946690503084,0.5030537584716932,0.2834070821409793,1.6602762267945903,-1.6394032252387876,0.3561371864556083,0.5071869990319724,-0.39137338520180515,-1.5625516437520808,1.3424849679480697,-0.798114317162278,-0.5861139711310693,-1.908134652905644,-1.7994024342247412,1.1709653111241818,1.613274553242905,-1.1639037835712955,1.3655742980033005],\"yaxis\":\"y9\",\"type\":\"scatter\"},{\"line\":{\"color\":\"rgba(128, 128, 128, 1.0)\",\"dash\":\"solid\",\"shape\":\"linear\",\"width\":1.3},\"marker\":{\"size\":2,\"symbol\":\"circle\"},\"mode\":\"markers\",\"name\":\"C\",\"text\":\"\",\"x\":[-0.8340773682113504,0.49123188788963057,-1.9000715568691215,-0.6876295998356547,-0.8538273111014857,1.5511189563186973,1.7916810535863585,-1.2384131342672389,-0.11282532877192572,0.35044387501754315,-0.3725563064013367,-0.5978080296220267,-0.7459415602962436,-0.8062931680433271,-0.41309712402120896,-0.7677684801488446,-1.6237362987866557,-1.3867124997696776,-0.03384343479363602,0.312953792426409,0.43354850664087274,0.11571251414975957,0.7356381212190469,-0.8182781601100041,0.7278710012373059,0.27080432822538103,-0.45224220610112037,1.3889328686699598,0.35415339359074693,1.321491480875497,0.5604879797874698,-2.1780949287932843,0.6772032297272086,0.5068100984347181,0.05294343849021371,0.6762701198557137,-0.41125546955848485,0.9490592885359114,0.9579881061090255,-0.08746731970232335,0.1753148386032337,0.35330636557589246,0.6092976837114229,-0.9897685548060738,1.0082812941583785,-0.07112634100972726,0.7534094755071289,-1.2236591466919062,-0.44741573370710913,-1.056571932317002,-0.6351166490247284,-0.1152534608551299,-0.2753704370824422,-0.03361895378725087,-1.032713772532709,1.2604190210644386,1.6305359116844174,0.28304773071397693,0.46460766770949186,0.9430557112402934,0.8807024197847123,-0.7315449933931041,-0.4801700510822656,0.12234105041850767,-0.8904252461076889,-0.8682230097651995,0.8089776470552416,-0.442143722727833,1.0062933868477435,0.9789586586064842,-0.25604556494295583,-0.8081304318643974,0.32241893796007687,2.9455052125197785,1.0189696497125427,0.24788985930538732,1.136303601810519,-1.3946078662938228,-1.2292418224455168,-1.9150740479746733,-1.0297445925889328,0.8098970537565258,-1.569253924464807,-0.9896971663270222,-0.7057472240000185,0.2204458262981922,0.3173361097439095,-0.5153534162955274,-0.26708392326561814,0.7759496323233144,0.3730259777582601,1.575662623566695,1.1570045050500222,-0.06068007372528039,-1.2513600529835396,0.03669689340334888,0.18579450181477772,-0.16287815628323127,2.0901663180753256,0.9071005520448465],\"xaxis\":\"x10\",\"y\":[-0.6065814803506674,-0.0056614743668575,0.47377835760278325,-0.7669808349710616,-0.2984610713736877,-0.7862462591685704,-0.30334996180518786,-2.2561605961038214,1.2104400421793433,0.76132924025126,-2.0764830248963246,-0.3743193722489287,1.3140509336583903,0.8060959354304592,0.8496481858416668,0.3206407546556311,0.7367664103551135,0.10443061661045361,0.03436876868568491,-0.531729950865737,-0.7085974374677646,0.693003807983039,1.6068787266164335,-0.2670568329018913,0.015847628858779165,0.020782059028557603,-0.5196020397478259,-2.1742877376534273,0.2084446674567804,-1.5708351936202887,-1.7303559559458355,-1.14938646406794,0.1412535112325003,0.6739769900674427,0.3341737804458171,-1.544805374766241,1.2630156214631156,1.2993468829704875,0.03943253408824827,-0.6505943976451811,-1.287916846718534,2.6158904742734688,-0.18921140358629004,-0.5088698523799714,0.1583463740320508,0.4034115874377453,0.41730333864937813,0.8443400209241257,-0.8439226873024922,-0.3618591602469053,1.062480966237185,-0.8354902780261675,0.0283856858965905,0.2926742659843175,-1.5072017584217483,0.6701435665882296,0.0918263976356448,0.9848450798155605,0.7126911055257629,0.4209453778492396,-0.6506812038781848,0.6443815364407258,0.11840826658302832,-1.2108032671929079,0.5089945953821506,0.7241253901689519,-0.5367383294366789,0.5947892296709306,-0.48633893865960975,-1.2244062958933806,-1.4408223353729626,0.11646891188842408,0.5058898513373067,-0.9191398133237972,-0.8794916959798096,0.9674124240361822,-0.18460515585573317,0.33866818045005764,-0.3982677523303214,1.1542108469227073,-0.19287897590887343,-0.39691886444408303,1.4587946690503084,0.5030537584716932,0.2834070821409793,1.6602762267945903,-1.6394032252387876,0.3561371864556083,0.5071869990319724,-0.39137338520180515,-1.5625516437520808,1.3424849679480697,-0.798114317162278,-0.5861139711310693,-1.908134652905644,-1.7994024342247412,1.1709653111241818,1.613274553242905,-1.1639037835712955,1.3655742980033005],\"yaxis\":\"y10\",\"type\":\"scatter\"},{\"histfunc\":\"count\",\"histnorm\":\"\",\"marker\":{\"color\":\"rgba(50, 171, 96, 1.0)\",\"line\":{\"color\":\"#4D5663\",\"width\":1.3}},\"name\":\"C\",\"nbinsx\":10,\"opacity\":0.8,\"orientation\":\"v\",\"x\":[-0.6065814803506674,-0.0056614743668575,0.47377835760278325,-0.7669808349710616,-0.2984610713736877,-0.7862462591685704,-0.30334996180518786,-2.2561605961038214,1.2104400421793433,0.76132924025126,-2.0764830248963246,-0.3743193722489287,1.3140509336583903,0.8060959354304592,0.8496481858416668,0.3206407546556311,0.7367664103551135,0.10443061661045361,0.03436876868568491,-0.531729950865737,-0.7085974374677646,0.693003807983039,1.6068787266164335,-0.2670568329018913,0.015847628858779165,0.020782059028557603,-0.5196020397478259,-2.1742877376534273,0.2084446674567804,-1.5708351936202887,-1.7303559559458355,-1.14938646406794,0.1412535112325003,0.6739769900674427,0.3341737804458171,-1.544805374766241,1.2630156214631156,1.2993468829704875,0.03943253408824827,-0.6505943976451811,-1.287916846718534,2.6158904742734688,-0.18921140358629004,-0.5088698523799714,0.1583463740320508,0.4034115874377453,0.41730333864937813,0.8443400209241257,-0.8439226873024922,-0.3618591602469053,1.062480966237185,-0.8354902780261675,0.0283856858965905,0.2926742659843175,-1.5072017584217483,0.6701435665882296,0.0918263976356448,0.9848450798155605,0.7126911055257629,0.4209453778492396,-0.6506812038781848,0.6443815364407258,0.11840826658302832,-1.2108032671929079,0.5089945953821506,0.7241253901689519,-0.5367383294366789,0.5947892296709306,-0.48633893865960975,-1.2244062958933806,-1.4408223353729626,0.11646891188842408,0.5058898513373067,-0.9191398133237972,-0.8794916959798096,0.9674124240361822,-0.18460515585573317,0.33866818045005764,-0.3982677523303214,1.1542108469227073,-0.19287897590887343,-0.39691886444408303,1.4587946690503084,0.5030537584716932,0.2834070821409793,1.6602762267945903,-1.6394032252387876,0.3561371864556083,0.5071869990319724,-0.39137338520180515,-1.5625516437520808,1.3424849679480697,-0.798114317162278,-0.5861139711310693,-1.908134652905644,-1.7994024342247412,1.1709653111241818,1.613274553242905,-1.1639037835712955,1.3655742980033005],\"xaxis\":\"x11\",\"yaxis\":\"y11\",\"type\":\"histogram\"},{\"line\":{\"color\":\"rgba(128, 128, 128, 1.0)\",\"dash\":\"solid\",\"shape\":\"linear\",\"width\":1.3},\"marker\":{\"size\":2,\"symbol\":\"circle\"},\"mode\":\"markers\",\"name\":\"C\",\"text\":\"\",\"x\":[0.7139456893048736,1.2182943932514776,-0.022442070790911903,0.29419838907850454,-0.7473982962608382,0.05967193022364727,-1.7581521899961248,2.965034050553671,-0.9716107300425278,-0.10089240576146587,-0.15106025887742477,-0.4843170130123628,0.3220996841547047,-1.332683235916878,-0.561749623803411,0.7783577730763781,-1.0173613113395228,1.4834643870057453,0.5748771426725922,-0.9779032746034094,-1.4773574832741476,1.0746333271797746,1.2070096569013267,-0.35917797105680904,-1.9147305767939333,2.153653228396418,-2.4303885700047854,0.22157959824077164,0.14874563289253137,-1.279771382703922,-0.1521422200622724,1.650037956934773,0.6537104615024295,0.808006760868366,0.13620214175340242,-0.5250470673318475,-0.9880632900100209,1.1180418390662974,-0.22588739170453126,0.28882691039611624,-0.09936686952194648,1.5404142967535457,-1.4001626432695027,-1.3704970552909894,2.2077130901998356,1.116380542662232,-0.4091874611428839,-1.3686904120878665,1.6049816912046597,-0.30703464236377814,-0.5473658982832879,-0.48495979693113145,-0.45033413790447435,0.39922580894613374,0.6047897126936678,-0.8752680433632427,-0.8986365730692438,0.3770440281928797,-1.0420907677722961,-2.2166606762468213,0.41928713539586043,0.7095391770600183,0.5539361345485381,1.8180138617574744,0.020695705953035895,0.6488166069066083,-1.6740646712918874,-1.6236243921041227,1.554106555602854,-0.7419395714313424,-0.15606868120679696,0.709525225488563,-2.060491897944797,-0.04380727568900047,-0.5049371502654176,-1.0450616759167384,0.9509678695829852,1.037888791409695,1.056487613896072,-1.019634938809895,0.21168484870149137,0.22680691036470607,-0.6228332865229037,0.6178469540817563,-0.3438026326951937,-0.8126119160493471,0.5994110507451171,0.6845268659740725,-0.7089044464688247,-1.3941795843099998,-0.4748919927526555,1.2931818578279248,1.155046396747897,0.054391243974638605,0.11105012255970526,2.5610353634730023,0.7022441176694517,0.4563972984648552,0.382547875976814,-0.9960163190933181],\"xaxis\":\"x12\",\"y\":[-0.6065814803506674,-0.0056614743668575,0.47377835760278325,-0.7669808349710616,-0.2984610713736877,-0.7862462591685704,-0.30334996180518786,-2.2561605961038214,1.2104400421793433,0.76132924025126,-2.0764830248963246,-0.3743193722489287,1.3140509336583903,0.8060959354304592,0.8496481858416668,0.3206407546556311,0.7367664103551135,0.10443061661045361,0.03436876868568491,-0.531729950865737,-0.7085974374677646,0.693003807983039,1.6068787266164335,-0.2670568329018913,0.015847628858779165,0.020782059028557603,-0.5196020397478259,-2.1742877376534273,0.2084446674567804,-1.5708351936202887,-1.7303559559458355,-1.14938646406794,0.1412535112325003,0.6739769900674427,0.3341737804458171,-1.544805374766241,1.2630156214631156,1.2993468829704875,0.03943253408824827,-0.6505943976451811,-1.287916846718534,2.6158904742734688,-0.18921140358629004,-0.5088698523799714,0.1583463740320508,0.4034115874377453,0.41730333864937813,0.8443400209241257,-0.8439226873024922,-0.3618591602469053,1.062480966237185,-0.8354902780261675,0.0283856858965905,0.2926742659843175,-1.5072017584217483,0.6701435665882296,0.0918263976356448,0.9848450798155605,0.7126911055257629,0.4209453778492396,-0.6506812038781848,0.6443815364407258,0.11840826658302832,-1.2108032671929079,0.5089945953821506,0.7241253901689519,-0.5367383294366789,0.5947892296709306,-0.48633893865960975,-1.2244062958933806,-1.4408223353729626,0.11646891188842408,0.5058898513373067,-0.9191398133237972,-0.8794916959798096,0.9674124240361822,-0.18460515585573317,0.33866818045005764,-0.3982677523303214,1.1542108469227073,-0.19287897590887343,-0.39691886444408303,1.4587946690503084,0.5030537584716932,0.2834070821409793,1.6602762267945903,-1.6394032252387876,0.3561371864556083,0.5071869990319724,-0.39137338520180515,-1.5625516437520808,1.3424849679480697,-0.798114317162278,-0.5861139711310693,-1.908134652905644,-1.7994024342247412,1.1709653111241818,1.613274553242905,-1.1639037835712955,1.3655742980033005],\"yaxis\":\"y12\",\"type\":\"scatter\"},{\"line\":{\"color\":\"rgba(128, 128, 128, 1.0)\",\"dash\":\"solid\",\"shape\":\"linear\",\"width\":1.3},\"marker\":{\"size\":2,\"symbol\":\"circle\"},\"mode\":\"markers\",\"name\":\"D\",\"text\":\"\",\"x\":[1.2750462071228998,1.0564406009906422,-1.2570863513881179,0.1386992449738513,-0.4006631753099272,0.772494714001685,0.3466280655061471,-0.20734882385960135,-1.1605599469356516,1.5335837092173008,0.8701647512889786,0.19959773422082286,-0.7713696453049101,0.8670858884620127,0.7527057455344794,0.2406881376064278,-1.4246729911918348,-1.366338353479444,-2.510532872604319,-0.44076325408168865,-0.2720890733894303,0.1923950171572903,0.17528984033996958,-0.05627900857472087,-0.09464981393955554,0.1109203403862901,0.3506712561808483,0.11860998679044508,0.27273654934561664,0.5451708797402759,-1.3239800797756898,0.7176173593819158,0.6390897967980106,0.6298020357295875,0.9055103909277578,-0.5904176841467053,-0.38213674321117597,-0.9321460998531019,-2.0527241542088164,-0.1355015868759311,-0.15560692657213374,-1.3234419856299242,0.004612749239376862,-0.3533749773258972,-1.2778073755305988,-1.7334811504670158,1.5287980300400834,-1.0900212287039468,1.3066976573006288,0.6829609453885492,-0.024493571992407752,-1.6644241198636218,-1.3552223151228506,-0.7758460191490981,0.52074640219068,-0.5953760210764978,0.696233766527075,-0.714162783949475,0.3429087064661106,0.12880671947928052,0.1253412689647578,-1.5512006665577716,1.4696417176119942,-1.7740325324274242,2.105809697884221,1.9167099561167036,0.7480215913254173,0.7625036829256576,-1.086117863919513,0.4781593150768092,0.7240428405447898,-0.503627557293303,-1.221663772912323,-0.20754934209619638,-1.3419782859135356,0.216215597439171,1.0145615004449249,-1.0220756896864085,0.49363860464637543,-0.01599908409568637,-1.1470627595685077,-1.023726974752981,0.6660548760380969,-0.1311469267172626,1.1191657681276326,-1.5810786212139951,0.8160942888787959,0.06088517630432691,-1.2352546602277445,-0.2717692097212096,-1.0431055662718702,0.13134247407032018,-0.7790614189607978,0.5434045328072897,-1.1755407507532878,0.008915452173938613,0.16280786785568127,-0.6573273421596642,-0.274646533946732,-0.655594361876358],\"xaxis\":\"x13\",\"y\":[0.7139456893048736,1.2182943932514776,-0.022442070790911903,0.29419838907850454,-0.7473982962608382,0.05967193022364727,-1.7581521899961248,2.965034050553671,-0.9716107300425278,-0.10089240576146587,-0.15106025887742477,-0.4843170130123628,0.3220996841547047,-1.332683235916878,-0.561749623803411,0.7783577730763781,-1.0173613113395228,1.4834643870057453,0.5748771426725922,-0.9779032746034094,-1.4773574832741476,1.0746333271797746,1.2070096569013267,-0.35917797105680904,-1.9147305767939333,2.153653228396418,-2.4303885700047854,0.22157959824077164,0.14874563289253137,-1.279771382703922,-0.1521422200622724,1.650037956934773,0.6537104615024295,0.808006760868366,0.13620214175340242,-0.5250470673318475,-0.9880632900100209,1.1180418390662974,-0.22588739170453126,0.28882691039611624,-0.09936686952194648,1.5404142967535457,-1.4001626432695027,-1.3704970552909894,2.2077130901998356,1.116380542662232,-0.4091874611428839,-1.3686904120878665,1.6049816912046597,-0.30703464236377814,-0.5473658982832879,-0.48495979693113145,-0.45033413790447435,0.39922580894613374,0.6047897126936678,-0.8752680433632427,-0.8986365730692438,0.3770440281928797,-1.0420907677722961,-2.2166606762468213,0.41928713539586043,0.7095391770600183,0.5539361345485381,1.8180138617574744,0.020695705953035895,0.6488166069066083,-1.6740646712918874,-1.6236243921041227,1.554106555602854,-0.7419395714313424,-0.15606868120679696,0.709525225488563,-2.060491897944797,-0.04380727568900047,-0.5049371502654176,-1.0450616759167384,0.9509678695829852,1.037888791409695,1.056487613896072,-1.019634938809895,0.21168484870149137,0.22680691036470607,-0.6228332865229037,0.6178469540817563,-0.3438026326951937,-0.8126119160493471,0.5994110507451171,0.6845268659740725,-0.7089044464688247,-1.3941795843099998,-0.4748919927526555,1.2931818578279248,1.155046396747897,0.054391243974638605,0.11105012255970526,2.5610353634730023,0.7022441176694517,0.4563972984648552,0.382547875976814,-0.9960163190933181],\"yaxis\":\"y13\",\"type\":\"scatter\"},{\"line\":{\"color\":\"rgba(128, 128, 128, 1.0)\",\"dash\":\"solid\",\"shape\":\"linear\",\"width\":1.3},\"marker\":{\"size\":2,\"symbol\":\"circle\"},\"mode\":\"markers\",\"name\":\"D\",\"text\":\"\",\"x\":[-0.8340773682113504,0.49123188788963057,-1.9000715568691215,-0.6876295998356547,-0.8538273111014857,1.5511189563186973,1.7916810535863585,-1.2384131342672389,-0.11282532877192572,0.35044387501754315,-0.3725563064013367,-0.5978080296220267,-0.7459415602962436,-0.8062931680433271,-0.41309712402120896,-0.7677684801488446,-1.6237362987866557,-1.3867124997696776,-0.03384343479363602,0.312953792426409,0.43354850664087274,0.11571251414975957,0.7356381212190469,-0.8182781601100041,0.7278710012373059,0.27080432822538103,-0.45224220610112037,1.3889328686699598,0.35415339359074693,1.321491480875497,0.5604879797874698,-2.1780949287932843,0.6772032297272086,0.5068100984347181,0.05294343849021371,0.6762701198557137,-0.41125546955848485,0.9490592885359114,0.9579881061090255,-0.08746731970232335,0.1753148386032337,0.35330636557589246,0.6092976837114229,-0.9897685548060738,1.0082812941583785,-0.07112634100972726,0.7534094755071289,-1.2236591466919062,-0.44741573370710913,-1.056571932317002,-0.6351166490247284,-0.1152534608551299,-0.2753704370824422,-0.03361895378725087,-1.032713772532709,1.2604190210644386,1.6305359116844174,0.28304773071397693,0.46460766770949186,0.9430557112402934,0.8807024197847123,-0.7315449933931041,-0.4801700510822656,0.12234105041850767,-0.8904252461076889,-0.8682230097651995,0.8089776470552416,-0.442143722727833,1.0062933868477435,0.9789586586064842,-0.25604556494295583,-0.8081304318643974,0.32241893796007687,2.9455052125197785,1.0189696497125427,0.24788985930538732,1.136303601810519,-1.3946078662938228,-1.2292418224455168,-1.9150740479746733,-1.0297445925889328,0.8098970537565258,-1.569253924464807,-0.9896971663270222,-0.7057472240000185,0.2204458262981922,0.3173361097439095,-0.5153534162955274,-0.26708392326561814,0.7759496323233144,0.3730259777582601,1.575662623566695,1.1570045050500222,-0.06068007372528039,-1.2513600529835396,0.03669689340334888,0.18579450181477772,-0.16287815628323127,2.0901663180753256,0.9071005520448465],\"xaxis\":\"x14\",\"y\":[0.7139456893048736,1.2182943932514776,-0.022442070790911903,0.29419838907850454,-0.7473982962608382,0.05967193022364727,-1.7581521899961248,2.965034050553671,-0.9716107300425278,-0.10089240576146587,-0.15106025887742477,-0.4843170130123628,0.3220996841547047,-1.332683235916878,-0.561749623803411,0.7783577730763781,-1.0173613113395228,1.4834643870057453,0.5748771426725922,-0.9779032746034094,-1.4773574832741476,1.0746333271797746,1.2070096569013267,-0.35917797105680904,-1.9147305767939333,2.153653228396418,-2.4303885700047854,0.22157959824077164,0.14874563289253137,-1.279771382703922,-0.1521422200622724,1.650037956934773,0.6537104615024295,0.808006760868366,0.13620214175340242,-0.5250470673318475,-0.9880632900100209,1.1180418390662974,-0.22588739170453126,0.28882691039611624,-0.09936686952194648,1.5404142967535457,-1.4001626432695027,-1.3704970552909894,2.2077130901998356,1.116380542662232,-0.4091874611428839,-1.3686904120878665,1.6049816912046597,-0.30703464236377814,-0.5473658982832879,-0.48495979693113145,-0.45033413790447435,0.39922580894613374,0.6047897126936678,-0.8752680433632427,-0.8986365730692438,0.3770440281928797,-1.0420907677722961,-2.2166606762468213,0.41928713539586043,0.7095391770600183,0.5539361345485381,1.8180138617574744,0.020695705953035895,0.6488166069066083,-1.6740646712918874,-1.6236243921041227,1.554106555602854,-0.7419395714313424,-0.15606868120679696,0.709525225488563,-2.060491897944797,-0.04380727568900047,-0.5049371502654176,-1.0450616759167384,0.9509678695829852,1.037888791409695,1.056487613896072,-1.019634938809895,0.21168484870149137,0.22680691036470607,-0.6228332865229037,0.6178469540817563,-0.3438026326951937,-0.8126119160493471,0.5994110507451171,0.6845268659740725,-0.7089044464688247,-1.3941795843099998,-0.4748919927526555,1.2931818578279248,1.155046396747897,0.054391243974638605,0.11105012255970526,2.5610353634730023,0.7022441176694517,0.4563972984648552,0.382547875976814,-0.9960163190933181],\"yaxis\":\"y14\",\"type\":\"scatter\"},{\"line\":{\"color\":\"rgba(128, 128, 128, 1.0)\",\"dash\":\"solid\",\"shape\":\"linear\",\"width\":1.3},\"marker\":{\"size\":2,\"symbol\":\"circle\"},\"mode\":\"markers\",\"name\":\"D\",\"text\":\"\",\"x\":[-0.6065814803506674,-0.0056614743668575,0.47377835760278325,-0.7669808349710616,-0.2984610713736877,-0.7862462591685704,-0.30334996180518786,-2.2561605961038214,1.2104400421793433,0.76132924025126,-2.0764830248963246,-0.3743193722489287,1.3140509336583903,0.8060959354304592,0.8496481858416668,0.3206407546556311,0.7367664103551135,0.10443061661045361,0.03436876868568491,-0.531729950865737,-0.7085974374677646,0.693003807983039,1.6068787266164335,-0.2670568329018913,0.015847628858779165,0.020782059028557603,-0.5196020397478259,-2.1742877376534273,0.2084446674567804,-1.5708351936202887,-1.7303559559458355,-1.14938646406794,0.1412535112325003,0.6739769900674427,0.3341737804458171,-1.544805374766241,1.2630156214631156,1.2993468829704875,0.03943253408824827,-0.6505943976451811,-1.287916846718534,2.6158904742734688,-0.18921140358629004,-0.5088698523799714,0.1583463740320508,0.4034115874377453,0.41730333864937813,0.8443400209241257,-0.8439226873024922,-0.3618591602469053,1.062480966237185,-0.8354902780261675,0.0283856858965905,0.2926742659843175,-1.5072017584217483,0.6701435665882296,0.0918263976356448,0.9848450798155605,0.7126911055257629,0.4209453778492396,-0.6506812038781848,0.6443815364407258,0.11840826658302832,-1.2108032671929079,0.5089945953821506,0.7241253901689519,-0.5367383294366789,0.5947892296709306,-0.48633893865960975,-1.2244062958933806,-1.4408223353729626,0.11646891188842408,0.5058898513373067,-0.9191398133237972,-0.8794916959798096,0.9674124240361822,-0.18460515585573317,0.33866818045005764,-0.3982677523303214,1.1542108469227073,-0.19287897590887343,-0.39691886444408303,1.4587946690503084,0.5030537584716932,0.2834070821409793,1.6602762267945903,-1.6394032252387876,0.3561371864556083,0.5071869990319724,-0.39137338520180515,-1.5625516437520808,1.3424849679480697,-0.798114317162278,-0.5861139711310693,-1.908134652905644,-1.7994024342247412,1.1709653111241818,1.613274553242905,-1.1639037835712955,1.3655742980033005],\"xaxis\":\"x15\",\"y\":[0.7139456893048736,1.2182943932514776,-0.022442070790911903,0.29419838907850454,-0.7473982962608382,0.05967193022364727,-1.7581521899961248,2.965034050553671,-0.9716107300425278,-0.10089240576146587,-0.15106025887742477,-0.4843170130123628,0.3220996841547047,-1.332683235916878,-0.561749623803411,0.7783577730763781,-1.0173613113395228,1.4834643870057453,0.5748771426725922,-0.9779032746034094,-1.4773574832741476,1.0746333271797746,1.2070096569013267,-0.35917797105680904,-1.9147305767939333,2.153653228396418,-2.4303885700047854,0.22157959824077164,0.14874563289253137,-1.279771382703922,-0.1521422200622724,1.650037956934773,0.6537104615024295,0.808006760868366,0.13620214175340242,-0.5250470673318475,-0.9880632900100209,1.1180418390662974,-0.22588739170453126,0.28882691039611624,-0.09936686952194648,1.5404142967535457,-1.4001626432695027,-1.3704970552909894,2.2077130901998356,1.116380542662232,-0.4091874611428839,-1.3686904120878665,1.6049816912046597,-0.30703464236377814,-0.5473658982832879,-0.48495979693113145,-0.45033413790447435,0.39922580894613374,0.6047897126936678,-0.8752680433632427,-0.8986365730692438,0.3770440281928797,-1.0420907677722961,-2.2166606762468213,0.41928713539586043,0.7095391770600183,0.5539361345485381,1.8180138617574744,0.020695705953035895,0.6488166069066083,-1.6740646712918874,-1.6236243921041227,1.554106555602854,-0.7419395714313424,-0.15606868120679696,0.709525225488563,-2.060491897944797,-0.04380727568900047,-0.5049371502654176,-1.0450616759167384,0.9509678695829852,1.037888791409695,1.056487613896072,-1.019634938809895,0.21168484870149137,0.22680691036470607,-0.6228332865229037,0.6178469540817563,-0.3438026326951937,-0.8126119160493471,0.5994110507451171,0.6845268659740725,-0.7089044464688247,-1.3941795843099998,-0.4748919927526555,1.2931818578279248,1.155046396747897,0.054391243974638605,0.11105012255970526,2.5610353634730023,0.7022441176694517,0.4563972984648552,0.382547875976814,-0.9960163190933181],\"yaxis\":\"y15\",\"type\":\"scatter\"},{\"histfunc\":\"count\",\"histnorm\":\"\",\"marker\":{\"color\":\"rgba(128, 0, 128, 1.0)\",\"line\":{\"color\":\"#4D5663\",\"width\":1.3}},\"name\":\"D\",\"nbinsx\":10,\"opacity\":0.8,\"orientation\":\"v\",\"x\":[0.7139456893048736,1.2182943932514776,-0.022442070790911903,0.29419838907850454,-0.7473982962608382,0.05967193022364727,-1.7581521899961248,2.965034050553671,-0.9716107300425278,-0.10089240576146587,-0.15106025887742477,-0.4843170130123628,0.3220996841547047,-1.332683235916878,-0.561749623803411,0.7783577730763781,-1.0173613113395228,1.4834643870057453,0.5748771426725922,-0.9779032746034094,-1.4773574832741476,1.0746333271797746,1.2070096569013267,-0.35917797105680904,-1.9147305767939333,2.153653228396418,-2.4303885700047854,0.22157959824077164,0.14874563289253137,-1.279771382703922,-0.1521422200622724,1.650037956934773,0.6537104615024295,0.808006760868366,0.13620214175340242,-0.5250470673318475,-0.9880632900100209,1.1180418390662974,-0.22588739170453126,0.28882691039611624,-0.09936686952194648,1.5404142967535457,-1.4001626432695027,-1.3704970552909894,2.2077130901998356,1.116380542662232,-0.4091874611428839,-1.3686904120878665,1.6049816912046597,-0.30703464236377814,-0.5473658982832879,-0.48495979693113145,-0.45033413790447435,0.39922580894613374,0.6047897126936678,-0.8752680433632427,-0.8986365730692438,0.3770440281928797,-1.0420907677722961,-2.2166606762468213,0.41928713539586043,0.7095391770600183,0.5539361345485381,1.8180138617574744,0.020695705953035895,0.6488166069066083,-1.6740646712918874,-1.6236243921041227,1.554106555602854,-0.7419395714313424,-0.15606868120679696,0.709525225488563,-2.060491897944797,-0.04380727568900047,-0.5049371502654176,-1.0450616759167384,0.9509678695829852,1.037888791409695,1.056487613896072,-1.019634938809895,0.21168484870149137,0.22680691036470607,-0.6228332865229037,0.6178469540817563,-0.3438026326951937,-0.8126119160493471,0.5994110507451171,0.6845268659740725,-0.7089044464688247,-1.3941795843099998,-0.4748919927526555,1.2931818578279248,1.155046396747897,0.054391243974638605,0.11105012255970526,2.5610353634730023,0.7022441176694517,0.4563972984648552,0.382547875976814,-0.9960163190933181],\"xaxis\":\"x16\",\"yaxis\":\"y16\",\"type\":\"histogram\"}],                        {\"bargap\":0.02,\"legend\":{\"bgcolor\":\"#F5F6F9\",\"font\":{\"color\":\"#4D5663\"}},\"paper_bgcolor\":\"#F5F6F9\",\"plot_bgcolor\":\"#F5F6F9\",\"showlegend\":false,\"template\":{\"data\":{\"barpolar\":[{\"marker\":{\"line\":{\"color\":\"#E5ECF6\",\"width\":0.5},\"pattern\":{\"fillmode\":\"overlay\",\"size\":10,\"solidity\":0.2}},\"type\":\"barpolar\"}],\"bar\":[{\"error_x\":{\"color\":\"#2a3f5f\"},\"error_y\":{\"color\":\"#2a3f5f\"},\"marker\":{\"line\":{\"color\":\"#E5ECF6\",\"width\":0.5},\"pattern\":{\"fillmode\":\"overlay\",\"size\":10,\"solidity\":0.2}},\"type\":\"bar\"}],\"carpet\":[{\"aaxis\":{\"endlinecolor\":\"#2a3f5f\",\"gridcolor\":\"white\",\"linecolor\":\"white\",\"minorgridcolor\":\"white\",\"startlinecolor\":\"#2a3f5f\"},\"baxis\":{\"endlinecolor\":\"#2a3f5f\",\"gridcolor\":\"white\",\"linecolor\":\"white\",\"minorgridcolor\":\"white\",\"startlinecolor\":\"#2a3f5f\"},\"type\":\"carpet\"}],\"choropleth\":[{\"colorbar\":{\"outlinewidth\":0,\"ticks\":\"\"},\"type\":\"choropleth\"}],\"contourcarpet\":[{\"colorbar\":{\"outlinewidth\":0,\"ticks\":\"\"},\"type\":\"contourcarpet\"}],\"contour\":[{\"colorbar\":{\"outlinewidth\":0,\"ticks\":\"\"},\"colorscale\":[[0.0,\"#0d0887\"],[0.1111111111111111,\"#46039f\"],[0.2222222222222222,\"#7201a8\"],[0.3333333333333333,\"#9c179e\"],[0.4444444444444444,\"#bd3786\"],[0.5555555555555556,\"#d8576b\"],[0.6666666666666666,\"#ed7953\"],[0.7777777777777778,\"#fb9f3a\"],[0.8888888888888888,\"#fdca26\"],[1.0,\"#f0f921\"]],\"type\":\"contour\"}],\"heatmapgl\":[{\"colorbar\":{\"outlinewidth\":0,\"ticks\":\"\"},\"colorscale\":[[0.0,\"#0d0887\"],[0.1111111111111111,\"#46039f\"],[0.2222222222222222,\"#7201a8\"],[0.3333333333333333,\"#9c179e\"],[0.4444444444444444,\"#bd3786\"],[0.5555555555555556,\"#d8576b\"],[0.6666666666666666,\"#ed7953\"],[0.7777777777777778,\"#fb9f3a\"],[0.8888888888888888,\"#fdca26\"],[1.0,\"#f0f921\"]],\"type\":\"heatmapgl\"}],\"heatmap\":[{\"colorbar\":{\"outlinewidth\":0,\"ticks\":\"\"},\"colorscale\":[[0.0,\"#0d0887\"],[0.1111111111111111,\"#46039f\"],[0.2222222222222222,\"#7201a8\"],[0.3333333333333333,\"#9c179e\"],[0.4444444444444444,\"#bd3786\"],[0.5555555555555556,\"#d8576b\"],[0.6666666666666666,\"#ed7953\"],[0.7777777777777778,\"#fb9f3a\"],[0.8888888888888888,\"#fdca26\"],[1.0,\"#f0f921\"]],\"type\":\"heatmap\"}],\"histogram2dcontour\":[{\"colorbar\":{\"outlinewidth\":0,\"ticks\":\"\"},\"colorscale\":[[0.0,\"#0d0887\"],[0.1111111111111111,\"#46039f\"],[0.2222222222222222,\"#7201a8\"],[0.3333333333333333,\"#9c179e\"],[0.4444444444444444,\"#bd3786\"],[0.5555555555555556,\"#d8576b\"],[0.6666666666666666,\"#ed7953\"],[0.7777777777777778,\"#fb9f3a\"],[0.8888888888888888,\"#fdca26\"],[1.0,\"#f0f921\"]],\"type\":\"histogram2dcontour\"}],\"histogram2d\":[{\"colorbar\":{\"outlinewidth\":0,\"ticks\":\"\"},\"colorscale\":[[0.0,\"#0d0887\"],[0.1111111111111111,\"#46039f\"],[0.2222222222222222,\"#7201a8\"],[0.3333333333333333,\"#9c179e\"],[0.4444444444444444,\"#bd3786\"],[0.5555555555555556,\"#d8576b\"],[0.6666666666666666,\"#ed7953\"],[0.7777777777777778,\"#fb9f3a\"],[0.8888888888888888,\"#fdca26\"],[1.0,\"#f0f921\"]],\"type\":\"histogram2d\"}],\"histogram\":[{\"marker\":{\"pattern\":{\"fillmode\":\"overlay\",\"size\":10,\"solidity\":0.2}},\"type\":\"histogram\"}],\"mesh3d\":[{\"colorbar\":{\"outlinewidth\":0,\"ticks\":\"\"},\"type\":\"mesh3d\"}],\"parcoords\":[{\"line\":{\"colorbar\":{\"outlinewidth\":0,\"ticks\":\"\"}},\"type\":\"parcoords\"}],\"pie\":[{\"automargin\":true,\"type\":\"pie\"}],\"scatter3d\":[{\"line\":{\"colorbar\":{\"outlinewidth\":0,\"ticks\":\"\"}},\"marker\":{\"colorbar\":{\"outlinewidth\":0,\"ticks\":\"\"}},\"type\":\"scatter3d\"}],\"scattercarpet\":[{\"marker\":{\"colorbar\":{\"outlinewidth\":0,\"ticks\":\"\"}},\"type\":\"scattercarpet\"}],\"scattergeo\":[{\"marker\":{\"colorbar\":{\"outlinewidth\":0,\"ticks\":\"\"}},\"type\":\"scattergeo\"}],\"scattergl\":[{\"marker\":{\"colorbar\":{\"outlinewidth\":0,\"ticks\":\"\"}},\"type\":\"scattergl\"}],\"scattermapbox\":[{\"marker\":{\"colorbar\":{\"outlinewidth\":0,\"ticks\":\"\"}},\"type\":\"scattermapbox\"}],\"scatterpolargl\":[{\"marker\":{\"colorbar\":{\"outlinewidth\":0,\"ticks\":\"\"}},\"type\":\"scatterpolargl\"}],\"scatterpolar\":[{\"marker\":{\"colorbar\":{\"outlinewidth\":0,\"ticks\":\"\"}},\"type\":\"scatterpolar\"}],\"scatter\":[{\"marker\":{\"colorbar\":{\"outlinewidth\":0,\"ticks\":\"\"}},\"type\":\"scatter\"}],\"scatterternary\":[{\"marker\":{\"colorbar\":{\"outlinewidth\":0,\"ticks\":\"\"}},\"type\":\"scatterternary\"}],\"surface\":[{\"colorbar\":{\"outlinewidth\":0,\"ticks\":\"\"},\"colorscale\":[[0.0,\"#0d0887\"],[0.1111111111111111,\"#46039f\"],[0.2222222222222222,\"#7201a8\"],[0.3333333333333333,\"#9c179e\"],[0.4444444444444444,\"#bd3786\"],[0.5555555555555556,\"#d8576b\"],[0.6666666666666666,\"#ed7953\"],[0.7777777777777778,\"#fb9f3a\"],[0.8888888888888888,\"#fdca26\"],[1.0,\"#f0f921\"]],\"type\":\"surface\"}],\"table\":[{\"cells\":{\"fill\":{\"color\":\"#EBF0F8\"},\"line\":{\"color\":\"white\"}},\"header\":{\"fill\":{\"color\":\"#C8D4E3\"},\"line\":{\"color\":\"white\"}},\"type\":\"table\"}]},\"layout\":{\"annotationdefaults\":{\"arrowcolor\":\"#2a3f5f\",\"arrowhead\":0,\"arrowwidth\":1},\"autotypenumbers\":\"strict\",\"coloraxis\":{\"colorbar\":{\"outlinewidth\":0,\"ticks\":\"\"}},\"colorscale\":{\"diverging\":[[0,\"#8e0152\"],[0.1,\"#c51b7d\"],[0.2,\"#de77ae\"],[0.3,\"#f1b6da\"],[0.4,\"#fde0ef\"],[0.5,\"#f7f7f7\"],[0.6,\"#e6f5d0\"],[0.7,\"#b8e186\"],[0.8,\"#7fbc41\"],[0.9,\"#4d9221\"],[1,\"#276419\"]],\"sequential\":[[0.0,\"#0d0887\"],[0.1111111111111111,\"#46039f\"],[0.2222222222222222,\"#7201a8\"],[0.3333333333333333,\"#9c179e\"],[0.4444444444444444,\"#bd3786\"],[0.5555555555555556,\"#d8576b\"],[0.6666666666666666,\"#ed7953\"],[0.7777777777777778,\"#fb9f3a\"],[0.8888888888888888,\"#fdca26\"],[1.0,\"#f0f921\"]],\"sequentialminus\":[[0.0,\"#0d0887\"],[0.1111111111111111,\"#46039f\"],[0.2222222222222222,\"#7201a8\"],[0.3333333333333333,\"#9c179e\"],[0.4444444444444444,\"#bd3786\"],[0.5555555555555556,\"#d8576b\"],[0.6666666666666666,\"#ed7953\"],[0.7777777777777778,\"#fb9f3a\"],[0.8888888888888888,\"#fdca26\"],[1.0,\"#f0f921\"]]},\"colorway\":[\"#636efa\",\"#EF553B\",\"#00cc96\",\"#ab63fa\",\"#FFA15A\",\"#19d3f3\",\"#FF6692\",\"#B6E880\",\"#FF97FF\",\"#FECB52\"],\"font\":{\"color\":\"#2a3f5f\"},\"geo\":{\"bgcolor\":\"white\",\"lakecolor\":\"white\",\"landcolor\":\"#E5ECF6\",\"showlakes\":true,\"showland\":true,\"subunitcolor\":\"white\"},\"hoverlabel\":{\"align\":\"left\"},\"hovermode\":\"closest\",\"mapbox\":{\"style\":\"light\"},\"paper_bgcolor\":\"white\",\"plot_bgcolor\":\"#E5ECF6\",\"polar\":{\"angularaxis\":{\"gridcolor\":\"white\",\"linecolor\":\"white\",\"ticks\":\"\"},\"bgcolor\":\"#E5ECF6\",\"radialaxis\":{\"gridcolor\":\"white\",\"linecolor\":\"white\",\"ticks\":\"\"}},\"scene\":{\"xaxis\":{\"backgroundcolor\":\"#E5ECF6\",\"gridcolor\":\"white\",\"gridwidth\":2,\"linecolor\":\"white\",\"showbackground\":true,\"ticks\":\"\",\"zerolinecolor\":\"white\"},\"yaxis\":{\"backgroundcolor\":\"#E5ECF6\",\"gridcolor\":\"white\",\"gridwidth\":2,\"linecolor\":\"white\",\"showbackground\":true,\"ticks\":\"\",\"zerolinecolor\":\"white\"},\"zaxis\":{\"backgroundcolor\":\"#E5ECF6\",\"gridcolor\":\"white\",\"gridwidth\":2,\"linecolor\":\"white\",\"showbackground\":true,\"ticks\":\"\",\"zerolinecolor\":\"white\"}},\"shapedefaults\":{\"line\":{\"color\":\"#2a3f5f\"}},\"ternary\":{\"aaxis\":{\"gridcolor\":\"white\",\"linecolor\":\"white\",\"ticks\":\"\"},\"baxis\":{\"gridcolor\":\"white\",\"linecolor\":\"white\",\"ticks\":\"\"},\"bgcolor\":\"#E5ECF6\",\"caxis\":{\"gridcolor\":\"white\",\"linecolor\":\"white\",\"ticks\":\"\"}},\"title\":{\"x\":0.05},\"xaxis\":{\"automargin\":true,\"gridcolor\":\"white\",\"linecolor\":\"white\",\"ticks\":\"\",\"title\":{\"standoff\":15},\"zerolinecolor\":\"white\",\"zerolinewidth\":2},\"yaxis\":{\"automargin\":true,\"gridcolor\":\"white\",\"linecolor\":\"white\",\"ticks\":\"\",\"title\":{\"standoff\":15},\"zerolinecolor\":\"white\",\"zerolinewidth\":2}}},\"title\":{\"font\":{\"color\":\"#4D5663\"}},\"xaxis\":{\"anchor\":\"y\",\"domain\":[0.0,0.2125],\"gridcolor\":\"#E1E5ED\",\"showgrid\":false,\"tickfont\":{\"color\":\"#4D5663\"},\"title\":{\"font\":{\"color\":\"#4D5663\"},\"text\":\"\"},\"zerolinecolor\":\"#E1E5ED\"},\"yaxis\":{\"anchor\":\"x\",\"domain\":[0.8025,1.0],\"gridcolor\":\"#E1E5ED\",\"showgrid\":false,\"tickfont\":{\"color\":\"#4D5663\"},\"title\":{\"font\":{\"color\":\"#4D5663\"},\"text\":\"\"},\"zerolinecolor\":\"#E1E5ED\"},\"xaxis2\":{\"anchor\":\"y2\",\"domain\":[0.2625,0.475],\"gridcolor\":\"#E1E5ED\",\"showgrid\":false,\"tickfont\":{\"color\":\"#4D5663\"},\"title\":{\"font\":{\"color\":\"#4D5663\"},\"text\":\"\"},\"zerolinecolor\":\"#E1E5ED\"},\"yaxis2\":{\"anchor\":\"x2\",\"domain\":[0.8025,1.0],\"gridcolor\":\"#E1E5ED\",\"showgrid\":false,\"tickfont\":{\"color\":\"#4D5663\"},\"title\":{\"font\":{\"color\":\"#4D5663\"},\"text\":\"\"},\"zerolinecolor\":\"#E1E5ED\"},\"xaxis3\":{\"anchor\":\"y3\",\"domain\":[0.525,0.7375],\"gridcolor\":\"#E1E5ED\",\"showgrid\":false,\"tickfont\":{\"color\":\"#4D5663\"},\"title\":{\"font\":{\"color\":\"#4D5663\"},\"text\":\"\"},\"zerolinecolor\":\"#E1E5ED\"},\"yaxis3\":{\"anchor\":\"x3\",\"domain\":[0.8025,1.0],\"gridcolor\":\"#E1E5ED\",\"showgrid\":false,\"tickfont\":{\"color\":\"#4D5663\"},\"title\":{\"font\":{\"color\":\"#4D5663\"},\"text\":\"\"},\"zerolinecolor\":\"#E1E5ED\"},\"xaxis4\":{\"anchor\":\"y4\",\"domain\":[0.7875,1.0],\"gridcolor\":\"#E1E5ED\",\"showgrid\":false,\"tickfont\":{\"color\":\"#4D5663\"},\"title\":{\"font\":{\"color\":\"#4D5663\"},\"text\":\"\"},\"zerolinecolor\":\"#E1E5ED\"},\"yaxis4\":{\"anchor\":\"x4\",\"domain\":[0.8025,1.0],\"gridcolor\":\"#E1E5ED\",\"showgrid\":false,\"tickfont\":{\"color\":\"#4D5663\"},\"title\":{\"font\":{\"color\":\"#4D5663\"},\"text\":\"\"},\"zerolinecolor\":\"#E1E5ED\"},\"xaxis5\":{\"anchor\":\"y5\",\"domain\":[0.0,0.2125],\"gridcolor\":\"#E1E5ED\",\"showgrid\":false,\"tickfont\":{\"color\":\"#4D5663\"},\"title\":{\"font\":{\"color\":\"#4D5663\"},\"text\":\"\"},\"zerolinecolor\":\"#E1E5ED\"},\"yaxis5\":{\"anchor\":\"x5\",\"domain\":[0.535,0.7325],\"gridcolor\":\"#E1E5ED\",\"showgrid\":false,\"tickfont\":{\"color\":\"#4D5663\"},\"title\":{\"font\":{\"color\":\"#4D5663\"},\"text\":\"\"},\"zerolinecolor\":\"#E1E5ED\"},\"xaxis6\":{\"anchor\":\"y6\",\"domain\":[0.2625,0.475],\"gridcolor\":\"#E1E5ED\",\"showgrid\":false,\"tickfont\":{\"color\":\"#4D5663\"},\"title\":{\"font\":{\"color\":\"#4D5663\"},\"text\":\"\"},\"zerolinecolor\":\"#E1E5ED\"},\"yaxis6\":{\"anchor\":\"x6\",\"domain\":[0.535,0.7325],\"gridcolor\":\"#E1E5ED\",\"showgrid\":false,\"tickfont\":{\"color\":\"#4D5663\"},\"title\":{\"font\":{\"color\":\"#4D5663\"},\"text\":\"\"},\"zerolinecolor\":\"#E1E5ED\"},\"xaxis7\":{\"anchor\":\"y7\",\"domain\":[0.525,0.7375],\"gridcolor\":\"#E1E5ED\",\"showgrid\":false,\"tickfont\":{\"color\":\"#4D5663\"},\"title\":{\"font\":{\"color\":\"#4D5663\"},\"text\":\"\"},\"zerolinecolor\":\"#E1E5ED\"},\"yaxis7\":{\"anchor\":\"x7\",\"domain\":[0.535,0.7325],\"gridcolor\":\"#E1E5ED\",\"showgrid\":false,\"tickfont\":{\"color\":\"#4D5663\"},\"title\":{\"font\":{\"color\":\"#4D5663\"},\"text\":\"\"},\"zerolinecolor\":\"#E1E5ED\"},\"xaxis8\":{\"anchor\":\"y8\",\"domain\":[0.7875,1.0],\"gridcolor\":\"#E1E5ED\",\"showgrid\":false,\"tickfont\":{\"color\":\"#4D5663\"},\"title\":{\"font\":{\"color\":\"#4D5663\"},\"text\":\"\"},\"zerolinecolor\":\"#E1E5ED\"},\"yaxis8\":{\"anchor\":\"x8\",\"domain\":[0.535,0.7325],\"gridcolor\":\"#E1E5ED\",\"showgrid\":false,\"tickfont\":{\"color\":\"#4D5663\"},\"title\":{\"font\":{\"color\":\"#4D5663\"},\"text\":\"\"},\"zerolinecolor\":\"#E1E5ED\"},\"xaxis9\":{\"anchor\":\"y9\",\"domain\":[0.0,0.2125],\"gridcolor\":\"#E1E5ED\",\"showgrid\":false,\"tickfont\":{\"color\":\"#4D5663\"},\"title\":{\"font\":{\"color\":\"#4D5663\"},\"text\":\"\"},\"zerolinecolor\":\"#E1E5ED\"},\"yaxis9\":{\"anchor\":\"x9\",\"domain\":[0.2675,0.465],\"gridcolor\":\"#E1E5ED\",\"showgrid\":false,\"tickfont\":{\"color\":\"#4D5663\"},\"title\":{\"font\":{\"color\":\"#4D5663\"},\"text\":\"\"},\"zerolinecolor\":\"#E1E5ED\"},\"xaxis10\":{\"anchor\":\"y10\",\"domain\":[0.2625,0.475],\"gridcolor\":\"#E1E5ED\",\"showgrid\":false,\"tickfont\":{\"color\":\"#4D5663\"},\"title\":{\"font\":{\"color\":\"#4D5663\"},\"text\":\"\"},\"zerolinecolor\":\"#E1E5ED\"},\"yaxis10\":{\"anchor\":\"x10\",\"domain\":[0.2675,0.465],\"gridcolor\":\"#E1E5ED\",\"showgrid\":false,\"tickfont\":{\"color\":\"#4D5663\"},\"title\":{\"font\":{\"color\":\"#4D5663\"},\"text\":\"\"},\"zerolinecolor\":\"#E1E5ED\"},\"xaxis11\":{\"anchor\":\"y11\",\"domain\":[0.525,0.7375],\"gridcolor\":\"#E1E5ED\",\"showgrid\":false,\"tickfont\":{\"color\":\"#4D5663\"},\"title\":{\"font\":{\"color\":\"#4D5663\"},\"text\":\"\"},\"zerolinecolor\":\"#E1E5ED\"},\"yaxis11\":{\"anchor\":\"x11\",\"domain\":[0.2675,0.465],\"gridcolor\":\"#E1E5ED\",\"showgrid\":false,\"tickfont\":{\"color\":\"#4D5663\"},\"title\":{\"font\":{\"color\":\"#4D5663\"},\"text\":\"\"},\"zerolinecolor\":\"#E1E5ED\"},\"xaxis12\":{\"anchor\":\"y12\",\"domain\":[0.7875,1.0],\"gridcolor\":\"#E1E5ED\",\"showgrid\":false,\"tickfont\":{\"color\":\"#4D5663\"},\"title\":{\"font\":{\"color\":\"#4D5663\"},\"text\":\"\"},\"zerolinecolor\":\"#E1E5ED\"},\"yaxis12\":{\"anchor\":\"x12\",\"domain\":[0.2675,0.465],\"gridcolor\":\"#E1E5ED\",\"showgrid\":false,\"tickfont\":{\"color\":\"#4D5663\"},\"title\":{\"font\":{\"color\":\"#4D5663\"},\"text\":\"\"},\"zerolinecolor\":\"#E1E5ED\"},\"xaxis13\":{\"anchor\":\"y13\",\"domain\":[0.0,0.2125],\"gridcolor\":\"#E1E5ED\",\"showgrid\":false,\"tickfont\":{\"color\":\"#4D5663\"},\"title\":{\"font\":{\"color\":\"#4D5663\"},\"text\":\"\"},\"zerolinecolor\":\"#E1E5ED\"},\"yaxis13\":{\"anchor\":\"x13\",\"domain\":[0.0,0.1975],\"gridcolor\":\"#E1E5ED\",\"showgrid\":false,\"tickfont\":{\"color\":\"#4D5663\"},\"title\":{\"font\":{\"color\":\"#4D5663\"},\"text\":\"\"},\"zerolinecolor\":\"#E1E5ED\"},\"xaxis14\":{\"anchor\":\"y14\",\"domain\":[0.2625,0.475],\"gridcolor\":\"#E1E5ED\",\"showgrid\":false,\"tickfont\":{\"color\":\"#4D5663\"},\"title\":{\"font\":{\"color\":\"#4D5663\"},\"text\":\"\"},\"zerolinecolor\":\"#E1E5ED\"},\"yaxis14\":{\"anchor\":\"x14\",\"domain\":[0.0,0.1975],\"gridcolor\":\"#E1E5ED\",\"showgrid\":false,\"tickfont\":{\"color\":\"#4D5663\"},\"title\":{\"font\":{\"color\":\"#4D5663\"},\"text\":\"\"},\"zerolinecolor\":\"#E1E5ED\"},\"xaxis15\":{\"anchor\":\"y15\",\"domain\":[0.525,0.7375],\"gridcolor\":\"#E1E5ED\",\"showgrid\":false,\"tickfont\":{\"color\":\"#4D5663\"},\"title\":{\"font\":{\"color\":\"#4D5663\"},\"text\":\"\"},\"zerolinecolor\":\"#E1E5ED\"},\"yaxis15\":{\"anchor\":\"x15\",\"domain\":[0.0,0.1975],\"gridcolor\":\"#E1E5ED\",\"showgrid\":false,\"tickfont\":{\"color\":\"#4D5663\"},\"title\":{\"font\":{\"color\":\"#4D5663\"},\"text\":\"\"},\"zerolinecolor\":\"#E1E5ED\"},\"xaxis16\":{\"anchor\":\"y16\",\"domain\":[0.7875,1.0],\"gridcolor\":\"#E1E5ED\",\"showgrid\":false,\"tickfont\":{\"color\":\"#4D5663\"},\"title\":{\"font\":{\"color\":\"#4D5663\"},\"text\":\"\"},\"zerolinecolor\":\"#E1E5ED\"},\"yaxis16\":{\"anchor\":\"x16\",\"domain\":[0.0,0.1975],\"gridcolor\":\"#E1E5ED\",\"showgrid\":false,\"tickfont\":{\"color\":\"#4D5663\"},\"title\":{\"font\":{\"color\":\"#4D5663\"},\"text\":\"\"},\"zerolinecolor\":\"#E1E5ED\"}},                        {\"showLink\": true, \"linkText\": \"Export to plot.ly\", \"plotlyServerURL\": \"https://plot.ly\", \"responsive\": true}                    ).then(function(){\n",
       "                            \n",
       "var gd = document.getElementById('2de79c09-5c37-489f-a096-0084f7737b23');\n",
       "var x = new MutationObserver(function (mutations, observer) {{\n",
       "        var display = window.getComputedStyle(gd).display;\n",
       "        if (!display || display === 'none') {{\n",
       "            console.log([gd, 'removed!']);\n",
       "            Plotly.purge(gd);\n",
       "            observer.disconnect();\n",
       "        }}\n",
       "}});\n",
       "\n",
       "// Listen for the removal of the full notebook cells\n",
       "var notebookContainer = gd.closest('#notebook-container');\n",
       "if (notebookContainer) {{\n",
       "    x.observe(notebookContainer, {childList: true});\n",
       "}}\n",
       "\n",
       "// Listen for the clearing of the current output cell\n",
       "var outputEl = gd.closest('.output');\n",
       "if (outputEl) {{\n",
       "    x.observe(outputEl, {childList: true});\n",
       "}}\n",
       "\n",
       "                        })                };                });            </script>        </div>"
      ]
     },
     "metadata": {},
     "output_type": "display_data"
    }
   ],
   "source": [
    "df.scatter_matrix()"
   ]
  },
  {
   "cell_type": "markdown",
   "metadata": {
    "collapsed": true
   },
   "source": [
    "# Great Job!"
   ]
  }
 ],
 "metadata": {
  "kernelspec": {
   "display_name": "Python 3.9.12 ('base')",
   "language": "python",
   "name": "python3"
  },
  "language_info": {
   "codemirror_mode": {
    "name": "ipython",
    "version": 3
   },
   "file_extension": ".py",
   "mimetype": "text/x-python",
   "name": "python",
   "nbconvert_exporter": "python",
   "pygments_lexer": "ipython3",
   "version": "3.9.12"
  },
  "vscode": {
   "interpreter": {
    "hash": "f19ba40a9c755bf7996e4b17440729cbc7e677447df8e86adb5d4c31337dcddb"
   }
  }
 },
 "nbformat": 4,
 "nbformat_minor": 0
}
